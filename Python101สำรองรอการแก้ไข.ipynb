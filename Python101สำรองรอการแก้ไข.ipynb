{
  "nbformat": 4,
  "nbformat_minor": 0,
  "metadata": {
    "colab": {
      "name": "Python101.ipynb",
      "provenance": [],
      "authorship_tag": "ABX9TyMW+TSkiAXJoU68y34x8XTO",
      "include_colab_link": true
    },
    "kernelspec": {
      "name": "python3",
      "display_name": "Python 3"
    }
  },
  "cells": [
    {
      "cell_type": "markdown",
      "metadata": {
        "id": "view-in-github",
        "colab_type": "text"
      },
      "source": [
        "<a href=\"https://colab.research.google.com/github/chalarm1405/multivariate/blob/main/Python101%E0%B8%AA%E0%B8%B3%E0%B8%A3%E0%B8%AD%E0%B8%87%E0%B8%A3%E0%B8%AD%E0%B8%81%E0%B8%B2%E0%B8%A3%E0%B9%81%E0%B8%81%E0%B9%89%E0%B9%84%E0%B8%82.ipynb\" target=\"_parent\"><img src=\"https://colab.research.google.com/assets/colab-badge.svg\" alt=\"Open In Colab\"/></a>"
      ]
    },
    {
      "cell_type": "markdown",
      "metadata": {
        "id": "TgxHF6CILftJ"
      },
      "source": [
        "ตัวแปร variable"
      ]
    },
    {
      "cell_type": "markdown",
      "metadata": {
        "id": "ADtKRN_zMqPX"
      },
      "source": [
        "หลักการตั้งชื่อ\r\n",
        "1. ตั้งให้สื่อ\r\n",
        "2. ภาษาอังกฤษเท่านั้น\r\n",
        "3. ใช้คัวเลขได้แต่ห้ามขึ้นด้วยตัวเลข\r\n",
        "4. ห้ามเว้นวรรค\r\n",
        "5. ตัวเล็กตัวใหญ่ต่างกัน\r\n",
        "6. # คือ การ comment โดยเป็นการ output ที่ออกหน้าจอ"
      ]
    },
    {
      "cell_type": "code",
      "metadata": {
        "colab": {
          "base_uri": "https://localhost:8080/"
        },
        "id": "3hoQ6-wuLgdg",
        "outputId": "2fecc208-4051-4385-b125-17dade5b36ea"
      },
      "source": [
        "3.14159 เป็นการ output ในหน้าจอ"
      ],
      "execution_count": null,
      "outputs": [
        {
          "output_type": "execute_result",
          "data": {
            "text/plain": [
              "3.14159"
            ]
          },
          "metadata": {
            "tags": []
          },
          "execution_count": 5
        }
      ]
    },
    {
      "cell_type": "code",
      "metadata": {
        "id": "F0yyVmsFKuwL"
      },
      "source": [
        "Pi = 3.14159 เป็นการ output ของตัวแปร a "
      ],
      "execution_count": null,
      "outputs": []
    },
    {
      "cell_type": "code",
      "metadata": {
        "colab": {
          "base_uri": "https://localhost:8080/"
        },
        "id": "Hm7wXOMSNHL5",
        "outputId": "573a77ed-6820-44a7-808d-135fef9a0592"
      },
      "source": [
        "Pi"
      ],
      "execution_count": null,
      "outputs": [
        {
          "output_type": "execute_result",
          "data": {
            "text/plain": [
              "3.14159"
            ]
          },
          "metadata": {
            "tags": []
          },
          "execution_count": 6
        }
      ]
    },
    {
      "cell_type": "code",
      "metadata": {
        "colab": {
          "base_uri": "https://localhost:8080/"
        },
        "id": "8oWUcJM_NIXL",
        "outputId": "f3856819-9fb1-4f35-f9d4-ce79ee3e1b2a"
      },
      "source": [
        "a = 1234567\r\n",
        "print(a)"
      ],
      "execution_count": null,
      "outputs": [
        {
          "output_type": "stream",
          "text": [
            "1234567\n"
          ],
          "name": "stdout"
        }
      ]
    },
    {
      "cell_type": "markdown",
      "metadata": {
        "id": "oQrHISYZNoDv"
      },
      "source": [
        "#ชนิดของตัวแปร มี 3 ตัวแปร"
      ]
    },
    {
      "cell_type": "markdown",
      "metadata": {
        "id": "sZ9Yh2jMOifj"
      },
      "source": [
        "#1. จำนวนเต็ม( integer,int)"
      ]
    },
    {
      "cell_type": "code",
      "metadata": {
        "colab": {
          "base_uri": "https://localhost:8080/"
        },
        "id": "-XmYHw3TNPYf",
        "outputId": "f4bcbf75-c678-4767-a012-9ff2681c69a0"
      },
      "source": [
        "aaa = 1092\r\n",
        "print(aaa)"
      ],
      "execution_count": 34,
      "outputs": [
        {
          "output_type": "stream",
          "text": [
            "1092\n"
          ],
          "name": "stdout"
        }
      ]
    },
    {
      "cell_type": "markdown",
      "metadata": {
        "id": "Wj4DtQa0Ozqj"
      },
      "source": [
        "#2.จำนวนจริง(float)"
      ]
    },
    {
      "cell_type": "code",
      "metadata": {
        "colab": {
          "base_uri": "https://localhost:8080/"
        },
        "id": "GnWNvIbnNUQK",
        "outputId": "00db65c0-14ea-4776-8586-0cd97733d66a"
      },
      "source": [
        "bbb =11.\r\n",
        "print(bbb)"
      ],
      "execution_count": 35,
      "outputs": [
        {
          "output_type": "stream",
          "text": [
            "11.0\n"
          ],
          "name": "stdout"
        }
      ]
    },
    {
      "cell_type": "markdown",
      "metadata": {
        "id": "kbGIRmGjPC6a"
      },
      "source": [
        "#3.ตัวอักษรหรือข้อความ(character และ string,text)"
      ]
    },
    {
      "cell_type": "code",
      "metadata": {
        "colab": {
          "base_uri": "https://localhost:8080/"
        },
        "id": "r4sNbtSaNUo5",
        "outputId": "f7782daf-27f3-4ca5-fa68-23280576996f"
      },
      "source": [
        "ccc = ' 123456 ' #เราใช้ quote single หรือ quote duote ใช้เพื่อล้อมรอบตัวหนังสือเพื่อระบุว่าเป็น character หรือ string\r\n",
        "print(ccc) #โดย string ต้องมี ' ' ล้อมรอบโดยเอาไปบวกกันไม่ได้แต่ถ้าเป็นตัวแปรเดียวกันจะบวกกันได้ เช่น"
      ],
      "execution_count": 39,
      "outputs": [
        {
          "output_type": "stream",
          "text": [
            " 123456 \n"
          ],
          "name": "stdout"
        }
      ]
    },
    {
      "cell_type": "code",
      "metadata": {
        "colab": {
          "base_uri": "https://localhost:8080/",
          "height": 130
        },
        "id": "RyCD3bNWNU88",
        "outputId": "2efd189e-9227-4d4a-e84e-033c201f87aa"
      },
      "source": [
        "ิิิbbb + ccc #คนละตัวแปรบวกกันไม่ได้โดยตัวอักษรบวกกับตัวเลขไม่ได้"
      ],
      "execution_count": 40,
      "outputs": [
        {
          "output_type": "error",
          "ename": "SyntaxError",
          "evalue": "ignored",
          "traceback": [
            "\u001b[0;36m  File \u001b[0;32m\"<ipython-input-40-3f09661125e7>\"\u001b[0;36m, line \u001b[0;32m1\u001b[0m\n\u001b[0;31m    ิิิbbb + ccc #คนละตัวแปรบวกกันไม่ได้โดยตัวอักษรบวกกับตัวเลขไม่ได้\u001b[0m\n\u001b[0m         ^\u001b[0m\n\u001b[0;31mSyntaxError\u001b[0m\u001b[0;31m:\u001b[0m invalid character in identifier\n"
          ]
        }
      ]
    },
    {
      "cell_type": "code",
      "metadata": {
        "colab": {
          "base_uri": "https://localhost:8080/"
        },
        "id": "Jpw78i6_QEMn",
        "outputId": "93a7fac6-7f2a-45ac-d409-b3ff264d778b"
      },
      "source": [
        "aaa + bbb #float + int = float ตัวแปรเดียวกันบวกกันได้"
      ],
      "execution_count": 41,
      "outputs": [
        {
          "output_type": "execute_result",
          "data": {
            "text/plain": [
              "1103.0"
            ]
          },
          "metadata": {
            "tags": []
          },
          "execution_count": 41
        }
      ]
    },
    {
      "cell_type": "code",
      "metadata": {
        "colab": {
          "base_uri": "https://localhost:8080/"
        },
        "id": "g9ttk84GP9bp",
        "outputId": "60e28c5c-87ba-4cbd-dc0f-3e315cfb8583"
      },
      "source": [
        "ddd = ' ชณะชัย ' #ในเครื่องหมาย ' ' เป็นภาษาไทยได้\r\n",
        "print(ddd)"
      ],
      "execution_count": null,
      "outputs": [
        {
          "output_type": "stream",
          "text": [
            " ชณะชัย \n"
          ],
          "name": "stdout"
        }
      ]
    },
    {
      "cell_type": "markdown",
      "metadata": {
        "id": "TKBG6hF9Qxmp"
      },
      "source": [
        "#ถ้าเกิด error สามารถทำได้โดยการเปลี่ยนชนิดตัวแปร(variable caseting)"
      ]
    },
    {
      "cell_type": "code",
      "metadata": {
        "colab": {
          "base_uri": "https://localhost:8080/"
        },
        "id": "H-632sYrQnDN",
        "outputId": "df4e72ba-d12b-4804-dff9-9253b7a33dab"
      },
      "source": [
        "bbb + int( ccc )"
      ],
      "execution_count": 42,
      "outputs": [
        {
          "output_type": "execute_result",
          "data": {
            "text/plain": [
              "123467.0"
            ]
          },
          "metadata": {
            "tags": []
          },
          "execution_count": 42
        }
      ]
    },
    {
      "cell_type": "code",
      "metadata": {
        "colab": {
          "base_uri": "https://localhost:8080/"
        },
        "id": "v2W3szw1Qnbv",
        "outputId": "c9ed2937-99fd-4b48-d76a-0cb704ce51ea"
      },
      "source": [
        "aaa + int( ccc )"
      ],
      "execution_count": 43,
      "outputs": [
        {
          "output_type": "execute_result",
          "data": {
            "text/plain": [
              "124548"
            ]
          },
          "metadata": {
            "tags": []
          },
          "execution_count": 43
        }
      ]
    },
    {
      "cell_type": "code",
      "metadata": {
        "colab": {
          "base_uri": "https://localhost:8080/"
        },
        "id": "RaELJpwNRYbx",
        "outputId": "e8ad093d-4b4f-4a64-e3f9-73fecb5a002c"
      },
      "source": [
        "aaa + float( ccc )"
      ],
      "execution_count": 44,
      "outputs": [
        {
          "output_type": "execute_result",
          "data": {
            "text/plain": [
              "124548.0"
            ]
          },
          "metadata": {
            "tags": []
          },
          "execution_count": 44
        }
      ]
    },
    {
      "cell_type": "code",
      "metadata": {
        "colab": {
          "base_uri": "https://localhost:8080/",
          "height": 34
        },
        "id": "siwXuTTxRY6k",
        "outputId": "5f9887c9-f16b-4270-cf0a-0df2f4bf08be"
      },
      "source": [
        "str(aaa) #การเปลี่ยนกลับเป็นข้อความ"
      ],
      "execution_count": 45,
      "outputs": [
        {
          "output_type": "execute_result",
          "data": {
            "application/vnd.google.colaboratory.intrinsic+json": {
              "type": "string"
            },
            "text/plain": [
              "'1092'"
            ]
          },
          "metadata": {
            "tags": []
          },
          "execution_count": 45
        }
      ]
    },
    {
      "cell_type": "markdown",
      "metadata": {
        "id": "JgRPoWk4SJ-p"
      },
      "source": [
        "#operation ( operator + , - , * , / )"
      ]
    },
    {
      "cell_type": "code",
      "metadata": {
        "id": "5Ov56UO4RZMu"
      },
      "source": [
        "a+b"
      ],
      "execution_count": null,
      "outputs": []
    },
    {
      "cell_type": "code",
      "metadata": {
        "colab": {
          "base_uri": "https://localhost:8080/"
        },
        "id": "rdgIlk9CRZfq",
        "outputId": "b06631c6-a776-4cf7-ae8e-51bb5f1ea358"
      },
      "source": [
        "aaa + bbb"
      ],
      "execution_count": 49,
      "outputs": [
        {
          "output_type": "execute_result",
          "data": {
            "text/plain": [
              "1103.0"
            ]
          },
          "metadata": {
            "tags": []
          },
          "execution_count": 49
        }
      ]
    },
    {
      "cell_type": "code",
      "metadata": {
        "colab": {
          "base_uri": "https://localhost:8080/"
        },
        "id": "viJhJMpkRaI7",
        "outputId": "6698aaef-a8ab-45ce-cb2f-7139dbecf8fa"
      },
      "source": [
        "aaa - bbb"
      ],
      "execution_count": 50,
      "outputs": [
        {
          "output_type": "execute_result",
          "data": {
            "text/plain": [
              "1081.0"
            ]
          },
          "metadata": {
            "tags": []
          },
          "execution_count": 50
        }
      ]
    },
    {
      "cell_type": "code",
      "metadata": {
        "id": "onRj4X89SyzI"
      },
      "source": [
        "ab = aaa * bbb #เอาไปใช้ต่อไม่ได้"
      ],
      "execution_count": 53,
      "outputs": []
    },
    {
      "cell_type": "code",
      "metadata": {
        "colab": {
          "base_uri": "https://localhost:8080/"
        },
        "id": "Ntnrz72kS0z4",
        "outputId": "5b3b7c4d-f721-4bdd-f5cd-942791428864"
      },
      "source": [
        "ab = aaa * bbb #นำไปใช้ต่อได้\r\n",
        "print(ab)"
      ],
      "execution_count": 52,
      "outputs": [
        {
          "output_type": "stream",
          "text": [
            "12012.0\n"
          ],
          "name": "stdout"
        }
      ]
    },
    {
      "cell_type": "markdown",
      "metadata": {
        "id": "Qn7qJmXYTFo4"
      },
      "source": [
        "#คำสั่ง modulo หรือเครื่องหมาย % ( โดยเป็นการหารเอาเศษและใช้บ่อยเพื่อหาเป็นเลขคี่หรือคู่ )"
      ]
    },
    {
      "cell_type": "code",
      "metadata": {
        "colab": {
          "base_uri": "https://localhost:8080/"
        },
        "id": "ZhCdzGtoTDcN",
        "outputId": "a408b2ed-ac94-4869-9b03-360c2acf3f76"
      },
      "source": [
        "5%3"
      ],
      "execution_count": null,
      "outputs": [
        {
          "output_type": "execute_result",
          "data": {
            "text/plain": [
              "2"
            ]
          },
          "metadata": {
            "tags": []
          },
          "execution_count": 25
        }
      ]
    },
    {
      "cell_type": "code",
      "metadata": {
        "colab": {
          "base_uri": "https://localhost:8080/"
        },
        "id": "1W8luZW0Tii8",
        "outputId": "75760ec6-bfaf-4090-ca8f-60b971998eb6"
      },
      "source": [
        "7%3"
      ],
      "execution_count": null,
      "outputs": [
        {
          "output_type": "execute_result",
          "data": {
            "text/plain": [
              "1"
            ]
          },
          "metadata": {
            "tags": []
          },
          "execution_count": 27
        }
      ]
    },
    {
      "cell_type": "code",
      "metadata": {
        "colab": {
          "base_uri": "https://localhost:8080/"
        },
        "id": "-efI0QhMTizS",
        "outputId": "856ece31-6890-444c-9405-5613532cedaa"
      },
      "source": [
        "21%8"
      ],
      "execution_count": null,
      "outputs": [
        {
          "output_type": "execute_result",
          "data": {
            "text/plain": [
              "5"
            ]
          },
          "metadata": {
            "tags": []
          },
          "execution_count": 28
        }
      ]
    },
    {
      "cell_type": "markdown",
      "metadata": {
        "id": "dq5ohNjGT9jK"
      },
      "source": [
        "คำสั่ง print แบบพิเศษ ( การ format string )"
      ]
    },
    {
      "cell_type": "code",
      "metadata": {
        "colab": {
          "base_uri": "https://localhost:8080/"
        },
        "id": "7JuzGrooTjpi",
        "outputId": "0d702adb-3d88-4efd-f7c5-a5372e1e2e88"
      },
      "source": [
        "print( ' ตัวแปร ') #โดย"
      ],
      "execution_count": null,
      "outputs": [
        {
          "output_type": "stream",
          "text": [
            " ตัวแปร \n"
          ],
          "name": "stdout"
        }
      ]
    },
    {
      "cell_type": "code",
      "metadata": {
        "colab": {
          "base_uri": "https://localhost:8080/"
        },
        "id": "rvAPJ6_jTkAu",
        "outputId": "1ac5ab08-e8b8-4b28-fd5d-e19b923eafaf"
      },
      "source": [
        "print( f'% คือ การหารเอาเศษ เช่น 7%3 = { 7%3 }') #เพิ่ม f หน้า 'string' และใช้ {} ใส่ code"
      ],
      "execution_count": null,
      "outputs": [
        {
          "output_type": "stream",
          "text": [
            "% คือ การหารเอาเศษ เช่น 7%3 = 1\n"
          ],
          "name": "stdout"
        }
      ]
    },
    {
      "cell_type": "code",
      "metadata": {
        "colab": {
          "base_uri": "https://localhost:8080/"
        },
        "id": "uxyf6aAEUqdi",
        "outputId": "f73b3142-40ad-49a6-f2b5-0dea61720b3d"
      },
      "source": [
        "print(f'% คือ การหารเอาเศษ เช่น 7%3 = {7%3} ) \\\r\n",
        "  แต่ \\n/ คือ การหารปกติ เช่น  7/3 = { 7/3 } \\\r\n",
        "  และ\\n// คือ การหารเอาส่วน เช่น 7//3 = { 7 // 3} \\\r\n",
        "  หรือ \\n ใช้ int() เพื่อหารเอาส่วน เช่น int( 7/3 ) = { int( 7/3 ) }'  ) # \\n คือ การขึ้นบรรทัดใหม่ \\ ใช้ใน\r\n"
      ],
      "execution_count": null,
      "outputs": [
        {
          "output_type": "stream",
          "text": [
            "% คือ การหารเอาเศษ เช่น 7%3 = 1 )   แต่ \n",
            "/ คือ การหารปกติ เช่น  7/3 = 2.3333333333333335   และ\n",
            "// คือ การหารเอาส่วน เช่น 7//3 = 2   หรือ \n",
            " ใช้ int() เพื่อหารเอาส่วน เช่น int( 7/3 ) = 2\n"
          ],
          "name": "stdout"
        }
      ]
    },
    {
      "cell_type": "markdown",
      "metadata": {
        "id": "rADWssisXFwM"
      },
      "source": [
        "#โครงสร้างข้อมูล"
      ]
    },
    {
      "cell_type": "markdown",
      "metadata": {
        "id": "T0ZPrXZLXTCj"
      },
      "source": [
        "list คือ การเอาข้อมูลหลายๆตัวมาเรียงต่อกัน โดย list สามารถสร้างได้ 2 แบบดังนี้"
      ]
    },
    {
      "cell_type": "markdown",
      "metadata": {
        "id": "UoGDxxuXXqWq"
      },
      "source": [
        "#แบบที่ 1 square brackets"
      ]
    },
    {
      "cell_type": "code",
      "metadata": {
        "colab": {
          "base_uri": "https://localhost:8080/"
        },
        "id": "6YpDEd4KXyZe",
        "outputId": "2de3f1f9-fc76-4d31-cc58-b77c8074df7a"
      },
      "source": [
        "list_a = [ ]\r\n",
        "print(list_a)"
      ],
      "execution_count": 54,
      "outputs": [
        {
          "output_type": "stream",
          "text": [
            "[]\n"
          ],
          "name": "stdout"
        }
      ]
    },
    {
      "cell_type": "code",
      "metadata": {
        "colab": {
          "base_uri": "https://localhost:8080/"
        },
        "id": "IXll4wmUWlWU",
        "outputId": "58cfc8a4-8612-4105-b7b9-650142899774"
      },
      "source": [
        " list_b = [ 111, ' c ' , ' งง ',aaa ]\r\n",
        " print(list_b)\r\n"
      ],
      "execution_count": 66,
      "outputs": [
        {
          "output_type": "stream",
          "text": [
            "[111, ' c ', ' งง ', 1092]\n"
          ],
          "name": "stdout"
        }
      ]
    },
    {
      "cell_type": "markdown",
      "metadata": {
        "id": "FtVcYvzim8mX"
      },
      "source": [
        "ลำดับที่อยู๋ใน list มีความสำคัญ( ลำดับใน list เริ่มจาก 0,1,2,...)"
      ]
    },
    {
      "cell_type": "code",
      "metadata": {
        "colab": {
          "base_uri": "https://localhost:8080/",
          "height": 35
        },
        "id": "0ev0631xnIN1",
        "outputId": "5b03f920-1e80-4c8a-87fe-7bc6616a99c3"
      },
      "source": [
        "list_b[2]"
      ],
      "execution_count": 68,
      "outputs": [
        {
          "output_type": "execute_result",
          "data": {
            "application/vnd.google.colaboratory.intrinsic+json": {
              "type": "string"
            },
            "text/plain": [
              "' งง '"
            ]
          },
          "metadata": {
            "tags": []
          },
          "execution_count": 68
        }
      ]
    },
    {
      "cell_type": "markdown",
      "metadata": {
        "id": "DA_LWGOsnwBZ"
      },
      "source": [
        "#แบบที่ 2"
      ]
    },
    {
      "cell_type": "code",
      "metadata": {
        "colab": {
          "base_uri": "https://localhost:8080/"
        },
        "id": "WU2uOlTRhrlQ",
        "outputId": "43a444d0-2597-4971-b367-31061ef4bca7"
      },
      "source": [
        "list_c = list()\r\n",
        "print(list_c)"
      ],
      "execution_count": 56,
      "outputs": [
        {
          "output_type": "stream",
          "text": [
            "[]\n"
          ],
          "name": "stdout"
        }
      ]
    },
    {
      "cell_type": "markdown",
      "metadata": {
        "id": "k1Le0OphYdnv"
      },
      "source": [
        "#append() เพิ่มสมาชิกใน list"
      ]
    },
    {
      "cell_type": "code",
      "metadata": {
        "id": "XC89gFZAXm4K",
        "colab": {
          "base_uri": "https://localhost:8080/"
        },
        "outputId": "ffacd86a-d2a3-439b-b075-448f85a8b464"
      },
      "source": [
        "list_b.append(' u ')\r\n",
        "print(list_b)"
      ],
      "execution_count": 57,
      "outputs": [
        {
          "output_type": "stream",
          "text": [
            "[111, ' c ', ' งง ', 1092, ' u ']\n"
          ],
          "name": "stdout"
        }
      ]
    },
    {
      "cell_type": "code",
      "metadata": {
        "id": "4Iujt-n0h4pM",
        "colab": {
          "base_uri": "https://localhost:8080/",
          "height": 34
        },
        "outputId": "3b857276-47bd-440c-bc1f-a394f3f3acba"
      },
      "source": [
        "list_b[-1]"
      ],
      "execution_count": 58,
      "outputs": [
        {
          "output_type": "execute_result",
          "data": {
            "application/vnd.google.colaboratory.intrinsic+json": {
              "type": "string"
            },
            "text/plain": [
              "' u '"
            ]
          },
          "metadata": {
            "tags": []
          },
          "execution_count": 58
        }
      ]
    },
    {
      "cell_type": "markdown",
      "metadata": {
        "id": "C46-H0IXZgD5"
      },
      "source": [
        "#string > list of characters"
      ]
    },
    {
      "cell_type": "code",
      "metadata": {
        "colab": {
          "base_uri": "https://localhost:8080/"
        },
        "id": "Duii1SEYqLjd",
        "outputId": "a3f69b86-d5e6-409f-d73c-95db180014e8"
      },
      "source": [
        "t = ' python is easy '\r\n",
        "print(t)"
      ],
      "execution_count": 83,
      "outputs": [
        {
          "output_type": "stream",
          "text": [
            " python is easy \n"
          ],
          "name": "stdout"
        }
      ]
    },
    {
      "cell_type": "markdown",
      "metadata": {
        "id": "XiRtOD-zgtbM"
      },
      "source": [
        "#access a number of a list (list&string)\r\n",
        "โดยการเริ่มนับจาก 0\r\n",
        "และ 0 คือสามชิกตัวแรก, -1 คือสมาชิกตัวสุดท้าย"
      ]
    },
    {
      "cell_type": "code",
      "metadata": {
        "colab": {
          "base_uri": "https://localhost:8080/",
          "height": 34
        },
        "id": "94QOkBAHXn-o",
        "outputId": "5528e2b7-3924-47da-c4c6-0bc1fc9d7f1e"
      },
      "source": [
        "t[1]"
      ],
      "execution_count": 86,
      "outputs": [
        {
          "output_type": "execute_result",
          "data": {
            "application/vnd.google.colaboratory.intrinsic+json": {
              "type": "string"
            },
            "text/plain": [
              "'p'"
            ]
          },
          "metadata": {
            "tags": []
          },
          "execution_count": 86
        }
      ]
    },
    {
      "cell_type": "code",
      "metadata": {
        "colab": {
          "base_uri": "https://localhost:8080/",
          "height": 34
        },
        "id": "rviSRZhrXocZ",
        "outputId": "d5df7489-9925-409c-d664-5fb3f45b6b12"
      },
      "source": [
        "t[-4]"
      ],
      "execution_count": 73,
      "outputs": [
        {
          "output_type": "execute_result",
          "data": {
            "application/vnd.google.colaboratory.intrinsic+json": {
              "type": "string"
            },
            "text/plain": [
              "'a'"
            ]
          },
          "metadata": {
            "tags": []
          },
          "execution_count": 73
        }
      ]
    },
    {
      "cell_type": "code",
      "metadata": {
        "colab": {
          "base_uri": "https://localhost:8080/",
          "height": 34
        },
        "id": "5ewa9UsDZ8Iw",
        "outputId": "c9554cbb-fbf9-4fa0-83e0-57d9c830982d"
      },
      "source": [
        "t[6]"
      ],
      "execution_count": 74,
      "outputs": [
        {
          "output_type": "execute_result",
          "data": {
            "application/vnd.google.colaboratory.intrinsic+json": {
              "type": "string"
            },
            "text/plain": [
              "'n'"
            ]
          },
          "metadata": {
            "tags": []
          },
          "execution_count": 74
        }
      ]
    },
    {
      "cell_type": "code",
      "metadata": {
        "colab": {
          "base_uri": "https://localhost:8080/"
        },
        "id": "ld15ujF_knKC",
        "outputId": "5f3869c8-8938-4235-ccb7-c635e35ce00c"
      },
      "source": [
        "len(list_b)"
      ],
      "execution_count": 84,
      "outputs": [
        {
          "output_type": "execute_result",
          "data": {
            "text/plain": [
              "4"
            ]
          },
          "metadata": {
            "tags": []
          },
          "execution_count": 84
        }
      ]
    },
    {
      "cell_type": "code",
      "metadata": {
        "colab": {
          "base_uri": "https://localhost:8080/"
        },
        "id": "bP9LJYmPkrPy",
        "outputId": "0e11d959-6501-40f1-f0a4-2803ff53ad57"
      },
      "source": [
        "len(t)"
      ],
      "execution_count": 85,
      "outputs": [
        {
          "output_type": "execute_result",
          "data": {
            "text/plain": [
              "16"
            ]
          },
          "metadata": {
            "tags": []
          },
          "execution_count": 85
        }
      ]
    },
    {
      "cell_type": "code",
      "metadata": {
        "id": "GilEj3HJaIun"
      },
      "source": [
        ""
      ],
      "execution_count": null,
      "outputs": []
    }
  ]
}