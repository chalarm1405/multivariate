{
  "nbformat": 4,
  "nbformat_minor": 0,
  "metadata": {
    "colab": {
      "name": "Function_Numpy_Pandas.ipynb",
      "provenance": [],
      "authorship_tag": "ABX9TyMJ6KWHPeCpCvUOFRKELqBB",
      "include_colab_link": true
    },
    "kernelspec": {
      "name": "python3",
      "display_name": "Python 3"
    }
  },
  "cells": [
    {
      "cell_type": "markdown",
      "metadata": {
        "id": "view-in-github",
        "colab_type": "text"
      },
      "source": [
        "<a href=\"https://colab.research.google.com/github/chalarm1405/multivariate/blob/main/Function_Numpy_Pandas.ipynb\" target=\"_parent\"><img src=\"https://colab.research.google.com/assets/colab-badge.svg\" alt=\"Open In Colab\"/></a>"
      ]
    },
    {
      "cell_type": "markdown",
      "metadata": {
        "id": "cVDiliFdSPEW"
      },
      "source": [
        "#Function"
      ]
    },
    {
      "cell_type": "code",
      "metadata": {
        "id": "q53CvbaaSGy0"
      },
      "source": [
        "def function_name(_Input_):\r\n",
        "      do_something with _Input_ to produce  _Output_\r\n",
        "      return  _Output_"
      ],
      "execution_count": null,
      "outputs": []
    },
    {
      "cell_type": "markdown",
      "metadata": {
        "id": "Ucwlj-wOTgfr"
      },
      "source": [
        "function มีส่วนประกอบ 4 ส่วน\r\n",
        "\r\n",
        "1. บอก python ว่าเราจะเขียน function ชื่อไร => def function_name(): ขาดไม่ได้\r\n",
        "\r\n",
        "2. กำหนดตัวแปรที่จะเป็น input input (ขาดไม่ได้)\r\n",
        "\r\n",
        "3. ส่วนประมวลผล do_something with input to produce output (ขาดไม่ได้)\r\n",
        "\r\n",
        "4. ส่วน output return output (ขาดไม่ได้)"
      ]
    },
    {
      "cell_type": "markdown",
      "metadata": {
        "id": "36olk81jUkM7"
      },
      "source": [
        "#EXP FUNCTION"
      ]
    },
    {
      "cell_type": "code",
      "metadata": {
        "colab": {
          "base_uri": "https://localhost:8080/"
        },
        "id": "tvJSAQWASV_Q",
        "outputId": "8591bcde-64f6-4569-90d5-5693a51458c2"
      },
      "source": [
        "def print_name(name,surname,ID): #input มีกี่ตัวก็ได้\r\n",
        "      st  = f' ชื่อ {name} นามสกุล {surname} ID {ID} '\r\n",
        "      return  st\r\n",
        "print('outside  function')"
      ],
      "execution_count": 5,
      "outputs": [
        {
          "output_type": "stream",
          "text": [
            "outside  function\n"
          ],
          "name": "stdout"
        }
      ]
    },
    {
      "cell_type": "markdown",
      "metadata": {
        "id": "V39rnJW8W_f-"
      },
      "source": [
        "#การเรียกใช้ Function"
      ]
    },
    {
      "cell_type": "code",
      "metadata": {
        "colab": {
          "base_uri": "https://localhost:8080/",
          "height": 34
        },
        "id": "HhlmsTgxSV8i",
        "outputId": "f02d7829-2c07-40c8-d594-ca7102cff349"
      },
      "source": [
        "print_name(' ชณะชัย ', ' อิสระกูล ', ' 623021045-9 ')"
      ],
      "execution_count": 2,
      "outputs": [
        {
          "output_type": "execute_result",
          "data": {
            "application/vnd.google.colaboratory.intrinsic+json": {
              "type": "string"
            },
            "text/plain": [
              "' ชื่อ  ชณะชัย  นามสกุล  อิสระกูล  ID  623021045-9  '"
            ]
          },
          "metadata": {
            "tags": []
          },
          "execution_count": 2
        }
      ]
    },
    {
      "cell_type": "code",
      "metadata": {
        "colab": {
          "base_uri": "https://localhost:8080/"
        },
        "id": "MtqOdl8cSV6j",
        "outputId": "8a9140cb-00e0-4cdb-c398-62f4ea0611a8"
      },
      "source": [
        "output_string = print_name( ' ชณะชัย ', ' อิสระกูล ', ' 623021045-9 ' )\r\n",
        "print(output_string)"
      ],
      "execution_count": 6,
      "outputs": [
        {
          "output_type": "stream",
          "text": [
            " ชื่อ  ชณะชัย  นามสกุล  อิสระกูล  ID  623021045-9  \n"
          ],
          "name": "stdout"
        }
      ]
    },
    {
      "cell_type": "markdown",
      "metadata": {
        "id": "fEHl7U3oXcH-"
      },
      "source": [
        "#Function ไม่จำเป็นต้องมี output ก็ได้"
      ]
    },
    {
      "cell_type": "code",
      "metadata": {
        "id": "y3FhYHL1SV39"
      },
      "source": [
        "def print_name2(name,ID,surname): \r\n",
        "      st  = f' ชื่อ {name} นามสกุล {surname} ID {ID} '\r\n",
        "      print(st)"
      ],
      "execution_count": 9,
      "outputs": []
    },
    {
      "cell_type": "code",
      "metadata": {
        "colab": {
          "base_uri": "https://localhost:8080/"
        },
        "id": "8b2mW-PsSV04",
        "outputId": "1547807e-161a-440f-8283-44dc6f9e2ca7"
      },
      "source": [
        "print_name2(' ชณะชัย ', ' อิสระกูล ', ' 623021045-9 ' )"
      ],
      "execution_count": 10,
      "outputs": [
        {
          "output_type": "stream",
          "text": [
            " ชื่อ  ชณะชัย  นามสกุล  623021045-9  ID  อิสระกูล  \n"
          ],
          "name": "stdout"
        }
      ]
    },
    {
      "cell_type": "code",
      "metadata": {
        "colab": {
          "base_uri": "https://localhost:8080/"
        },
        "id": "KYY_cS-zSVwz",
        "outputId": "d3181b85-5fb4-4948-af25-0b55ea043e39"
      },
      "source": [
        "op2 = print_name2(' ชณะชัย ', ' อิสระกูล ', ' 623021045-9 ' )"
      ],
      "execution_count": 12,
      "outputs": [
        {
          "output_type": "stream",
          "text": [
            " ชื่อ  ชณะชัย  นามสกุล  623021045-9  ID  อิสระกูล  \n"
          ],
          "name": "stdout"
        }
      ]
    },
    {
      "cell_type": "code",
      "metadata": {
        "colab": {
          "base_uri": "https://localhost:8080/"
        },
        "id": "dDb5jbZgSVtN",
        "outputId": "11c410aa-099d-4fd6-dee1-a3cab0554b62"
      },
      "source": [
        "print(op2)"
      ],
      "execution_count": 13,
      "outputs": [
        {
          "output_type": "stream",
          "text": [
            "None\n"
          ],
          "name": "stdout"
        }
      ]
    },
    {
      "cell_type": "markdown",
      "metadata": {
        "id": "whGtERl9Y_N_"
      },
      "source": [
        "#Function ไม่จำเป็นต้องมี input ก็ได้"
      ]
    },
    {
      "cell_type": "code",
      "metadata": {
        "id": "1AaqfySaY9bE"
      },
      "source": [
        "def Pi():\r\n",
        "      return  3.14159265359"
      ],
      "execution_count": 16,
      "outputs": []
    },
    {
      "cell_type": "code",
      "metadata": {
        "colab": {
          "base_uri": "https://localhost:8080/"
        },
        "id": "AsdPpoYmY9Yj",
        "outputId": "969507af-b543-4821-e991-66b3c15217fd"
      },
      "source": [
        "#คำนวณพื้นที่วงกลมที่ R = 3\r\n",
        "Pi() *(1.5**2)"
      ],
      "execution_count": 17,
      "outputs": [
        {
          "output_type": "execute_result",
          "data": {
            "text/plain": [
              "7.0685834705775"
            ]
          },
          "metadata": {
            "tags": []
          },
          "execution_count": 17
        }
      ]
    },
    {
      "cell_type": "code",
      "metadata": {
        "id": "PeT99PnwY9VD"
      },
      "source": [
        "def print_my_name():\r\n",
        "      print(' ชณะชัย ', ' อิสระกูล ', ' 623021045-9 ')"
      ],
      "execution_count": 18,
      "outputs": []
    },
    {
      "cell_type": "code",
      "metadata": {
        "colab": {
          "base_uri": "https://localhost:8080/"
        },
        "id": "9EIeegK-Y9SM",
        "outputId": "70fa1cf4-eec6-4ecb-ec5c-6b4a8672a619"
      },
      "source": [
        "print_my_name()"
      ],
      "execution_count": 19,
      "outputs": [
        {
          "output_type": "stream",
          "text": [
            " ชณะชัย   อิสระกูล   623021045-9 \n"
          ],
          "name": "stdout"
        }
      ]
    },
    {
      "cell_type": "markdown",
      "metadata": {
        "id": "1ORUYgUjaDnx"
      },
      "source": [
        "# input ของ function ใน python มีสองแบบ คือ input ที่จำเป็นต้องใส่ และ iinput ที่ไม่จำเป็นต้องใส่ขึ้นก่อน"
      ]
    },
    {
      "cell_type": "markdown",
      "metadata": {
        "id": "zhWRAlD_bnF9"
      },
      "source": [
        "### EXP INPUT ที่ไม่ต้องใส่"
      ]
    },
    {
      "cell_type": "code",
      "metadata": {
        "id": "NuSM8U48SVpv"
      },
      "source": [
        "def print_2lines_default(name,surname,ID,grade='A'):\r\n",
        "      st  = f'ชื่อ {name} นามสกุล {surname} ID {ID} '\r\n",
        "      print (st)\r\n",
        "      st2=f'เกรดวิชา  Multivariate >>> {grade}'\r\n",
        "      print(st2)"
      ],
      "execution_count": 26,
      "outputs": []
    },
    {
      "cell_type": "code",
      "metadata": {
        "colab": {
          "base_uri": "https://localhost:8080/"
        },
        "id": "gO49wTBiSVi2",
        "outputId": "96715058-e549-402f-f534-efd8dbae6a2e"
      },
      "source": [
        "print_2lines_default( ' ชณะชัย ', ' อิสระกูล ', ' 623021045-9 ' )"
      ],
      "execution_count": 27,
      "outputs": [
        {
          "output_type": "stream",
          "text": [
            "ชื่อ  ชณะชัย  นามสกุล  อิสระกูล  ID  623021045-9  \n",
            "เกรดวิชา  Multivariate >>> A\n"
          ],
          "name": "stdout"
        }
      ]
    },
    {
      "cell_type": "code",
      "metadata": {
        "colab": {
          "base_uri": "https://localhost:8080/"
        },
        "id": "05_NJmIUbTst",
        "outputId": "ed7c29cc-eea5-4975-cfaf-53bed48ac2e1"
      },
      "source": [
        "print_2lines_default( ' ชณะชัย ', ' อิสระกูล ', ' 623021045-9 ',' A ' )"
      ],
      "execution_count": 28,
      "outputs": [
        {
          "output_type": "stream",
          "text": [
            "ชื่อ  ชณะชัย  นามสกุล  อิสระกูล  ID  623021045-9  \n",
            "เกรดวิชา  Multivariate >>>  A \n"
          ],
          "name": "stdout"
        }
      ]
    },
    {
      "cell_type": "markdown",
      "metadata": {
        "id": "eGsjwln3b_Zk"
      },
      "source": [
        "#เราสามารถเรียก function โดยใช้ชื่อตัวแปรช่วยได้"
      ]
    },
    {
      "cell_type": "code",
      "metadata": {
        "colab": {
          "base_uri": "https://localhost:8080/"
        },
        "id": "r-zjPTpfbTp2",
        "outputId": "2c8fae5d-5925-4401-a5f0-10c4e09bb818"
      },
      "source": [
        "print_name2(name  =' ชณะชัย ', surname = ' อิสระกูล ', ID  = ' 623021045-9 ')"
      ],
      "execution_count": 29,
      "outputs": [
        {
          "output_type": "stream",
          "text": [
            " ชื่อ  ชณะชัย  นามสกุล  อิสระกูล  ID  623021045-9  \n"
          ],
          "name": "stdout"
        }
      ]
    },
    {
      "cell_type": "markdown",
      "metadata": {
        "id": "ZwFybpGQclg0"
      },
      "source": [
        "#HW3 ให้เขียน function คำนวณจำนวนวินาทีจ่กเวลาต่อไปนี้\r\n",
        "\r\n",
        "'14-15-31'\r\n",
        "\r\n",
        "'13-00-01'\r\n",
        "\r\n",
        "'05-49-44'\r\n",
        "\r\n",
        "'00-00-16'\r\n",
        "\r\n",
        "\r\n",
        "\r\n",
        "และ print ให้สวยงาม"
      ]
    },
    {
      "cell_type": "code",
      "metadata": {
        "id": "w60rp3HIbTnA"
      },
      "source": [
        ""
      ],
      "execution_count": null,
      "outputs": []
    },
    {
      "cell_type": "code",
      "metadata": {
        "id": "zXh3xDR-bThw"
      },
      "source": [
        ""
      ],
      "execution_count": null,
      "outputs": []
    },
    {
      "cell_type": "code",
      "metadata": {
        "id": "QFmcdmf1bTdm"
      },
      "source": [
        ""
      ],
      "execution_count": null,
      "outputs": []
    },
    {
      "cell_type": "code",
      "metadata": {
        "id": "YH2uyooibJmH"
      },
      "source": [
        ""
      ],
      "execution_count": null,
      "outputs": []
    }
  ]
}