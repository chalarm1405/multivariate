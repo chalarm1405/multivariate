{
  "nbformat": 4,
  "nbformat_minor": 0,
  "metadata": {
    "colab": {
      "name": "chapter5.ipynb",
      "provenance": [],
      "toc_visible": true,
      "authorship_tag": "ABX9TyNTQ0Z/ftbyYmIOkKNournI",
      "include_colab_link": true
    },
    "kernelspec": {
      "name": "python3",
      "display_name": "Python 3"
    },
    "language_info": {
      "name": "python"
    }
  },
  "cells": [
    {
      "cell_type": "markdown",
      "metadata": {
        "id": "view-in-github",
        "colab_type": "text"
      },
      "source": [
        "<a href=\"https://colab.research.google.com/github/chalarm1405/multivariate/blob/main/chapter5.ipynb\" target=\"_parent\"><img src=\"https://colab.research.google.com/assets/colab-badge.svg\" alt=\"Open In Colab\"/></a>"
      ]
    },
    {
      "cell_type": "markdown",
      "metadata": {
        "id": "YsvBvq1s9cH5"
      },
      "source": [
        "https://www.datacamp.com/community/tutorials/introduction-factor-analysis?fbclid=IwAR1r7DMXKvnMr-keVwlp7FtSSnxsj01HkhPANfLBF3WFTFo-YEdl8isAU80"
      ]
    },
    {
      "cell_type": "markdown",
      "metadata": {
        "id": "CDMVuous9tTk"
      },
      "source": [
        "#Assumtion"
      ]
    },
    {
      "cell_type": "code",
      "metadata": {
        "id": "Kj45lr899ag4"
      },
      "source": [
        "import pandas as pd #เรียกใช้เเพนด้า"
      ],
      "execution_count": 17,
      "outputs": []
    },
    {
      "cell_type": "code",
      "metadata": {
        "colab": {
          "base_uri": "https://localhost:8080/",
          "height": 239
        },
        "id": "PcHoY3Sr9bwe",
        "outputId": "9356e693-dfa3-4af7-ee00-a64949d4db72"
      },
      "source": [
        "BFI_data = pd.read_csv('/content/bfi.csv') #copy path csv ตรงๆ\n",
        "BFI_data.head() #show data"
      ],
      "execution_count": 18,
      "outputs": [
        {
          "output_type": "execute_result",
          "data": {
            "text/html": [
              "<div>\n",
              "<style scoped>\n",
              "    .dataframe tbody tr th:only-of-type {\n",
              "        vertical-align: middle;\n",
              "    }\n",
              "\n",
              "    .dataframe tbody tr th {\n",
              "        vertical-align: top;\n",
              "    }\n",
              "\n",
              "    .dataframe thead th {\n",
              "        text-align: right;\n",
              "    }\n",
              "</style>\n",
              "<table border=\"1\" class=\"dataframe\">\n",
              "  <thead>\n",
              "    <tr style=\"text-align: right;\">\n",
              "      <th></th>\n",
              "      <th>Unnamed: 0</th>\n",
              "      <th>A1</th>\n",
              "      <th>A2</th>\n",
              "      <th>A3</th>\n",
              "      <th>A4</th>\n",
              "      <th>A5</th>\n",
              "      <th>C1</th>\n",
              "      <th>C2</th>\n",
              "      <th>C3</th>\n",
              "      <th>C4</th>\n",
              "      <th>C5</th>\n",
              "      <th>E1</th>\n",
              "      <th>E2</th>\n",
              "      <th>E3</th>\n",
              "      <th>E4</th>\n",
              "      <th>E5</th>\n",
              "      <th>N1</th>\n",
              "      <th>N2</th>\n",
              "      <th>N3</th>\n",
              "      <th>N4</th>\n",
              "      <th>N5</th>\n",
              "      <th>O1</th>\n",
              "      <th>O2</th>\n",
              "      <th>O3</th>\n",
              "      <th>O4</th>\n",
              "      <th>O5</th>\n",
              "      <th>gender</th>\n",
              "      <th>education</th>\n",
              "      <th>age</th>\n",
              "    </tr>\n",
              "  </thead>\n",
              "  <tbody>\n",
              "    <tr>\n",
              "      <th>0</th>\n",
              "      <td>61617</td>\n",
              "      <td>2.0</td>\n",
              "      <td>4.0</td>\n",
              "      <td>3.0</td>\n",
              "      <td>4.0</td>\n",
              "      <td>4.0</td>\n",
              "      <td>2.0</td>\n",
              "      <td>3.0</td>\n",
              "      <td>3.0</td>\n",
              "      <td>4.0</td>\n",
              "      <td>4.0</td>\n",
              "      <td>3.0</td>\n",
              "      <td>3.0</td>\n",
              "      <td>3.0</td>\n",
              "      <td>4.0</td>\n",
              "      <td>4.0</td>\n",
              "      <td>3.0</td>\n",
              "      <td>4.0</td>\n",
              "      <td>2.0</td>\n",
              "      <td>2.0</td>\n",
              "      <td>3.0</td>\n",
              "      <td>3.0</td>\n",
              "      <td>6</td>\n",
              "      <td>3.0</td>\n",
              "      <td>4.0</td>\n",
              "      <td>3.0</td>\n",
              "      <td>1</td>\n",
              "      <td>NaN</td>\n",
              "      <td>16</td>\n",
              "    </tr>\n",
              "    <tr>\n",
              "      <th>1</th>\n",
              "      <td>61618</td>\n",
              "      <td>2.0</td>\n",
              "      <td>4.0</td>\n",
              "      <td>5.0</td>\n",
              "      <td>2.0</td>\n",
              "      <td>5.0</td>\n",
              "      <td>5.0</td>\n",
              "      <td>4.0</td>\n",
              "      <td>4.0</td>\n",
              "      <td>3.0</td>\n",
              "      <td>4.0</td>\n",
              "      <td>1.0</td>\n",
              "      <td>1.0</td>\n",
              "      <td>6.0</td>\n",
              "      <td>4.0</td>\n",
              "      <td>3.0</td>\n",
              "      <td>3.0</td>\n",
              "      <td>3.0</td>\n",
              "      <td>3.0</td>\n",
              "      <td>5.0</td>\n",
              "      <td>5.0</td>\n",
              "      <td>4.0</td>\n",
              "      <td>2</td>\n",
              "      <td>4.0</td>\n",
              "      <td>3.0</td>\n",
              "      <td>3.0</td>\n",
              "      <td>2</td>\n",
              "      <td>NaN</td>\n",
              "      <td>18</td>\n",
              "    </tr>\n",
              "    <tr>\n",
              "      <th>2</th>\n",
              "      <td>61620</td>\n",
              "      <td>5.0</td>\n",
              "      <td>4.0</td>\n",
              "      <td>5.0</td>\n",
              "      <td>4.0</td>\n",
              "      <td>4.0</td>\n",
              "      <td>4.0</td>\n",
              "      <td>5.0</td>\n",
              "      <td>4.0</td>\n",
              "      <td>2.0</td>\n",
              "      <td>5.0</td>\n",
              "      <td>2.0</td>\n",
              "      <td>4.0</td>\n",
              "      <td>4.0</td>\n",
              "      <td>4.0</td>\n",
              "      <td>5.0</td>\n",
              "      <td>4.0</td>\n",
              "      <td>5.0</td>\n",
              "      <td>4.0</td>\n",
              "      <td>2.0</td>\n",
              "      <td>3.0</td>\n",
              "      <td>4.0</td>\n",
              "      <td>2</td>\n",
              "      <td>5.0</td>\n",
              "      <td>5.0</td>\n",
              "      <td>2.0</td>\n",
              "      <td>2</td>\n",
              "      <td>NaN</td>\n",
              "      <td>17</td>\n",
              "    </tr>\n",
              "    <tr>\n",
              "      <th>3</th>\n",
              "      <td>61621</td>\n",
              "      <td>4.0</td>\n",
              "      <td>4.0</td>\n",
              "      <td>6.0</td>\n",
              "      <td>5.0</td>\n",
              "      <td>5.0</td>\n",
              "      <td>4.0</td>\n",
              "      <td>4.0</td>\n",
              "      <td>3.0</td>\n",
              "      <td>5.0</td>\n",
              "      <td>5.0</td>\n",
              "      <td>5.0</td>\n",
              "      <td>3.0</td>\n",
              "      <td>4.0</td>\n",
              "      <td>4.0</td>\n",
              "      <td>4.0</td>\n",
              "      <td>2.0</td>\n",
              "      <td>5.0</td>\n",
              "      <td>2.0</td>\n",
              "      <td>4.0</td>\n",
              "      <td>1.0</td>\n",
              "      <td>3.0</td>\n",
              "      <td>3</td>\n",
              "      <td>4.0</td>\n",
              "      <td>3.0</td>\n",
              "      <td>5.0</td>\n",
              "      <td>2</td>\n",
              "      <td>NaN</td>\n",
              "      <td>17</td>\n",
              "    </tr>\n",
              "    <tr>\n",
              "      <th>4</th>\n",
              "      <td>61622</td>\n",
              "      <td>2.0</td>\n",
              "      <td>3.0</td>\n",
              "      <td>3.0</td>\n",
              "      <td>4.0</td>\n",
              "      <td>5.0</td>\n",
              "      <td>4.0</td>\n",
              "      <td>4.0</td>\n",
              "      <td>5.0</td>\n",
              "      <td>3.0</td>\n",
              "      <td>2.0</td>\n",
              "      <td>2.0</td>\n",
              "      <td>2.0</td>\n",
              "      <td>5.0</td>\n",
              "      <td>4.0</td>\n",
              "      <td>5.0</td>\n",
              "      <td>2.0</td>\n",
              "      <td>3.0</td>\n",
              "      <td>4.0</td>\n",
              "      <td>4.0</td>\n",
              "      <td>3.0</td>\n",
              "      <td>3.0</td>\n",
              "      <td>3</td>\n",
              "      <td>4.0</td>\n",
              "      <td>3.0</td>\n",
              "      <td>3.0</td>\n",
              "      <td>1</td>\n",
              "      <td>NaN</td>\n",
              "      <td>17</td>\n",
              "    </tr>\n",
              "  </tbody>\n",
              "</table>\n",
              "</div>"
            ],
            "text/plain": [
              "   Unnamed: 0   A1   A2   A3   A4   A5  ...   O3   O4   O5  gender  education  age\n",
              "0       61617  2.0  4.0  3.0  4.0  4.0  ...  3.0  4.0  3.0       1        NaN   16\n",
              "1       61618  2.0  4.0  5.0  2.0  5.0  ...  4.0  3.0  3.0       2        NaN   18\n",
              "2       61620  5.0  4.0  5.0  4.0  4.0  ...  5.0  5.0  2.0       2        NaN   17\n",
              "3       61621  4.0  4.0  6.0  5.0  5.0  ...  4.0  3.0  5.0       2        NaN   17\n",
              "4       61622  2.0  3.0  3.0  4.0  5.0  ...  4.0  3.0  3.0       1        NaN   17\n",
              "\n",
              "[5 rows x 29 columns]"
            ]
          },
          "metadata": {
            "tags": []
          },
          "execution_count": 18
        }
      ]
    },
    {
      "cell_type": "markdown",
      "metadata": {
        "id": "go7ghV2D-x-f"
      },
      "source": [
        "ซึงข้อมูลข้างต้นที่ได้มาจะเป็นข้อมูลที่ได้จากแบบสอบถาม จะเป็นคะเเนนจากแบบทดสอบ Unname คือ รหัส เช่น รหัสนักศึกษา or primary key\n",
        "\n",
        "Factor Analysis\n",
        "\n",
        "Assumtion: ในข้อมูล multivariate ที่มีตัวแปร observe variables จำนวน n ตัว\n",
        "\n",
        "มีตัวแปร Factor(latent Variables) จำนวน k ตัว ที่สามารถอธิบายข้อมูลทั้งหมดได้ โดย K < n"
      ]
    },
    {
      "cell_type": "markdown",
      "metadata": {
        "id": "ljvdHc0r-1g6"
      },
      "source": [
        "#Assumptions ในการทำ Factor Analysis:¶\n",
        "There are no outliers in data.\n",
        "\n",
        "Sample size should be greater than the factor.\n",
        "\n",
        "There should not be perfect multicollinearity.\n",
        "\n",
        "There should not be homoscedasticity between the variables."
      ]
    },
    {
      "cell_type": "markdown",
      "metadata": {
        "id": "g-gDtEuE-4hY"
      },
      "source": [
        "#การทำ Factor Analysi"
      ]
    },
    {
      "cell_type": "markdown",
      "metadata": {
        "id": "qgQr4mV-8XzI"
      },
      "source": [
        "Assumtion: ในข้อมูล multivariate ที่มีตัวแปร observe variables จำนวน n ตัว\n",
        "\n",
        "มีตัวแปร Factor(latent Variables) จำนวน k ตัว ที่สามารถอธิบายข้อมูลทั้งหมดได้ โดย K < n"
      ]
    },
    {
      "cell_type": "markdown",
      "metadata": {
        "id": "KpGPXWf08UKa"
      },
      "source": [
        "![Screenshot 2021-04-05 003206.jpg](data:image/jpeg;base64,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)"
      ]
    },
    {
      "cell_type": "code",
      "metadata": {
        "id": "1ySkHTBL9buA"
      },
      "source": [
        "from factor_analyzer import FactorAnalyzer\n",
        "import matplotlib.pyplot as plt"
      ],
      "execution_count": 19,
      "outputs": []
    },
    {
      "cell_type": "code",
      "metadata": {
        "colab": {
          "base_uri": "https://localhost:8080/"
        },
        "id": "3kL3RgiC9brb",
        "outputId": "ab3bf462-8d43-47bc-c91b-84c57caf9e5b"
      },
      "source": [
        "!pip install factor_analyzer"
      ],
      "execution_count": 20,
      "outputs": [
        {
          "output_type": "stream",
          "text": [
            "Requirement already satisfied: factor_analyzer in /usr/local/lib/python3.7/dist-packages (0.3.2)\n",
            "Requirement already satisfied: pandas in /usr/local/lib/python3.7/dist-packages (from factor_analyzer) (1.1.5)\n",
            "Requirement already satisfied: scipy in /usr/local/lib/python3.7/dist-packages (from factor_analyzer) (1.4.1)\n",
            "Requirement already satisfied: numpy in /usr/local/lib/python3.7/dist-packages (from factor_analyzer) (1.19.5)\n",
            "Requirement already satisfied: scikit-learn in /usr/local/lib/python3.7/dist-packages (from factor_analyzer) (0.22.2.post1)\n",
            "Requirement already satisfied: pytz>=2017.2 in /usr/local/lib/python3.7/dist-packages (from pandas->factor_analyzer) (2018.9)\n",
            "Requirement already satisfied: python-dateutil>=2.7.3 in /usr/local/lib/python3.7/dist-packages (from pandas->factor_analyzer) (2.8.1)\n",
            "Requirement already satisfied: joblib>=0.11 in /usr/local/lib/python3.7/dist-packages (from scikit-learn->factor_analyzer) (1.0.1)\n",
            "Requirement already satisfied: six>=1.5 in /usr/local/lib/python3.7/dist-packages (from python-dateutil>=2.7.3->pandas->factor_analyzer) (1.15.0)\n"
          ],
          "name": "stdout"
        }
      ]
    },
    {
      "cell_type": "code",
      "metadata": {
        "id": "ZG5oBClk9bpC"
      },
      "source": [
        "from factor_analyzer import FactorAnalyzer\n",
        "import matplotlib.pyplot as plt \n",
        "#in chapter3 from matplotlib import pyplot as plt"
      ],
      "execution_count": 21,
      "outputs": []
    },
    {
      "cell_type": "markdown",
      "metadata": {
        "id": "KG5wxsD1_Km5"
      },
      "source": [
        "#Quiz 5 เลือกข้อมูลมาเฉพาะ a1,a2,a3,...,o5 ด้วยคำสั่ง .iloc[]"
      ]
    },
    {
      "cell_type": "code",
      "metadata": {
        "colab": {
          "base_uri": "https://localhost:8080/"
        },
        "id": "V26iMMY99bnE",
        "outputId": "aaaaef86-f156-40c3-920e-d35f48136b11"
      },
      "source": [
        "BFI_data.shape"
      ],
      "execution_count": 22,
      "outputs": [
        {
          "output_type": "execute_result",
          "data": {
            "text/plain": [
              "(2800, 29)"
            ]
          },
          "metadata": {
            "tags": []
          },
          "execution_count": 22
        }
      ]
    },
    {
      "cell_type": "code",
      "metadata": {
        "colab": {
          "base_uri": "https://localhost:8080/",
          "height": 435
        },
        "id": "tlaVVA3R9bkz",
        "outputId": "86471b2d-0906-4c3c-8bb6-4c8947fb8c86"
      },
      "source": [
        "BFI_data_dropped = BFI_data.iloc[:,1:26]\n",
        "BFI_data_dropped"
      ],
      "execution_count": 23,
      "outputs": [
        {
          "output_type": "execute_result",
          "data": {
            "text/html": [
              "<div>\n",
              "<style scoped>\n",
              "    .dataframe tbody tr th:only-of-type {\n",
              "        vertical-align: middle;\n",
              "    }\n",
              "\n",
              "    .dataframe tbody tr th {\n",
              "        vertical-align: top;\n",
              "    }\n",
              "\n",
              "    .dataframe thead th {\n",
              "        text-align: right;\n",
              "    }\n",
              "</style>\n",
              "<table border=\"1\" class=\"dataframe\">\n",
              "  <thead>\n",
              "    <tr style=\"text-align: right;\">\n",
              "      <th></th>\n",
              "      <th>A1</th>\n",
              "      <th>A2</th>\n",
              "      <th>A3</th>\n",
              "      <th>A4</th>\n",
              "      <th>A5</th>\n",
              "      <th>C1</th>\n",
              "      <th>C2</th>\n",
              "      <th>C3</th>\n",
              "      <th>C4</th>\n",
              "      <th>C5</th>\n",
              "      <th>E1</th>\n",
              "      <th>E2</th>\n",
              "      <th>E3</th>\n",
              "      <th>E4</th>\n",
              "      <th>E5</th>\n",
              "      <th>N1</th>\n",
              "      <th>N2</th>\n",
              "      <th>N3</th>\n",
              "      <th>N4</th>\n",
              "      <th>N5</th>\n",
              "      <th>O1</th>\n",
              "      <th>O2</th>\n",
              "      <th>O3</th>\n",
              "      <th>O4</th>\n",
              "      <th>O5</th>\n",
              "    </tr>\n",
              "  </thead>\n",
              "  <tbody>\n",
              "    <tr>\n",
              "      <th>0</th>\n",
              "      <td>2.0</td>\n",
              "      <td>4.0</td>\n",
              "      <td>3.0</td>\n",
              "      <td>4.0</td>\n",
              "      <td>4.0</td>\n",
              "      <td>2.0</td>\n",
              "      <td>3.0</td>\n",
              "      <td>3.0</td>\n",
              "      <td>4.0</td>\n",
              "      <td>4.0</td>\n",
              "      <td>3.0</td>\n",
              "      <td>3.0</td>\n",
              "      <td>3.0</td>\n",
              "      <td>4.0</td>\n",
              "      <td>4.0</td>\n",
              "      <td>3.0</td>\n",
              "      <td>4.0</td>\n",
              "      <td>2.0</td>\n",
              "      <td>2.0</td>\n",
              "      <td>3.0</td>\n",
              "      <td>3.0</td>\n",
              "      <td>6</td>\n",
              "      <td>3.0</td>\n",
              "      <td>4.0</td>\n",
              "      <td>3.0</td>\n",
              "    </tr>\n",
              "    <tr>\n",
              "      <th>1</th>\n",
              "      <td>2.0</td>\n",
              "      <td>4.0</td>\n",
              "      <td>5.0</td>\n",
              "      <td>2.0</td>\n",
              "      <td>5.0</td>\n",
              "      <td>5.0</td>\n",
              "      <td>4.0</td>\n",
              "      <td>4.0</td>\n",
              "      <td>3.0</td>\n",
              "      <td>4.0</td>\n",
              "      <td>1.0</td>\n",
              "      <td>1.0</td>\n",
              "      <td>6.0</td>\n",
              "      <td>4.0</td>\n",
              "      <td>3.0</td>\n",
              "      <td>3.0</td>\n",
              "      <td>3.0</td>\n",
              "      <td>3.0</td>\n",
              "      <td>5.0</td>\n",
              "      <td>5.0</td>\n",
              "      <td>4.0</td>\n",
              "      <td>2</td>\n",
              "      <td>4.0</td>\n",
              "      <td>3.0</td>\n",
              "      <td>3.0</td>\n",
              "    </tr>\n",
              "    <tr>\n",
              "      <th>2</th>\n",
              "      <td>5.0</td>\n",
              "      <td>4.0</td>\n",
              "      <td>5.0</td>\n",
              "      <td>4.0</td>\n",
              "      <td>4.0</td>\n",
              "      <td>4.0</td>\n",
              "      <td>5.0</td>\n",
              "      <td>4.0</td>\n",
              "      <td>2.0</td>\n",
              "      <td>5.0</td>\n",
              "      <td>2.0</td>\n",
              "      <td>4.0</td>\n",
              "      <td>4.0</td>\n",
              "      <td>4.0</td>\n",
              "      <td>5.0</td>\n",
              "      <td>4.0</td>\n",
              "      <td>5.0</td>\n",
              "      <td>4.0</td>\n",
              "      <td>2.0</td>\n",
              "      <td>3.0</td>\n",
              "      <td>4.0</td>\n",
              "      <td>2</td>\n",
              "      <td>5.0</td>\n",
              "      <td>5.0</td>\n",
              "      <td>2.0</td>\n",
              "    </tr>\n",
              "    <tr>\n",
              "      <th>3</th>\n",
              "      <td>4.0</td>\n",
              "      <td>4.0</td>\n",
              "      <td>6.0</td>\n",
              "      <td>5.0</td>\n",
              "      <td>5.0</td>\n",
              "      <td>4.0</td>\n",
              "      <td>4.0</td>\n",
              "      <td>3.0</td>\n",
              "      <td>5.0</td>\n",
              "      <td>5.0</td>\n",
              "      <td>5.0</td>\n",
              "      <td>3.0</td>\n",
              "      <td>4.0</td>\n",
              "      <td>4.0</td>\n",
              "      <td>4.0</td>\n",
              "      <td>2.0</td>\n",
              "      <td>5.0</td>\n",
              "      <td>2.0</td>\n",
              "      <td>4.0</td>\n",
              "      <td>1.0</td>\n",
              "      <td>3.0</td>\n",
              "      <td>3</td>\n",
              "      <td>4.0</td>\n",
              "      <td>3.0</td>\n",
              "      <td>5.0</td>\n",
              "    </tr>\n",
              "    <tr>\n",
              "      <th>4</th>\n",
              "      <td>2.0</td>\n",
              "      <td>3.0</td>\n",
              "      <td>3.0</td>\n",
              "      <td>4.0</td>\n",
              "      <td>5.0</td>\n",
              "      <td>4.0</td>\n",
              "      <td>4.0</td>\n",
              "      <td>5.0</td>\n",
              "      <td>3.0</td>\n",
              "      <td>2.0</td>\n",
              "      <td>2.0</td>\n",
              "      <td>2.0</td>\n",
              "      <td>5.0</td>\n",
              "      <td>4.0</td>\n",
              "      <td>5.0</td>\n",
              "      <td>2.0</td>\n",
              "      <td>3.0</td>\n",
              "      <td>4.0</td>\n",
              "      <td>4.0</td>\n",
              "      <td>3.0</td>\n",
              "      <td>3.0</td>\n",
              "      <td>3</td>\n",
              "      <td>4.0</td>\n",
              "      <td>3.0</td>\n",
              "      <td>3.0</td>\n",
              "    </tr>\n",
              "    <tr>\n",
              "      <th>...</th>\n",
              "      <td>...</td>\n",
              "      <td>...</td>\n",
              "      <td>...</td>\n",
              "      <td>...</td>\n",
              "      <td>...</td>\n",
              "      <td>...</td>\n",
              "      <td>...</td>\n",
              "      <td>...</td>\n",
              "      <td>...</td>\n",
              "      <td>...</td>\n",
              "      <td>...</td>\n",
              "      <td>...</td>\n",
              "      <td>...</td>\n",
              "      <td>...</td>\n",
              "      <td>...</td>\n",
              "      <td>...</td>\n",
              "      <td>...</td>\n",
              "      <td>...</td>\n",
              "      <td>...</td>\n",
              "      <td>...</td>\n",
              "      <td>...</td>\n",
              "      <td>...</td>\n",
              "      <td>...</td>\n",
              "      <td>...</td>\n",
              "      <td>...</td>\n",
              "    </tr>\n",
              "    <tr>\n",
              "      <th>2795</th>\n",
              "      <td>6.0</td>\n",
              "      <td>1.0</td>\n",
              "      <td>3.0</td>\n",
              "      <td>3.0</td>\n",
              "      <td>3.0</td>\n",
              "      <td>6.0</td>\n",
              "      <td>6.0</td>\n",
              "      <td>6.0</td>\n",
              "      <td>1.0</td>\n",
              "      <td>1.0</td>\n",
              "      <td>1.0</td>\n",
              "      <td>4.0</td>\n",
              "      <td>5.0</td>\n",
              "      <td>5.0</td>\n",
              "      <td>6.0</td>\n",
              "      <td>1.0</td>\n",
              "      <td>1.0</td>\n",
              "      <td>1.0</td>\n",
              "      <td>NaN</td>\n",
              "      <td>1.0</td>\n",
              "      <td>6.0</td>\n",
              "      <td>1</td>\n",
              "      <td>6.0</td>\n",
              "      <td>6.0</td>\n",
              "      <td>1.0</td>\n",
              "    </tr>\n",
              "    <tr>\n",
              "      <th>2796</th>\n",
              "      <td>2.0</td>\n",
              "      <td>4.0</td>\n",
              "      <td>4.0</td>\n",
              "      <td>3.0</td>\n",
              "      <td>5.0</td>\n",
              "      <td>2.0</td>\n",
              "      <td>3.0</td>\n",
              "      <td>4.0</td>\n",
              "      <td>4.0</td>\n",
              "      <td>3.0</td>\n",
              "      <td>2.0</td>\n",
              "      <td>2.0</td>\n",
              "      <td>4.0</td>\n",
              "      <td>4.0</td>\n",
              "      <td>3.0</td>\n",
              "      <td>NaN</td>\n",
              "      <td>3.0</td>\n",
              "      <td>2.0</td>\n",
              "      <td>3.0</td>\n",
              "      <td>3.0</td>\n",
              "      <td>6.0</td>\n",
              "      <td>3</td>\n",
              "      <td>5.0</td>\n",
              "      <td>4.0</td>\n",
              "      <td>2.0</td>\n",
              "    </tr>\n",
              "    <tr>\n",
              "      <th>2797</th>\n",
              "      <td>2.0</td>\n",
              "      <td>3.0</td>\n",
              "      <td>5.0</td>\n",
              "      <td>2.0</td>\n",
              "      <td>5.0</td>\n",
              "      <td>5.0</td>\n",
              "      <td>5.0</td>\n",
              "      <td>5.0</td>\n",
              "      <td>1.0</td>\n",
              "      <td>1.0</td>\n",
              "      <td>2.0</td>\n",
              "      <td>2.0</td>\n",
              "      <td>6.0</td>\n",
              "      <td>3.0</td>\n",
              "      <td>6.0</td>\n",
              "      <td>3.0</td>\n",
              "      <td>4.0</td>\n",
              "      <td>3.0</td>\n",
              "      <td>3.0</td>\n",
              "      <td>1.0</td>\n",
              "      <td>5.0</td>\n",
              "      <td>1</td>\n",
              "      <td>6.0</td>\n",
              "      <td>4.0</td>\n",
              "      <td>3.0</td>\n",
              "    </tr>\n",
              "    <tr>\n",
              "      <th>2798</th>\n",
              "      <td>5.0</td>\n",
              "      <td>2.0</td>\n",
              "      <td>2.0</td>\n",
              "      <td>4.0</td>\n",
              "      <td>4.0</td>\n",
              "      <td>5.0</td>\n",
              "      <td>5.0</td>\n",
              "      <td>5.0</td>\n",
              "      <td>2.0</td>\n",
              "      <td>6.0</td>\n",
              "      <td>2.0</td>\n",
              "      <td>2.0</td>\n",
              "      <td>4.0</td>\n",
              "      <td>5.0</td>\n",
              "      <td>4.0</td>\n",
              "      <td>5.0</td>\n",
              "      <td>5.0</td>\n",
              "      <td>6.0</td>\n",
              "      <td>4.0</td>\n",
              "      <td>1.0</td>\n",
              "      <td>5.0</td>\n",
              "      <td>2</td>\n",
              "      <td>5.0</td>\n",
              "      <td>5.0</td>\n",
              "      <td>1.0</td>\n",
              "    </tr>\n",
              "    <tr>\n",
              "      <th>2799</th>\n",
              "      <td>2.0</td>\n",
              "      <td>3.0</td>\n",
              "      <td>1.0</td>\n",
              "      <td>4.0</td>\n",
              "      <td>2.0</td>\n",
              "      <td>5.0</td>\n",
              "      <td>5.0</td>\n",
              "      <td>3.0</td>\n",
              "      <td>3.0</td>\n",
              "      <td>3.0</td>\n",
              "      <td>3.0</td>\n",
              "      <td>3.0</td>\n",
              "      <td>1.0</td>\n",
              "      <td>2.0</td>\n",
              "      <td>2.0</td>\n",
              "      <td>1.0</td>\n",
              "      <td>2.0</td>\n",
              "      <td>2.0</td>\n",
              "      <td>1.0</td>\n",
              "      <td>1.0</td>\n",
              "      <td>3.0</td>\n",
              "      <td>1</td>\n",
              "      <td>3.0</td>\n",
              "      <td>5.0</td>\n",
              "      <td>1.0</td>\n",
              "    </tr>\n",
              "  </tbody>\n",
              "</table>\n",
              "<p>2800 rows × 25 columns</p>\n",
              "</div>"
            ],
            "text/plain": [
              "       A1   A2   A3   A4   A5   C1   C2  ...   N4   N5   O1  O2   O3   O4   O5\n",
              "0     2.0  4.0  3.0  4.0  4.0  2.0  3.0  ...  2.0  3.0  3.0   6  3.0  4.0  3.0\n",
              "1     2.0  4.0  5.0  2.0  5.0  5.0  4.0  ...  5.0  5.0  4.0   2  4.0  3.0  3.0\n",
              "2     5.0  4.0  5.0  4.0  4.0  4.0  5.0  ...  2.0  3.0  4.0   2  5.0  5.0  2.0\n",
              "3     4.0  4.0  6.0  5.0  5.0  4.0  4.0  ...  4.0  1.0  3.0   3  4.0  3.0  5.0\n",
              "4     2.0  3.0  3.0  4.0  5.0  4.0  4.0  ...  4.0  3.0  3.0   3  4.0  3.0  3.0\n",
              "...   ...  ...  ...  ...  ...  ...  ...  ...  ...  ...  ...  ..  ...  ...  ...\n",
              "2795  6.0  1.0  3.0  3.0  3.0  6.0  6.0  ...  NaN  1.0  6.0   1  6.0  6.0  1.0\n",
              "2796  2.0  4.0  4.0  3.0  5.0  2.0  3.0  ...  3.0  3.0  6.0   3  5.0  4.0  2.0\n",
              "2797  2.0  3.0  5.0  2.0  5.0  5.0  5.0  ...  3.0  1.0  5.0   1  6.0  4.0  3.0\n",
              "2798  5.0  2.0  2.0  4.0  4.0  5.0  5.0  ...  4.0  1.0  5.0   2  5.0  5.0  1.0\n",
              "2799  2.0  3.0  1.0  4.0  2.0  5.0  5.0  ...  1.0  1.0  3.0   1  3.0  5.0  1.0\n",
              "\n",
              "[2800 rows x 25 columns]"
            ]
          },
          "metadata": {
            "tags": []
          },
          "execution_count": 23
        }
      ]
    },
    {
      "cell_type": "markdown",
      "metadata": {
        "id": "BuEDq6P2yfCe"
      },
      "source": [
        "#เฉลย"
      ]
    },
    {
      "cell_type": "code",
      "metadata": {
        "id": "WS9Olh739bhi",
        "colab": {
          "base_uri": "https://localhost:8080/",
          "height": 435
        },
        "outputId": "8ccd82c2-ebfe-41de-c6e7-a2c38189deb8"
      },
      "source": [
        "BFI_data_dropped = BFI_data.iloc[:,1:-3]\n",
        "BFI_data_dropped"
      ],
      "execution_count": 24,
      "outputs": [
        {
          "output_type": "execute_result",
          "data": {
            "text/html": [
              "<div>\n",
              "<style scoped>\n",
              "    .dataframe tbody tr th:only-of-type {\n",
              "        vertical-align: middle;\n",
              "    }\n",
              "\n",
              "    .dataframe tbody tr th {\n",
              "        vertical-align: top;\n",
              "    }\n",
              "\n",
              "    .dataframe thead th {\n",
              "        text-align: right;\n",
              "    }\n",
              "</style>\n",
              "<table border=\"1\" class=\"dataframe\">\n",
              "  <thead>\n",
              "    <tr style=\"text-align: right;\">\n",
              "      <th></th>\n",
              "      <th>A1</th>\n",
              "      <th>A2</th>\n",
              "      <th>A3</th>\n",
              "      <th>A4</th>\n",
              "      <th>A5</th>\n",
              "      <th>C1</th>\n",
              "      <th>C2</th>\n",
              "      <th>C3</th>\n",
              "      <th>C4</th>\n",
              "      <th>C5</th>\n",
              "      <th>E1</th>\n",
              "      <th>E2</th>\n",
              "      <th>E3</th>\n",
              "      <th>E4</th>\n",
              "      <th>E5</th>\n",
              "      <th>N1</th>\n",
              "      <th>N2</th>\n",
              "      <th>N3</th>\n",
              "      <th>N4</th>\n",
              "      <th>N5</th>\n",
              "      <th>O1</th>\n",
              "      <th>O2</th>\n",
              "      <th>O3</th>\n",
              "      <th>O4</th>\n",
              "      <th>O5</th>\n",
              "    </tr>\n",
              "  </thead>\n",
              "  <tbody>\n",
              "    <tr>\n",
              "      <th>0</th>\n",
              "      <td>2.0</td>\n",
              "      <td>4.0</td>\n",
              "      <td>3.0</td>\n",
              "      <td>4.0</td>\n",
              "      <td>4.0</td>\n",
              "      <td>2.0</td>\n",
              "      <td>3.0</td>\n",
              "      <td>3.0</td>\n",
              "      <td>4.0</td>\n",
              "      <td>4.0</td>\n",
              "      <td>3.0</td>\n",
              "      <td>3.0</td>\n",
              "      <td>3.0</td>\n",
              "      <td>4.0</td>\n",
              "      <td>4.0</td>\n",
              "      <td>3.0</td>\n",
              "      <td>4.0</td>\n",
              "      <td>2.0</td>\n",
              "      <td>2.0</td>\n",
              "      <td>3.0</td>\n",
              "      <td>3.0</td>\n",
              "      <td>6</td>\n",
              "      <td>3.0</td>\n",
              "      <td>4.0</td>\n",
              "      <td>3.0</td>\n",
              "    </tr>\n",
              "    <tr>\n",
              "      <th>1</th>\n",
              "      <td>2.0</td>\n",
              "      <td>4.0</td>\n",
              "      <td>5.0</td>\n",
              "      <td>2.0</td>\n",
              "      <td>5.0</td>\n",
              "      <td>5.0</td>\n",
              "      <td>4.0</td>\n",
              "      <td>4.0</td>\n",
              "      <td>3.0</td>\n",
              "      <td>4.0</td>\n",
              "      <td>1.0</td>\n",
              "      <td>1.0</td>\n",
              "      <td>6.0</td>\n",
              "      <td>4.0</td>\n",
              "      <td>3.0</td>\n",
              "      <td>3.0</td>\n",
              "      <td>3.0</td>\n",
              "      <td>3.0</td>\n",
              "      <td>5.0</td>\n",
              "      <td>5.0</td>\n",
              "      <td>4.0</td>\n",
              "      <td>2</td>\n",
              "      <td>4.0</td>\n",
              "      <td>3.0</td>\n",
              "      <td>3.0</td>\n",
              "    </tr>\n",
              "    <tr>\n",
              "      <th>2</th>\n",
              "      <td>5.0</td>\n",
              "      <td>4.0</td>\n",
              "      <td>5.0</td>\n",
              "      <td>4.0</td>\n",
              "      <td>4.0</td>\n",
              "      <td>4.0</td>\n",
              "      <td>5.0</td>\n",
              "      <td>4.0</td>\n",
              "      <td>2.0</td>\n",
              "      <td>5.0</td>\n",
              "      <td>2.0</td>\n",
              "      <td>4.0</td>\n",
              "      <td>4.0</td>\n",
              "      <td>4.0</td>\n",
              "      <td>5.0</td>\n",
              "      <td>4.0</td>\n",
              "      <td>5.0</td>\n",
              "      <td>4.0</td>\n",
              "      <td>2.0</td>\n",
              "      <td>3.0</td>\n",
              "      <td>4.0</td>\n",
              "      <td>2</td>\n",
              "      <td>5.0</td>\n",
              "      <td>5.0</td>\n",
              "      <td>2.0</td>\n",
              "    </tr>\n",
              "    <tr>\n",
              "      <th>3</th>\n",
              "      <td>4.0</td>\n",
              "      <td>4.0</td>\n",
              "      <td>6.0</td>\n",
              "      <td>5.0</td>\n",
              "      <td>5.0</td>\n",
              "      <td>4.0</td>\n",
              "      <td>4.0</td>\n",
              "      <td>3.0</td>\n",
              "      <td>5.0</td>\n",
              "      <td>5.0</td>\n",
              "      <td>5.0</td>\n",
              "      <td>3.0</td>\n",
              "      <td>4.0</td>\n",
              "      <td>4.0</td>\n",
              "      <td>4.0</td>\n",
              "      <td>2.0</td>\n",
              "      <td>5.0</td>\n",
              "      <td>2.0</td>\n",
              "      <td>4.0</td>\n",
              "      <td>1.0</td>\n",
              "      <td>3.0</td>\n",
              "      <td>3</td>\n",
              "      <td>4.0</td>\n",
              "      <td>3.0</td>\n",
              "      <td>5.0</td>\n",
              "    </tr>\n",
              "    <tr>\n",
              "      <th>4</th>\n",
              "      <td>2.0</td>\n",
              "      <td>3.0</td>\n",
              "      <td>3.0</td>\n",
              "      <td>4.0</td>\n",
              "      <td>5.0</td>\n",
              "      <td>4.0</td>\n",
              "      <td>4.0</td>\n",
              "      <td>5.0</td>\n",
              "      <td>3.0</td>\n",
              "      <td>2.0</td>\n",
              "      <td>2.0</td>\n",
              "      <td>2.0</td>\n",
              "      <td>5.0</td>\n",
              "      <td>4.0</td>\n",
              "      <td>5.0</td>\n",
              "      <td>2.0</td>\n",
              "      <td>3.0</td>\n",
              "      <td>4.0</td>\n",
              "      <td>4.0</td>\n",
              "      <td>3.0</td>\n",
              "      <td>3.0</td>\n",
              "      <td>3</td>\n",
              "      <td>4.0</td>\n",
              "      <td>3.0</td>\n",
              "      <td>3.0</td>\n",
              "    </tr>\n",
              "    <tr>\n",
              "      <th>...</th>\n",
              "      <td>...</td>\n",
              "      <td>...</td>\n",
              "      <td>...</td>\n",
              "      <td>...</td>\n",
              "      <td>...</td>\n",
              "      <td>...</td>\n",
              "      <td>...</td>\n",
              "      <td>...</td>\n",
              "      <td>...</td>\n",
              "      <td>...</td>\n",
              "      <td>...</td>\n",
              "      <td>...</td>\n",
              "      <td>...</td>\n",
              "      <td>...</td>\n",
              "      <td>...</td>\n",
              "      <td>...</td>\n",
              "      <td>...</td>\n",
              "      <td>...</td>\n",
              "      <td>...</td>\n",
              "      <td>...</td>\n",
              "      <td>...</td>\n",
              "      <td>...</td>\n",
              "      <td>...</td>\n",
              "      <td>...</td>\n",
              "      <td>...</td>\n",
              "    </tr>\n",
              "    <tr>\n",
              "      <th>2795</th>\n",
              "      <td>6.0</td>\n",
              "      <td>1.0</td>\n",
              "      <td>3.0</td>\n",
              "      <td>3.0</td>\n",
              "      <td>3.0</td>\n",
              "      <td>6.0</td>\n",
              "      <td>6.0</td>\n",
              "      <td>6.0</td>\n",
              "      <td>1.0</td>\n",
              "      <td>1.0</td>\n",
              "      <td>1.0</td>\n",
              "      <td>4.0</td>\n",
              "      <td>5.0</td>\n",
              "      <td>5.0</td>\n",
              "      <td>6.0</td>\n",
              "      <td>1.0</td>\n",
              "      <td>1.0</td>\n",
              "      <td>1.0</td>\n",
              "      <td>NaN</td>\n",
              "      <td>1.0</td>\n",
              "      <td>6.0</td>\n",
              "      <td>1</td>\n",
              "      <td>6.0</td>\n",
              "      <td>6.0</td>\n",
              "      <td>1.0</td>\n",
              "    </tr>\n",
              "    <tr>\n",
              "      <th>2796</th>\n",
              "      <td>2.0</td>\n",
              "      <td>4.0</td>\n",
              "      <td>4.0</td>\n",
              "      <td>3.0</td>\n",
              "      <td>5.0</td>\n",
              "      <td>2.0</td>\n",
              "      <td>3.0</td>\n",
              "      <td>4.0</td>\n",
              "      <td>4.0</td>\n",
              "      <td>3.0</td>\n",
              "      <td>2.0</td>\n",
              "      <td>2.0</td>\n",
              "      <td>4.0</td>\n",
              "      <td>4.0</td>\n",
              "      <td>3.0</td>\n",
              "      <td>NaN</td>\n",
              "      <td>3.0</td>\n",
              "      <td>2.0</td>\n",
              "      <td>3.0</td>\n",
              "      <td>3.0</td>\n",
              "      <td>6.0</td>\n",
              "      <td>3</td>\n",
              "      <td>5.0</td>\n",
              "      <td>4.0</td>\n",
              "      <td>2.0</td>\n",
              "    </tr>\n",
              "    <tr>\n",
              "      <th>2797</th>\n",
              "      <td>2.0</td>\n",
              "      <td>3.0</td>\n",
              "      <td>5.0</td>\n",
              "      <td>2.0</td>\n",
              "      <td>5.0</td>\n",
              "      <td>5.0</td>\n",
              "      <td>5.0</td>\n",
              "      <td>5.0</td>\n",
              "      <td>1.0</td>\n",
              "      <td>1.0</td>\n",
              "      <td>2.0</td>\n",
              "      <td>2.0</td>\n",
              "      <td>6.0</td>\n",
              "      <td>3.0</td>\n",
              "      <td>6.0</td>\n",
              "      <td>3.0</td>\n",
              "      <td>4.0</td>\n",
              "      <td>3.0</td>\n",
              "      <td>3.0</td>\n",
              "      <td>1.0</td>\n",
              "      <td>5.0</td>\n",
              "      <td>1</td>\n",
              "      <td>6.0</td>\n",
              "      <td>4.0</td>\n",
              "      <td>3.0</td>\n",
              "    </tr>\n",
              "    <tr>\n",
              "      <th>2798</th>\n",
              "      <td>5.0</td>\n",
              "      <td>2.0</td>\n",
              "      <td>2.0</td>\n",
              "      <td>4.0</td>\n",
              "      <td>4.0</td>\n",
              "      <td>5.0</td>\n",
              "      <td>5.0</td>\n",
              "      <td>5.0</td>\n",
              "      <td>2.0</td>\n",
              "      <td>6.0</td>\n",
              "      <td>2.0</td>\n",
              "      <td>2.0</td>\n",
              "      <td>4.0</td>\n",
              "      <td>5.0</td>\n",
              "      <td>4.0</td>\n",
              "      <td>5.0</td>\n",
              "      <td>5.0</td>\n",
              "      <td>6.0</td>\n",
              "      <td>4.0</td>\n",
              "      <td>1.0</td>\n",
              "      <td>5.0</td>\n",
              "      <td>2</td>\n",
              "      <td>5.0</td>\n",
              "      <td>5.0</td>\n",
              "      <td>1.0</td>\n",
              "    </tr>\n",
              "    <tr>\n",
              "      <th>2799</th>\n",
              "      <td>2.0</td>\n",
              "      <td>3.0</td>\n",
              "      <td>1.0</td>\n",
              "      <td>4.0</td>\n",
              "      <td>2.0</td>\n",
              "      <td>5.0</td>\n",
              "      <td>5.0</td>\n",
              "      <td>3.0</td>\n",
              "      <td>3.0</td>\n",
              "      <td>3.0</td>\n",
              "      <td>3.0</td>\n",
              "      <td>3.0</td>\n",
              "      <td>1.0</td>\n",
              "      <td>2.0</td>\n",
              "      <td>2.0</td>\n",
              "      <td>1.0</td>\n",
              "      <td>2.0</td>\n",
              "      <td>2.0</td>\n",
              "      <td>1.0</td>\n",
              "      <td>1.0</td>\n",
              "      <td>3.0</td>\n",
              "      <td>1</td>\n",
              "      <td>3.0</td>\n",
              "      <td>5.0</td>\n",
              "      <td>1.0</td>\n",
              "    </tr>\n",
              "  </tbody>\n",
              "</table>\n",
              "<p>2800 rows × 25 columns</p>\n",
              "</div>"
            ],
            "text/plain": [
              "       A1   A2   A3   A4   A5   C1   C2  ...   N4   N5   O1  O2   O3   O4   O5\n",
              "0     2.0  4.0  3.0  4.0  4.0  2.0  3.0  ...  2.0  3.0  3.0   6  3.0  4.0  3.0\n",
              "1     2.0  4.0  5.0  2.0  5.0  5.0  4.0  ...  5.0  5.0  4.0   2  4.0  3.0  3.0\n",
              "2     5.0  4.0  5.0  4.0  4.0  4.0  5.0  ...  2.0  3.0  4.0   2  5.0  5.0  2.0\n",
              "3     4.0  4.0  6.0  5.0  5.0  4.0  4.0  ...  4.0  1.0  3.0   3  4.0  3.0  5.0\n",
              "4     2.0  3.0  3.0  4.0  5.0  4.0  4.0  ...  4.0  3.0  3.0   3  4.0  3.0  3.0\n",
              "...   ...  ...  ...  ...  ...  ...  ...  ...  ...  ...  ...  ..  ...  ...  ...\n",
              "2795  6.0  1.0  3.0  3.0  3.0  6.0  6.0  ...  NaN  1.0  6.0   1  6.0  6.0  1.0\n",
              "2796  2.0  4.0  4.0  3.0  5.0  2.0  3.0  ...  3.0  3.0  6.0   3  5.0  4.0  2.0\n",
              "2797  2.0  3.0  5.0  2.0  5.0  5.0  5.0  ...  3.0  1.0  5.0   1  6.0  4.0  3.0\n",
              "2798  5.0  2.0  2.0  4.0  4.0  5.0  5.0  ...  4.0  1.0  5.0   2  5.0  5.0  1.0\n",
              "2799  2.0  3.0  1.0  4.0  2.0  5.0  5.0  ...  1.0  1.0  3.0   1  3.0  5.0  1.0\n",
              "\n",
              "[2800 rows x 25 columns]"
            ]
          },
          "metadata": {
            "tags": []
          },
          "execution_count": 24
        }
      ]
    },
    {
      "cell_type": "code",
      "metadata": {
        "id": "-tdo3cta9be4",
        "colab": {
          "base_uri": "https://localhost:8080/",
          "height": 435
        },
        "outputId": "5f59b7ac-b11c-4e35-e73f-eb260b6e0f15"
      },
      "source": [
        "BFI_data_dropped = BFI_data_dropped.dropna()\n",
        "BFI_data_dropped"
      ],
      "execution_count": 25,
      "outputs": [
        {
          "output_type": "execute_result",
          "data": {
            "text/html": [
              "<div>\n",
              "<style scoped>\n",
              "    .dataframe tbody tr th:only-of-type {\n",
              "        vertical-align: middle;\n",
              "    }\n",
              "\n",
              "    .dataframe tbody tr th {\n",
              "        vertical-align: top;\n",
              "    }\n",
              "\n",
              "    .dataframe thead th {\n",
              "        text-align: right;\n",
              "    }\n",
              "</style>\n",
              "<table border=\"1\" class=\"dataframe\">\n",
              "  <thead>\n",
              "    <tr style=\"text-align: right;\">\n",
              "      <th></th>\n",
              "      <th>A1</th>\n",
              "      <th>A2</th>\n",
              "      <th>A3</th>\n",
              "      <th>A4</th>\n",
              "      <th>A5</th>\n",
              "      <th>C1</th>\n",
              "      <th>C2</th>\n",
              "      <th>C3</th>\n",
              "      <th>C4</th>\n",
              "      <th>C5</th>\n",
              "      <th>E1</th>\n",
              "      <th>E2</th>\n",
              "      <th>E3</th>\n",
              "      <th>E4</th>\n",
              "      <th>E5</th>\n",
              "      <th>N1</th>\n",
              "      <th>N2</th>\n",
              "      <th>N3</th>\n",
              "      <th>N4</th>\n",
              "      <th>N5</th>\n",
              "      <th>O1</th>\n",
              "      <th>O2</th>\n",
              "      <th>O3</th>\n",
              "      <th>O4</th>\n",
              "      <th>O5</th>\n",
              "    </tr>\n",
              "  </thead>\n",
              "  <tbody>\n",
              "    <tr>\n",
              "      <th>0</th>\n",
              "      <td>2.0</td>\n",
              "      <td>4.0</td>\n",
              "      <td>3.0</td>\n",
              "      <td>4.0</td>\n",
              "      <td>4.0</td>\n",
              "      <td>2.0</td>\n",
              "      <td>3.0</td>\n",
              "      <td>3.0</td>\n",
              "      <td>4.0</td>\n",
              "      <td>4.0</td>\n",
              "      <td>3.0</td>\n",
              "      <td>3.0</td>\n",
              "      <td>3.0</td>\n",
              "      <td>4.0</td>\n",
              "      <td>4.0</td>\n",
              "      <td>3.0</td>\n",
              "      <td>4.0</td>\n",
              "      <td>2.0</td>\n",
              "      <td>2.0</td>\n",
              "      <td>3.0</td>\n",
              "      <td>3.0</td>\n",
              "      <td>6</td>\n",
              "      <td>3.0</td>\n",
              "      <td>4.0</td>\n",
              "      <td>3.0</td>\n",
              "    </tr>\n",
              "    <tr>\n",
              "      <th>1</th>\n",
              "      <td>2.0</td>\n",
              "      <td>4.0</td>\n",
              "      <td>5.0</td>\n",
              "      <td>2.0</td>\n",
              "      <td>5.0</td>\n",
              "      <td>5.0</td>\n",
              "      <td>4.0</td>\n",
              "      <td>4.0</td>\n",
              "      <td>3.0</td>\n",
              "      <td>4.0</td>\n",
              "      <td>1.0</td>\n",
              "      <td>1.0</td>\n",
              "      <td>6.0</td>\n",
              "      <td>4.0</td>\n",
              "      <td>3.0</td>\n",
              "      <td>3.0</td>\n",
              "      <td>3.0</td>\n",
              "      <td>3.0</td>\n",
              "      <td>5.0</td>\n",
              "      <td>5.0</td>\n",
              "      <td>4.0</td>\n",
              "      <td>2</td>\n",
              "      <td>4.0</td>\n",
              "      <td>3.0</td>\n",
              "      <td>3.0</td>\n",
              "    </tr>\n",
              "    <tr>\n",
              "      <th>2</th>\n",
              "      <td>5.0</td>\n",
              "      <td>4.0</td>\n",
              "      <td>5.0</td>\n",
              "      <td>4.0</td>\n",
              "      <td>4.0</td>\n",
              "      <td>4.0</td>\n",
              "      <td>5.0</td>\n",
              "      <td>4.0</td>\n",
              "      <td>2.0</td>\n",
              "      <td>5.0</td>\n",
              "      <td>2.0</td>\n",
              "      <td>4.0</td>\n",
              "      <td>4.0</td>\n",
              "      <td>4.0</td>\n",
              "      <td>5.0</td>\n",
              "      <td>4.0</td>\n",
              "      <td>5.0</td>\n",
              "      <td>4.0</td>\n",
              "      <td>2.0</td>\n",
              "      <td>3.0</td>\n",
              "      <td>4.0</td>\n",
              "      <td>2</td>\n",
              "      <td>5.0</td>\n",
              "      <td>5.0</td>\n",
              "      <td>2.0</td>\n",
              "    </tr>\n",
              "    <tr>\n",
              "      <th>3</th>\n",
              "      <td>4.0</td>\n",
              "      <td>4.0</td>\n",
              "      <td>6.0</td>\n",
              "      <td>5.0</td>\n",
              "      <td>5.0</td>\n",
              "      <td>4.0</td>\n",
              "      <td>4.0</td>\n",
              "      <td>3.0</td>\n",
              "      <td>5.0</td>\n",
              "      <td>5.0</td>\n",
              "      <td>5.0</td>\n",
              "      <td>3.0</td>\n",
              "      <td>4.0</td>\n",
              "      <td>4.0</td>\n",
              "      <td>4.0</td>\n",
              "      <td>2.0</td>\n",
              "      <td>5.0</td>\n",
              "      <td>2.0</td>\n",
              "      <td>4.0</td>\n",
              "      <td>1.0</td>\n",
              "      <td>3.0</td>\n",
              "      <td>3</td>\n",
              "      <td>4.0</td>\n",
              "      <td>3.0</td>\n",
              "      <td>5.0</td>\n",
              "    </tr>\n",
              "    <tr>\n",
              "      <th>4</th>\n",
              "      <td>2.0</td>\n",
              "      <td>3.0</td>\n",
              "      <td>3.0</td>\n",
              "      <td>4.0</td>\n",
              "      <td>5.0</td>\n",
              "      <td>4.0</td>\n",
              "      <td>4.0</td>\n",
              "      <td>5.0</td>\n",
              "      <td>3.0</td>\n",
              "      <td>2.0</td>\n",
              "      <td>2.0</td>\n",
              "      <td>2.0</td>\n",
              "      <td>5.0</td>\n",
              "      <td>4.0</td>\n",
              "      <td>5.0</td>\n",
              "      <td>2.0</td>\n",
              "      <td>3.0</td>\n",
              "      <td>4.0</td>\n",
              "      <td>4.0</td>\n",
              "      <td>3.0</td>\n",
              "      <td>3.0</td>\n",
              "      <td>3</td>\n",
              "      <td>4.0</td>\n",
              "      <td>3.0</td>\n",
              "      <td>3.0</td>\n",
              "    </tr>\n",
              "    <tr>\n",
              "      <th>...</th>\n",
              "      <td>...</td>\n",
              "      <td>...</td>\n",
              "      <td>...</td>\n",
              "      <td>...</td>\n",
              "      <td>...</td>\n",
              "      <td>...</td>\n",
              "      <td>...</td>\n",
              "      <td>...</td>\n",
              "      <td>...</td>\n",
              "      <td>...</td>\n",
              "      <td>...</td>\n",
              "      <td>...</td>\n",
              "      <td>...</td>\n",
              "      <td>...</td>\n",
              "      <td>...</td>\n",
              "      <td>...</td>\n",
              "      <td>...</td>\n",
              "      <td>...</td>\n",
              "      <td>...</td>\n",
              "      <td>...</td>\n",
              "      <td>...</td>\n",
              "      <td>...</td>\n",
              "      <td>...</td>\n",
              "      <td>...</td>\n",
              "      <td>...</td>\n",
              "    </tr>\n",
              "    <tr>\n",
              "      <th>2793</th>\n",
              "      <td>3.0</td>\n",
              "      <td>4.0</td>\n",
              "      <td>3.0</td>\n",
              "      <td>1.0</td>\n",
              "      <td>3.0</td>\n",
              "      <td>5.0</td>\n",
              "      <td>4.0</td>\n",
              "      <td>5.0</td>\n",
              "      <td>3.0</td>\n",
              "      <td>4.0</td>\n",
              "      <td>3.0</td>\n",
              "      <td>5.0</td>\n",
              "      <td>2.0</td>\n",
              "      <td>3.0</td>\n",
              "      <td>1.0</td>\n",
              "      <td>5.0</td>\n",
              "      <td>6.0</td>\n",
              "      <td>5.0</td>\n",
              "      <td>5.0</td>\n",
              "      <td>6.0</td>\n",
              "      <td>6.0</td>\n",
              "      <td>1</td>\n",
              "      <td>4.0</td>\n",
              "      <td>5.0</td>\n",
              "      <td>2.0</td>\n",
              "    </tr>\n",
              "    <tr>\n",
              "      <th>2794</th>\n",
              "      <td>5.0</td>\n",
              "      <td>5.0</td>\n",
              "      <td>5.0</td>\n",
              "      <td>5.0</td>\n",
              "      <td>3.0</td>\n",
              "      <td>5.0</td>\n",
              "      <td>4.0</td>\n",
              "      <td>2.0</td>\n",
              "      <td>3.0</td>\n",
              "      <td>5.0</td>\n",
              "      <td>3.0</td>\n",
              "      <td>5.0</td>\n",
              "      <td>5.0</td>\n",
              "      <td>6.0</td>\n",
              "      <td>5.0</td>\n",
              "      <td>4.0</td>\n",
              "      <td>5.0</td>\n",
              "      <td>3.0</td>\n",
              "      <td>5.0</td>\n",
              "      <td>2.0</td>\n",
              "      <td>6.0</td>\n",
              "      <td>1</td>\n",
              "      <td>5.0</td>\n",
              "      <td>6.0</td>\n",
              "      <td>2.0</td>\n",
              "    </tr>\n",
              "    <tr>\n",
              "      <th>2797</th>\n",
              "      <td>2.0</td>\n",
              "      <td>3.0</td>\n",
              "      <td>5.0</td>\n",
              "      <td>2.0</td>\n",
              "      <td>5.0</td>\n",
              "      <td>5.0</td>\n",
              "      <td>5.0</td>\n",
              "      <td>5.0</td>\n",
              "      <td>1.0</td>\n",
              "      <td>1.0</td>\n",
              "      <td>2.0</td>\n",
              "      <td>2.0</td>\n",
              "      <td>6.0</td>\n",
              "      <td>3.0</td>\n",
              "      <td>6.0</td>\n",
              "      <td>3.0</td>\n",
              "      <td>4.0</td>\n",
              "      <td>3.0</td>\n",
              "      <td>3.0</td>\n",
              "      <td>1.0</td>\n",
              "      <td>5.0</td>\n",
              "      <td>1</td>\n",
              "      <td>6.0</td>\n",
              "      <td>4.0</td>\n",
              "      <td>3.0</td>\n",
              "    </tr>\n",
              "    <tr>\n",
              "      <th>2798</th>\n",
              "      <td>5.0</td>\n",
              "      <td>2.0</td>\n",
              "      <td>2.0</td>\n",
              "      <td>4.0</td>\n",
              "      <td>4.0</td>\n",
              "      <td>5.0</td>\n",
              "      <td>5.0</td>\n",
              "      <td>5.0</td>\n",
              "      <td>2.0</td>\n",
              "      <td>6.0</td>\n",
              "      <td>2.0</td>\n",
              "      <td>2.0</td>\n",
              "      <td>4.0</td>\n",
              "      <td>5.0</td>\n",
              "      <td>4.0</td>\n",
              "      <td>5.0</td>\n",
              "      <td>5.0</td>\n",
              "      <td>6.0</td>\n",
              "      <td>4.0</td>\n",
              "      <td>1.0</td>\n",
              "      <td>5.0</td>\n",
              "      <td>2</td>\n",
              "      <td>5.0</td>\n",
              "      <td>5.0</td>\n",
              "      <td>1.0</td>\n",
              "    </tr>\n",
              "    <tr>\n",
              "      <th>2799</th>\n",
              "      <td>2.0</td>\n",
              "      <td>3.0</td>\n",
              "      <td>1.0</td>\n",
              "      <td>4.0</td>\n",
              "      <td>2.0</td>\n",
              "      <td>5.0</td>\n",
              "      <td>5.0</td>\n",
              "      <td>3.0</td>\n",
              "      <td>3.0</td>\n",
              "      <td>3.0</td>\n",
              "      <td>3.0</td>\n",
              "      <td>3.0</td>\n",
              "      <td>1.0</td>\n",
              "      <td>2.0</td>\n",
              "      <td>2.0</td>\n",
              "      <td>1.0</td>\n",
              "      <td>2.0</td>\n",
              "      <td>2.0</td>\n",
              "      <td>1.0</td>\n",
              "      <td>1.0</td>\n",
              "      <td>3.0</td>\n",
              "      <td>1</td>\n",
              "      <td>3.0</td>\n",
              "      <td>5.0</td>\n",
              "      <td>1.0</td>\n",
              "    </tr>\n",
              "  </tbody>\n",
              "</table>\n",
              "<p>2436 rows × 25 columns</p>\n",
              "</div>"
            ],
            "text/plain": [
              "       A1   A2   A3   A4   A5   C1   C2  ...   N4   N5   O1  O2   O3   O4   O5\n",
              "0     2.0  4.0  3.0  4.0  4.0  2.0  3.0  ...  2.0  3.0  3.0   6  3.0  4.0  3.0\n",
              "1     2.0  4.0  5.0  2.0  5.0  5.0  4.0  ...  5.0  5.0  4.0   2  4.0  3.0  3.0\n",
              "2     5.0  4.0  5.0  4.0  4.0  4.0  5.0  ...  2.0  3.0  4.0   2  5.0  5.0  2.0\n",
              "3     4.0  4.0  6.0  5.0  5.0  4.0  4.0  ...  4.0  1.0  3.0   3  4.0  3.0  5.0\n",
              "4     2.0  3.0  3.0  4.0  5.0  4.0  4.0  ...  4.0  3.0  3.0   3  4.0  3.0  3.0\n",
              "...   ...  ...  ...  ...  ...  ...  ...  ...  ...  ...  ...  ..  ...  ...  ...\n",
              "2793  3.0  4.0  3.0  1.0  3.0  5.0  4.0  ...  5.0  6.0  6.0   1  4.0  5.0  2.0\n",
              "2794  5.0  5.0  5.0  5.0  3.0  5.0  4.0  ...  5.0  2.0  6.0   1  5.0  6.0  2.0\n",
              "2797  2.0  3.0  5.0  2.0  5.0  5.0  5.0  ...  3.0  1.0  5.0   1  6.0  4.0  3.0\n",
              "2798  5.0  2.0  2.0  4.0  4.0  5.0  5.0  ...  4.0  1.0  5.0   2  5.0  5.0  1.0\n",
              "2799  2.0  3.0  1.0  4.0  2.0  5.0  5.0  ...  1.0  1.0  3.0   1  3.0  5.0  1.0\n",
              "\n",
              "[2436 rows x 25 columns]"
            ]
          },
          "metadata": {
            "tags": []
          },
          "execution_count": 25
        }
      ]
    },
    {
      "cell_type": "code",
      "metadata": {
        "id": "aql9ycKV9bcP",
        "colab": {
          "base_uri": "https://localhost:8080/"
        },
        "outputId": "20c3adbf-e14f-462c-a688-f360bbcb6f62"
      },
      "source": [
        "BFI_data_dropped.shape #run ผลออกมาดูใช้ .shape"
      ],
      "execution_count": 26,
      "outputs": [
        {
          "output_type": "execute_result",
          "data": {
            "text/plain": [
              "(2436, 25)"
            ]
          },
          "metadata": {
            "tags": []
          },
          "execution_count": 26
        }
      ]
    },
    {
      "cell_type": "markdown",
      "metadata": {
        "id": "nsMaxIHR1KVB"
      },
      "source": [
        "#Bartlett’s test"
      ]
    },
    {
      "cell_type": "code",
      "metadata": {
        "id": "HOW4igU99bZn",
        "colab": {
          "base_uri": "https://localhost:8080/"
        },
        "outputId": "f381608b-6a18-4fce-95ef-bd4fd987156a"
      },
      "source": [
        "from factor_analyzer.factor_analyzer import calculate_bartlett_sphericity #import function ที่ใช้งาน ชื่อcalculate_bartlett_sphericity\n",
        "chi_square_value,p_value=calculate_bartlett_sphericity(BFI_data_dropped) \n",
        "chi_square_value, p_value"
      ],
      "execution_count": 27,
      "outputs": [
        {
          "output_type": "execute_result",
          "data": {
            "text/plain": [
              "(18170.966350869243, 0.0)"
            ]
          },
          "metadata": {
            "tags": []
          },
          "execution_count": 27
        }
      ]
    },
    {
      "cell_type": "markdown",
      "metadata": {
        "id": "T4Qgvg3t2CEy"
      },
      "source": [
        "พบว่า data = 0.0 คือ การทดสอบมีนัยสำคัญทางสถิติบ่งชี้ว่าเมทริกซ์สหสัมพันธ์ที่สังเกตได้ไม่ใช่เมทริกซ์เอกลักษณ์"
      ]
    },
    {
      "cell_type": "markdown",
      "metadata": {
        "id": "hZMf_cpL2Zgz"
      },
      "source": [
        "#Kaiser-Meyer-Olkin (KMO) Test"
      ]
    },
    {
      "cell_type": "code",
      "metadata": {
        "id": "ezJAXeRF2BG9",
        "colab": {
          "base_uri": "https://localhost:8080/"
        },
        "outputId": "93aae59a-c9db-47fc-a967-d69d0bfd6a4a"
      },
      "source": [
        "from factor_analyzer.factor_analyzer import calculate_kmo\n",
        "kmo_all,kmo_model=calculate_kmo(BFI_data_dropped)\n",
        "kmo_model"
      ],
      "execution_count": 28,
      "outputs": [
        {
          "output_type": "execute_result",
          "data": {
            "text/plain": [
              "0.8485397221949221"
            ]
          },
          "metadata": {
            "tags": []
          },
          "execution_count": 28
        }
      ]
    },
    {
      "cell_type": "markdown",
      "metadata": {
        "id": "C7MJlBDC4w24"
      },
      "source": [
        "#FACTOR ANALYSIS"
      ]
    },
    {
      "cell_type": "code",
      "metadata": {
        "id": "EhUdGAyj8g_m"
      },
      "source": [
        "from factor_analyzer import  FactorAnalyzer #import"
      ],
      "execution_count": 31,
      "outputs": []
    },
    {
      "cell_type": "code",
      "metadata": {
        "id": "Mt028at88h4h"
      },
      "source": [
        "fa = FactorAnalyzer(n_factors=20)#define"
      ],
      "execution_count": 32,
      "outputs": []
    },
    {
      "cell_type": "markdown",
      "metadata": {
        "id": "PrHV8_8B29VT"
      },
      "source": [
        "Choosing the Number of Factors"
      ]
    },
    {
      "cell_type": "markdown",
      "metadata": {
        "id": "wgDHwR7Q6QQG"
      },
      "source": [
        "###IMPORT"
      ]
    },
    {
      "cell_type": "code",
      "metadata": {
        "id": "oQyZYCTo6MPM"
      },
      "source": [
        "from factor_analyzer import FactorAnalyzer"
      ],
      "execution_count": 29,
      "outputs": []
    },
    {
      "cell_type": "code",
      "metadata": {
        "id": "W8ineVGY82zV"
      },
      "source": [
        ""
      ],
      "execution_count": null,
      "outputs": []
    },
    {
      "cell_type": "markdown",
      "metadata": {
        "id": "JwD4ck5u6UsQ"
      },
      "source": [
        "###Fit-transform"
      ]
    },
    {
      "cell_type": "code",
      "metadata": {
        "id": "OjpehW6Q2X35",
        "colab": {
          "base_uri": "https://localhost:8080/"
        },
        "outputId": "09a5b3f2-b489-4f25-c700-29432967861b"
      },
      "source": [
        "data_fa = fa.fit_transform(BFI_data_dropped)\n",
        "data_fa.shape\n"
      ],
      "execution_count": 35,
      "outputs": [
        {
          "output_type": "execute_result",
          "data": {
            "text/plain": [
              "(2436, 3)"
            ]
          },
          "metadata": {
            "tags": []
          },
          "execution_count": 35
        }
      ]
    },
    {
      "cell_type": "code",
      "metadata": {
        "id": "AQdprW1E9bXI"
      },
      "source": [
        "ev, v = fa.get_eigenvalues() #ตรวจดูว่าควรลดเหลือกี่ dimention (มี factor)"
      ],
      "execution_count": 36,
      "outputs": []
    },
    {
      "cell_type": "markdown",
      "metadata": {
        "id": "zlF9i_ax87PA"
      },
      "source": [
        "###ใช้ eigen values"
      ]
    },
    {
      "cell_type": "code",
      "metadata": {
        "id": "KoMlP-BF6B73",
        "outputId": "4673af35-2926-42d7-8988-76e6f5b855c7",
        "colab": {
          "base_uri": "https://localhost:8080/"
        }
      },
      "source": [
        "ev"
      ],
      "execution_count": 37,
      "outputs": [
        {
          "output_type": "execute_result",
          "data": {
            "text/plain": [
              "array([5.13431118, 2.75188667, 2.14270195, 1.85232761, 1.54816285,\n",
              "       1.07358247, 0.83953893, 0.79920618, 0.71898919, 0.68808879,\n",
              "       0.67637336, 0.65179984, 0.62325295, 0.59656284, 0.56309083,\n",
              "       0.54330533, 0.51451752, 0.49450315, 0.48263952, 0.448921  ,\n",
              "       0.42336611, 0.40067145, 0.38780448, 0.38185679, 0.26253902])"
            ]
          },
          "metadata": {
            "tags": []
          },
          "execution_count": 37
        }
      ]
    },
    {
      "cell_type": "markdown",
      "metadata": {
        "id": "Tmh3cG4N8_gc"
      },
      "source": [
        "#Scree plot"
      ]
    },
    {
      "cell_type": "code",
      "metadata": {
        "id": "ELihAebK9bUn",
        "outputId": "8ee8dd5d-d305-473e-bda0-a1e112261967",
        "colab": {
          "base_uri": "https://localhost:8080/",
          "height": 483
        }
      },
      "source": [
        "plt.scatter(range(1,BFI_data_dropped.shape[1]+1),ev)\n",
        "plt.plot(range(1,BFI_data_dropped.shape[1]+1),ev)\n",
        "plt.plot(range(1,BFI_data_dropped.shape[1]+1),BFI_data_dropped.shape[1]+1*[1],'r--')\n",
        "plt.title('Scree Plot')\n",
        "plt.xlabel('Factors')\n",
        "plt.ylabel('Eigenvalue')\n",
        "plt.grid()\n",
        "plt.show()"
      ],
      "execution_count": 38,
      "outputs": [
        {
          "output_type": "error",
          "ename": "TypeError",
          "evalue": "ignored",
          "traceback": [
            "\u001b[0;31m---------------------------------------------------------------------------\u001b[0m",
            "\u001b[0;31mTypeError\u001b[0m                                 Traceback (most recent call last)",
            "\u001b[0;32m<ipython-input-38-e757fc447fa9>\u001b[0m in \u001b[0;36m<module>\u001b[0;34m()\u001b[0m\n\u001b[1;32m      1\u001b[0m \u001b[0mplt\u001b[0m\u001b[0;34m.\u001b[0m\u001b[0mscatter\u001b[0m\u001b[0;34m(\u001b[0m\u001b[0mrange\u001b[0m\u001b[0;34m(\u001b[0m\u001b[0;36m1\u001b[0m\u001b[0;34m,\u001b[0m\u001b[0mBFI_data_dropped\u001b[0m\u001b[0;34m.\u001b[0m\u001b[0mshape\u001b[0m\u001b[0;34m[\u001b[0m\u001b[0;36m1\u001b[0m\u001b[0;34m]\u001b[0m\u001b[0;34m+\u001b[0m\u001b[0;36m1\u001b[0m\u001b[0;34m)\u001b[0m\u001b[0;34m,\u001b[0m\u001b[0mev\u001b[0m\u001b[0;34m)\u001b[0m\u001b[0;34m\u001b[0m\u001b[0;34m\u001b[0m\u001b[0m\n\u001b[1;32m      2\u001b[0m \u001b[0mplt\u001b[0m\u001b[0;34m.\u001b[0m\u001b[0mplot\u001b[0m\u001b[0;34m(\u001b[0m\u001b[0mrange\u001b[0m\u001b[0;34m(\u001b[0m\u001b[0;36m1\u001b[0m\u001b[0;34m,\u001b[0m\u001b[0mBFI_data_dropped\u001b[0m\u001b[0;34m.\u001b[0m\u001b[0mshape\u001b[0m\u001b[0;34m[\u001b[0m\u001b[0;36m1\u001b[0m\u001b[0;34m]\u001b[0m\u001b[0;34m+\u001b[0m\u001b[0;36m1\u001b[0m\u001b[0;34m)\u001b[0m\u001b[0;34m,\u001b[0m\u001b[0mev\u001b[0m\u001b[0;34m)\u001b[0m\u001b[0;34m\u001b[0m\u001b[0;34m\u001b[0m\u001b[0m\n\u001b[0;32m----> 3\u001b[0;31m \u001b[0mplt\u001b[0m\u001b[0;34m.\u001b[0m\u001b[0mplot\u001b[0m\u001b[0;34m(\u001b[0m\u001b[0mrange\u001b[0m\u001b[0;34m(\u001b[0m\u001b[0;36m1\u001b[0m\u001b[0;34m,\u001b[0m\u001b[0mBFI_data_dropped\u001b[0m\u001b[0;34m.\u001b[0m\u001b[0mshape\u001b[0m\u001b[0;34m[\u001b[0m\u001b[0;36m1\u001b[0m\u001b[0;34m]\u001b[0m\u001b[0;34m+\u001b[0m\u001b[0;36m1\u001b[0m\u001b[0;34m)\u001b[0m\u001b[0;34m,\u001b[0m\u001b[0mBFI_data_dropped\u001b[0m\u001b[0;34m.\u001b[0m\u001b[0mshape\u001b[0m\u001b[0;34m[\u001b[0m\u001b[0;36m1\u001b[0m\u001b[0;34m]\u001b[0m\u001b[0;34m+\u001b[0m\u001b[0;36m1\u001b[0m\u001b[0;34m*\u001b[0m\u001b[0;34m[\u001b[0m\u001b[0;36m1\u001b[0m\u001b[0;34m]\u001b[0m\u001b[0;34m,\u001b[0m\u001b[0;34m'r--'\u001b[0m\u001b[0;34m)\u001b[0m\u001b[0;34m\u001b[0m\u001b[0;34m\u001b[0m\u001b[0m\n\u001b[0m\u001b[1;32m      4\u001b[0m \u001b[0mplt\u001b[0m\u001b[0;34m.\u001b[0m\u001b[0mtitle\u001b[0m\u001b[0;34m(\u001b[0m\u001b[0;34m'Scree Plot'\u001b[0m\u001b[0;34m)\u001b[0m\u001b[0;34m\u001b[0m\u001b[0;34m\u001b[0m\u001b[0m\n\u001b[1;32m      5\u001b[0m \u001b[0mplt\u001b[0m\u001b[0;34m.\u001b[0m\u001b[0mxlabel\u001b[0m\u001b[0;34m(\u001b[0m\u001b[0;34m'Factors'\u001b[0m\u001b[0;34m)\u001b[0m\u001b[0;34m\u001b[0m\u001b[0;34m\u001b[0m\u001b[0m\n",
            "\u001b[0;31mTypeError\u001b[0m: unsupported operand type(s) for +: 'int' and 'list'"
          ]
        },
        {
          "output_type": "display_data",
          "data": {
            "image/png": "[encoded data removed]",
            "text/plain": [
              "<Figure size 432x288 with 1 Axes>"
            ]
          },
          "metadata": {
            "tags": [],
            "needs_background": "light"
          }
        }
      ]
    },
    {
      "cell_type": "code",
      "metadata": {
        "id": "Yf5-c7kq9bSF",
        "outputId": "f0a3b0b2-9906-4c89-82c9-efb6b3de930d",
        "colab": {
          "base_uri": "https://localhost:8080/",
          "height": 218
        }
      },
      "source": [
        "# Create factor analysis object and perform factor analysis\n",
        "fa = FactorAnalyzer()\n",
        "\n",
        "fa.analyze(BFI_data_dropped, 25, rotation=None)\n",
        "# Checl Ejgenvalues"
      ],
      "execution_count": 39,
      "outputs": [
        {
          "output_type": "error",
          "ename": "AttributeError",
          "evalue": "ignored",
          "traceback": [
            "\u001b[0;31m---------------------------------------------------------------------------\u001b[0m",
            "\u001b[0;31mAttributeError\u001b[0m                            Traceback (most recent call last)",
            "\u001b[0;32m<ipython-input-39-5022f20fbd1f>\u001b[0m in \u001b[0;36m<module>\u001b[0;34m()\u001b[0m\n\u001b[1;32m      3\u001b[0m \u001b[0mfa\u001b[0m \u001b[0;34m=\u001b[0m \u001b[0mFactorAnalyzer\u001b[0m\u001b[0;34m(\u001b[0m\u001b[0;34m)\u001b[0m\u001b[0;34m\u001b[0m\u001b[0;34m\u001b[0m\u001b[0m\n\u001b[1;32m      4\u001b[0m \u001b[0;34m\u001b[0m\u001b[0m\n\u001b[0;32m----> 5\u001b[0;31m \u001b[0mfa\u001b[0m\u001b[0;34m.\u001b[0m\u001b[0manalyze\u001b[0m\u001b[0;34m(\u001b[0m\u001b[0mBFI_data_dropped\u001b[0m\u001b[0;34m,\u001b[0m \u001b[0;36m25\u001b[0m\u001b[0;34m,\u001b[0m \u001b[0mrotation\u001b[0m\u001b[0;34m=\u001b[0m\u001b[0;32mNone\u001b[0m\u001b[0;34m)\u001b[0m\u001b[0;34m\u001b[0m\u001b[0;34m\u001b[0m\u001b[0m\n\u001b[0m\u001b[1;32m      6\u001b[0m \u001b[0;31m# Checl Ejgenvalues\u001b[0m\u001b[0;34m\u001b[0m\u001b[0;34m\u001b[0m\u001b[0;34m\u001b[0m\u001b[0m\n",
            "\u001b[0;31mAttributeError\u001b[0m: 'FactorAnalyzer' object has no attribute 'analyze'"
          ]
        }
      ]
    },
    {
      "cell_type": "code",
      "metadata": {
        "id": "2GkNRDQ_9bPt"
      },
      "source": [
        ""
      ],
      "execution_count": null,
      "outputs": []
    },
    {
      "cell_type": "code",
      "metadata": {
        "id": "-9rWtrn-9bNe"
      },
      "source": [
        ""
      ],
      "execution_count": null,
      "outputs": []
    },
    {
      "cell_type": "code",
      "metadata": {
        "id": "Au91JkpZ9bKs"
      },
      "source": [
        ""
      ],
      "execution_count": null,
      "outputs": []
    }
  ]
}