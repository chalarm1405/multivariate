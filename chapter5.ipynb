{
  "nbformat": 4,
  "nbformat_minor": 0,
  "metadata": {
    "colab": {
      "name": "chapter5.ipynb",
      "provenance": [],
      "toc_visible": true,
      "authorship_tag": "ABX9TyNY7uQaVSrBt+xmifDb+fFE",
      "include_colab_link": true
    },
    "kernelspec": {
      "name": "python3",
      "display_name": "Python 3"
    },
    "language_info": {
      "name": "python"
    }
  },
  "cells": [
    {
      "cell_type": "markdown",
      "metadata": {
        "id": "view-in-github",
        "colab_type": "text"
      },
      "source": [
        "<a href=\"https://colab.research.google.com/github/chalarm1405/multivariate/blob/main/chapter5.ipynb\" target=\"_parent\"><img src=\"https://colab.research.google.com/assets/colab-badge.svg\" alt=\"Open In Colab\"/></a>"
      ]
    },
    {
      "cell_type": "markdown",
      "metadata": {
        "id": "YsvBvq1s9cH5"
      },
      "source": [
        "https://www.datacamp.com/community/tutorials/introduction-factor-analysis?fbclid=IwAR1r7DMXKvnMr-keVwlp7FtSSnxsj01HkhPANfLBF3WFTFo-YEdl8isAU80"
      ]
    },
    {
      "cell_type": "markdown",
      "metadata": {
        "id": "CDMVuous9tTk"
      },
      "source": [
        "#Assumtion"
      ]
    },
    {
      "cell_type": "code",
      "metadata": {
        "id": "Kj45lr899ag4"
      },
      "source": [
        "import pandas as pd #เรียกใช้เเพนด้า"
      ],
      "execution_count": 1,
      "outputs": []
    },
    {
      "cell_type": "code",
      "metadata": {
        "colab": {
          "base_uri": "https://localhost:8080/",
          "height": 239
        },
        "id": "PcHoY3Sr9bwe",
        "outputId": "9e6c5816-6182-47ce-ff5a-22d1bd15839b"
      },
      "source": [
        "BFI_data = pd.read_csv('/content/bfi.csv') #copy path csv ตรงๆ\n",
        "BFI_data.head() #show data"
      ],
      "execution_count": 2,
      "outputs": [
        {
          "output_type": "execute_result",
          "data": {
            "text/html": [
              "<div>\n",
              "<style scoped>\n",
              "    .dataframe tbody tr th:only-of-type {\n",
              "        vertical-align: middle;\n",
              "    }\n",
              "\n",
              "    .dataframe tbody tr th {\n",
              "        vertical-align: top;\n",
              "    }\n",
              "\n",
              "    .dataframe thead th {\n",
              "        text-align: right;\n",
              "    }\n",
              "</style>\n",
              "<table border=\"1\" class=\"dataframe\">\n",
              "  <thead>\n",
              "    <tr style=\"text-align: right;\">\n",
              "      <th></th>\n",
              "      <th>Unnamed: 0</th>\n",
              "      <th>A1</th>\n",
              "      <th>A2</th>\n",
              "      <th>A3</th>\n",
              "      <th>A4</th>\n",
              "      <th>A5</th>\n",
              "      <th>C1</th>\n",
              "      <th>C2</th>\n",
              "      <th>C3</th>\n",
              "      <th>C4</th>\n",
              "      <th>C5</th>\n",
              "      <th>E1</th>\n",
              "      <th>E2</th>\n",
              "      <th>E3</th>\n",
              "      <th>E4</th>\n",
              "      <th>E5</th>\n",
              "      <th>N1</th>\n",
              "      <th>N2</th>\n",
              "      <th>N3</th>\n",
              "      <th>N4</th>\n",
              "      <th>N5</th>\n",
              "      <th>O1</th>\n",
              "      <th>O2</th>\n",
              "      <th>O3</th>\n",
              "      <th>O4</th>\n",
              "      <th>O5</th>\n",
              "      <th>gender</th>\n",
              "      <th>education</th>\n",
              "      <th>age</th>\n",
              "    </tr>\n",
              "  </thead>\n",
              "  <tbody>\n",
              "    <tr>\n",
              "      <th>0</th>\n",
              "      <td>61617</td>\n",
              "      <td>2.0</td>\n",
              "      <td>4.0</td>\n",
              "      <td>3.0</td>\n",
              "      <td>4.0</td>\n",
              "      <td>4.0</td>\n",
              "      <td>2.0</td>\n",
              "      <td>3.0</td>\n",
              "      <td>3.0</td>\n",
              "      <td>4.0</td>\n",
              "      <td>4.0</td>\n",
              "      <td>3.0</td>\n",
              "      <td>3.0</td>\n",
              "      <td>3.0</td>\n",
              "      <td>4.0</td>\n",
              "      <td>4.0</td>\n",
              "      <td>3.0</td>\n",
              "      <td>4.0</td>\n",
              "      <td>2.0</td>\n",
              "      <td>2.0</td>\n",
              "      <td>3.0</td>\n",
              "      <td>3.0</td>\n",
              "      <td>6</td>\n",
              "      <td>3.0</td>\n",
              "      <td>4.0</td>\n",
              "      <td>3.0</td>\n",
              "      <td>1</td>\n",
              "      <td>NaN</td>\n",
              "      <td>16</td>\n",
              "    </tr>\n",
              "    <tr>\n",
              "      <th>1</th>\n",
              "      <td>61618</td>\n",
              "      <td>2.0</td>\n",
              "      <td>4.0</td>\n",
              "      <td>5.0</td>\n",
              "      <td>2.0</td>\n",
              "      <td>5.0</td>\n",
              "      <td>5.0</td>\n",
              "      <td>4.0</td>\n",
              "      <td>4.0</td>\n",
              "      <td>3.0</td>\n",
              "      <td>4.0</td>\n",
              "      <td>1.0</td>\n",
              "      <td>1.0</td>\n",
              "      <td>6.0</td>\n",
              "      <td>4.0</td>\n",
              "      <td>3.0</td>\n",
              "      <td>3.0</td>\n",
              "      <td>3.0</td>\n",
              "      <td>3.0</td>\n",
              "      <td>5.0</td>\n",
              "      <td>5.0</td>\n",
              "      <td>4.0</td>\n",
              "      <td>2</td>\n",
              "      <td>4.0</td>\n",
              "      <td>3.0</td>\n",
              "      <td>3.0</td>\n",
              "      <td>2</td>\n",
              "      <td>NaN</td>\n",
              "      <td>18</td>\n",
              "    </tr>\n",
              "    <tr>\n",
              "      <th>2</th>\n",
              "      <td>61620</td>\n",
              "      <td>5.0</td>\n",
              "      <td>4.0</td>\n",
              "      <td>5.0</td>\n",
              "      <td>4.0</td>\n",
              "      <td>4.0</td>\n",
              "      <td>4.0</td>\n",
              "      <td>5.0</td>\n",
              "      <td>4.0</td>\n",
              "      <td>2.0</td>\n",
              "      <td>5.0</td>\n",
              "      <td>2.0</td>\n",
              "      <td>4.0</td>\n",
              "      <td>4.0</td>\n",
              "      <td>4.0</td>\n",
              "      <td>5.0</td>\n",
              "      <td>4.0</td>\n",
              "      <td>5.0</td>\n",
              "      <td>4.0</td>\n",
              "      <td>2.0</td>\n",
              "      <td>3.0</td>\n",
              "      <td>4.0</td>\n",
              "      <td>2</td>\n",
              "      <td>5.0</td>\n",
              "      <td>5.0</td>\n",
              "      <td>2.0</td>\n",
              "      <td>2</td>\n",
              "      <td>NaN</td>\n",
              "      <td>17</td>\n",
              "    </tr>\n",
              "    <tr>\n",
              "      <th>3</th>\n",
              "      <td>61621</td>\n",
              "      <td>4.0</td>\n",
              "      <td>4.0</td>\n",
              "      <td>6.0</td>\n",
              "      <td>5.0</td>\n",
              "      <td>5.0</td>\n",
              "      <td>4.0</td>\n",
              "      <td>4.0</td>\n",
              "      <td>3.0</td>\n",
              "      <td>5.0</td>\n",
              "      <td>5.0</td>\n",
              "      <td>5.0</td>\n",
              "      <td>3.0</td>\n",
              "      <td>4.0</td>\n",
              "      <td>4.0</td>\n",
              "      <td>4.0</td>\n",
              "      <td>2.0</td>\n",
              "      <td>5.0</td>\n",
              "      <td>2.0</td>\n",
              "      <td>4.0</td>\n",
              "      <td>1.0</td>\n",
              "      <td>3.0</td>\n",
              "      <td>3</td>\n",
              "      <td>4.0</td>\n",
              "      <td>3.0</td>\n",
              "      <td>5.0</td>\n",
              "      <td>2</td>\n",
              "      <td>NaN</td>\n",
              "      <td>17</td>\n",
              "    </tr>\n",
              "    <tr>\n",
              "      <th>4</th>\n",
              "      <td>61622</td>\n",
              "      <td>2.0</td>\n",
              "      <td>3.0</td>\n",
              "      <td>3.0</td>\n",
              "      <td>4.0</td>\n",
              "      <td>5.0</td>\n",
              "      <td>4.0</td>\n",
              "      <td>4.0</td>\n",
              "      <td>5.0</td>\n",
              "      <td>3.0</td>\n",
              "      <td>2.0</td>\n",
              "      <td>2.0</td>\n",
              "      <td>2.0</td>\n",
              "      <td>5.0</td>\n",
              "      <td>4.0</td>\n",
              "      <td>5.0</td>\n",
              "      <td>2.0</td>\n",
              "      <td>3.0</td>\n",
              "      <td>4.0</td>\n",
              "      <td>4.0</td>\n",
              "      <td>3.0</td>\n",
              "      <td>3.0</td>\n",
              "      <td>3</td>\n",
              "      <td>4.0</td>\n",
              "      <td>3.0</td>\n",
              "      <td>3.0</td>\n",
              "      <td>1</td>\n",
              "      <td>NaN</td>\n",
              "      <td>17</td>\n",
              "    </tr>\n",
              "  </tbody>\n",
              "</table>\n",
              "</div>"
            ],
            "text/plain": [
              "   Unnamed: 0   A1   A2   A3   A4   A5  ...   O3   O4   O5  gender  education  age\n",
              "0       61617  2.0  4.0  3.0  4.0  4.0  ...  3.0  4.0  3.0       1        NaN   16\n",
              "1       61618  2.0  4.0  5.0  2.0  5.0  ...  4.0  3.0  3.0       2        NaN   18\n",
              "2       61620  5.0  4.0  5.0  4.0  4.0  ...  5.0  5.0  2.0       2        NaN   17\n",
              "3       61621  4.0  4.0  6.0  5.0  5.0  ...  4.0  3.0  5.0       2        NaN   17\n",
              "4       61622  2.0  3.0  3.0  4.0  5.0  ...  4.0  3.0  3.0       1        NaN   17\n",
              "\n",
              "[5 rows x 29 columns]"
            ]
          },
          "metadata": {
            "tags": []
          },
          "execution_count": 2
        }
      ]
    },
    {
      "cell_type": "markdown",
      "metadata": {
        "id": "go7ghV2D-x-f"
      },
      "source": [
        "ซึงข้อมูลข้างต้นที่ได้มาจะเป็นข้อมูลที่ได้จากแบบสอบถาม จะเป็นคะเเนนจากแบบทดสอบ Unname คือ รหัส เช่น รหัสนักศึกษา or primary key\n",
        "\n",
        "Factor Analysis\n",
        "\n",
        "Assumtion: ในข้อมูล multivariate ที่มีตัวแปร observe variables จำนวน n ตัว\n",
        "\n",
        "มีตัวแปร Factor(latent Variables) จำนวน k ตัว ที่สามารถอธิบายข้อมูลทั้งหมดได้ โดย K < n"
      ]
    },
    {
      "cell_type": "markdown",
      "metadata": {
        "id": "ljvdHc0r-1g6"
      },
      "source": [
        "#Assumptions ในการทำ Factor Analysis:¶\n",
        "There are no outliers in data.\n",
        "\n",
        "Sample size should be greater than the factor.\n",
        "\n",
        "There should not be perfect multicollinearity.\n",
        "\n",
        "There should not be homoscedasticity between the variables."
      ]
    },
    {
      "cell_type": "markdown",
      "metadata": {
        "id": "g-gDtEuE-4hY"
      },
      "source": [
        "#การทำ Factor Analysi"
      ]
    },
    {
      "cell_type": "markdown",
      "metadata": {
        "id": "qgQr4mV-8XzI"
      },
      "source": [
        "Assumtion: ในข้อมูล multivariate ที่มีตัวแปร observe variables จำนวน n ตัว\n",
        "\n",
        "มีตัวแปร Factor(latent Variables) จำนวน k ตัว ที่สามารถอธิบายข้อมูลทั้งหมดได้ โดย K < n"
      ]
    },
    {
      "cell_type": "markdown",
      "metadata": {
        "id": "KpGPXWf08UKa"
      },
      "source": [
        "![Screenshot 2021-04-05 003206.jpg](data:image/jpeg;base64,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)"
      ]
    },
    {
      "cell_type": "markdown",
      "metadata": {
        "id": "poS3B-oyQsgp"
      },
      "source": [
        "#การทำ Factor Analysis มีประโยชน์หลัก 2 อันคือ\n",
        "\n",
        "1.Confirmatory\n",
        "\n",
        "2.Expoloratory"
      ]
    },
    {
      "cell_type": "code",
      "metadata": {
        "id": "1ySkHTBL9buA",
        "colab": {
          "base_uri": "https://localhost:8080/",
          "height": 322
        },
        "outputId": "66ee6c31-fc77-4585-8f21-ae81de4c1155"
      },
      "source": [
        "from factor_analyzer import FactorAnalyzer\n",
        "import matplotlib.pyplot as plt"
      ],
      "execution_count": 3,
      "outputs": [
        {
          "output_type": "error",
          "ename": "ModuleNotFoundError",
          "evalue": "ignored",
          "traceback": [
            "\u001b[0;31m---------------------------------------------------------------------------\u001b[0m",
            "\u001b[0;31mModuleNotFoundError\u001b[0m                       Traceback (most recent call last)",
            "\u001b[0;32m<ipython-input-3-bda6d7cd1b63>\u001b[0m in \u001b[0;36m<module>\u001b[0;34m()\u001b[0m\n\u001b[0;32m----> 1\u001b[0;31m \u001b[0;32mfrom\u001b[0m \u001b[0mfactor_analyzer\u001b[0m \u001b[0;32mimport\u001b[0m \u001b[0mFactorAnalyzer\u001b[0m\u001b[0;34m\u001b[0m\u001b[0;34m\u001b[0m\u001b[0m\n\u001b[0m\u001b[1;32m      2\u001b[0m \u001b[0;32mimport\u001b[0m \u001b[0mmatplotlib\u001b[0m\u001b[0;34m.\u001b[0m\u001b[0mpyplot\u001b[0m \u001b[0;32mas\u001b[0m \u001b[0mplt\u001b[0m\u001b[0;34m\u001b[0m\u001b[0;34m\u001b[0m\u001b[0m\n",
            "\u001b[0;31mModuleNotFoundError\u001b[0m: No module named 'factor_analyzer'",
            "",
            "\u001b[0;31m---------------------------------------------------------------------------\u001b[0;32m\nNOTE: If your import is failing due to a missing package, you can\nmanually install dependencies using either !pip or !apt.\n\nTo view examples of installing some common dependencies, click the\n\"Open Examples\" button below.\n\u001b[0;31m---------------------------------------------------------------------------\u001b[0m\n"
          ]
        }
      ]
    },
    {
      "cell_type": "code",
      "metadata": {
        "colab": {
          "base_uri": "https://localhost:8080/"
        },
        "id": "3kL3RgiC9brb",
        "outputId": "31e3b0dc-8a9b-4735-cde0-5f7480e62f94"
      },
      "source": [
        "!pip install factor_analyzer"
      ],
      "execution_count": 4,
      "outputs": [
        {
          "output_type": "stream",
          "text": [
            "Collecting factor_analyzer\n",
            "\u001b[?25l  Downloading https://files.pythonhosted.org/packages/44/b5/cbd83484ca6dd4c6562c6d66a6a3a0ecf526e79b2b575b9fb4bf5ad172dd/factor_analyzer-0.3.2.tar.gz (40kB)\n",
            "\r\u001b[K     |████████▏                       | 10kB 14.3MB/s eta 0:00:01\r\u001b[K     |████████████████▍               | 20kB 20.7MB/s eta 0:00:01\r\u001b[K     |████████████████████████▌       | 30kB 14.5MB/s eta 0:00:01\r\u001b[K     |████████████████████████████████| 40kB 2.4MB/s \n",
            "\u001b[?25hRequirement already satisfied: pandas in /usr/local/lib/python3.7/dist-packages (from factor_analyzer) (1.1.5)\n",
            "Requirement already satisfied: scipy in /usr/local/lib/python3.7/dist-packages (from factor_analyzer) (1.4.1)\n",
            "Requirement already satisfied: numpy in /usr/local/lib/python3.7/dist-packages (from factor_analyzer) (1.19.5)\n",
            "Requirement already satisfied: scikit-learn in /usr/local/lib/python3.7/dist-packages (from factor_analyzer) (0.22.2.post1)\n",
            "Requirement already satisfied: python-dateutil>=2.7.3 in /usr/local/lib/python3.7/dist-packages (from pandas->factor_analyzer) (2.8.1)\n",
            "Requirement already satisfied: pytz>=2017.2 in /usr/local/lib/python3.7/dist-packages (from pandas->factor_analyzer) (2018.9)\n",
            "Requirement already satisfied: joblib>=0.11 in /usr/local/lib/python3.7/dist-packages (from scikit-learn->factor_analyzer) (1.0.1)\n",
            "Requirement already satisfied: six>=1.5 in /usr/local/lib/python3.7/dist-packages (from python-dateutil>=2.7.3->pandas->factor_analyzer) (1.15.0)\n",
            "Building wheels for collected packages: factor-analyzer\n",
            "  Building wheel for factor-analyzer (setup.py) ... \u001b[?25l\u001b[?25hdone\n",
            "  Created wheel for factor-analyzer: filename=factor_analyzer-0.3.2-cp37-none-any.whl size=40383 sha256=dbc4bcc2dd2901ae26739eba2c6d7d18aceac8e8f4a49f249c0514553c4f2bd4\n",
            "  Stored in directory: /root/.cache/pip/wheels/4a/d0/57/f1330cb9c80e82d8d05391c74c94ed61ce3f03bf6157f3d6db\n",
            "Successfully built factor-analyzer\n",
            "Installing collected packages: factor-analyzer\n",
            "Successfully installed factor-analyzer-0.3.2\n"
          ],
          "name": "stdout"
        }
      ]
    },
    {
      "cell_type": "code",
      "metadata": {
        "id": "ZG5oBClk9bpC"
      },
      "source": [
        "from factor_analyzer import FactorAnalyzer\n",
        "import matplotlib.pyplot as plt \n",
        "#in chapter3 from matplotlib import pyplot as plt"
      ],
      "execution_count": 6,
      "outputs": []
    },
    {
      "cell_type": "markdown",
      "metadata": {
        "id": "KG5wxsD1_Km5"
      },
      "source": [
        "#Quiz 5 เลือกข้อมูลมาเฉพาะ a1,a2,a3,...,o5 ด้วยคำสั่ง .iloc[]"
      ]
    },
    {
      "cell_type": "code",
      "metadata": {
        "colab": {
          "base_uri": "https://localhost:8080/"
        },
        "id": "V26iMMY99bnE",
        "outputId": "22760f46-26bc-4713-fbb0-d6c8ac85769a"
      },
      "source": [
        "BFI_data.shape"
      ],
      "execution_count": 7,
      "outputs": [
        {
          "output_type": "execute_result",
          "data": {
            "text/plain": [
              "(2800, 29)"
            ]
          },
          "metadata": {
            "tags": []
          },
          "execution_count": 7
        }
      ]
    },
    {
      "cell_type": "code",
      "metadata": {
        "colab": {
          "base_uri": "https://localhost:8080/",
          "height": 435
        },
        "id": "tlaVVA3R9bkz",
        "outputId": "a182f4e4-8614-44e4-9b8d-53ad8135c064"
      },
      "source": [
        "BFI_data_dropped = BFI_data.iloc[:,1:26]\n",
        "BFI_data_dropped"
      ],
      "execution_count": 8,
      "outputs": [
        {
          "output_type": "execute_result",
          "data": {
            "text/html": [
              "<div>\n",
              "<style scoped>\n",
              "    .dataframe tbody tr th:only-of-type {\n",
              "        vertical-align: middle;\n",
              "    }\n",
              "\n",
              "    .dataframe tbody tr th {\n",
              "        vertical-align: top;\n",
              "    }\n",
              "\n",
              "    .dataframe thead th {\n",
              "        text-align: right;\n",
              "    }\n",
              "</style>\n",
              "<table border=\"1\" class=\"dataframe\">\n",
              "  <thead>\n",
              "    <tr style=\"text-align: right;\">\n",
              "      <th></th>\n",
              "      <th>A1</th>\n",
              "      <th>A2</th>\n",
              "      <th>A3</th>\n",
              "      <th>A4</th>\n",
              "      <th>A5</th>\n",
              "      <th>C1</th>\n",
              "      <th>C2</th>\n",
              "      <th>C3</th>\n",
              "      <th>C4</th>\n",
              "      <th>C5</th>\n",
              "      <th>E1</th>\n",
              "      <th>E2</th>\n",
              "      <th>E3</th>\n",
              "      <th>E4</th>\n",
              "      <th>E5</th>\n",
              "      <th>N1</th>\n",
              "      <th>N2</th>\n",
              "      <th>N3</th>\n",
              "      <th>N4</th>\n",
              "      <th>N5</th>\n",
              "      <th>O1</th>\n",
              "      <th>O2</th>\n",
              "      <th>O3</th>\n",
              "      <th>O4</th>\n",
              "      <th>O5</th>\n",
              "    </tr>\n",
              "  </thead>\n",
              "  <tbody>\n",
              "    <tr>\n",
              "      <th>0</th>\n",
              "      <td>2.0</td>\n",
              "      <td>4.0</td>\n",
              "      <td>3.0</td>\n",
              "      <td>4.0</td>\n",
              "      <td>4.0</td>\n",
              "      <td>2.0</td>\n",
              "      <td>3.0</td>\n",
              "      <td>3.0</td>\n",
              "      <td>4.0</td>\n",
              "      <td>4.0</td>\n",
              "      <td>3.0</td>\n",
              "      <td>3.0</td>\n",
              "      <td>3.0</td>\n",
              "      <td>4.0</td>\n",
              "      <td>4.0</td>\n",
              "      <td>3.0</td>\n",
              "      <td>4.0</td>\n",
              "      <td>2.0</td>\n",
              "      <td>2.0</td>\n",
              "      <td>3.0</td>\n",
              "      <td>3.0</td>\n",
              "      <td>6</td>\n",
              "      <td>3.0</td>\n",
              "      <td>4.0</td>\n",
              "      <td>3.0</td>\n",
              "    </tr>\n",
              "    <tr>\n",
              "      <th>1</th>\n",
              "      <td>2.0</td>\n",
              "      <td>4.0</td>\n",
              "      <td>5.0</td>\n",
              "      <td>2.0</td>\n",
              "      <td>5.0</td>\n",
              "      <td>5.0</td>\n",
              "      <td>4.0</td>\n",
              "      <td>4.0</td>\n",
              "      <td>3.0</td>\n",
              "      <td>4.0</td>\n",
              "      <td>1.0</td>\n",
              "      <td>1.0</td>\n",
              "      <td>6.0</td>\n",
              "      <td>4.0</td>\n",
              "      <td>3.0</td>\n",
              "      <td>3.0</td>\n",
              "      <td>3.0</td>\n",
              "      <td>3.0</td>\n",
              "      <td>5.0</td>\n",
              "      <td>5.0</td>\n",
              "      <td>4.0</td>\n",
              "      <td>2</td>\n",
              "      <td>4.0</td>\n",
              "      <td>3.0</td>\n",
              "      <td>3.0</td>\n",
              "    </tr>\n",
              "    <tr>\n",
              "      <th>2</th>\n",
              "      <td>5.0</td>\n",
              "      <td>4.0</td>\n",
              "      <td>5.0</td>\n",
              "      <td>4.0</td>\n",
              "      <td>4.0</td>\n",
              "      <td>4.0</td>\n",
              "      <td>5.0</td>\n",
              "      <td>4.0</td>\n",
              "      <td>2.0</td>\n",
              "      <td>5.0</td>\n",
              "      <td>2.0</td>\n",
              "      <td>4.0</td>\n",
              "      <td>4.0</td>\n",
              "      <td>4.0</td>\n",
              "      <td>5.0</td>\n",
              "      <td>4.0</td>\n",
              "      <td>5.0</td>\n",
              "      <td>4.0</td>\n",
              "      <td>2.0</td>\n",
              "      <td>3.0</td>\n",
              "      <td>4.0</td>\n",
              "      <td>2</td>\n",
              "      <td>5.0</td>\n",
              "      <td>5.0</td>\n",
              "      <td>2.0</td>\n",
              "    </tr>\n",
              "    <tr>\n",
              "      <th>3</th>\n",
              "      <td>4.0</td>\n",
              "      <td>4.0</td>\n",
              "      <td>6.0</td>\n",
              "      <td>5.0</td>\n",
              "      <td>5.0</td>\n",
              "      <td>4.0</td>\n",
              "      <td>4.0</td>\n",
              "      <td>3.0</td>\n",
              "      <td>5.0</td>\n",
              "      <td>5.0</td>\n",
              "      <td>5.0</td>\n",
              "      <td>3.0</td>\n",
              "      <td>4.0</td>\n",
              "      <td>4.0</td>\n",
              "      <td>4.0</td>\n",
              "      <td>2.0</td>\n",
              "      <td>5.0</td>\n",
              "      <td>2.0</td>\n",
              "      <td>4.0</td>\n",
              "      <td>1.0</td>\n",
              "      <td>3.0</td>\n",
              "      <td>3</td>\n",
              "      <td>4.0</td>\n",
              "      <td>3.0</td>\n",
              "      <td>5.0</td>\n",
              "    </tr>\n",
              "    <tr>\n",
              "      <th>4</th>\n",
              "      <td>2.0</td>\n",
              "      <td>3.0</td>\n",
              "      <td>3.0</td>\n",
              "      <td>4.0</td>\n",
              "      <td>5.0</td>\n",
              "      <td>4.0</td>\n",
              "      <td>4.0</td>\n",
              "      <td>5.0</td>\n",
              "      <td>3.0</td>\n",
              "      <td>2.0</td>\n",
              "      <td>2.0</td>\n",
              "      <td>2.0</td>\n",
              "      <td>5.0</td>\n",
              "      <td>4.0</td>\n",
              "      <td>5.0</td>\n",
              "      <td>2.0</td>\n",
              "      <td>3.0</td>\n",
              "      <td>4.0</td>\n",
              "      <td>4.0</td>\n",
              "      <td>3.0</td>\n",
              "      <td>3.0</td>\n",
              "      <td>3</td>\n",
              "      <td>4.0</td>\n",
              "      <td>3.0</td>\n",
              "      <td>3.0</td>\n",
              "    </tr>\n",
              "    <tr>\n",
              "      <th>...</th>\n",
              "      <td>...</td>\n",
              "      <td>...</td>\n",
              "      <td>...</td>\n",
              "      <td>...</td>\n",
              "      <td>...</td>\n",
              "      <td>...</td>\n",
              "      <td>...</td>\n",
              "      <td>...</td>\n",
              "      <td>...</td>\n",
              "      <td>...</td>\n",
              "      <td>...</td>\n",
              "      <td>...</td>\n",
              "      <td>...</td>\n",
              "      <td>...</td>\n",
              "      <td>...</td>\n",
              "      <td>...</td>\n",
              "      <td>...</td>\n",
              "      <td>...</td>\n",
              "      <td>...</td>\n",
              "      <td>...</td>\n",
              "      <td>...</td>\n",
              "      <td>...</td>\n",
              "      <td>...</td>\n",
              "      <td>...</td>\n",
              "      <td>...</td>\n",
              "    </tr>\n",
              "    <tr>\n",
              "      <th>2795</th>\n",
              "      <td>6.0</td>\n",
              "      <td>1.0</td>\n",
              "      <td>3.0</td>\n",
              "      <td>3.0</td>\n",
              "      <td>3.0</td>\n",
              "      <td>6.0</td>\n",
              "      <td>6.0</td>\n",
              "      <td>6.0</td>\n",
              "      <td>1.0</td>\n",
              "      <td>1.0</td>\n",
              "      <td>1.0</td>\n",
              "      <td>4.0</td>\n",
              "      <td>5.0</td>\n",
              "      <td>5.0</td>\n",
              "      <td>6.0</td>\n",
              "      <td>1.0</td>\n",
              "      <td>1.0</td>\n",
              "      <td>1.0</td>\n",
              "      <td>NaN</td>\n",
              "      <td>1.0</td>\n",
              "      <td>6.0</td>\n",
              "      <td>1</td>\n",
              "      <td>6.0</td>\n",
              "      <td>6.0</td>\n",
              "      <td>1.0</td>\n",
              "    </tr>\n",
              "    <tr>\n",
              "      <th>2796</th>\n",
              "      <td>2.0</td>\n",
              "      <td>4.0</td>\n",
              "      <td>4.0</td>\n",
              "      <td>3.0</td>\n",
              "      <td>5.0</td>\n",
              "      <td>2.0</td>\n",
              "      <td>3.0</td>\n",
              "      <td>4.0</td>\n",
              "      <td>4.0</td>\n",
              "      <td>3.0</td>\n",
              "      <td>2.0</td>\n",
              "      <td>2.0</td>\n",
              "      <td>4.0</td>\n",
              "      <td>4.0</td>\n",
              "      <td>3.0</td>\n",
              "      <td>NaN</td>\n",
              "      <td>3.0</td>\n",
              "      <td>2.0</td>\n",
              "      <td>3.0</td>\n",
              "      <td>3.0</td>\n",
              "      <td>6.0</td>\n",
              "      <td>3</td>\n",
              "      <td>5.0</td>\n",
              "      <td>4.0</td>\n",
              "      <td>2.0</td>\n",
              "    </tr>\n",
              "    <tr>\n",
              "      <th>2797</th>\n",
              "      <td>2.0</td>\n",
              "      <td>3.0</td>\n",
              "      <td>5.0</td>\n",
              "      <td>2.0</td>\n",
              "      <td>5.0</td>\n",
              "      <td>5.0</td>\n",
              "      <td>5.0</td>\n",
              "      <td>5.0</td>\n",
              "      <td>1.0</td>\n",
              "      <td>1.0</td>\n",
              "      <td>2.0</td>\n",
              "      <td>2.0</td>\n",
              "      <td>6.0</td>\n",
              "      <td>3.0</td>\n",
              "      <td>6.0</td>\n",
              "      <td>3.0</td>\n",
              "      <td>4.0</td>\n",
              "      <td>3.0</td>\n",
              "      <td>3.0</td>\n",
              "      <td>1.0</td>\n",
              "      <td>5.0</td>\n",
              "      <td>1</td>\n",
              "      <td>6.0</td>\n",
              "      <td>4.0</td>\n",
              "      <td>3.0</td>\n",
              "    </tr>\n",
              "    <tr>\n",
              "      <th>2798</th>\n",
              "      <td>5.0</td>\n",
              "      <td>2.0</td>\n",
              "      <td>2.0</td>\n",
              "      <td>4.0</td>\n",
              "      <td>4.0</td>\n",
              "      <td>5.0</td>\n",
              "      <td>5.0</td>\n",
              "      <td>5.0</td>\n",
              "      <td>2.0</td>\n",
              "      <td>6.0</td>\n",
              "      <td>2.0</td>\n",
              "      <td>2.0</td>\n",
              "      <td>4.0</td>\n",
              "      <td>5.0</td>\n",
              "      <td>4.0</td>\n",
              "      <td>5.0</td>\n",
              "      <td>5.0</td>\n",
              "      <td>6.0</td>\n",
              "      <td>4.0</td>\n",
              "      <td>1.0</td>\n",
              "      <td>5.0</td>\n",
              "      <td>2</td>\n",
              "      <td>5.0</td>\n",
              "      <td>5.0</td>\n",
              "      <td>1.0</td>\n",
              "    </tr>\n",
              "    <tr>\n",
              "      <th>2799</th>\n",
              "      <td>2.0</td>\n",
              "      <td>3.0</td>\n",
              "      <td>1.0</td>\n",
              "      <td>4.0</td>\n",
              "      <td>2.0</td>\n",
              "      <td>5.0</td>\n",
              "      <td>5.0</td>\n",
              "      <td>3.0</td>\n",
              "      <td>3.0</td>\n",
              "      <td>3.0</td>\n",
              "      <td>3.0</td>\n",
              "      <td>3.0</td>\n",
              "      <td>1.0</td>\n",
              "      <td>2.0</td>\n",
              "      <td>2.0</td>\n",
              "      <td>1.0</td>\n",
              "      <td>2.0</td>\n",
              "      <td>2.0</td>\n",
              "      <td>1.0</td>\n",
              "      <td>1.0</td>\n",
              "      <td>3.0</td>\n",
              "      <td>1</td>\n",
              "      <td>3.0</td>\n",
              "      <td>5.0</td>\n",
              "      <td>1.0</td>\n",
              "    </tr>\n",
              "  </tbody>\n",
              "</table>\n",
              "<p>2800 rows × 25 columns</p>\n",
              "</div>"
            ],
            "text/plain": [
              "       A1   A2   A3   A4   A5   C1   C2  ...   N4   N5   O1  O2   O3   O4   O5\n",
              "0     2.0  4.0  3.0  4.0  4.0  2.0  3.0  ...  2.0  3.0  3.0   6  3.0  4.0  3.0\n",
              "1     2.0  4.0  5.0  2.0  5.0  5.0  4.0  ...  5.0  5.0  4.0   2  4.0  3.0  3.0\n",
              "2     5.0  4.0  5.0  4.0  4.0  4.0  5.0  ...  2.0  3.0  4.0   2  5.0  5.0  2.0\n",
              "3     4.0  4.0  6.0  5.0  5.0  4.0  4.0  ...  4.0  1.0  3.0   3  4.0  3.0  5.0\n",
              "4     2.0  3.0  3.0  4.0  5.0  4.0  4.0  ...  4.0  3.0  3.0   3  4.0  3.0  3.0\n",
              "...   ...  ...  ...  ...  ...  ...  ...  ...  ...  ...  ...  ..  ...  ...  ...\n",
              "2795  6.0  1.0  3.0  3.0  3.0  6.0  6.0  ...  NaN  1.0  6.0   1  6.0  6.0  1.0\n",
              "2796  2.0  4.0  4.0  3.0  5.0  2.0  3.0  ...  3.0  3.0  6.0   3  5.0  4.0  2.0\n",
              "2797  2.0  3.0  5.0  2.0  5.0  5.0  5.0  ...  3.0  1.0  5.0   1  6.0  4.0  3.0\n",
              "2798  5.0  2.0  2.0  4.0  4.0  5.0  5.0  ...  4.0  1.0  5.0   2  5.0  5.0  1.0\n",
              "2799  2.0  3.0  1.0  4.0  2.0  5.0  5.0  ...  1.0  1.0  3.0   1  3.0  5.0  1.0\n",
              "\n",
              "[2800 rows x 25 columns]"
            ]
          },
          "metadata": {
            "tags": []
          },
          "execution_count": 8
        }
      ]
    },
    {
      "cell_type": "markdown",
      "metadata": {
        "id": "BuEDq6P2yfCe"
      },
      "source": [
        "#เฉลย"
      ]
    },
    {
      "cell_type": "code",
      "metadata": {
        "id": "WS9Olh739bhi",
        "colab": {
          "base_uri": "https://localhost:8080/",
          "height": 435
        },
        "outputId": "49518f1e-a317-4365-fce4-3ae4d2903a39"
      },
      "source": [
        "BFI_data_dropped = BFI_data.iloc[:,1:-3]\n",
        "BFI_data_dropped"
      ],
      "execution_count": 9,
      "outputs": [
        {
          "output_type": "execute_result",
          "data": {
            "text/html": [
              "<div>\n",
              "<style scoped>\n",
              "    .dataframe tbody tr th:only-of-type {\n",
              "        vertical-align: middle;\n",
              "    }\n",
              "\n",
              "    .dataframe tbody tr th {\n",
              "        vertical-align: top;\n",
              "    }\n",
              "\n",
              "    .dataframe thead th {\n",
              "        text-align: right;\n",
              "    }\n",
              "</style>\n",
              "<table border=\"1\" class=\"dataframe\">\n",
              "  <thead>\n",
              "    <tr style=\"text-align: right;\">\n",
              "      <th></th>\n",
              "      <th>A1</th>\n",
              "      <th>A2</th>\n",
              "      <th>A3</th>\n",
              "      <th>A4</th>\n",
              "      <th>A5</th>\n",
              "      <th>C1</th>\n",
              "      <th>C2</th>\n",
              "      <th>C3</th>\n",
              "      <th>C4</th>\n",
              "      <th>C5</th>\n",
              "      <th>E1</th>\n",
              "      <th>E2</th>\n",
              "      <th>E3</th>\n",
              "      <th>E4</th>\n",
              "      <th>E5</th>\n",
              "      <th>N1</th>\n",
              "      <th>N2</th>\n",
              "      <th>N3</th>\n",
              "      <th>N4</th>\n",
              "      <th>N5</th>\n",
              "      <th>O1</th>\n",
              "      <th>O2</th>\n",
              "      <th>O3</th>\n",
              "      <th>O4</th>\n",
              "      <th>O5</th>\n",
              "    </tr>\n",
              "  </thead>\n",
              "  <tbody>\n",
              "    <tr>\n",
              "      <th>0</th>\n",
              "      <td>2.0</td>\n",
              "      <td>4.0</td>\n",
              "      <td>3.0</td>\n",
              "      <td>4.0</td>\n",
              "      <td>4.0</td>\n",
              "      <td>2.0</td>\n",
              "      <td>3.0</td>\n",
              "      <td>3.0</td>\n",
              "      <td>4.0</td>\n",
              "      <td>4.0</td>\n",
              "      <td>3.0</td>\n",
              "      <td>3.0</td>\n",
              "      <td>3.0</td>\n",
              "      <td>4.0</td>\n",
              "      <td>4.0</td>\n",
              "      <td>3.0</td>\n",
              "      <td>4.0</td>\n",
              "      <td>2.0</td>\n",
              "      <td>2.0</td>\n",
              "      <td>3.0</td>\n",
              "      <td>3.0</td>\n",
              "      <td>6</td>\n",
              "      <td>3.0</td>\n",
              "      <td>4.0</td>\n",
              "      <td>3.0</td>\n",
              "    </tr>\n",
              "    <tr>\n",
              "      <th>1</th>\n",
              "      <td>2.0</td>\n",
              "      <td>4.0</td>\n",
              "      <td>5.0</td>\n",
              "      <td>2.0</td>\n",
              "      <td>5.0</td>\n",
              "      <td>5.0</td>\n",
              "      <td>4.0</td>\n",
              "      <td>4.0</td>\n",
              "      <td>3.0</td>\n",
              "      <td>4.0</td>\n",
              "      <td>1.0</td>\n",
              "      <td>1.0</td>\n",
              "      <td>6.0</td>\n",
              "      <td>4.0</td>\n",
              "      <td>3.0</td>\n",
              "      <td>3.0</td>\n",
              "      <td>3.0</td>\n",
              "      <td>3.0</td>\n",
              "      <td>5.0</td>\n",
              "      <td>5.0</td>\n",
              "      <td>4.0</td>\n",
              "      <td>2</td>\n",
              "      <td>4.0</td>\n",
              "      <td>3.0</td>\n",
              "      <td>3.0</td>\n",
              "    </tr>\n",
              "    <tr>\n",
              "      <th>2</th>\n",
              "      <td>5.0</td>\n",
              "      <td>4.0</td>\n",
              "      <td>5.0</td>\n",
              "      <td>4.0</td>\n",
              "      <td>4.0</td>\n",
              "      <td>4.0</td>\n",
              "      <td>5.0</td>\n",
              "      <td>4.0</td>\n",
              "      <td>2.0</td>\n",
              "      <td>5.0</td>\n",
              "      <td>2.0</td>\n",
              "      <td>4.0</td>\n",
              "      <td>4.0</td>\n",
              "      <td>4.0</td>\n",
              "      <td>5.0</td>\n",
              "      <td>4.0</td>\n",
              "      <td>5.0</td>\n",
              "      <td>4.0</td>\n",
              "      <td>2.0</td>\n",
              "      <td>3.0</td>\n",
              "      <td>4.0</td>\n",
              "      <td>2</td>\n",
              "      <td>5.0</td>\n",
              "      <td>5.0</td>\n",
              "      <td>2.0</td>\n",
              "    </tr>\n",
              "    <tr>\n",
              "      <th>3</th>\n",
              "      <td>4.0</td>\n",
              "      <td>4.0</td>\n",
              "      <td>6.0</td>\n",
              "      <td>5.0</td>\n",
              "      <td>5.0</td>\n",
              "      <td>4.0</td>\n",
              "      <td>4.0</td>\n",
              "      <td>3.0</td>\n",
              "      <td>5.0</td>\n",
              "      <td>5.0</td>\n",
              "      <td>5.0</td>\n",
              "      <td>3.0</td>\n",
              "      <td>4.0</td>\n",
              "      <td>4.0</td>\n",
              "      <td>4.0</td>\n",
              "      <td>2.0</td>\n",
              "      <td>5.0</td>\n",
              "      <td>2.0</td>\n",
              "      <td>4.0</td>\n",
              "      <td>1.0</td>\n",
              "      <td>3.0</td>\n",
              "      <td>3</td>\n",
              "      <td>4.0</td>\n",
              "      <td>3.0</td>\n",
              "      <td>5.0</td>\n",
              "    </tr>\n",
              "    <tr>\n",
              "      <th>4</th>\n",
              "      <td>2.0</td>\n",
              "      <td>3.0</td>\n",
              "      <td>3.0</td>\n",
              "      <td>4.0</td>\n",
              "      <td>5.0</td>\n",
              "      <td>4.0</td>\n",
              "      <td>4.0</td>\n",
              "      <td>5.0</td>\n",
              "      <td>3.0</td>\n",
              "      <td>2.0</td>\n",
              "      <td>2.0</td>\n",
              "      <td>2.0</td>\n",
              "      <td>5.0</td>\n",
              "      <td>4.0</td>\n",
              "      <td>5.0</td>\n",
              "      <td>2.0</td>\n",
              "      <td>3.0</td>\n",
              "      <td>4.0</td>\n",
              "      <td>4.0</td>\n",
              "      <td>3.0</td>\n",
              "      <td>3.0</td>\n",
              "      <td>3</td>\n",
              "      <td>4.0</td>\n",
              "      <td>3.0</td>\n",
              "      <td>3.0</td>\n",
              "    </tr>\n",
              "    <tr>\n",
              "      <th>...</th>\n",
              "      <td>...</td>\n",
              "      <td>...</td>\n",
              "      <td>...</td>\n",
              "      <td>...</td>\n",
              "      <td>...</td>\n",
              "      <td>...</td>\n",
              "      <td>...</td>\n",
              "      <td>...</td>\n",
              "      <td>...</td>\n",
              "      <td>...</td>\n",
              "      <td>...</td>\n",
              "      <td>...</td>\n",
              "      <td>...</td>\n",
              "      <td>...</td>\n",
              "      <td>...</td>\n",
              "      <td>...</td>\n",
              "      <td>...</td>\n",
              "      <td>...</td>\n",
              "      <td>...</td>\n",
              "      <td>...</td>\n",
              "      <td>...</td>\n",
              "      <td>...</td>\n",
              "      <td>...</td>\n",
              "      <td>...</td>\n",
              "      <td>...</td>\n",
              "    </tr>\n",
              "    <tr>\n",
              "      <th>2795</th>\n",
              "      <td>6.0</td>\n",
              "      <td>1.0</td>\n",
              "      <td>3.0</td>\n",
              "      <td>3.0</td>\n",
              "      <td>3.0</td>\n",
              "      <td>6.0</td>\n",
              "      <td>6.0</td>\n",
              "      <td>6.0</td>\n",
              "      <td>1.0</td>\n",
              "      <td>1.0</td>\n",
              "      <td>1.0</td>\n",
              "      <td>4.0</td>\n",
              "      <td>5.0</td>\n",
              "      <td>5.0</td>\n",
              "      <td>6.0</td>\n",
              "      <td>1.0</td>\n",
              "      <td>1.0</td>\n",
              "      <td>1.0</td>\n",
              "      <td>NaN</td>\n",
              "      <td>1.0</td>\n",
              "      <td>6.0</td>\n",
              "      <td>1</td>\n",
              "      <td>6.0</td>\n",
              "      <td>6.0</td>\n",
              "      <td>1.0</td>\n",
              "    </tr>\n",
              "    <tr>\n",
              "      <th>2796</th>\n",
              "      <td>2.0</td>\n",
              "      <td>4.0</td>\n",
              "      <td>4.0</td>\n",
              "      <td>3.0</td>\n",
              "      <td>5.0</td>\n",
              "      <td>2.0</td>\n",
              "      <td>3.0</td>\n",
              "      <td>4.0</td>\n",
              "      <td>4.0</td>\n",
              "      <td>3.0</td>\n",
              "      <td>2.0</td>\n",
              "      <td>2.0</td>\n",
              "      <td>4.0</td>\n",
              "      <td>4.0</td>\n",
              "      <td>3.0</td>\n",
              "      <td>NaN</td>\n",
              "      <td>3.0</td>\n",
              "      <td>2.0</td>\n",
              "      <td>3.0</td>\n",
              "      <td>3.0</td>\n",
              "      <td>6.0</td>\n",
              "      <td>3</td>\n",
              "      <td>5.0</td>\n",
              "      <td>4.0</td>\n",
              "      <td>2.0</td>\n",
              "    </tr>\n",
              "    <tr>\n",
              "      <th>2797</th>\n",
              "      <td>2.0</td>\n",
              "      <td>3.0</td>\n",
              "      <td>5.0</td>\n",
              "      <td>2.0</td>\n",
              "      <td>5.0</td>\n",
              "      <td>5.0</td>\n",
              "      <td>5.0</td>\n",
              "      <td>5.0</td>\n",
              "      <td>1.0</td>\n",
              "      <td>1.0</td>\n",
              "      <td>2.0</td>\n",
              "      <td>2.0</td>\n",
              "      <td>6.0</td>\n",
              "      <td>3.0</td>\n",
              "      <td>6.0</td>\n",
              "      <td>3.0</td>\n",
              "      <td>4.0</td>\n",
              "      <td>3.0</td>\n",
              "      <td>3.0</td>\n",
              "      <td>1.0</td>\n",
              "      <td>5.0</td>\n",
              "      <td>1</td>\n",
              "      <td>6.0</td>\n",
              "      <td>4.0</td>\n",
              "      <td>3.0</td>\n",
              "    </tr>\n",
              "    <tr>\n",
              "      <th>2798</th>\n",
              "      <td>5.0</td>\n",
              "      <td>2.0</td>\n",
              "      <td>2.0</td>\n",
              "      <td>4.0</td>\n",
              "      <td>4.0</td>\n",
              "      <td>5.0</td>\n",
              "      <td>5.0</td>\n",
              "      <td>5.0</td>\n",
              "      <td>2.0</td>\n",
              "      <td>6.0</td>\n",
              "      <td>2.0</td>\n",
              "      <td>2.0</td>\n",
              "      <td>4.0</td>\n",
              "      <td>5.0</td>\n",
              "      <td>4.0</td>\n",
              "      <td>5.0</td>\n",
              "      <td>5.0</td>\n",
              "      <td>6.0</td>\n",
              "      <td>4.0</td>\n",
              "      <td>1.0</td>\n",
              "      <td>5.0</td>\n",
              "      <td>2</td>\n",
              "      <td>5.0</td>\n",
              "      <td>5.0</td>\n",
              "      <td>1.0</td>\n",
              "    </tr>\n",
              "    <tr>\n",
              "      <th>2799</th>\n",
              "      <td>2.0</td>\n",
              "      <td>3.0</td>\n",
              "      <td>1.0</td>\n",
              "      <td>4.0</td>\n",
              "      <td>2.0</td>\n",
              "      <td>5.0</td>\n",
              "      <td>5.0</td>\n",
              "      <td>3.0</td>\n",
              "      <td>3.0</td>\n",
              "      <td>3.0</td>\n",
              "      <td>3.0</td>\n",
              "      <td>3.0</td>\n",
              "      <td>1.0</td>\n",
              "      <td>2.0</td>\n",
              "      <td>2.0</td>\n",
              "      <td>1.0</td>\n",
              "      <td>2.0</td>\n",
              "      <td>2.0</td>\n",
              "      <td>1.0</td>\n",
              "      <td>1.0</td>\n",
              "      <td>3.0</td>\n",
              "      <td>1</td>\n",
              "      <td>3.0</td>\n",
              "      <td>5.0</td>\n",
              "      <td>1.0</td>\n",
              "    </tr>\n",
              "  </tbody>\n",
              "</table>\n",
              "<p>2800 rows × 25 columns</p>\n",
              "</div>"
            ],
            "text/plain": [
              "       A1   A2   A3   A4   A5   C1   C2  ...   N4   N5   O1  O2   O3   O4   O5\n",
              "0     2.0  4.0  3.0  4.0  4.0  2.0  3.0  ...  2.0  3.0  3.0   6  3.0  4.0  3.0\n",
              "1     2.0  4.0  5.0  2.0  5.0  5.0  4.0  ...  5.0  5.0  4.0   2  4.0  3.0  3.0\n",
              "2     5.0  4.0  5.0  4.0  4.0  4.0  5.0  ...  2.0  3.0  4.0   2  5.0  5.0  2.0\n",
              "3     4.0  4.0  6.0  5.0  5.0  4.0  4.0  ...  4.0  1.0  3.0   3  4.0  3.0  5.0\n",
              "4     2.0  3.0  3.0  4.0  5.0  4.0  4.0  ...  4.0  3.0  3.0   3  4.0  3.0  3.0\n",
              "...   ...  ...  ...  ...  ...  ...  ...  ...  ...  ...  ...  ..  ...  ...  ...\n",
              "2795  6.0  1.0  3.0  3.0  3.0  6.0  6.0  ...  NaN  1.0  6.0   1  6.0  6.0  1.0\n",
              "2796  2.0  4.0  4.0  3.0  5.0  2.0  3.0  ...  3.0  3.0  6.0   3  5.0  4.0  2.0\n",
              "2797  2.0  3.0  5.0  2.0  5.0  5.0  5.0  ...  3.0  1.0  5.0   1  6.0  4.0  3.0\n",
              "2798  5.0  2.0  2.0  4.0  4.0  5.0  5.0  ...  4.0  1.0  5.0   2  5.0  5.0  1.0\n",
              "2799  2.0  3.0  1.0  4.0  2.0  5.0  5.0  ...  1.0  1.0  3.0   1  3.0  5.0  1.0\n",
              "\n",
              "[2800 rows x 25 columns]"
            ]
          },
          "metadata": {
            "tags": []
          },
          "execution_count": 9
        }
      ]
    },
    {
      "cell_type": "code",
      "metadata": {
        "id": "-tdo3cta9be4",
        "colab": {
          "base_uri": "https://localhost:8080/",
          "height": 435
        },
        "outputId": "45aaf780-a434-476e-8871-448a4fd6ebd3"
      },
      "source": [
        "BFI_data_dropped = BFI_data_dropped.dropna()\n",
        "BFI_data_dropped"
      ],
      "execution_count": 10,
      "outputs": [
        {
          "output_type": "execute_result",
          "data": {
            "text/html": [
              "<div>\n",
              "<style scoped>\n",
              "    .dataframe tbody tr th:only-of-type {\n",
              "        vertical-align: middle;\n",
              "    }\n",
              "\n",
              "    .dataframe tbody tr th {\n",
              "        vertical-align: top;\n",
              "    }\n",
              "\n",
              "    .dataframe thead th {\n",
              "        text-align: right;\n",
              "    }\n",
              "</style>\n",
              "<table border=\"1\" class=\"dataframe\">\n",
              "  <thead>\n",
              "    <tr style=\"text-align: right;\">\n",
              "      <th></th>\n",
              "      <th>A1</th>\n",
              "      <th>A2</th>\n",
              "      <th>A3</th>\n",
              "      <th>A4</th>\n",
              "      <th>A5</th>\n",
              "      <th>C1</th>\n",
              "      <th>C2</th>\n",
              "      <th>C3</th>\n",
              "      <th>C4</th>\n",
              "      <th>C5</th>\n",
              "      <th>E1</th>\n",
              "      <th>E2</th>\n",
              "      <th>E3</th>\n",
              "      <th>E4</th>\n",
              "      <th>E5</th>\n",
              "      <th>N1</th>\n",
              "      <th>N2</th>\n",
              "      <th>N3</th>\n",
              "      <th>N4</th>\n",
              "      <th>N5</th>\n",
              "      <th>O1</th>\n",
              "      <th>O2</th>\n",
              "      <th>O3</th>\n",
              "      <th>O4</th>\n",
              "      <th>O5</th>\n",
              "    </tr>\n",
              "  </thead>\n",
              "  <tbody>\n",
              "    <tr>\n",
              "      <th>0</th>\n",
              "      <td>2.0</td>\n",
              "      <td>4.0</td>\n",
              "      <td>3.0</td>\n",
              "      <td>4.0</td>\n",
              "      <td>4.0</td>\n",
              "      <td>2.0</td>\n",
              "      <td>3.0</td>\n",
              "      <td>3.0</td>\n",
              "      <td>4.0</td>\n",
              "      <td>4.0</td>\n",
              "      <td>3.0</td>\n",
              "      <td>3.0</td>\n",
              "      <td>3.0</td>\n",
              "      <td>4.0</td>\n",
              "      <td>4.0</td>\n",
              "      <td>3.0</td>\n",
              "      <td>4.0</td>\n",
              "      <td>2.0</td>\n",
              "      <td>2.0</td>\n",
              "      <td>3.0</td>\n",
              "      <td>3.0</td>\n",
              "      <td>6</td>\n",
              "      <td>3.0</td>\n",
              "      <td>4.0</td>\n",
              "      <td>3.0</td>\n",
              "    </tr>\n",
              "    <tr>\n",
              "      <th>1</th>\n",
              "      <td>2.0</td>\n",
              "      <td>4.0</td>\n",
              "      <td>5.0</td>\n",
              "      <td>2.0</td>\n",
              "      <td>5.0</td>\n",
              "      <td>5.0</td>\n",
              "      <td>4.0</td>\n",
              "      <td>4.0</td>\n",
              "      <td>3.0</td>\n",
              "      <td>4.0</td>\n",
              "      <td>1.0</td>\n",
              "      <td>1.0</td>\n",
              "      <td>6.0</td>\n",
              "      <td>4.0</td>\n",
              "      <td>3.0</td>\n",
              "      <td>3.0</td>\n",
              "      <td>3.0</td>\n",
              "      <td>3.0</td>\n",
              "      <td>5.0</td>\n",
              "      <td>5.0</td>\n",
              "      <td>4.0</td>\n",
              "      <td>2</td>\n",
              "      <td>4.0</td>\n",
              "      <td>3.0</td>\n",
              "      <td>3.0</td>\n",
              "    </tr>\n",
              "    <tr>\n",
              "      <th>2</th>\n",
              "      <td>5.0</td>\n",
              "      <td>4.0</td>\n",
              "      <td>5.0</td>\n",
              "      <td>4.0</td>\n",
              "      <td>4.0</td>\n",
              "      <td>4.0</td>\n",
              "      <td>5.0</td>\n",
              "      <td>4.0</td>\n",
              "      <td>2.0</td>\n",
              "      <td>5.0</td>\n",
              "      <td>2.0</td>\n",
              "      <td>4.0</td>\n",
              "      <td>4.0</td>\n",
              "      <td>4.0</td>\n",
              "      <td>5.0</td>\n",
              "      <td>4.0</td>\n",
              "      <td>5.0</td>\n",
              "      <td>4.0</td>\n",
              "      <td>2.0</td>\n",
              "      <td>3.0</td>\n",
              "      <td>4.0</td>\n",
              "      <td>2</td>\n",
              "      <td>5.0</td>\n",
              "      <td>5.0</td>\n",
              "      <td>2.0</td>\n",
              "    </tr>\n",
              "    <tr>\n",
              "      <th>3</th>\n",
              "      <td>4.0</td>\n",
              "      <td>4.0</td>\n",
              "      <td>6.0</td>\n",
              "      <td>5.0</td>\n",
              "      <td>5.0</td>\n",
              "      <td>4.0</td>\n",
              "      <td>4.0</td>\n",
              "      <td>3.0</td>\n",
              "      <td>5.0</td>\n",
              "      <td>5.0</td>\n",
              "      <td>5.0</td>\n",
              "      <td>3.0</td>\n",
              "      <td>4.0</td>\n",
              "      <td>4.0</td>\n",
              "      <td>4.0</td>\n",
              "      <td>2.0</td>\n",
              "      <td>5.0</td>\n",
              "      <td>2.0</td>\n",
              "      <td>4.0</td>\n",
              "      <td>1.0</td>\n",
              "      <td>3.0</td>\n",
              "      <td>3</td>\n",
              "      <td>4.0</td>\n",
              "      <td>3.0</td>\n",
              "      <td>5.0</td>\n",
              "    </tr>\n",
              "    <tr>\n",
              "      <th>4</th>\n",
              "      <td>2.0</td>\n",
              "      <td>3.0</td>\n",
              "      <td>3.0</td>\n",
              "      <td>4.0</td>\n",
              "      <td>5.0</td>\n",
              "      <td>4.0</td>\n",
              "      <td>4.0</td>\n",
              "      <td>5.0</td>\n",
              "      <td>3.0</td>\n",
              "      <td>2.0</td>\n",
              "      <td>2.0</td>\n",
              "      <td>2.0</td>\n",
              "      <td>5.0</td>\n",
              "      <td>4.0</td>\n",
              "      <td>5.0</td>\n",
              "      <td>2.0</td>\n",
              "      <td>3.0</td>\n",
              "      <td>4.0</td>\n",
              "      <td>4.0</td>\n",
              "      <td>3.0</td>\n",
              "      <td>3.0</td>\n",
              "      <td>3</td>\n",
              "      <td>4.0</td>\n",
              "      <td>3.0</td>\n",
              "      <td>3.0</td>\n",
              "    </tr>\n",
              "    <tr>\n",
              "      <th>...</th>\n",
              "      <td>...</td>\n",
              "      <td>...</td>\n",
              "      <td>...</td>\n",
              "      <td>...</td>\n",
              "      <td>...</td>\n",
              "      <td>...</td>\n",
              "      <td>...</td>\n",
              "      <td>...</td>\n",
              "      <td>...</td>\n",
              "      <td>...</td>\n",
              "      <td>...</td>\n",
              "      <td>...</td>\n",
              "      <td>...</td>\n",
              "      <td>...</td>\n",
              "      <td>...</td>\n",
              "      <td>...</td>\n",
              "      <td>...</td>\n",
              "      <td>...</td>\n",
              "      <td>...</td>\n",
              "      <td>...</td>\n",
              "      <td>...</td>\n",
              "      <td>...</td>\n",
              "      <td>...</td>\n",
              "      <td>...</td>\n",
              "      <td>...</td>\n",
              "    </tr>\n",
              "    <tr>\n",
              "      <th>2793</th>\n",
              "      <td>3.0</td>\n",
              "      <td>4.0</td>\n",
              "      <td>3.0</td>\n",
              "      <td>1.0</td>\n",
              "      <td>3.0</td>\n",
              "      <td>5.0</td>\n",
              "      <td>4.0</td>\n",
              "      <td>5.0</td>\n",
              "      <td>3.0</td>\n",
              "      <td>4.0</td>\n",
              "      <td>3.0</td>\n",
              "      <td>5.0</td>\n",
              "      <td>2.0</td>\n",
              "      <td>3.0</td>\n",
              "      <td>1.0</td>\n",
              "      <td>5.0</td>\n",
              "      <td>6.0</td>\n",
              "      <td>5.0</td>\n",
              "      <td>5.0</td>\n",
              "      <td>6.0</td>\n",
              "      <td>6.0</td>\n",
              "      <td>1</td>\n",
              "      <td>4.0</td>\n",
              "      <td>5.0</td>\n",
              "      <td>2.0</td>\n",
              "    </tr>\n",
              "    <tr>\n",
              "      <th>2794</th>\n",
              "      <td>5.0</td>\n",
              "      <td>5.0</td>\n",
              "      <td>5.0</td>\n",
              "      <td>5.0</td>\n",
              "      <td>3.0</td>\n",
              "      <td>5.0</td>\n",
              "      <td>4.0</td>\n",
              "      <td>2.0</td>\n",
              "      <td>3.0</td>\n",
              "      <td>5.0</td>\n",
              "      <td>3.0</td>\n",
              "      <td>5.0</td>\n",
              "      <td>5.0</td>\n",
              "      <td>6.0</td>\n",
              "      <td>5.0</td>\n",
              "      <td>4.0</td>\n",
              "      <td>5.0</td>\n",
              "      <td>3.0</td>\n",
              "      <td>5.0</td>\n",
              "      <td>2.0</td>\n",
              "      <td>6.0</td>\n",
              "      <td>1</td>\n",
              "      <td>5.0</td>\n",
              "      <td>6.0</td>\n",
              "      <td>2.0</td>\n",
              "    </tr>\n",
              "    <tr>\n",
              "      <th>2797</th>\n",
              "      <td>2.0</td>\n",
              "      <td>3.0</td>\n",
              "      <td>5.0</td>\n",
              "      <td>2.0</td>\n",
              "      <td>5.0</td>\n",
              "      <td>5.0</td>\n",
              "      <td>5.0</td>\n",
              "      <td>5.0</td>\n",
              "      <td>1.0</td>\n",
              "      <td>1.0</td>\n",
              "      <td>2.0</td>\n",
              "      <td>2.0</td>\n",
              "      <td>6.0</td>\n",
              "      <td>3.0</td>\n",
              "      <td>6.0</td>\n",
              "      <td>3.0</td>\n",
              "      <td>4.0</td>\n",
              "      <td>3.0</td>\n",
              "      <td>3.0</td>\n",
              "      <td>1.0</td>\n",
              "      <td>5.0</td>\n",
              "      <td>1</td>\n",
              "      <td>6.0</td>\n",
              "      <td>4.0</td>\n",
              "      <td>3.0</td>\n",
              "    </tr>\n",
              "    <tr>\n",
              "      <th>2798</th>\n",
              "      <td>5.0</td>\n",
              "      <td>2.0</td>\n",
              "      <td>2.0</td>\n",
              "      <td>4.0</td>\n",
              "      <td>4.0</td>\n",
              "      <td>5.0</td>\n",
              "      <td>5.0</td>\n",
              "      <td>5.0</td>\n",
              "      <td>2.0</td>\n",
              "      <td>6.0</td>\n",
              "      <td>2.0</td>\n",
              "      <td>2.0</td>\n",
              "      <td>4.0</td>\n",
              "      <td>5.0</td>\n",
              "      <td>4.0</td>\n",
              "      <td>5.0</td>\n",
              "      <td>5.0</td>\n",
              "      <td>6.0</td>\n",
              "      <td>4.0</td>\n",
              "      <td>1.0</td>\n",
              "      <td>5.0</td>\n",
              "      <td>2</td>\n",
              "      <td>5.0</td>\n",
              "      <td>5.0</td>\n",
              "      <td>1.0</td>\n",
              "    </tr>\n",
              "    <tr>\n",
              "      <th>2799</th>\n",
              "      <td>2.0</td>\n",
              "      <td>3.0</td>\n",
              "      <td>1.0</td>\n",
              "      <td>4.0</td>\n",
              "      <td>2.0</td>\n",
              "      <td>5.0</td>\n",
              "      <td>5.0</td>\n",
              "      <td>3.0</td>\n",
              "      <td>3.0</td>\n",
              "      <td>3.0</td>\n",
              "      <td>3.0</td>\n",
              "      <td>3.0</td>\n",
              "      <td>1.0</td>\n",
              "      <td>2.0</td>\n",
              "      <td>2.0</td>\n",
              "      <td>1.0</td>\n",
              "      <td>2.0</td>\n",
              "      <td>2.0</td>\n",
              "      <td>1.0</td>\n",
              "      <td>1.0</td>\n",
              "      <td>3.0</td>\n",
              "      <td>1</td>\n",
              "      <td>3.0</td>\n",
              "      <td>5.0</td>\n",
              "      <td>1.0</td>\n",
              "    </tr>\n",
              "  </tbody>\n",
              "</table>\n",
              "<p>2436 rows × 25 columns</p>\n",
              "</div>"
            ],
            "text/plain": [
              "       A1   A2   A3   A4   A5   C1   C2  ...   N4   N5   O1  O2   O3   O4   O5\n",
              "0     2.0  4.0  3.0  4.0  4.0  2.0  3.0  ...  2.0  3.0  3.0   6  3.0  4.0  3.0\n",
              "1     2.0  4.0  5.0  2.0  5.0  5.0  4.0  ...  5.0  5.0  4.0   2  4.0  3.0  3.0\n",
              "2     5.0  4.0  5.0  4.0  4.0  4.0  5.0  ...  2.0  3.0  4.0   2  5.0  5.0  2.0\n",
              "3     4.0  4.0  6.0  5.0  5.0  4.0  4.0  ...  4.0  1.0  3.0   3  4.0  3.0  5.0\n",
              "4     2.0  3.0  3.0  4.0  5.0  4.0  4.0  ...  4.0  3.0  3.0   3  4.0  3.0  3.0\n",
              "...   ...  ...  ...  ...  ...  ...  ...  ...  ...  ...  ...  ..  ...  ...  ...\n",
              "2793  3.0  4.0  3.0  1.0  3.0  5.0  4.0  ...  5.0  6.0  6.0   1  4.0  5.0  2.0\n",
              "2794  5.0  5.0  5.0  5.0  3.0  5.0  4.0  ...  5.0  2.0  6.0   1  5.0  6.0  2.0\n",
              "2797  2.0  3.0  5.0  2.0  5.0  5.0  5.0  ...  3.0  1.0  5.0   1  6.0  4.0  3.0\n",
              "2798  5.0  2.0  2.0  4.0  4.0  5.0  5.0  ...  4.0  1.0  5.0   2  5.0  5.0  1.0\n",
              "2799  2.0  3.0  1.0  4.0  2.0  5.0  5.0  ...  1.0  1.0  3.0   1  3.0  5.0  1.0\n",
              "\n",
              "[2436 rows x 25 columns]"
            ]
          },
          "metadata": {
            "tags": []
          },
          "execution_count": 10
        }
      ]
    },
    {
      "cell_type": "code",
      "metadata": {
        "id": "aql9ycKV9bcP",
        "colab": {
          "base_uri": "https://localhost:8080/"
        },
        "outputId": "b7cd929f-a5f1-496f-86c8-03018bf1c427"
      },
      "source": [
        "BFI_data_dropped.shape #run ผลออกมาดูใช้ .shape"
      ],
      "execution_count": 11,
      "outputs": [
        {
          "output_type": "execute_result",
          "data": {
            "text/plain": [
              "(2436, 25)"
            ]
          },
          "metadata": {
            "tags": []
          },
          "execution_count": 11
        }
      ]
    },
    {
      "cell_type": "markdown",
      "metadata": {
        "id": "nsMaxIHR1KVB"
      },
      "source": [
        "#Bartlett’s test"
      ]
    },
    {
      "cell_type": "code",
      "metadata": {
        "id": "HOW4igU99bZn",
        "colab": {
          "base_uri": "https://localhost:8080/"
        },
        "outputId": "5d519a3d-95ae-4f78-acf9-0c7651942ee6"
      },
      "source": [
        "from factor_analyzer.factor_analyzer import calculate_bartlett_sphericity #import function ที่ใช้งาน ชื่อcalculate_bartlett_sphericity\n",
        "chi_square_value,p_value=calculate_bartlett_sphericity(BFI_data_dropped) \n",
        "chi_square_value, p_value"
      ],
      "execution_count": 12,
      "outputs": [
        {
          "output_type": "execute_result",
          "data": {
            "text/plain": [
              "(18170.966350869243, 0.0)"
            ]
          },
          "metadata": {
            "tags": []
          },
          "execution_count": 12
        }
      ]
    },
    {
      "cell_type": "markdown",
      "metadata": {
        "id": "T4Qgvg3t2CEy"
      },
      "source": [
        "พบว่า data = 0.0 คือ การทดสอบมีนัยสำคัญทางสถิติบ่งชี้ว่าเมทริกซ์สหสัมพันธ์ที่สังเกตได้ไม่ใช่เมทริกซ์เอกลักษณ์"
      ]
    },
    {
      "cell_type": "markdown",
      "metadata": {
        "id": "hZMf_cpL2Zgz"
      },
      "source": [
        "#Kaiser-Meyer-Olkin (KMO) Test"
      ]
    },
    {
      "cell_type": "code",
      "metadata": {
        "id": "ezJAXeRF2BG9",
        "colab": {
          "base_uri": "https://localhost:8080/"
        },
        "outputId": "b5bdcf30-60d6-4ad1-987e-c2e4d046aeef"
      },
      "source": [
        "from factor_analyzer.factor_analyzer import calculate_kmo\n",
        "kmo_all,kmo_model=calculate_kmo(BFI_data_dropped)\n",
        "kmo_model"
      ],
      "execution_count": 13,
      "outputs": [
        {
          "output_type": "execute_result",
          "data": {
            "text/plain": [
              "0.8485397221949221"
            ]
          },
          "metadata": {
            "tags": []
          },
          "execution_count": 13
        }
      ]
    },
    {
      "cell_type": "markdown",
      "metadata": {
        "id": "C7MJlBDC4w24"
      },
      "source": [
        "#FACTOR ANALYSIS"
      ]
    },
    {
      "cell_type": "code",
      "metadata": {
        "id": "EhUdGAyj8g_m"
      },
      "source": [
        "from factor_analyzer import  FactorAnalyzer #import"
      ],
      "execution_count": 14,
      "outputs": []
    },
    {
      "cell_type": "code",
      "metadata": {
        "id": "Mt028at88h4h"
      },
      "source": [
        "fa = FactorAnalyzer(n_factors=20)#define"
      ],
      "execution_count": 15,
      "outputs": []
    },
    {
      "cell_type": "markdown",
      "metadata": {
        "id": "PrHV8_8B29VT"
      },
      "source": [
        "Choosing the Number of Factors"
      ]
    },
    {
      "cell_type": "markdown",
      "metadata": {
        "id": "wgDHwR7Q6QQG"
      },
      "source": [
        "###IMPORT"
      ]
    },
    {
      "cell_type": "code",
      "metadata": {
        "id": "oQyZYCTo6MPM"
      },
      "source": [
        "from factor_analyzer import FactorAnalyzer"
      ],
      "execution_count": 16,
      "outputs": []
    },
    {
      "cell_type": "markdown",
      "metadata": {
        "id": "JwD4ck5u6UsQ"
      },
      "source": [
        "###Fit-transform"
      ]
    },
    {
      "cell_type": "code",
      "metadata": {
        "id": "OjpehW6Q2X35",
        "colab": {
          "base_uri": "https://localhost:8080/"
        },
        "outputId": "cb5dae00-5cf0-42cf-a397-6ede67c75868"
      },
      "source": [
        "data_fa = fa.fit_transform(BFI_data_dropped)\n",
        "data_fa.shape\n"
      ],
      "execution_count": 17,
      "outputs": [
        {
          "output_type": "execute_result",
          "data": {
            "text/plain": [
              "(2436, 20)"
            ]
          },
          "metadata": {
            "tags": []
          },
          "execution_count": 17
        }
      ]
    },
    {
      "cell_type": "code",
      "metadata": {
        "id": "AQdprW1E9bXI"
      },
      "source": [
        "ev, v = fa.get_eigenvalues() #ตรวจดูว่าควรลดเหลือกี่ dimention (มี factor)"
      ],
      "execution_count": 18,
      "outputs": []
    },
    {
      "cell_type": "markdown",
      "metadata": {
        "id": "zlF9i_ax87PA"
      },
      "source": [
        "###ใช้ eigen values"
      ]
    },
    {
      "cell_type": "code",
      "metadata": {
        "id": "KoMlP-BF6B73",
        "colab": {
          "base_uri": "https://localhost:8080/"
        },
        "outputId": "16a1d453-6351-4e8f-ec1d-8fa1bc377e91"
      },
      "source": [
        "ev"
      ],
      "execution_count": 20,
      "outputs": [
        {
          "output_type": "execute_result",
          "data": {
            "text/plain": [
              "array([5.13431118, 2.75188667, 2.14270195, 1.85232761, 1.54816285,\n",
              "       1.07358247, 0.83953893, 0.79920618, 0.71898919, 0.68808879,\n",
              "       0.67637336, 0.65179984, 0.62325295, 0.59656284, 0.56309083,\n",
              "       0.54330533, 0.51451752, 0.49450315, 0.48263952, 0.448921  ,\n",
              "       0.42336611, 0.40067145, 0.38780448, 0.38185679, 0.26253902])"
            ]
          },
          "metadata": {
            "tags": []
          },
          "execution_count": 20
        }
      ]
    },
    {
      "cell_type": "markdown",
      "metadata": {
        "id": "Tmh3cG4N8_gc"
      },
      "source": [
        "#Scree plot"
      ]
    },
    {
      "cell_type": "code",
      "metadata": {
        "id": "ELihAebK9bUn",
        "colab": {
          "base_uri": "https://localhost:8080/",
          "height": 483
        },
        "outputId": "68a9e8f9-7be5-4dc5-f466-0074d13e9512"
      },
      "source": [
        "plt.scatter(range(1,BFI_data_dropped.shape[1]+1),ev)\n",
        "plt.plot(range(1,BFI_data_dropped.shape[1]+1),ev)\n",
        "plt.plot(range(1,BFI_data_dropped.shape[1]+1),BFI_data_dropped.shape[1]+1*[1],'r--')\n",
        "plt.title('Scree Plot')\n",
        "plt.xlabel('Factors')\n",
        "plt.ylabel('Eigenvalue')\n",
        "plt.grid()\n",
        "plt.show()"
      ],
      "execution_count": 21,
      "outputs": [
        {
          "output_type": "error",
          "ename": "TypeError",
          "evalue": "ignored",
          "traceback": [
            "\u001b[0;31m---------------------------------------------------------------------------\u001b[0m",
            "\u001b[0;31mTypeError\u001b[0m                                 Traceback (most recent call last)",
            "\u001b[0;32m<ipython-input-21-e757fc447fa9>\u001b[0m in \u001b[0;36m<module>\u001b[0;34m()\u001b[0m\n\u001b[1;32m      1\u001b[0m \u001b[0mplt\u001b[0m\u001b[0;34m.\u001b[0m\u001b[0mscatter\u001b[0m\u001b[0;34m(\u001b[0m\u001b[0mrange\u001b[0m\u001b[0;34m(\u001b[0m\u001b[0;36m1\u001b[0m\u001b[0;34m,\u001b[0m\u001b[0mBFI_data_dropped\u001b[0m\u001b[0;34m.\u001b[0m\u001b[0mshape\u001b[0m\u001b[0;34m[\u001b[0m\u001b[0;36m1\u001b[0m\u001b[0;34m]\u001b[0m\u001b[0;34m+\u001b[0m\u001b[0;36m1\u001b[0m\u001b[0;34m)\u001b[0m\u001b[0;34m,\u001b[0m\u001b[0mev\u001b[0m\u001b[0;34m)\u001b[0m\u001b[0;34m\u001b[0m\u001b[0;34m\u001b[0m\u001b[0m\n\u001b[1;32m      2\u001b[0m \u001b[0mplt\u001b[0m\u001b[0;34m.\u001b[0m\u001b[0mplot\u001b[0m\u001b[0;34m(\u001b[0m\u001b[0mrange\u001b[0m\u001b[0;34m(\u001b[0m\u001b[0;36m1\u001b[0m\u001b[0;34m,\u001b[0m\u001b[0mBFI_data_dropped\u001b[0m\u001b[0;34m.\u001b[0m\u001b[0mshape\u001b[0m\u001b[0;34m[\u001b[0m\u001b[0;36m1\u001b[0m\u001b[0;34m]\u001b[0m\u001b[0;34m+\u001b[0m\u001b[0;36m1\u001b[0m\u001b[0;34m)\u001b[0m\u001b[0;34m,\u001b[0m\u001b[0mev\u001b[0m\u001b[0;34m)\u001b[0m\u001b[0;34m\u001b[0m\u001b[0;34m\u001b[0m\u001b[0m\n\u001b[0;32m----> 3\u001b[0;31m \u001b[0mplt\u001b[0m\u001b[0;34m.\u001b[0m\u001b[0mplot\u001b[0m\u001b[0;34m(\u001b[0m\u001b[0mrange\u001b[0m\u001b[0;34m(\u001b[0m\u001b[0;36m1\u001b[0m\u001b[0;34m,\u001b[0m\u001b[0mBFI_data_dropped\u001b[0m\u001b[0;34m.\u001b[0m\u001b[0mshape\u001b[0m\u001b[0;34m[\u001b[0m\u001b[0;36m1\u001b[0m\u001b[0;34m]\u001b[0m\u001b[0;34m+\u001b[0m\u001b[0;36m1\u001b[0m\u001b[0;34m)\u001b[0m\u001b[0;34m,\u001b[0m\u001b[0mBFI_data_dropped\u001b[0m\u001b[0;34m.\u001b[0m\u001b[0mshape\u001b[0m\u001b[0;34m[\u001b[0m\u001b[0;36m1\u001b[0m\u001b[0;34m]\u001b[0m\u001b[0;34m+\u001b[0m\u001b[0;36m1\u001b[0m\u001b[0;34m*\u001b[0m\u001b[0;34m[\u001b[0m\u001b[0;36m1\u001b[0m\u001b[0;34m]\u001b[0m\u001b[0;34m,\u001b[0m\u001b[0;34m'r--'\u001b[0m\u001b[0;34m)\u001b[0m\u001b[0;34m\u001b[0m\u001b[0;34m\u001b[0m\u001b[0m\n\u001b[0m\u001b[1;32m      4\u001b[0m \u001b[0mplt\u001b[0m\u001b[0;34m.\u001b[0m\u001b[0mtitle\u001b[0m\u001b[0;34m(\u001b[0m\u001b[0;34m'Scree Plot'\u001b[0m\u001b[0;34m)\u001b[0m\u001b[0;34m\u001b[0m\u001b[0;34m\u001b[0m\u001b[0m\n\u001b[1;32m      5\u001b[0m \u001b[0mplt\u001b[0m\u001b[0;34m.\u001b[0m\u001b[0mxlabel\u001b[0m\u001b[0;34m(\u001b[0m\u001b[0;34m'Factors'\u001b[0m\u001b[0;34m)\u001b[0m\u001b[0;34m\u001b[0m\u001b[0;34m\u001b[0m\u001b[0m\n",
            "\u001b[0;31mTypeError\u001b[0m: unsupported operand type(s) for +: 'int' and 'list'"
          ]
        },
        {
          "output_type": "display_data",
          "data": {
            "image/png": "[encoded data removed]",
            "text/plain": [
              "<Figure size 432x288 with 1 Axes>"
            ]
          },
          "metadata": {
            "tags": [],
            "needs_background": "light"
          }
        }
      ]
    },
    {
      "cell_type": "code",
      "metadata": {
        "id": "Yf5-c7kq9bSF",
        "colab": {
          "base_uri": "https://localhost:8080/",
          "height": 218
        },
        "outputId": "d582c744-621f-479f-ae29-99cbf9219213"
      },
      "source": [
        "# Create factor analysis object and perform factor analysis\n",
        "fa = FactorAnalyzer()\n",
        "\n",
        "fa.analyze(BFI_data_dropped, 25, rotation=None)\n",
        "# Checl Ejgenvalues"
      ],
      "execution_count": null,
      "outputs": [
        {
          "output_type": "error",
          "ename": "AttributeError",
          "evalue": "ignored",
          "traceback": [
            "\u001b[0;31m---------------------------------------------------------------------------\u001b[0m",
            "\u001b[0;31mAttributeError\u001b[0m                            Traceback (most recent call last)",
            "\u001b[0;32m<ipython-input-22-37fd3c514cd4>\u001b[0m in \u001b[0;36m<module>\u001b[0;34m()\u001b[0m\n\u001b[1;32m      2\u001b[0m \u001b[0mfa\u001b[0m \u001b[0;34m=\u001b[0m \u001b[0mFactorAnalyzer\u001b[0m\u001b[0;34m(\u001b[0m\u001b[0;34m)\u001b[0m\u001b[0;34m\u001b[0m\u001b[0;34m\u001b[0m\u001b[0m\n\u001b[1;32m      3\u001b[0m \u001b[0;34m\u001b[0m\u001b[0m\n\u001b[0;32m----> 4\u001b[0;31m \u001b[0mfa\u001b[0m\u001b[0;34m.\u001b[0m\u001b[0manalyze\u001b[0m\u001b[0;34m(\u001b[0m\u001b[0mBFI_data_dropped\u001b[0m\u001b[0;34m,\u001b[0m \u001b[0;36m25\u001b[0m\u001b[0;34m,\u001b[0m \u001b[0mrotation\u001b[0m\u001b[0;34m=\u001b[0m\u001b[0;32mNone\u001b[0m\u001b[0;34m)\u001b[0m\u001b[0;34m\u001b[0m\u001b[0;34m\u001b[0m\u001b[0m\n\u001b[0m\u001b[1;32m      5\u001b[0m \u001b[0;31m# Checl Ejgenvalues\u001b[0m\u001b[0;34m\u001b[0m\u001b[0;34m\u001b[0m\u001b[0;34m\u001b[0m\u001b[0m\n",
            "\u001b[0;31mAttributeError\u001b[0m: 'FactorAnalyzer' object has no attribute 'analyze'"
          ]
        }
      ]
    },
    {
      "cell_type": "markdown",
      "metadata": {
        "id": "sacCuc9_Moee"
      },
      "source": [
        "#รัน factor annalyzer ด้วย parameter จำนวนเท่ากับ 6"
      ]
    },
    {
      "cell_type": "code",
      "metadata": {
        "id": "2GkNRDQ_9bPt"
      },
      "source": [
        "from factor_analyzer import  FactorAnalyzer #import\n",
        "fa2 = FactorAnalyzer(n_factors=6)#define\n",
        "data_fa = fa2.fit_transform(BFI_data_dropped)"
      ],
      "execution_count": 22,
      "outputs": []
    },
    {
      "cell_type": "code",
      "metadata": {
        "id": "-9rWtrn-9bNe",
        "colab": {
          "base_uri": "https://localhost:8080/"
        },
        "outputId": "c4775cbf-9bdd-4104-b28f-e8c11cd34261"
      },
      "source": [
        "fa2.loadings_.shape"
      ],
      "execution_count": 23,
      "outputs": [
        {
          "output_type": "execute_result",
          "data": {
            "text/plain": [
              "(25, 6)"
            ]
          },
          "metadata": {
            "tags": []
          },
          "execution_count": 23
        }
      ]
    },
    {
      "cell_type": "code",
      "metadata": {
        "id": "Y2s1KAHKp1xp"
      },
      "source": [
        "from matplotlib import pyplot as plt\n",
        "import numpy as np\n",
        "import matplotlib"
      ],
      "execution_count": 24,
      "outputs": []
    },
    {
      "cell_type": "markdown",
      "metadata": {
        "id": "wk-QdGJaOxQ2"
      },
      "source": [
        "#plot factor loadings\n"
      ]
    },
    {
      "cell_type": "code",
      "metadata": {
        "id": "RNE10hEQCydG"
      },
      "source": [
        "from matplotlib import pyplot as plt\n",
        "import numpy as np\n"
      ],
      "execution_count": 25,
      "outputs": []
    },
    {
      "cell_type": "markdown",
      "metadata": {
        "id": "sAzZgMiFRqNl"
      },
      "source": [
        "#matrix plot"
      ]
    },
    {
      "cell_type": "code",
      "metadata": {
        "id": "Z-JH8fSGCybP",
        "colab": {
          "base_uri": "https://localhost:8080/",
          "height": 881
        },
        "outputId": "adaf58ed-6d86-4b5d-91f4-4845bc820fd7"
      },
      "source": [
        "matplotlib.rcParams['figure.figsize']=[15,15]\n",
        "plt.imshow(np.absolute(fa2.loadings_))"
      ],
      "execution_count": 26,
      "outputs": [
        {
          "output_type": "execute_result",
          "data": {
            "text/plain": [
              "<matplotlib.image.AxesImage at 0x7f63320ab750>"
            ]
          },
          "metadata": {
            "tags": []
          },
          "execution_count": 26
        },
        {
          "output_type": "display_data",
          "data": {
            "image/png": "[encoded data removed]",
            "text/plain": [
              "<Figure size 1080x1080 with 1 Axes>"
            ]
          },
          "metadata": {
            "tags": [],
            "needs_background": "light"
          }
        }
      ]
    },
    {
      "cell_type": "markdown",
      "metadata": {
        "id": "3TfCMovuRvx2"
      },
      "source": [
        "#กราฟแท่ง"
      ]
    },
    {
      "cell_type": "code",
      "metadata": {
        "id": "1tzC1u1TP8lV",
        "colab": {
          "base_uri": "https://localhost:8080/"
        },
        "outputId": "82fb1616-0fff-4189-b3c5-93e4864fa8d3"
      },
      "source": [
        "BFI_data_dropped.columns"
      ],
      "execution_count": 27,
      "outputs": [
        {
          "output_type": "execute_result",
          "data": {
            "text/plain": [
              "Index(['A1', 'A2', 'A3', 'A4', 'A5', 'C1', 'C2', 'C3', 'C4', 'C5', 'E1', 'E2',\n",
              "       'E3', 'E4', 'E5', 'N1', 'N2', 'N3', 'N4', 'N5', 'O1', 'O2', 'O3', 'O4',\n",
              "       'O5'],\n",
              "      dtype='object')"
            ]
          },
          "metadata": {
            "tags": []
          },
          "execution_count": 27
        }
      ]
    },
    {
      "cell_type": "code",
      "metadata": {
        "id": "0NVyzI_PCyY4",
        "colab": {
          "base_uri": "https://localhost:8080/",
          "height": 864
        },
        "outputId": "0e86df40-75a2-4d67-ab16-a18990d5ddc2"
      },
      "source": [
        "plt.bar(range(25),np.absolute(fa2.loadings_[:,0]),tick_label=BFI_data_dropped.columns)"
      ],
      "execution_count": 28,
      "outputs": [
        {
          "output_type": "execute_result",
          "data": {
            "text/plain": [
              "<BarContainer object of 25 artists>"
            ]
          },
          "metadata": {
            "tags": []
          },
          "execution_count": 28
        },
        {
          "output_type": "display_data",
          "data": {
            "image/png": "[encoded data removed]",
            "text/plain": [
              "<Figure size 1080x1080 with 1 Axes>"
            ]
          },
          "metadata": {
            "tags": [],
            "needs_background": "light"
          }
        }
      ]
    },
    {
      "cell_type": "markdown",
      "metadata": {
        "id": "1Ekf1w4PqJQB"
      },
      "source": [
        "#Exam 3"
      ]
    },
    {
      "cell_type": "markdown",
      "metadata": {
        "id": "lF20IEJKqO6h"
      },
      "source": [
        "ทำ Factor Analysis ข้อมูล Fifa 2018 \n",
        "\n",
        "```\n",
        "# This is formatted as code\n",
        "```\n",
        "\n"
      ]
    },
    {
      "cell_type": "code",
      "metadata": {
        "id": "MJRhms9LCyWz",
        "colab": {
          "base_uri": "https://localhost:8080/",
          "height": 834
        },
        "outputId": "e9ee7a78-c932-462f-d9d4-1f3fde8c0f11"
      },
      "source": [
        "ex1 = pd.read_csv('FIFA 2018 Statistics.csv')\n",
        "ex1"
      ],
      "execution_count": 29,
      "outputs": [
        {
          "output_type": "execute_result",
          "data": {
            "text/html": [
              "<div>\n",
              "<style scoped>\n",
              "    .dataframe tbody tr th:only-of-type {\n",
              "        vertical-align: middle;\n",
              "    }\n",
              "\n",
              "    .dataframe tbody tr th {\n",
              "        vertical-align: top;\n",
              "    }\n",
              "\n",
              "    .dataframe thead th {\n",
              "        text-align: right;\n",
              "    }\n",
              "</style>\n",
              "<table border=\"1\" class=\"dataframe\">\n",
              "  <thead>\n",
              "    <tr style=\"text-align: right;\">\n",
              "      <th></th>\n",
              "      <th>Date</th>\n",
              "      <th>Team</th>\n",
              "      <th>Opponent</th>\n",
              "      <th>Goal Scored</th>\n",
              "      <th>Ball Possession %</th>\n",
              "      <th>Attempts</th>\n",
              "      <th>On-Target</th>\n",
              "      <th>Off-Target</th>\n",
              "      <th>Blocked</th>\n",
              "      <th>Corners</th>\n",
              "      <th>Offsides</th>\n",
              "      <th>Free Kicks</th>\n",
              "      <th>Saves</th>\n",
              "      <th>Pass Accuracy %</th>\n",
              "      <th>Passes</th>\n",
              "      <th>Distance Covered (Kms)</th>\n",
              "      <th>Fouls Committed</th>\n",
              "      <th>Yellow Card</th>\n",
              "      <th>Yellow &amp; Red</th>\n",
              "      <th>Red</th>\n",
              "      <th>Man of the Match</th>\n",
              "      <th>1st Goal</th>\n",
              "      <th>Round</th>\n",
              "      <th>PSO</th>\n",
              "      <th>Goals in PSO</th>\n",
              "      <th>Own goals</th>\n",
              "      <th>Own goal Time</th>\n",
              "    </tr>\n",
              "  </thead>\n",
              "  <tbody>\n",
              "    <tr>\n",
              "      <th>0</th>\n",
              "      <td>14-06-2018</td>\n",
              "      <td>Russia</td>\n",
              "      <td>Saudi Arabia</td>\n",
              "      <td>5</td>\n",
              "      <td>40</td>\n",
              "      <td>13</td>\n",
              "      <td>7</td>\n",
              "      <td>3</td>\n",
              "      <td>3</td>\n",
              "      <td>6</td>\n",
              "      <td>3</td>\n",
              "      <td>11</td>\n",
              "      <td>0</td>\n",
              "      <td>78</td>\n",
              "      <td>306</td>\n",
              "      <td>118</td>\n",
              "      <td>22</td>\n",
              "      <td>0</td>\n",
              "      <td>0</td>\n",
              "      <td>0</td>\n",
              "      <td>Yes</td>\n",
              "      <td>12.0</td>\n",
              "      <td>Group Stage</td>\n",
              "      <td>No</td>\n",
              "      <td>0</td>\n",
              "      <td>NaN</td>\n",
              "      <td>NaN</td>\n",
              "    </tr>\n",
              "    <tr>\n",
              "      <th>1</th>\n",
              "      <td>14-06-2018</td>\n",
              "      <td>Saudi Arabia</td>\n",
              "      <td>Russia</td>\n",
              "      <td>0</td>\n",
              "      <td>60</td>\n",
              "      <td>6</td>\n",
              "      <td>0</td>\n",
              "      <td>3</td>\n",
              "      <td>3</td>\n",
              "      <td>2</td>\n",
              "      <td>1</td>\n",
              "      <td>25</td>\n",
              "      <td>2</td>\n",
              "      <td>86</td>\n",
              "      <td>511</td>\n",
              "      <td>105</td>\n",
              "      <td>10</td>\n",
              "      <td>0</td>\n",
              "      <td>0</td>\n",
              "      <td>0</td>\n",
              "      <td>No</td>\n",
              "      <td>NaN</td>\n",
              "      <td>Group Stage</td>\n",
              "      <td>No</td>\n",
              "      <td>0</td>\n",
              "      <td>NaN</td>\n",
              "      <td>NaN</td>\n",
              "    </tr>\n",
              "    <tr>\n",
              "      <th>2</th>\n",
              "      <td>15-06-2018</td>\n",
              "      <td>Egypt</td>\n",
              "      <td>Uruguay</td>\n",
              "      <td>0</td>\n",
              "      <td>43</td>\n",
              "      <td>8</td>\n",
              "      <td>3</td>\n",
              "      <td>3</td>\n",
              "      <td>2</td>\n",
              "      <td>0</td>\n",
              "      <td>1</td>\n",
              "      <td>7</td>\n",
              "      <td>3</td>\n",
              "      <td>78</td>\n",
              "      <td>395</td>\n",
              "      <td>112</td>\n",
              "      <td>12</td>\n",
              "      <td>2</td>\n",
              "      <td>0</td>\n",
              "      <td>0</td>\n",
              "      <td>No</td>\n",
              "      <td>NaN</td>\n",
              "      <td>Group Stage</td>\n",
              "      <td>No</td>\n",
              "      <td>0</td>\n",
              "      <td>NaN</td>\n",
              "      <td>NaN</td>\n",
              "    </tr>\n",
              "    <tr>\n",
              "      <th>3</th>\n",
              "      <td>15-06-2018</td>\n",
              "      <td>Uruguay</td>\n",
              "      <td>Egypt</td>\n",
              "      <td>1</td>\n",
              "      <td>57</td>\n",
              "      <td>14</td>\n",
              "      <td>4</td>\n",
              "      <td>6</td>\n",
              "      <td>4</td>\n",
              "      <td>5</td>\n",
              "      <td>1</td>\n",
              "      <td>13</td>\n",
              "      <td>3</td>\n",
              "      <td>86</td>\n",
              "      <td>589</td>\n",
              "      <td>111</td>\n",
              "      <td>6</td>\n",
              "      <td>0</td>\n",
              "      <td>0</td>\n",
              "      <td>0</td>\n",
              "      <td>Yes</td>\n",
              "      <td>89.0</td>\n",
              "      <td>Group Stage</td>\n",
              "      <td>No</td>\n",
              "      <td>0</td>\n",
              "      <td>NaN</td>\n",
              "      <td>NaN</td>\n",
              "    </tr>\n",
              "    <tr>\n",
              "      <th>4</th>\n",
              "      <td>15-06-2018</td>\n",
              "      <td>Morocco</td>\n",
              "      <td>Iran</td>\n",
              "      <td>0</td>\n",
              "      <td>64</td>\n",
              "      <td>13</td>\n",
              "      <td>3</td>\n",
              "      <td>6</td>\n",
              "      <td>4</td>\n",
              "      <td>5</td>\n",
              "      <td>0</td>\n",
              "      <td>14</td>\n",
              "      <td>2</td>\n",
              "      <td>86</td>\n",
              "      <td>433</td>\n",
              "      <td>101</td>\n",
              "      <td>22</td>\n",
              "      <td>1</td>\n",
              "      <td>0</td>\n",
              "      <td>0</td>\n",
              "      <td>No</td>\n",
              "      <td>NaN</td>\n",
              "      <td>Group Stage</td>\n",
              "      <td>No</td>\n",
              "      <td>0</td>\n",
              "      <td>1.0</td>\n",
              "      <td>90.0</td>\n",
              "    </tr>\n",
              "    <tr>\n",
              "      <th>...</th>\n",
              "      <td>...</td>\n",
              "      <td>...</td>\n",
              "      <td>...</td>\n",
              "      <td>...</td>\n",
              "      <td>...</td>\n",
              "      <td>...</td>\n",
              "      <td>...</td>\n",
              "      <td>...</td>\n",
              "      <td>...</td>\n",
              "      <td>...</td>\n",
              "      <td>...</td>\n",
              "      <td>...</td>\n",
              "      <td>...</td>\n",
              "      <td>...</td>\n",
              "      <td>...</td>\n",
              "      <td>...</td>\n",
              "      <td>...</td>\n",
              "      <td>...</td>\n",
              "      <td>...</td>\n",
              "      <td>...</td>\n",
              "      <td>...</td>\n",
              "      <td>...</td>\n",
              "      <td>...</td>\n",
              "      <td>...</td>\n",
              "      <td>...</td>\n",
              "      <td>...</td>\n",
              "      <td>...</td>\n",
              "    </tr>\n",
              "    <tr>\n",
              "      <th>123</th>\n",
              "      <td>11-07-2018</td>\n",
              "      <td>England</td>\n",
              "      <td>Croatia</td>\n",
              "      <td>1</td>\n",
              "      <td>46</td>\n",
              "      <td>11</td>\n",
              "      <td>1</td>\n",
              "      <td>6</td>\n",
              "      <td>4</td>\n",
              "      <td>4</td>\n",
              "      <td>3</td>\n",
              "      <td>24</td>\n",
              "      <td>5</td>\n",
              "      <td>79</td>\n",
              "      <td>479</td>\n",
              "      <td>148</td>\n",
              "      <td>14</td>\n",
              "      <td>1</td>\n",
              "      <td>0</td>\n",
              "      <td>0</td>\n",
              "      <td>No</td>\n",
              "      <td>5.0</td>\n",
              "      <td>Semi- Finals</td>\n",
              "      <td>No</td>\n",
              "      <td>0</td>\n",
              "      <td>NaN</td>\n",
              "      <td>NaN</td>\n",
              "    </tr>\n",
              "    <tr>\n",
              "      <th>124</th>\n",
              "      <td>14-07-2018</td>\n",
              "      <td>Belgium</td>\n",
              "      <td>England</td>\n",
              "      <td>2</td>\n",
              "      <td>43</td>\n",
              "      <td>12</td>\n",
              "      <td>4</td>\n",
              "      <td>3</td>\n",
              "      <td>5</td>\n",
              "      <td>4</td>\n",
              "      <td>1</td>\n",
              "      <td>5</td>\n",
              "      <td>5</td>\n",
              "      <td>88</td>\n",
              "      <td>510</td>\n",
              "      <td>108</td>\n",
              "      <td>11</td>\n",
              "      <td>1</td>\n",
              "      <td>0</td>\n",
              "      <td>0</td>\n",
              "      <td>Yes</td>\n",
              "      <td>4.0</td>\n",
              "      <td>3rd Place</td>\n",
              "      <td>No</td>\n",
              "      <td>0</td>\n",
              "      <td>NaN</td>\n",
              "      <td>NaN</td>\n",
              "    </tr>\n",
              "    <tr>\n",
              "      <th>125</th>\n",
              "      <td>14-07-2018</td>\n",
              "      <td>England</td>\n",
              "      <td>Belgium</td>\n",
              "      <td>0</td>\n",
              "      <td>57</td>\n",
              "      <td>15</td>\n",
              "      <td>5</td>\n",
              "      <td>7</td>\n",
              "      <td>3</td>\n",
              "      <td>5</td>\n",
              "      <td>0</td>\n",
              "      <td>12</td>\n",
              "      <td>2</td>\n",
              "      <td>92</td>\n",
              "      <td>698</td>\n",
              "      <td>110</td>\n",
              "      <td>5</td>\n",
              "      <td>2</td>\n",
              "      <td>0</td>\n",
              "      <td>0</td>\n",
              "      <td>No</td>\n",
              "      <td>NaN</td>\n",
              "      <td>3rd Place</td>\n",
              "      <td>No</td>\n",
              "      <td>0</td>\n",
              "      <td>NaN</td>\n",
              "      <td>NaN</td>\n",
              "    </tr>\n",
              "    <tr>\n",
              "      <th>126</th>\n",
              "      <td>15-07-2018</td>\n",
              "      <td>France</td>\n",
              "      <td>Croatia</td>\n",
              "      <td>4</td>\n",
              "      <td>39</td>\n",
              "      <td>8</td>\n",
              "      <td>6</td>\n",
              "      <td>1</td>\n",
              "      <td>1</td>\n",
              "      <td>2</td>\n",
              "      <td>1</td>\n",
              "      <td>14</td>\n",
              "      <td>1</td>\n",
              "      <td>75</td>\n",
              "      <td>271</td>\n",
              "      <td>99</td>\n",
              "      <td>14</td>\n",
              "      <td>2</td>\n",
              "      <td>0</td>\n",
              "      <td>0</td>\n",
              "      <td>Yes</td>\n",
              "      <td>18.0</td>\n",
              "      <td>Final</td>\n",
              "      <td>No</td>\n",
              "      <td>0</td>\n",
              "      <td>1.0</td>\n",
              "      <td>18.0</td>\n",
              "    </tr>\n",
              "    <tr>\n",
              "      <th>127</th>\n",
              "      <td>15-07-2018</td>\n",
              "      <td>Croatia</td>\n",
              "      <td>France</td>\n",
              "      <td>2</td>\n",
              "      <td>61</td>\n",
              "      <td>15</td>\n",
              "      <td>3</td>\n",
              "      <td>8</td>\n",
              "      <td>4</td>\n",
              "      <td>6</td>\n",
              "      <td>1</td>\n",
              "      <td>15</td>\n",
              "      <td>3</td>\n",
              "      <td>83</td>\n",
              "      <td>547</td>\n",
              "      <td>100</td>\n",
              "      <td>13</td>\n",
              "      <td>1</td>\n",
              "      <td>0</td>\n",
              "      <td>0</td>\n",
              "      <td>No</td>\n",
              "      <td>28.0</td>\n",
              "      <td>Final</td>\n",
              "      <td>No</td>\n",
              "      <td>0</td>\n",
              "      <td>NaN</td>\n",
              "      <td>NaN</td>\n",
              "    </tr>\n",
              "  </tbody>\n",
              "</table>\n",
              "<p>128 rows × 27 columns</p>\n",
              "</div>"
            ],
            "text/plain": [
              "           Date          Team  ... Own goals  Own goal Time\n",
              "0    14-06-2018        Russia  ...       NaN            NaN\n",
              "1    14-06-2018  Saudi Arabia  ...       NaN            NaN\n",
              "2    15-06-2018         Egypt  ...       NaN            NaN\n",
              "3    15-06-2018       Uruguay  ...       NaN            NaN\n",
              "4    15-06-2018       Morocco  ...       1.0           90.0\n",
              "..          ...           ...  ...       ...            ...\n",
              "123  11-07-2018       England  ...       NaN            NaN\n",
              "124  14-07-2018       Belgium  ...       NaN            NaN\n",
              "125  14-07-2018       England  ...       NaN            NaN\n",
              "126  15-07-2018        France  ...       1.0           18.0\n",
              "127  15-07-2018       Croatia  ...       NaN            NaN\n",
              "\n",
              "[128 rows x 27 columns]"
            ]
          },
          "metadata": {
            "tags": []
          },
          "execution_count": 29
        }
      ]
    },
    {
      "cell_type": "markdown",
      "metadata": {
        "id": "AJG2FYNbq34M"
      },
      "source": [
        "###จากข้อมูลที่ได้มาต้องเลือกข้อมูลที่ต้องการคือ Goal - scored ถึง red"
      ]
    },
    {
      "cell_type": "code",
      "metadata": {
        "id": "6Mp9ysCACyUY",
        "colab": {
          "base_uri": "https://localhost:8080/"
        },
        "outputId": "c0ac3454-f6c5-4e48-e4ff-51a36bde94b1"
      },
      "source": [
        "ex1.shape"
      ],
      "execution_count": 30,
      "outputs": [
        {
          "output_type": "execute_result",
          "data": {
            "text/plain": [
              "(128, 27)"
            ]
          },
          "metadata": {
            "tags": []
          },
          "execution_count": 30
        }
      ]
    },
    {
      "cell_type": "code",
      "metadata": {
        "id": "2EVx86Z7CySN",
        "colab": {
          "base_uri": "https://localhost:8080/",
          "height": 470
        },
        "outputId": "9370d598-5f9a-4647-d4e1-2d435bcebf98"
      },
      "source": [
        "ex1_dropped = ex1.iloc[:,3:20] #เลือกคอลัมน์ที่ต้องการหา\n",
        "ex1_dropped"
      ],
      "execution_count": 31,
      "outputs": [
        {
          "output_type": "execute_result",
          "data": {
            "text/html": [
              "<div>\n",
              "<style scoped>\n",
              "    .dataframe tbody tr th:only-of-type {\n",
              "        vertical-align: middle;\n",
              "    }\n",
              "\n",
              "    .dataframe tbody tr th {\n",
              "        vertical-align: top;\n",
              "    }\n",
              "\n",
              "    .dataframe thead th {\n",
              "        text-align: right;\n",
              "    }\n",
              "</style>\n",
              "<table border=\"1\" class=\"dataframe\">\n",
              "  <thead>\n",
              "    <tr style=\"text-align: right;\">\n",
              "      <th></th>\n",
              "      <th>Goal Scored</th>\n",
              "      <th>Ball Possession %</th>\n",
              "      <th>Attempts</th>\n",
              "      <th>On-Target</th>\n",
              "      <th>Off-Target</th>\n",
              "      <th>Blocked</th>\n",
              "      <th>Corners</th>\n",
              "      <th>Offsides</th>\n",
              "      <th>Free Kicks</th>\n",
              "      <th>Saves</th>\n",
              "      <th>Pass Accuracy %</th>\n",
              "      <th>Passes</th>\n",
              "      <th>Distance Covered (Kms)</th>\n",
              "      <th>Fouls Committed</th>\n",
              "      <th>Yellow Card</th>\n",
              "      <th>Yellow &amp; Red</th>\n",
              "      <th>Red</th>\n",
              "    </tr>\n",
              "  </thead>\n",
              "  <tbody>\n",
              "    <tr>\n",
              "      <th>0</th>\n",
              "      <td>5</td>\n",
              "      <td>40</td>\n",
              "      <td>13</td>\n",
              "      <td>7</td>\n",
              "      <td>3</td>\n",
              "      <td>3</td>\n",
              "      <td>6</td>\n",
              "      <td>3</td>\n",
              "      <td>11</td>\n",
              "      <td>0</td>\n",
              "      <td>78</td>\n",
              "      <td>306</td>\n",
              "      <td>118</td>\n",
              "      <td>22</td>\n",
              "      <td>0</td>\n",
              "      <td>0</td>\n",
              "      <td>0</td>\n",
              "    </tr>\n",
              "    <tr>\n",
              "      <th>1</th>\n",
              "      <td>0</td>\n",
              "      <td>60</td>\n",
              "      <td>6</td>\n",
              "      <td>0</td>\n",
              "      <td>3</td>\n",
              "      <td>3</td>\n",
              "      <td>2</td>\n",
              "      <td>1</td>\n",
              "      <td>25</td>\n",
              "      <td>2</td>\n",
              "      <td>86</td>\n",
              "      <td>511</td>\n",
              "      <td>105</td>\n",
              "      <td>10</td>\n",
              "      <td>0</td>\n",
              "      <td>0</td>\n",
              "      <td>0</td>\n",
              "    </tr>\n",
              "    <tr>\n",
              "      <th>2</th>\n",
              "      <td>0</td>\n",
              "      <td>43</td>\n",
              "      <td>8</td>\n",
              "      <td>3</td>\n",
              "      <td>3</td>\n",
              "      <td>2</td>\n",
              "      <td>0</td>\n",
              "      <td>1</td>\n",
              "      <td>7</td>\n",
              "      <td>3</td>\n",
              "      <td>78</td>\n",
              "      <td>395</td>\n",
              "      <td>112</td>\n",
              "      <td>12</td>\n",
              "      <td>2</td>\n",
              "      <td>0</td>\n",
              "      <td>0</td>\n",
              "    </tr>\n",
              "    <tr>\n",
              "      <th>3</th>\n",
              "      <td>1</td>\n",
              "      <td>57</td>\n",
              "      <td>14</td>\n",
              "      <td>4</td>\n",
              "      <td>6</td>\n",
              "      <td>4</td>\n",
              "      <td>5</td>\n",
              "      <td>1</td>\n",
              "      <td>13</td>\n",
              "      <td>3</td>\n",
              "      <td>86</td>\n",
              "      <td>589</td>\n",
              "      <td>111</td>\n",
              "      <td>6</td>\n",
              "      <td>0</td>\n",
              "      <td>0</td>\n",
              "      <td>0</td>\n",
              "    </tr>\n",
              "    <tr>\n",
              "      <th>4</th>\n",
              "      <td>0</td>\n",
              "      <td>64</td>\n",
              "      <td>13</td>\n",
              "      <td>3</td>\n",
              "      <td>6</td>\n",
              "      <td>4</td>\n",
              "      <td>5</td>\n",
              "      <td>0</td>\n",
              "      <td>14</td>\n",
              "      <td>2</td>\n",
              "      <td>86</td>\n",
              "      <td>433</td>\n",
              "      <td>101</td>\n",
              "      <td>22</td>\n",
              "      <td>1</td>\n",
              "      <td>0</td>\n",
              "      <td>0</td>\n",
              "    </tr>\n",
              "    <tr>\n",
              "      <th>...</th>\n",
              "      <td>...</td>\n",
              "      <td>...</td>\n",
              "      <td>...</td>\n",
              "      <td>...</td>\n",
              "      <td>...</td>\n",
              "      <td>...</td>\n",
              "      <td>...</td>\n",
              "      <td>...</td>\n",
              "      <td>...</td>\n",
              "      <td>...</td>\n",
              "      <td>...</td>\n",
              "      <td>...</td>\n",
              "      <td>...</td>\n",
              "      <td>...</td>\n",
              "      <td>...</td>\n",
              "      <td>...</td>\n",
              "      <td>...</td>\n",
              "    </tr>\n",
              "    <tr>\n",
              "      <th>123</th>\n",
              "      <td>1</td>\n",
              "      <td>46</td>\n",
              "      <td>11</td>\n",
              "      <td>1</td>\n",
              "      <td>6</td>\n",
              "      <td>4</td>\n",
              "      <td>4</td>\n",
              "      <td>3</td>\n",
              "      <td>24</td>\n",
              "      <td>5</td>\n",
              "      <td>79</td>\n",
              "      <td>479</td>\n",
              "      <td>148</td>\n",
              "      <td>14</td>\n",
              "      <td>1</td>\n",
              "      <td>0</td>\n",
              "      <td>0</td>\n",
              "    </tr>\n",
              "    <tr>\n",
              "      <th>124</th>\n",
              "      <td>2</td>\n",
              "      <td>43</td>\n",
              "      <td>12</td>\n",
              "      <td>4</td>\n",
              "      <td>3</td>\n",
              "      <td>5</td>\n",
              "      <td>4</td>\n",
              "      <td>1</td>\n",
              "      <td>5</td>\n",
              "      <td>5</td>\n",
              "      <td>88</td>\n",
              "      <td>510</td>\n",
              "      <td>108</td>\n",
              "      <td>11</td>\n",
              "      <td>1</td>\n",
              "      <td>0</td>\n",
              "      <td>0</td>\n",
              "    </tr>\n",
              "    <tr>\n",
              "      <th>125</th>\n",
              "      <td>0</td>\n",
              "      <td>57</td>\n",
              "      <td>15</td>\n",
              "      <td>5</td>\n",
              "      <td>7</td>\n",
              "      <td>3</td>\n",
              "      <td>5</td>\n",
              "      <td>0</td>\n",
              "      <td>12</td>\n",
              "      <td>2</td>\n",
              "      <td>92</td>\n",
              "      <td>698</td>\n",
              "      <td>110</td>\n",
              "      <td>5</td>\n",
              "      <td>2</td>\n",
              "      <td>0</td>\n",
              "      <td>0</td>\n",
              "    </tr>\n",
              "    <tr>\n",
              "      <th>126</th>\n",
              "      <td>4</td>\n",
              "      <td>39</td>\n",
              "      <td>8</td>\n",
              "      <td>6</td>\n",
              "      <td>1</td>\n",
              "      <td>1</td>\n",
              "      <td>2</td>\n",
              "      <td>1</td>\n",
              "      <td>14</td>\n",
              "      <td>1</td>\n",
              "      <td>75</td>\n",
              "      <td>271</td>\n",
              "      <td>99</td>\n",
              "      <td>14</td>\n",
              "      <td>2</td>\n",
              "      <td>0</td>\n",
              "      <td>0</td>\n",
              "    </tr>\n",
              "    <tr>\n",
              "      <th>127</th>\n",
              "      <td>2</td>\n",
              "      <td>61</td>\n",
              "      <td>15</td>\n",
              "      <td>3</td>\n",
              "      <td>8</td>\n",
              "      <td>4</td>\n",
              "      <td>6</td>\n",
              "      <td>1</td>\n",
              "      <td>15</td>\n",
              "      <td>3</td>\n",
              "      <td>83</td>\n",
              "      <td>547</td>\n",
              "      <td>100</td>\n",
              "      <td>13</td>\n",
              "      <td>1</td>\n",
              "      <td>0</td>\n",
              "      <td>0</td>\n",
              "    </tr>\n",
              "  </tbody>\n",
              "</table>\n",
              "<p>128 rows × 17 columns</p>\n",
              "</div>"
            ],
            "text/plain": [
              "     Goal Scored  Ball Possession %  Attempts  ...  Yellow Card  Yellow & Red  Red\n",
              "0              5                 40        13  ...            0             0    0\n",
              "1              0                 60         6  ...            0             0    0\n",
              "2              0                 43         8  ...            2             0    0\n",
              "3              1                 57        14  ...            0             0    0\n",
              "4              0                 64        13  ...            1             0    0\n",
              "..           ...                ...       ...  ...          ...           ...  ...\n",
              "123            1                 46        11  ...            1             0    0\n",
              "124            2                 43        12  ...            1             0    0\n",
              "125            0                 57        15  ...            2             0    0\n",
              "126            4                 39         8  ...            2             0    0\n",
              "127            2                 61        15  ...            1             0    0\n",
              "\n",
              "[128 rows x 17 columns]"
            ]
          },
          "metadata": {
            "tags": []
          },
          "execution_count": 31
        }
      ]
    },
    {
      "cell_type": "code",
      "metadata": {
        "id": "6odfna13CyQD",
        "colab": {
          "base_uri": "https://localhost:8080/"
        },
        "outputId": "cf05564d-1c70-40f1-d2bc-7344ad171044"
      },
      "source": [
        "ex1_dropped.shape #เรียกดูขนาดข้อมูล"
      ],
      "execution_count": 32,
      "outputs": [
        {
          "output_type": "execute_result",
          "data": {
            "text/plain": [
              "(128, 17)"
            ]
          },
          "metadata": {
            "tags": []
          },
          "execution_count": 32
        }
      ]
    },
    {
      "cell_type": "markdown",
      "metadata": {
        "id": "3xl1nUf4rdEP"
      },
      "source": [
        "#Bartlett’s test\n",
        "เพื่อดูค่า p-value ที่เข้าใกล้ค่า 0 มากที่สุด"
      ]
    },
    {
      "cell_type": "code",
      "metadata": {
        "id": "Au91JkpZ9bKs",
        "colab": {
          "base_uri": "https://localhost:8080/"
        },
        "outputId": "3ffb5602-14d3-4929-ac5e-44d29a5db89d"
      },
      "source": [
        "from factor_analyzer.factor_analyzer import calculate_bartlett_sphericity\n",
        "chi_square_value,p_value = calculate_bartlett_sphericity(ex1_dropped)\n",
        "chi_square_value, p_value"
      ],
      "execution_count": 33,
      "outputs": [
        {
          "output_type": "execute_result",
          "data": {
            "text/plain": [
              "(1299.3697851171412, 2.713580160466225e-189)"
            ]
          },
          "metadata": {
            "tags": []
          },
          "execution_count": 33
        }
      ]
    },
    {
      "cell_type": "markdown",
      "metadata": {
        "id": "HJtsginbsA6L"
      },
      "source": [
        "จากการใช้ Bartlett’s test ในการตรวจสอบพบว่า ค่า p-value = 2.7135*10^-189 ซึ่งเป็นค่าที่เข้าใกล้ 0 โดยสามารถนำไปทำการทดสอบในขั้นถัดไปได้\n",
        "\n",
        "\n",
        "\n",
        "\n",
        "\n",
        "\n"
      ]
    },
    {
      "cell_type": "markdown",
      "metadata": {
        "id": "APm0EBlbsh0O"
      },
      "source": [
        "#KMO Test\n"
      ]
    },
    {
      "cell_type": "code",
      "metadata": {
        "id": "BgPrG7sTrpSG",
        "colab": {
          "base_uri": "https://localhost:8080/"
        },
        "outputId": "c1e2b6ba-54f4-4463-ba3f-43ad85e859e9"
      },
      "source": [
        "from factor_analyzer.factor_analyzer import calculate_kmo\n",
        "kmo_all,kmo_model=calculate_kmo(ex1_dropped)\n",
        "kmo_model"
      ],
      "execution_count": 34,
      "outputs": [
        {
          "output_type": "execute_result",
          "data": {
            "text/plain": [
              "0.5594556344508279"
            ]
          },
          "metadata": {
            "tags": []
          },
          "execution_count": 34
        }
      ]
    },
    {
      "cell_type": "markdown",
      "metadata": {
        "id": "hGO5SI49ssVP"
      },
      "source": [
        "จากการทดสอบด้วย KMO มีค่าประมาณ 0.56 หรือประมาณได้ 0.6 แปลว่า ตัวแปรนี้หรือข้อมูลตัวนี้นั้นเหมาะสมที่นำไปทำ Factor Analysis"
      ]
    },
    {
      "cell_type": "markdown",
      "metadata": {
        "id": "pJlTNf3ls7Co"
      },
      "source": [
        "#Factor Analysis\n"
      ]
    },
    {
      "cell_type": "code",
      "metadata": {
        "id": "rSTXTyjprpO5"
      },
      "source": [
        "from factor_analyzer import FactorAnalyzer"
      ],
      "execution_count": 35,
      "outputs": []
    },
    {
      "cell_type": "code",
      "metadata": {
        "id": "nkBIQ5mdrpMn"
      },
      "source": [
        "ex1_fa = FactorAnalyzer(n_factors=5)"
      ],
      "execution_count": 46,
      "outputs": []
    },
    {
      "cell_type": "code",
      "metadata": {
        "id": "VIX2Yf4vrpIW"
      },
      "source": [
        "data_ex1_fa = ex1_fa.fit_transform(ex1_dropped)"
      ],
      "execution_count": 47,
      "outputs": []
    },
    {
      "cell_type": "code",
      "metadata": {
        "id": "-8X_JPptrpGK",
        "colab": {
          "base_uri": "https://localhost:8080/"
        },
        "outputId": "e4217f90-6649-4df0-a122-58f77ff27af0"
      },
      "source": [
        "data_ex1_fa.shape #เรียกดูขนาดข้อมูล"
      ],
      "execution_count": 48,
      "outputs": [
        {
          "output_type": "execute_result",
          "data": {
            "text/plain": [
              "(128, 5)"
            ]
          },
          "metadata": {
            "tags": []
          },
          "execution_count": 48
        }
      ]
    },
    {
      "cell_type": "markdown",
      "metadata": {
        "id": "VppxbwzXux0g"
      },
      "source": [
        "#ลด Dimeansion จาก eigen values"
      ]
    },
    {
      "cell_type": "code",
      "metadata": {
        "id": "VaeLlphqrpD0",
        "colab": {
          "base_uri": "https://localhost:8080/"
        },
        "outputId": "aba4d4a6-af8a-4e26-8cb2-d325d922d2b4"
      },
      "source": [
        "ev,v = ex1_fa.get_eigenvalues()\n",
        "ev"
      ],
      "execution_count": 49,
      "outputs": [
        {
          "output_type": "execute_result",
          "data": {
            "text/plain": [
              "array([4.93533676, 1.66110682, 1.45898601, 1.31857945, 1.27991548,\n",
              "       1.1607222 , 0.89822418, 0.80740568, 0.78874612, 0.65948826,\n",
              "       0.56563441, 0.48116939, 0.38549929, 0.29659929, 0.22859409,\n",
              "       0.06848785, 0.00550471])"
            ]
          },
          "metadata": {
            "tags": []
          },
          "execution_count": 49
        }
      ]
    },
    {
      "cell_type": "markdown",
      "metadata": {
        "id": "3nabQp2KvAEQ"
      },
      "source": [
        "#scree plot"
      ]
    },
    {
      "cell_type": "code",
      "metadata": {
        "id": "mQGBgGaQvBpG",
        "colab": {
          "base_uri": "https://localhost:8080/",
          "height": 872
        },
        "outputId": "c05e9a19-3e73-4919-f980-7bae46030ae2"
      },
      "source": [
        "plt.plot(range(1,ex1_dropped.shape[1]+1),ev,'bo-')\n",
        "plt.plot([0,ex1_dropped.shape[1]+1],[1,1],'r--')\n",
        "plt.title('Scree Plot')\n",
        "plt.xlabel('Factors')\n",
        "plt.ylabel('Eigenvalue')\n",
        "plt.grid()\n",
        "plt.show()\n"
      ],
      "execution_count": 50,
      "outputs": [
        {
          "output_type": "display_data",
          "data": {
            "image/png": "[encoded data removed]",
            "text/plain": [
              "<Figure size 1080x1080 with 1 Axes>"
            ]
          },
          "metadata": {
            "tags": [],
            "needs_background": "light"
          }
        }
      ]
    },
    {
      "cell_type": "markdown",
      "metadata": {
        "id": "WS0di_6rvK3v"
      },
      "source": [
        "สรุปจากการได้ว่า ค่าของข้อมูลนั้น ชมีค่า factor มากกว่า 1 อยู่ 6 ตัว"
      ]
    },
    {
      "cell_type": "code",
      "metadata": {
        "id": "wPidyG2XvBmr",
        "colab": {
          "base_uri": "https://localhost:8080/"
        },
        "outputId": "344690f3-4e49-4c4b-a30c-f14c963497ea"
      },
      "source": [
        "data_ex1_fa[:,:6]"
      ],
      "execution_count": 51,
      "outputs": [
        {
          "output_type": "execute_result",
          "data": {
            "text/plain": [
              "array([[-5.06252545e-01, -7.37614581e-01,  1.85242986e+00,\n",
              "         1.55563695e+00, -4.95043659e-01],\n",
              "       [ 4.97055628e-01, -1.67726907e+00, -4.30559514e-01,\n",
              "        -1.41042452e+00, -5.70672702e-01],\n",
              "       [-7.58047401e-01, -7.89669935e-01, -9.72328840e-02,\n",
              "        -4.70101474e-01, -5.44438704e-01],\n",
              "       [ 4.96573114e-01, -2.63724010e-01, -1.55213677e+00,\n",
              "        -7.35188276e-03,  2.24483222e-01],\n",
              "       [ 1.19858232e+00, -8.97005986e-01,  1.73070605e+00,\n",
              "        -2.79562926e-02, -6.66848308e-02],\n",
              "       [-1.18538181e+00, -1.67706069e-01,  1.51874714e-01,\n",
              "        -5.86008034e-01, -7.82387976e-01],\n",
              "       [-1.04796690e+00, -1.37675722e+00, -1.19199543e-01,\n",
              "        -2.74435119e-01, -2.57309368e-01],\n",
              "       [ 1.19455616e+00, -5.44627462e-01, -5.62703571e-01,\n",
              "         7.16959901e-01, -5.43076695e-01],\n",
              "       [ 2.12993373e-01, -6.94727156e-01,  6.19907519e-01,\n",
              "         7.58297408e-01, -3.44629426e-01],\n",
              "       [-1.86549385e-01, -1.62264722e+00,  1.37981485e+00,\n",
              "        -8.79609773e-01, -1.13897605e+00],\n",
              "       [ 1.96757273e+00,  4.11405269e-01, -1.18549807e+00,\n",
              "         1.17820431e+00,  2.17514772e+00],\n",
              "       [-2.11383734e+00,  1.00654159e+00,  4.70152999e-01,\n",
              "        -6.24836790e-01, -5.95917186e-01],\n",
              "       [ 4.08644398e-01,  4.12515248e-01, -8.19798631e-01,\n",
              "         8.45877783e-01,  4.77450269e-01],\n",
              "       [-2.11630536e-01, -5.18294764e-01,  1.00637725e+00,\n",
              "        -2.24609578e-01, -4.40233726e-01],\n",
              "       [ 4.67445091e-01,  4.38937962e-01,  1.35681458e+00,\n",
              "        -6.01640128e-01, -5.51927071e-01],\n",
              "       [-4.61353684e-01, -1.01884931e-01,  4.92281105e-01,\n",
              "        -9.36616301e-01,  9.28497877e-01],\n",
              "       [-1.10687107e-01, -1.16848639e+00,  1.09198924e+00,\n",
              "        -2.53878332e-01, -8.18161256e-02],\n",
              "       [ 3.50742008e-02, -3.82461930e-01,  4.13801202e-01,\n",
              "        -2.17216550e-01, -5.91200221e-01],\n",
              "       [ 1.18360262e+00,  1.06792984e+00, -1.13212085e+00,\n",
              "         2.04134578e+00,  1.36353167e+00],\n",
              "       [-7.32351752e-01,  5.79933777e-01,  2.52004400e-01,\n",
              "         2.64494419e-02, -2.80248485e-01],\n",
              "       [ 3.23582701e-01,  1.37912872e+00, -6.05046348e-01,\n",
              "        -1.58899943e-01,  1.24257923e+00],\n",
              "       [-1.42703965e-01, -5.25670490e-01,  1.34735351e+00,\n",
              "        -5.31448221e-01, -1.24887126e+00],\n",
              "       [ 2.51029969e-01, -2.97855759e-01,  1.31876258e+00,\n",
              "         1.68140244e-01,  4.91580779e-01],\n",
              "       [-5.11096039e-01, -1.44706292e+00,  2.25518589e+00,\n",
              "        -1.44113440e+00, -5.39864464e-01],\n",
              "       [ 1.21912009e+00,  6.89875664e-02,  5.96520960e-01,\n",
              "         1.29801919e+00, -4.57886871e-01],\n",
              "       [-9.07681854e-01, -1.85142603e-01,  1.16575215e+00,\n",
              "        -6.83822932e-01, -1.09324960e+00],\n",
              "       [-9.96892479e-01, -9.71263378e-01,  3.89436585e-01,\n",
              "        -1.18374704e+00, -5.43905763e-01],\n",
              "       [ 1.01437453e+00, -4.30725165e-01, -1.23765774e+00,\n",
              "         1.56877362e+00, -5.10605650e-02],\n",
              "       [-1.31665234e+00, -1.22233108e+00,  2.50046670e-01,\n",
              "        -8.59333115e-01,  1.34442827e+00],\n",
              "       [ 7.82088306e-01, -7.02173381e-01, -9.01020380e-01,\n",
              "         1.09064811e+00, -1.57788892e-01],\n",
              "       [ 6.89758471e-01, -7.12238041e-01, -9.40324516e-01,\n",
              "         2.93029374e-01, -8.89703265e-01],\n",
              "       [-6.74992346e-01, -6.11943874e-01,  4.47433835e-01,\n",
              "        -7.73489313e-01, -5.46277198e-01],\n",
              "       [-5.29543420e-01, -5.44723869e-01, -5.21161239e-01,\n",
              "        -4.39797649e-01, -1.93119470e-01],\n",
              "       [ 5.58583272e-02,  5.25439718e-01, -8.65478827e-01,\n",
              "        -1.39173888e+00,  2.18597469e-01],\n",
              "       [-4.45524256e-01, -1.13936855e-01,  1.26928036e+00,\n",
              "        -7.88079752e-01, -1.12441761e-01],\n",
              "       [ 5.67823565e-01,  2.15114652e+00,  1.90632423e+00,\n",
              "         1.45129394e-01, -4.31091358e-01],\n",
              "       [-1.39236389e-01,  4.35594282e-01, -6.41968420e-01,\n",
              "         5.16965525e-02, -5.53244225e-02],\n",
              "       [ 1.40458544e-01, -1.11363915e+00,  2.83396209e-01,\n",
              "        -2.54836727e-01, -5.29780437e-01],\n",
              "       [-2.00611682e+00,  7.54603753e-01,  3.92407537e-01,\n",
              "        -1.88513029e+00, -1.03557075e+00],\n",
              "       [ 1.69892477e+00, -1.78232128e-01,  5.02001637e-02,\n",
              "        -4.65479573e-01,  1.13229946e+00],\n",
              "       [-4.21649600e-02, -8.12056712e-01, -1.25026393e+00,\n",
              "         6.35343650e-01, -8.58675450e-01],\n",
              "       [-7.78528443e-02, -6.25736377e-01, -1.77577540e+00,\n",
              "         3.65906688e-01,  3.39294147e-01],\n",
              "       [-6.35576847e-01,  5.63368366e-01, -4.84041448e-01,\n",
              "        -4.37360515e-02, -3.24847003e-01],\n",
              "       [ 4.06520656e-01,  1.09550523e-01,  4.22560243e-01,\n",
              "        -7.91133682e-01, -4.67592963e-01],\n",
              "       [ 4.88007963e-01, -1.10370700e+00,  4.92885854e-01,\n",
              "        -2.79234462e-01, -1.55003617e-01],\n",
              "       [-2.43197664e-01,  1.29099038e+00,  1.81562751e+00,\n",
              "         4.38870439e-01, -2.91067635e-03],\n",
              "       [ 1.81634432e+00,  9.45318662e-01, -7.78754077e-01,\n",
              "         2.19708402e+00,  7.03806424e-01],\n",
              "       [-1.71251610e+00,  1.23949651e-01, -1.82454242e-01,\n",
              "        -1.83302876e+00, -1.01772346e+00],\n",
              "       [ 4.55759180e-01, -5.35395536e-01, -1.11564938e+00,\n",
              "        -7.76580535e-02,  8.64485799e-01],\n",
              "       [-9.72556802e-01, -1.15583882e-02, -5.83531175e-01,\n",
              "        -4.29212186e-01, -5.76567719e-01],\n",
              "       [-5.88790215e-01,  9.15911867e-01,  5.75383306e-01,\n",
              "        -4.12469485e-01, -4.33390536e-01],\n",
              "       [ 8.78026420e-01,  6.55880383e-01, -6.00322532e-01,\n",
              "         3.38897088e-01,  1.09741036e+00],\n",
              "       [ 8.79818073e-01,  1.31007324e+00, -5.78501943e-01,\n",
              "         3.64561170e+00, -3.52997654e-02],\n",
              "       [ 1.99025673e-03,  8.39111139e-01, -1.46747810e-01,\n",
              "         3.53519330e-01,  1.92363677e-01],\n",
              "       [-8.11135488e-01, -1.10035130e+00,  2.01133181e+00,\n",
              "         6.74095917e-01,  1.64921391e+00],\n",
              "       [ 7.28055246e-01, -4.42479868e-01, -1.35460497e+00,\n",
              "         8.08822690e-01, -4.27343097e-01],\n",
              "       [ 1.76998591e+00, -1.49571901e+00, -7.73706517e-01,\n",
              "         2.95843596e-01,  1.18912157e+00],\n",
              "       [-1.82642296e+00, -1.11047789e+00,  1.99210471e-01,\n",
              "         9.70642786e-01, -8.25727024e-01],\n",
              "       [ 1.11869502e+00, -1.31185707e+00,  2.03033858e-01,\n",
              "         1.81344842e+00, -7.62624274e-01],\n",
              "       [-6.84395811e-01,  4.87950752e-02,  4.14370942e-02,\n",
              "        -6.68939986e-01, -7.00206388e-01],\n",
              "       [ 7.31660950e-02, -1.79108677e+00, -9.47005233e-01,\n",
              "        -1.99973191e-01, -6.71772325e-01],\n",
              "       [-1.81329964e-01, -2.49551569e-01,  1.20915447e-01,\n",
              "         1.36175165e+00, -3.73026837e-01],\n",
              "       [-7.62857297e-01, -1.13232318e+00,  5.19688689e-01,\n",
              "        -9.18942648e-01,  9.23421836e-02],\n",
              "       [ 2.54497518e-01, -4.22839908e-01, -7.51558854e-01,\n",
              "        -4.26317409e-01,  3.00999777e-01],\n",
              "       [ 8.94729900e-01,  9.59978887e-02,  5.94315587e-01,\n",
              "         1.63956923e+00, -3.64427608e-02],\n",
              "       [-7.67607848e-01, -1.60921758e+00,  9.42951281e-01,\n",
              "        -1.23423261e+00, -7.13084534e-01],\n",
              "       [ 1.27615730e+00,  1.53971738e+00, -1.62055408e+00,\n",
              "         1.30664982e+00,  6.87530299e-01],\n",
              "       [-8.99089260e-01,  6.17778357e-01,  6.46731374e-01,\n",
              "        -1.30493772e+00, -6.39361437e-01],\n",
              "       [ 1.75057442e+00,  1.61058020e+00, -1.86014765e+00,\n",
              "         2.05820608e-01, -5.00958344e-01],\n",
              "       [-1.47389087e+00, -1.16497225e+00,  8.22291978e-01,\n",
              "        -3.09779874e-01, -8.34306528e-01],\n",
              "       [-1.75347297e+00,  9.50501218e-01,  6.97378221e-01,\n",
              "        -1.02946202e+00, -6.84528373e-01],\n",
              "       [ 1.51614912e+00, -1.43575616e-01, -6.24365304e-01,\n",
              "         2.06960700e-01, -8.69838094e-02],\n",
              "       [-1.63276147e+00, -1.17249962e+00, -3.84384894e-01,\n",
              "        -1.43244142e+00, -4.58548398e-01],\n",
              "       [ 1.11054625e+00, -2.08066642e-01, -4.99298113e-01,\n",
              "         2.44094173e-01, -8.12478210e-01],\n",
              "       [ 1.84941668e-01,  3.83996463e-01, -1.93865120e-01,\n",
              "        -1.04485578e+00,  6.53639394e-01],\n",
              "       [-5.14855331e-01, -1.84797030e+00,  8.45445017e-02,\n",
              "        -1.06381821e-01, -1.30304075e+00],\n",
              "       [-1.34310804e+00,  6.19139647e-01,  1.49700324e+00,\n",
              "        -3.14674935e-01, -7.88988780e-01],\n",
              "       [ 1.26972616e+00, -1.69370480e+00,  5.17959442e-01,\n",
              "         4.80397463e-01, -1.09284579e+00],\n",
              "       [-8.95924580e-01,  1.14725569e+00, -8.91337853e-01,\n",
              "         6.01881850e-01,  2.97654578e-01],\n",
              "       [ 6.91025149e-01,  4.48002647e-01, -4.90795231e-01,\n",
              "        -7.65859042e-01,  1.82727400e-02],\n",
              "       [-1.64095456e+00,  7.30737304e-01,  4.39547670e-01,\n",
              "         3.27710758e-01, -5.59760868e-01],\n",
              "       [ 1.82326960e+00,  1.44494285e+00, -1.84020564e+00,\n",
              "         5.87608311e-01,  1.95216848e+00],\n",
              "       [ 1.04959942e+00,  1.18857645e-01, -2.50161092e-01,\n",
              "        -6.45661822e-01,  1.53500609e+00],\n",
              "       [-1.37801147e+00,  1.57492750e+00, -6.17335937e-01,\n",
              "         2.74472308e-01, -5.92907355e-01],\n",
              "       [-7.69950264e-01,  1.77684760e-01, -4.53471598e-02,\n",
              "        -1.56603927e+00,  2.32597622e-01],\n",
              "       [ 4.47417639e-01, -1.48162273e+00, -1.11639234e+00,\n",
              "         9.63511795e-01,  1.46399303e-01],\n",
              "       [ 6.41827258e-01, -6.52166740e-01, -1.00094337e+00,\n",
              "        -3.84480377e-01,  2.06583340e-01],\n",
              "       [-6.64287629e-01,  4.36659252e-01,  4.47504803e-02,\n",
              "         8.98857976e-01, -2.60746794e-01],\n",
              "       [ 5.89374404e-02, -8.95689094e-01, -2.68465107e-01,\n",
              "        -3.87226521e-01,  5.95475219e-03],\n",
              "       [-8.05717754e-01, -1.79965385e-01, -9.99265726e-01,\n",
              "        -9.96254742e-01,  4.64143101e-01],\n",
              "       [-6.48925551e-01, -4.29527907e-01,  6.07759650e-01,\n",
              "        -2.48246718e-01, -9.26769705e-01],\n",
              "       [ 3.19239316e-01, -2.45976405e+00,  7.42566654e-01,\n",
              "        -4.10264359e-01, -1.16578242e+00],\n",
              "       [-1.00942683e+00,  5.22525013e-01,  1.12243156e+00,\n",
              "         6.75176836e-02, -8.79045485e-01],\n",
              "       [ 1.44716562e+00, -7.44969248e-01,  1.10682330e+00,\n",
              "         1.66301514e+00, -1.22675347e-01],\n",
              "       [-2.58914241e-01,  3.19340121e-01, -4.98468832e-01,\n",
              "        -1.40340264e+00,  6.11359487e-01],\n",
              "       [ 2.53341401e-01, -4.77753465e-01,  4.93255011e-02,\n",
              "        -7.49108736e-02,  8.69468784e-01],\n",
              "       [-4.49823240e-01,  9.50794704e-02,  1.62037613e+00,\n",
              "         3.51824556e-01, -1.03929033e+00],\n",
              "       [ 6.31973734e-01, -2.02992581e+00,  4.07496219e-01,\n",
              "         2.87290789e-01, -2.62245857e-01],\n",
              "       [-1.33379715e+00, -8.89249865e-01,  2.01952565e-01,\n",
              "        -3.69709828e-01, -9.66411678e-01],\n",
              "       [ 1.66749003e+00,  8.29452706e+00, -2.13727186e+00,\n",
              "        -8.07485318e-01,  6.15761870e+00],\n",
              "       [ 2.55277333e+00,  4.93409891e-01, -1.98970497e+00,\n",
              "         1.86553291e+00,  1.72675542e+00],\n",
              "       [-2.27659906e+00, -2.27790613e-03,  1.28921629e+00,\n",
              "        -1.51107359e+00, -4.76628399e-01],\n",
              "       [ 5.73802120e-01,  1.28370349e+00, -2.02856168e+00,\n",
              "         9.67181733e-01,  1.08646950e+00],\n",
              "       [ 3.29330512e-02,  2.49705740e+00,  9.50660696e-01,\n",
              "        -5.34944380e-01, -2.94068291e-01],\n",
              "       [-1.17283788e-01,  6.26648972e-01, -1.78850589e+00,\n",
              "         2.58103486e+00,  5.25031558e-01],\n",
              "       [-1.98352104e-01, -1.00461320e+00,  7.84898576e-01,\n",
              "        -1.54902744e+00,  1.57600245e+00],\n",
              "       [ 9.13750586e-01,  1.76292709e+00, -4.83925845e-01,\n",
              "         1.61920225e+00,  1.12299876e+00],\n",
              "       [-6.66460594e-01, -4.82602448e-01, -8.47071197e-01,\n",
              "        -4.08194442e-03, -5.01824321e-02],\n",
              "       [-1.31694792e+00,  7.80653949e-01, -5.18905769e-01,\n",
              "        -6.55750761e-01, -3.52945619e-03],\n",
              "       [ 4.50343554e-01, -6.65408538e-01, -6.00866836e-01,\n",
              "        -6.25741651e-01,  3.02341286e+00],\n",
              "       [ 3.07781526e-01,  1.40952996e+00,  1.76717411e+00,\n",
              "        -2.36232222e-02, -4.14899593e-01],\n",
              "       [ 2.99587914e-01,  1.67505306e+00, -3.50873447e-01,\n",
              "        -1.01479163e+00,  3.65103578e-01],\n",
              "       [-8.21472288e-01,  8.97364300e-01,  8.62809498e-01,\n",
              "        -5.48671169e-02, -7.65740123e-01],\n",
              "       [ 6.24918293e-01,  6.62855690e-01,  2.76319736e-01,\n",
              "        -7.10710262e-01, -5.21147947e-01],\n",
              "       [ 8.99047169e-01,  4.23332755e-01, -3.38645437e-01,\n",
              "         1.97133269e+00,  2.11706227e+00],\n",
              "       [-7.39074971e-01, -7.28822712e-01,  6.19789370e-01,\n",
              "        -2.42015672e-01, -4.66697577e-01],\n",
              "       [-8.59536177e-01, -8.21087442e-01, -4.09524541e-01,\n",
              "        -4.94327744e-01, -8.39900125e-01],\n",
              "       [ 1.14108959e-01, -1.13408369e+00, -1.37625138e+00,\n",
              "        -1.03111231e+00,  6.88983122e-01],\n",
              "       [-5.90776618e-01,  4.64743543e-01,  2.50482380e+00,\n",
              "         1.43563003e+00, -9.13930956e-01],\n",
              "       [ 1.37759745e+00,  2.35878308e+00,  5.75629570e-01,\n",
              "        -4.36964470e-01,  3.90512597e-02],\n",
              "       [-7.79923420e-01,  1.22285875e+00, -1.87567316e+00,\n",
              "         1.48987407e-01,  1.11368546e+00],\n",
              "       [ 8.74008066e-01, -7.74965597e-01,  6.85056477e-01,\n",
              "        -1.42042001e-01, -6.88268422e-01],\n",
              "       [ 1.12232592e+00,  2.78901530e+00,  1.60629252e+00,\n",
              "         1.30647807e+00,  5.92584372e-02],\n",
              "       [-2.42910391e-01,  6.21038448e-01,  8.90572209e-02,\n",
              "        -1.35767047e+00, -1.79626921e-01],\n",
              "       [-6.53005040e-01, -8.43248603e-01, -4.56824751e-01,\n",
              "        -1.06227061e-01,  5.44056100e-01],\n",
              "       [ 7.04574131e-01,  2.65966369e-01, -1.79754500e+00,\n",
              "         4.42135564e-01,  1.01455754e-01],\n",
              "       [-1.01926196e+00, -1.35597581e+00,  3.32218835e-01,\n",
              "         1.08372265e+00, -1.01923006e+00],\n",
              "       [ 8.87769650e-01,  6.40376998e-01, -2.46170742e-01,\n",
              "        -3.82919420e-01,  2.08906285e-01]])"
            ]
          },
          "metadata": {
            "tags": []
          },
          "execution_count": 51
        }
      ]
    },
    {
      "cell_type": "markdown",
      "metadata": {
        "id": "1zU_yIJgvXGm"
      },
      "source": [
        "#Run Factor Analyzer Agin by paremeters  (factor = 6 )"
      ]
    },
    {
      "cell_type": "code",
      "metadata": {
        "id": "VitrbbjsvBj8"
      },
      "source": [
        "from factor_analyzer import FactorAnalyzer\n",
        "ex1_fa1 = FactorAnalyzer(n_factors=6)\n",
        "data_ex1_fa1 = ex1_fa1.fit_transform(ex1_dropped)"
      ],
      "execution_count": 52,
      "outputs": []
    },
    {
      "cell_type": "code",
      "metadata": {
        "id": "_1xAVXdkvBhu",
        "colab": {
          "base_uri": "https://localhost:8080/",
          "height": 881
        },
        "outputId": "e680ab4f-9ecc-41f8-d309-ccfd127a3808"
      },
      "source": [
        "matplotlib.rcParams['figure.figsize']=[15,15]\n",
        "plt.imshow(np.absolute(ex1_fa1.loadings_))"
      ],
      "execution_count": 57,
      "outputs": [
        {
          "output_type": "execute_result",
          "data": {
            "text/plain": [
              "<matplotlib.image.AxesImage at 0x7f6331ce1f50>"
            ]
          },
          "metadata": {
            "tags": []
          },
          "execution_count": 57
        },
        {
          "output_type": "display_data",
          "data": {
            "image/png": "[encoded data removed]",
            "text/plain": [
              "<Figure size 1080x1080 with 1 Axes>"
            ]
          },
          "metadata": {
            "tags": [],
            "needs_background": "light"
          }
        }
      ]
    },
    {
      "cell_type": "code",
      "metadata": {
        "id": "7BfEqZfWvBfS",
        "colab": {
          "base_uri": "https://localhost:8080/"
        },
        "outputId": "535eaf95-ce3e-4ef5-e330-adee059d9566"
      },
      "source": [
        "ex1_dropped.columns\n"
      ],
      "execution_count": 54,
      "outputs": [
        {
          "output_type": "execute_result",
          "data": {
            "text/plain": [
              "Index(['Goal Scored', 'Ball Possession %', 'Attempts', 'On-Target',\n",
              "       'Off-Target', 'Blocked', 'Corners', 'Offsides', 'Free Kicks', 'Saves',\n",
              "       'Pass Accuracy %', 'Passes', 'Distance Covered (Kms)',\n",
              "       'Fouls Committed', 'Yellow Card', 'Yellow & Red', 'Red'],\n",
              "      dtype='object')"
            ]
          },
          "metadata": {
            "tags": []
          },
          "execution_count": 54
        }
      ]
    },
    {
      "cell_type": "markdown",
      "metadata": {
        "id": "RRmppQX4v8WT"
      },
      "source": [
        "#plot grap"
      ]
    },
    {
      "cell_type": "code",
      "metadata": {
        "id": "fHYKjpowvBcP",
        "colab": {
          "base_uri": "https://localhost:8080/",
          "height": 864
        },
        "outputId": "f0607cb3-0371-41d3-9f82-3274ac9f9b13"
      },
      "source": [
        "plt.bar(range(17),np.absolute(ex1_fa1.loadings_[:,0]),tick_label=ex1_dropped.columns)"
      ],
      "execution_count": 55,
      "outputs": [
        {
          "output_type": "execute_result",
          "data": {
            "text/plain": [
              "<BarContainer object of 17 artists>"
            ]
          },
          "metadata": {
            "tags": []
          },
          "execution_count": 55
        },
        {
          "output_type": "display_data",
          "data": {
            "image/png": "[encoded data removed]",
            "text/plain": [
              "<Figure size 1080x1080 with 1 Axes>"
            ]
          },
          "metadata": {
            "tags": [],
            "needs_background": "light"
          }
        }
      ]
    },
    {
      "cell_type": "markdown",
      "metadata": {
        "id": "4WVXWWCkwEcH"
      },
      "source": [
        "###จากการทดสอบด้วยทุกขั้นตอนพบว่า"
      ]
    },
    {
      "cell_type": "markdown",
      "metadata": {
        "id": "Aa3euQlFwLnc"
      },
      "source": [
        "ค่าของข้อมูล Fifa 2018 Statistics นี้มีตัวแปรที่เป็น Factors อยู่ด้วยกันทั้งหมด จำนวน 6 ตัว  โดยสามารถอธิบายข้อมูล Fifa 2018 ที่ทำการหา Exporatory Factors Analysis and Confirmatory Factors Analysis"
      ]
    },
    {
      "cell_type": "code",
      "metadata": {
        "id": "jn9chXYUvBZn"
      },
      "source": [
        ""
      ],
      "execution_count": null,
      "outputs": []
    },
    {
      "cell_type": "code",
      "metadata": {
        "id": "H9_R3UiYvBWr"
      },
      "source": [
        ""
      ],
      "execution_count": null,
      "outputs": []
    },
    {
      "cell_type": "code",
      "metadata": {
        "id": "Y1E3haWMvBUY"
      },
      "source": [
        ""
      ],
      "execution_count": null,
      "outputs": []
    },
    {
      "cell_type": "code",
      "metadata": {
        "id": "AtUctcfCvA9R"
      },
      "source": [
        ""
      ],
      "execution_count": null,
      "outputs": []
    },
    {
      "cell_type": "code",
      "metadata": {
        "id": "c1Yzyc5YrpBd"
      },
      "source": [
        ""
      ],
      "execution_count": null,
      "outputs": []
    }
  ]
}