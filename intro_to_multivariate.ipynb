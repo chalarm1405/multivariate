{
  "nbformat": 4,
  "nbformat_minor": 0,
  "metadata": {
    "colab": {
      "name": "intro to multivariate",
      "provenance": [],
      "authorship_tag": "ABX9TyO+q16CO5Qi5VY6J49Ls/Y+",
      "include_colab_link": true
    },
    "kernelspec": {
      "name": "python3",
      "display_name": "Python 3"
    }
  },
  "cells": [
    {
      "cell_type": "markdown",
      "metadata": {
        "id": "view-in-github",
        "colab_type": "text"
      },
      "source": [
        "<a href=\"https://colab.research.google.com/github/chalarm1405/multivariate/blob/main/intro_to_multivariate.ipynb\" target=\"_parent\"><img src=\"https://colab.research.google.com/assets/colab-badge.svg\" alt=\"Open In Colab\"/></a>"
      ]
    },
    {
      "cell_type": "markdown",
      "metadata": {
        "id": "laR4cbR_iGJC"
      },
      "source": [
        "นายชณะชัย อิสระกูล 623021045-9 เลขที่ 41"
      ]
    },
    {
      "cell_type": "code",
      "metadata": {
        "colab": {
          "base_uri": "https://localhost:8080/"
        },
        "id": "bTHDHyRthXu1",
        "outputId": "86a0a3bb-5926-4528-dbd2-96ca283e41d9"
      },
      "source": [
        "print( ' ชณะชัย ' ) #single quote ( ' ) ใช้ล้อมรอบข้อความ"
      ],
      "execution_count": 5,
      "outputs": [
        {
          "output_type": "stream",
          "text": [
            " ชณะชัย \n"
          ],
          "name": "stdout"
        }
      ]
    },
    {
      "cell_type": "code",
      "metadata": {
        "id": "bmPKutn0iE44"
      },
      "source": [
        ""
      ],
      "execution_count": null,
      "outputs": []
    }
  ]
}