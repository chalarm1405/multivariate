{
  "nbformat": 4,
  "nbformat_minor": 0,
  "metadata": {
    "colab": {
      "name": "Python101.ipynb",
      "provenance": [],
      "authorship_tag": "ABX9TyM2tZUkboA/mUjMeAkkZIWU",
      "include_colab_link": true
    },
    "kernelspec": {
      "name": "python3",
      "display_name": "Python 3"
    }
  },
  "cells": [
    {
      "cell_type": "markdown",
      "metadata": {
        "id": "view-in-github",
        "colab_type": "text"
      },
      "source": [
        "<a href=\"https://colab.research.google.com/github/chalarm1405/multivariate/blob/main/Python101.ipynb\" target=\"_parent\"><img src=\"https://colab.research.google.com/assets/colab-badge.svg\" alt=\"Open In Colab\"/></a>"
      ]
    },
    {
      "cell_type": "markdown",
      "metadata": {
        "id": "TgxHF6CILftJ"
      },
      "source": [
        "ตัวแปร variable"
      ]
    },
    {
      "cell_type": "markdown",
      "metadata": {
        "id": "ADtKRN_zMqPX"
      },
      "source": [
        "หลักการตั้งชื่อ\r\n",
        "1. ตั้งให้สื่อ\r\n",
        "2. ภาษาอังกฤษเท่านั้น\r\n",
        "3. ใช้คัวเลขได้แต่ห้ามขึ้นด้วยตัวเลข\r\n",
        "4. ห้ามเว้นวรรค\r\n",
        "5. ตัวเล็กตัวใหญ่ต่างกัน\r\n",
        "6. # คือ การ comment โดยเป็นการ output ที่ออกหน้าจอ"
      ]
    },
    {
      "cell_type": "code",
      "metadata": {
        "colab": {
          "base_uri": "https://localhost:8080/"
        },
        "id": "3hoQ6-wuLgdg",
        "outputId": "2fecc208-4051-4385-b125-17dade5b36ea"
      },
      "source": [
        "3.14159 เป็นการ output ในหน้าจอ"
      ],
      "execution_count": null,
      "outputs": [
        {
          "output_type": "execute_result",
          "data": {
            "text/plain": [
              "3.14159"
            ]
          },
          "metadata": {
            "tags": []
          },
          "execution_count": 5
        }
      ]
    },
    {
      "cell_type": "code",
      "metadata": {
        "id": "F0yyVmsFKuwL"
      },
      "source": [
        "Pi = 3.14159 เป็นการ output ของตัวแปร a "
      ],
      "execution_count": null,
      "outputs": []
    },
    {
      "cell_type": "code",
      "metadata": {
        "colab": {
          "base_uri": "https://localhost:8080/"
        },
        "id": "Hm7wXOMSNHL5",
        "outputId": "573a77ed-6820-44a7-808d-135fef9a0592"
      },
      "source": [
        "Pi"
      ],
      "execution_count": null,
      "outputs": [
        {
          "output_type": "execute_result",
          "data": {
            "text/plain": [
              "3.14159"
            ]
          },
          "metadata": {
            "tags": []
          },
          "execution_count": 6
        }
      ]
    },
    {
      "cell_type": "code",
      "metadata": {
        "colab": {
          "base_uri": "https://localhost:8080/"
        },
        "id": "8oWUcJM_NIXL",
        "outputId": "f3856819-9fb1-4f35-f9d4-ce79ee3e1b2a"
      },
      "source": [
        "a = 1234567\r\n",
        "print(a)"
      ],
      "execution_count": null,
      "outputs": [
        {
          "output_type": "stream",
          "text": [
            "1234567\n"
          ],
          "name": "stdout"
        }
      ]
    },
    {
      "cell_type": "markdown",
      "metadata": {
        "id": "oQrHISYZNoDv"
      },
      "source": [
        "#ชนิดของตัวแปร มี 3 ตัวแปร"
      ]
    },
    {
      "cell_type": "markdown",
      "metadata": {
        "id": "sZ9Yh2jMOifj"
      },
      "source": [
        "#1. จำนวนเต็ม( integer,int)"
      ]
    },
    {
      "cell_type": "code",
      "metadata": {
        "colab": {
          "base_uri": "https://localhost:8080/"
        },
        "id": "-XmYHw3TNPYf",
        "outputId": "2d13365b-6ec8-4a9e-d637-d2eb20aed3e7"
      },
      "source": [
        "aaa = 1092\r\n",
        "print(aaa)"
      ],
      "execution_count": 2,
      "outputs": [
        {
          "output_type": "stream",
          "text": [
            "1092\n"
          ],
          "name": "stdout"
        }
      ]
    },
    {
      "cell_type": "markdown",
      "metadata": {
        "id": "Wj4DtQa0Ozqj"
      },
      "source": [
        "#2.จำนวนจริง(float)"
      ]
    },
    {
      "cell_type": "code",
      "metadata": {
        "colab": {
          "base_uri": "https://localhost:8080/"
        },
        "id": "GnWNvIbnNUQK",
        "outputId": "f8a1f710-7dab-4cae-a271-2811e98b722b"
      },
      "source": [
        "bbb =11.\r\n",
        "print(bbb)"
      ],
      "execution_count": 3,
      "outputs": [
        {
          "output_type": "stream",
          "text": [
            "11.0\n"
          ],
          "name": "stdout"
        }
      ]
    },
    {
      "cell_type": "markdown",
      "metadata": {
        "id": "kbGIRmGjPC6a"
      },
      "source": [
        "#3.ตัวอักษรหรือข้อความ(character และ string,text)"
      ]
    },
    {
      "cell_type": "code",
      "metadata": {
        "colab": {
          "base_uri": "https://localhost:8080/"
        },
        "id": "r4sNbtSaNUo5",
        "outputId": "18560910-2a54-4ed4-9da8-2bc6232de019"
      },
      "source": [
        "ccc = ' 123456 ' #เราใช้ quote single หรือ quote duote ใช้เพื่อล้อมรอบตัวหนังสือเพื่อระบุว่าเป็น character หรือ string\r\n",
        "print(ccc) #โดย string ต้องมี ' ' ล้อมรอบโดยเอาไปบวกกันไม่ได้แต่ถ้าเป็นตัวแปรเดียวกันจะบวกกันได้ เช่น"
      ],
      "execution_count": 4,
      "outputs": [
        {
          "output_type": "stream",
          "text": [
            " 123456 \n"
          ],
          "name": "stdout"
        }
      ]
    },
    {
      "cell_type": "code",
      "metadata": {
        "colab": {
          "base_uri": "https://localhost:8080/",
          "height": 130
        },
        "id": "RyCD3bNWNU88",
        "outputId": "3e2fbd7e-e98d-4d83-9f86-11a768e1a5a4"
      },
      "source": [
        "ิิิbbb + ccc #คนละตัวแปรบวกกันไม่ได้โดยตัวอักษรบวกกับตัวเลขไม่ได้"
      ],
      "execution_count": 5,
      "outputs": [
        {
          "output_type": "error",
          "ename": "SyntaxError",
          "evalue": "ignored",
          "traceback": [
            "\u001b[0;36m  File \u001b[0;32m\"<ipython-input-5-3f09661125e7>\"\u001b[0;36m, line \u001b[0;32m1\u001b[0m\n\u001b[0;31m    ิิิbbb + ccc #คนละตัวแปรบวกกันไม่ได้โดยตัวอักษรบวกกับตัวเลขไม่ได้\u001b[0m\n\u001b[0m         ^\u001b[0m\n\u001b[0;31mSyntaxError\u001b[0m\u001b[0;31m:\u001b[0m invalid character in identifier\n"
          ]
        }
      ]
    },
    {
      "cell_type": "code",
      "metadata": {
        "colab": {
          "base_uri": "https://localhost:8080/"
        },
        "id": "Jpw78i6_QEMn",
        "outputId": "75bd322e-b373-4cdf-cb2f-25467b7b56ba"
      },
      "source": [
        "aaa + bbb #float + int = float ตัวแปรเดียวกันบวกกันได้"
      ],
      "execution_count": 6,
      "outputs": [
        {
          "output_type": "execute_result",
          "data": {
            "text/plain": [
              "1103.0"
            ]
          },
          "metadata": {
            "tags": []
          },
          "execution_count": 6
        }
      ]
    },
    {
      "cell_type": "code",
      "metadata": {
        "colab": {
          "base_uri": "https://localhost:8080/"
        },
        "id": "g9ttk84GP9bp",
        "outputId": "c7a1df85-ad64-4953-dcac-a34c7863d4a6"
      },
      "source": [
        "ddd = ' ชณะชัย ' #ในเครื่องหมาย ' ' เป็นภาษาไทยได้\r\n",
        "print(ddd)"
      ],
      "execution_count": 7,
      "outputs": [
        {
          "output_type": "stream",
          "text": [
            " ชณะชัย \n"
          ],
          "name": "stdout"
        }
      ]
    },
    {
      "cell_type": "markdown",
      "metadata": {
        "id": "TKBG6hF9Qxmp"
      },
      "source": [
        "#ถ้าเกิด error สามารถทำได้โดยการเปลี่ยนชนิดตัวแปร(variable caseting)"
      ]
    },
    {
      "cell_type": "code",
      "metadata": {
        "colab": {
          "base_uri": "https://localhost:8080/"
        },
        "id": "H-632sYrQnDN",
        "outputId": "eadbf84e-18cc-4fb4-aac6-3e8d6b9cafd7"
      },
      "source": [
        "bbb + int( ccc )"
      ],
      "execution_count": 8,
      "outputs": [
        {
          "output_type": "execute_result",
          "data": {
            "text/plain": [
              "123467.0"
            ]
          },
          "metadata": {
            "tags": []
          },
          "execution_count": 8
        }
      ]
    },
    {
      "cell_type": "code",
      "metadata": {
        "colab": {
          "base_uri": "https://localhost:8080/"
        },
        "id": "v2W3szw1Qnbv",
        "outputId": "d1d65dbd-e643-4d8e-c3d7-386b0e529ec2"
      },
      "source": [
        "aaa + int( ccc )"
      ],
      "execution_count": 9,
      "outputs": [
        {
          "output_type": "execute_result",
          "data": {
            "text/plain": [
              "124548"
            ]
          },
          "metadata": {
            "tags": []
          },
          "execution_count": 9
        }
      ]
    },
    {
      "cell_type": "code",
      "metadata": {
        "colab": {
          "base_uri": "https://localhost:8080/"
        },
        "id": "RaELJpwNRYbx",
        "outputId": "17062f79-3bcf-4a7b-9c3d-1178c291dd92"
      },
      "source": [
        "aaa + float( ccc )"
      ],
      "execution_count": 10,
      "outputs": [
        {
          "output_type": "execute_result",
          "data": {
            "text/plain": [
              "124548.0"
            ]
          },
          "metadata": {
            "tags": []
          },
          "execution_count": 10
        }
      ]
    },
    {
      "cell_type": "code",
      "metadata": {
        "colab": {
          "base_uri": "https://localhost:8080/",
          "height": 34
        },
        "id": "siwXuTTxRY6k",
        "outputId": "8e53bcf6-327d-4aef-bd60-0e90dee1caaa"
      },
      "source": [
        "str(aaa) #การเปลี่ยนกลับเป็นข้อความ"
      ],
      "execution_count": 11,
      "outputs": [
        {
          "output_type": "execute_result",
          "data": {
            "application/vnd.google.colaboratory.intrinsic+json": {
              "type": "string"
            },
            "text/plain": [
              "'1092'"
            ]
          },
          "metadata": {
            "tags": []
          },
          "execution_count": 11
        }
      ]
    },
    {
      "cell_type": "markdown",
      "metadata": {
        "id": "JgRPoWk4SJ-p"
      },
      "source": [
        "#operation ( operator + , - , * , / )"
      ]
    },
    {
      "cell_type": "code",
      "metadata": {
        "id": "5Ov56UO4RZMu"
      },
      "source": [
        "a+b"
      ],
      "execution_count": null,
      "outputs": []
    },
    {
      "cell_type": "code",
      "metadata": {
        "colab": {
          "base_uri": "https://localhost:8080/"
        },
        "id": "rdgIlk9CRZfq",
        "outputId": "7681fcaa-e195-442f-eb6c-7a2859775465"
      },
      "source": [
        "aaa + bbb"
      ],
      "execution_count": 12,
      "outputs": [
        {
          "output_type": "execute_result",
          "data": {
            "text/plain": [
              "1103.0"
            ]
          },
          "metadata": {
            "tags": []
          },
          "execution_count": 12
        }
      ]
    },
    {
      "cell_type": "code",
      "metadata": {
        "colab": {
          "base_uri": "https://localhost:8080/"
        },
        "id": "viJhJMpkRaI7",
        "outputId": "77615b04-6e5a-4ccd-ed3a-aaf2e6317d64"
      },
      "source": [
        "aaa - bbb"
      ],
      "execution_count": 13,
      "outputs": [
        {
          "output_type": "execute_result",
          "data": {
            "text/plain": [
              "1081.0"
            ]
          },
          "metadata": {
            "tags": []
          },
          "execution_count": 13
        }
      ]
    },
    {
      "cell_type": "code",
      "metadata": {
        "id": "onRj4X89SyzI"
      },
      "source": [
        "ab = aaa * bbb #เอาไปใช้ต่อไม่ได้"
      ],
      "execution_count": 14,
      "outputs": []
    },
    {
      "cell_type": "code",
      "metadata": {
        "colab": {
          "base_uri": "https://localhost:8080/"
        },
        "id": "Ntnrz72kS0z4",
        "outputId": "9571057e-6b80-44e0-89ff-ef6a18acb7a4"
      },
      "source": [
        "ab = aaa * bbb #นำไปใช้ต่อได้\r\n",
        "print(ab)"
      ],
      "execution_count": 15,
      "outputs": [
        {
          "output_type": "stream",
          "text": [
            "12012.0\n"
          ],
          "name": "stdout"
        }
      ]
    },
    {
      "cell_type": "markdown",
      "metadata": {
        "id": "Qn7qJmXYTFo4"
      },
      "source": [
        "#คำสั่ง modulo หรือเครื่องหมาย % ( โดยเป็นการหารเอาเศษและใช้บ่อยเพื่อหาเป็นเลขคี่หรือคู่ )"
      ]
    },
    {
      "cell_type": "code",
      "metadata": {
        "colab": {
          "base_uri": "https://localhost:8080/"
        },
        "id": "ZhCdzGtoTDcN",
        "outputId": "c4787c0c-89e7-4d79-fee2-220c72a8de56"
      },
      "source": [
        "5%3"
      ],
      "execution_count": 16,
      "outputs": [
        {
          "output_type": "execute_result",
          "data": {
            "text/plain": [
              "2"
            ]
          },
          "metadata": {
            "tags": []
          },
          "execution_count": 16
        }
      ]
    },
    {
      "cell_type": "code",
      "metadata": {
        "colab": {
          "base_uri": "https://localhost:8080/"
        },
        "id": "1W8luZW0Tii8",
        "outputId": "75760ec6-bfaf-4090-ca8f-60b971998eb6"
      },
      "source": [
        "7%3"
      ],
      "execution_count": null,
      "outputs": [
        {
          "output_type": "execute_result",
          "data": {
            "text/plain": [
              "1"
            ]
          },
          "metadata": {
            "tags": []
          },
          "execution_count": 27
        }
      ]
    },
    {
      "cell_type": "code",
      "metadata": {
        "colab": {
          "base_uri": "https://localhost:8080/"
        },
        "id": "-efI0QhMTizS",
        "outputId": "856ece31-6890-444c-9405-5613532cedaa"
      },
      "source": [
        "21%8"
      ],
      "execution_count": null,
      "outputs": [
        {
          "output_type": "execute_result",
          "data": {
            "text/plain": [
              "5"
            ]
          },
          "metadata": {
            "tags": []
          },
          "execution_count": 28
        }
      ]
    },
    {
      "cell_type": "markdown",
      "metadata": {
        "id": "dq5ohNjGT9jK"
      },
      "source": [
        "คำสั่ง print แบบพิเศษ ( การ format string )"
      ]
    },
    {
      "cell_type": "code",
      "metadata": {
        "colab": {
          "base_uri": "https://localhost:8080/"
        },
        "id": "7JuzGrooTjpi",
        "outputId": "0d702adb-3d88-4efd-f7c5-a5372e1e2e88"
      },
      "source": [
        "print( ' ตัวแปร ') #โดย"
      ],
      "execution_count": null,
      "outputs": [
        {
          "output_type": "stream",
          "text": [
            " ตัวแปร \n"
          ],
          "name": "stdout"
        }
      ]
    },
    {
      "cell_type": "code",
      "metadata": {
        "colab": {
          "base_uri": "https://localhost:8080/"
        },
        "id": "rvAPJ6_jTkAu",
        "outputId": "1ac5ab08-e8b8-4b28-fd5d-e19b923eafaf"
      },
      "source": [
        "print( f'% คือ การหารเอาเศษ เช่น 7%3 = { 7%3 }') #เพิ่ม f หน้า 'string' และใช้ {} ใส่ code"
      ],
      "execution_count": null,
      "outputs": [
        {
          "output_type": "stream",
          "text": [
            "% คือ การหารเอาเศษ เช่น 7%3 = 1\n"
          ],
          "name": "stdout"
        }
      ]
    },
    {
      "cell_type": "code",
      "metadata": {
        "colab": {
          "base_uri": "https://localhost:8080/"
        },
        "id": "uxyf6aAEUqdi",
        "outputId": "f73b3142-40ad-49a6-f2b5-0dea61720b3d"
      },
      "source": [
        "print(f'% คือ การหารเอาเศษ เช่น 7%3 = {7%3} ) \\\r\n",
        "  แต่ \\n/ คือ การหารปกติ เช่น  7/3 = { 7/3 } \\\r\n",
        "  และ\\n// คือ การหารเอาส่วน เช่น 7//3 = { 7 // 3} \\\r\n",
        "  หรือ \\n ใช้ int() เพื่อหารเอาส่วน เช่น int( 7/3 ) = { int( 7/3 ) }'  ) # \\n คือ การขึ้นบรรทัดใหม่ \\ ใช้ใน\r\n"
      ],
      "execution_count": null,
      "outputs": [
        {
          "output_type": "stream",
          "text": [
            "% คือ การหารเอาเศษ เช่น 7%3 = 1 )   แต่ \n",
            "/ คือ การหารปกติ เช่น  7/3 = 2.3333333333333335   และ\n",
            "// คือ การหารเอาส่วน เช่น 7//3 = 2   หรือ \n",
            " ใช้ int() เพื่อหารเอาส่วน เช่น int( 7/3 ) = 2\n"
          ],
          "name": "stdout"
        }
      ]
    },
    {
      "cell_type": "markdown",
      "metadata": {
        "id": "rADWssisXFwM"
      },
      "source": [
        "#โครงสร้างข้อมูล"
      ]
    },
    {
      "cell_type": "markdown",
      "metadata": {
        "id": "T0ZPrXZLXTCj"
      },
      "source": [
        "list คือ การเอาข้อมูลหลายๆตัวมาเรียงต่อกัน โดย list สามารถสร้างได้ 2 แบบดังนี้"
      ]
    },
    {
      "cell_type": "markdown",
      "metadata": {
        "id": "UoGDxxuXXqWq"
      },
      "source": [
        "#แบบที่ 1 square brackets"
      ]
    },
    {
      "cell_type": "code",
      "metadata": {
        "colab": {
          "base_uri": "https://localhost:8080/"
        },
        "id": "6YpDEd4KXyZe",
        "outputId": "1ecc55ba-9bf5-4342-a5a5-03be084e2199"
      },
      "source": [
        "list_a = [ ]\r\n",
        "print(list_a)"
      ],
      "execution_count": 25,
      "outputs": [
        {
          "output_type": "stream",
          "text": [
            "[]\n"
          ],
          "name": "stdout"
        }
      ]
    },
    {
      "cell_type": "code",
      "metadata": {
        "colab": {
          "base_uri": "https://localhost:8080/"
        },
        "id": "IXll4wmUWlWU",
        "outputId": "483b808a-534c-4f70-998f-76c229e3ba00"
      },
      "source": [
        " list_b = [ 111, ' c ' , ' งง ',aaa ]\r\n",
        " print(list_b)\r\n"
      ],
      "execution_count": 24,
      "outputs": [
        {
          "output_type": "stream",
          "text": [
            "[111, ' c ', ' งง ', 1092]\n"
          ],
          "name": "stdout"
        }
      ]
    },
    {
      "cell_type": "markdown",
      "metadata": {
        "id": "FtVcYvzim8mX"
      },
      "source": [
        "ลำดับที่อยู๋ใน list มีความสำคัญ( ลำดับใน list เริ่มจาก 0,1,2,...)"
      ]
    },
    {
      "cell_type": "code",
      "metadata": {
        "colab": {
          "base_uri": "https://localhost:8080/",
          "height": 34
        },
        "id": "0ev0631xnIN1",
        "outputId": "f2991cdc-08b4-4482-bc8c-78d6382d5f88"
      },
      "source": [
        "list_b[2]"
      ],
      "execution_count": 26,
      "outputs": [
        {
          "output_type": "execute_result",
          "data": {
            "application/vnd.google.colaboratory.intrinsic+json": {
              "type": "string"
            },
            "text/plain": [
              "' งง '"
            ]
          },
          "metadata": {
            "tags": []
          },
          "execution_count": 26
        }
      ]
    },
    {
      "cell_type": "markdown",
      "metadata": {
        "id": "DA_LWGOsnwBZ"
      },
      "source": [
        "#แบบที่ 2"
      ]
    },
    {
      "cell_type": "code",
      "metadata": {
        "colab": {
          "base_uri": "https://localhost:8080/"
        },
        "id": "WU2uOlTRhrlQ",
        "outputId": "43a444d0-2597-4971-b367-31061ef4bca7"
      },
      "source": [
        "list_c = list()\r\n",
        "print(list_c)"
      ],
      "execution_count": null,
      "outputs": [
        {
          "output_type": "stream",
          "text": [
            "[]\n"
          ],
          "name": "stdout"
        }
      ]
    },
    {
      "cell_type": "markdown",
      "metadata": {
        "id": "k1Le0OphYdnv"
      },
      "source": [
        "#append() เพิ่มสมาชิกใน list"
      ]
    },
    {
      "cell_type": "code",
      "metadata": {
        "id": "XC89gFZAXm4K",
        "colab": {
          "base_uri": "https://localhost:8080/"
        },
        "outputId": "01d03e21-ef49-4270-8dc9-74547f1a5598"
      },
      "source": [
        "list_b.append(' u ')\r\n",
        "print(list_b)"
      ],
      "execution_count": 27,
      "outputs": [
        {
          "output_type": "stream",
          "text": [
            "[111, ' c ', ' งง ', 1092, ' u ']\n"
          ],
          "name": "stdout"
        }
      ]
    },
    {
      "cell_type": "code",
      "metadata": {
        "id": "4Iujt-n0h4pM",
        "colab": {
          "base_uri": "https://localhost:8080/",
          "height": 34
        },
        "outputId": "1960953a-880b-4d64-e1d1-ae6a78f4b7a0"
      },
      "source": [
        "list_b[-1]"
      ],
      "execution_count": 28,
      "outputs": [
        {
          "output_type": "execute_result",
          "data": {
            "application/vnd.google.colaboratory.intrinsic+json": {
              "type": "string"
            },
            "text/plain": [
              "' u '"
            ]
          },
          "metadata": {
            "tags": []
          },
          "execution_count": 28
        }
      ]
    },
    {
      "cell_type": "markdown",
      "metadata": {
        "id": "C46-H0IXZgD5"
      },
      "source": [
        "#string > list of characters"
      ]
    },
    {
      "cell_type": "code",
      "metadata": {
        "colab": {
          "base_uri": "https://localhost:8080/"
        },
        "id": "Duii1SEYqLjd",
        "outputId": "27b6f093-653d-4d05-e518-0cc6e5b3cc10"
      },
      "source": [
        "t = 'python is easy'\r\n",
        "print(t)"
      ],
      "execution_count": 18,
      "outputs": [
        {
          "output_type": "stream",
          "text": [
            "python is easy\n"
          ],
          "name": "stdout"
        }
      ]
    },
    {
      "cell_type": "markdown",
      "metadata": {
        "id": "XiRtOD-zgtbM"
      },
      "source": [
        "#access a number of a list (list&string)\r\n",
        "โดยการเริ่มนับจาก 0\r\n",
        "และ 0 คือสามชิกตัวแรก, -1 คือสมาชิกตัวสุดท้าย"
      ]
    },
    {
      "cell_type": "code",
      "metadata": {
        "colab": {
          "base_uri": "https://localhost:8080/",
          "height": 34
        },
        "id": "94QOkBAHXn-o",
        "outputId": "e8d529a4-ea60-4eea-8502-e409ec3ff658"
      },
      "source": [
        "t[1]"
      ],
      "execution_count": null,
      "outputs": [
        {
          "output_type": "execute_result",
          "data": {
            "application/vnd.google.colaboratory.intrinsic+json": {
              "type": "string"
            },
            "text/plain": [
              "'y'"
            ]
          },
          "metadata": {
            "tags": []
          },
          "execution_count": 88
        }
      ]
    },
    {
      "cell_type": "code",
      "metadata": {
        "colab": {
          "base_uri": "https://localhost:8080/",
          "height": 34
        },
        "id": "rviSRZhrXocZ",
        "outputId": "43cfc056-62ed-475e-b7cf-2a71a858d2d9"
      },
      "source": [
        "t[-4]"
      ],
      "execution_count": null,
      "outputs": [
        {
          "output_type": "execute_result",
          "data": {
            "application/vnd.google.colaboratory.intrinsic+json": {
              "type": "string"
            },
            "text/plain": [
              "'e'"
            ]
          },
          "metadata": {
            "tags": []
          },
          "execution_count": 89
        }
      ]
    },
    {
      "cell_type": "code",
      "metadata": {
        "colab": {
          "base_uri": "https://localhost:8080/",
          "height": 34
        },
        "id": "5ewa9UsDZ8Iw",
        "outputId": "32b4d81a-264d-468a-f7bb-8af2d377e887"
      },
      "source": [
        "t[6]"
      ],
      "execution_count": null,
      "outputs": [
        {
          "output_type": "execute_result",
          "data": {
            "application/vnd.google.colaboratory.intrinsic+json": {
              "type": "string"
            },
            "text/plain": [
              "' '"
            ]
          },
          "metadata": {
            "tags": []
          },
          "execution_count": 90
        }
      ]
    },
    {
      "cell_type": "code",
      "metadata": {
        "id": "GilEj3HJaIun"
      },
      "source": [
        ""
      ],
      "execution_count": null,
      "outputs": []
    },
    {
      "cell_type": "markdown",
      "metadata": {
        "id": "jbi73UJ3h2hi"
      },
      "source": [
        "#คาบ 3 ( 11/01/63)\r\n"
      ]
    },
    {
      "cell_type": "code",
      "metadata": {
        "colab": {
          "base_uri": "https://localhost:8080/"
        },
        "id": "ld15ujF_knKC",
        "outputId": "201ff11f-d441-440f-e051-6dafd8734369"
      },
      "source": [
        "len(list_b) #len คือคำสั่งตรวจสอบความยาวของ list (จำนวนสมาชิก)"
      ],
      "execution_count": null,
      "outputs": [
        {
          "output_type": "execute_result",
          "data": {
            "text/plain": [
              "4"
            ]
          },
          "metadata": {
            "tags": []
          },
          "execution_count": 91
        }
      ]
    },
    {
      "cell_type": "code",
      "metadata": {
        "colab": {
          "base_uri": "https://localhost:8080/"
        },
        "id": "bP9LJYmPkrPy",
        "outputId": "bebf0e9d-6ce0-402a-e6bb-c6665335c1bd"
      },
      "source": [
        "len(t) "
      ],
      "execution_count": 19,
      "outputs": [
        {
          "output_type": "execute_result",
          "data": {
            "text/plain": [
              "14"
            ]
          },
          "metadata": {
            "tags": []
          },
          "execution_count": 19
        }
      ]
    },
    {
      "cell_type": "code",
      "metadata": {
        "colab": {
          "base_uri": "https://localhost:8080/",
          "height": 34
        },
        "id": "TwG9gPJch9qi",
        "outputId": "50ee2aa4-0180-4822-d59c-4ae779c050a1"
      },
      "source": [
        "t[-4]"
      ],
      "execution_count": 21,
      "outputs": [
        {
          "output_type": "execute_result",
          "data": {
            "application/vnd.google.colaboratory.intrinsic+json": {
              "type": "string"
            },
            "text/plain": [
              "'e'"
            ]
          },
          "metadata": {
            "tags": []
          },
          "execution_count": 21
        }
      ]
    },
    {
      "cell_type": "code",
      "metadata": {
        "colab": {
          "base_uri": "https://localhost:8080/"
        },
        "id": "WNQhKFrOh9jL",
        "outputId": "279f0f38-83e2-4e97-8eb7-6037bb6c88b0"
      },
      "source": [
        "list_b.append(t)\r\n",
        "print(list_b)"
      ],
      "execution_count": 29,
      "outputs": [
        {
          "output_type": "stream",
          "text": [
            "[111, ' c ', ' งง ', 1092, ' u ', 'python is easy']\n"
          ],
          "name": "stdout"
        }
      ]
    },
    {
      "cell_type": "markdown",
      "metadata": {
        "id": "zZlIQreulc3Y"
      },
      "source": [
        "#ตัวที่อยู่ข้างใน [] เราเรียกว่า index (ตัวชี้)"
      ]
    },
    {
      "cell_type": "code",
      "metadata": {
        "colab": {
          "base_uri": "https://localhost:8080/"
        },
        "id": "gu-6n2-ih9fE",
        "outputId": "44b4c199-9839-4d36-e5da-4cffdc64fad7"
      },
      "source": [
        "print(t)\r\n",
        "print(t[7:9]) #ข้างหน้า : คือจุดเริ่มต้น ข้างหลังคือจุดสิ้นสุด\r\n",
        "print(len(t[7:9]))"
      ],
      "execution_count": 31,
      "outputs": [
        {
          "output_type": "stream",
          "text": [
            "python is easy\n",
            "is\n",
            "2\n"
          ],
          "name": "stdout"
        }
      ]
    },
    {
      "cell_type": "code",
      "metadata": {
        "colab": {
          "base_uri": "https://localhost:8080/",
          "height": 34
        },
        "id": "iiV2VvvInnrs",
        "outputId": "6d23cede-7ef3-425d-c9ac-5853ef48b2f7"
      },
      "source": [
        "t[0:14:2] #เริ่มตัวที่ 0 โดยหยิบทุกๆ 2 ตัว จนครบ 14 ตัว"
      ],
      "execution_count": 35,
      "outputs": [
        {
          "output_type": "execute_result",
          "data": {
            "application/vnd.google.colaboratory.intrinsic+json": {
              "type": "string"
            },
            "text/plain": [
              "'pto ses'"
            ]
          },
          "metadata": {
            "tags": []
          },
          "execution_count": 35
        }
      ]
    },
    {
      "cell_type": "code",
      "metadata": {
        "colab": {
          "base_uri": "https://localhost:8080/"
        },
        "id": "f764kfsyoH6i",
        "outputId": "0583f767-6e73-4ac4-c08b-aade6679b71d"
      },
      "source": [
        "z = [1,2,3,4,5,6,7,8,9,10]\r\n",
        "print(z[1:10:2])"
      ],
      "execution_count": 36,
      "outputs": [
        {
          "output_type": "stream",
          "text": [
            "[2, 4, 6, 8, 10]\n"
          ],
          "name": "stdout"
        }
      ]
    },
    {
      "cell_type": "markdown",
      "metadata": {
        "id": "qOF6zkEzl9KQ"
      },
      "source": [
        "ถ้าเว้นวางหน้า : หมายความว่า เริ่มตั้งแต่ตัวแรก\r\n",
        "\r\n",
        "ถ้าเว้นวางหลัง : คือ ไปจนถึงสุดท้าย"
      ]
    },
    {
      "cell_type": "code",
      "metadata": {
        "colab": {
          "base_uri": "https://localhost:8080/"
        },
        "id": "WuLRfcSUh9aM",
        "outputId": "01dd58c0-e33e-4355-fdce-f2e77868429b"
      },
      "source": [
        "print(t)\r\n",
        "print(t[:6]) # : มีข้อพิเศษถ้าเราไม่ใส่ตัวเลข คือเริ่มตัวแรก list โดยมันแทน 0 ให้เลย\r\n",
        "print(t[10:])\r\n",
        "print(t[-4:])\r\n",
        "print(t[:])"
      ],
      "execution_count": 34,
      "outputs": [
        {
          "output_type": "stream",
          "text": [
            "python is easy\n",
            "python\n",
            "easy\n",
            "easy\n",
            "python is easy\n"
          ],
          "name": "stdout"
        }
      ]
    },
    {
      "cell_type": "code",
      "metadata": {
        "colab": {
          "base_uri": "https://localhost:8080/"
        },
        "id": "eIy0i7yvqL8X",
        "outputId": "1def28e2-318a-45df-a552-507fe718d8af"
      },
      "source": [
        "print(z[::2])"
      ],
      "execution_count": 37,
      "outputs": [
        {
          "output_type": "stream",
          "text": [
            "[1, 3, 5, 7, 9]\n"
          ],
          "name": "stdout"
        }
      ]
    },
    {
      "cell_type": "markdown",
      "metadata": {
        "id": "akmI34Goplo-"
      },
      "source": [
        "#เราสามารถเอา list มาต่อกันได้ด้วย +"
      ]
    },
    {
      "cell_type": "code",
      "metadata": {
        "colab": {
          "base_uri": "https://localhost:8080/",
          "height": 34
        },
        "id": "TeoBRTXbh9R8",
        "outputId": "373a4d31-af65-461e-c717-269962da65a5"
      },
      "source": [
        "t + '??'"
      ],
      "execution_count": 38,
      "outputs": [
        {
          "output_type": "execute_result",
          "data": {
            "application/vnd.google.colaboratory.intrinsic+json": {
              "type": "string"
            },
            "text/plain": [
              "'python is easy??'"
            ]
          },
          "metadata": {
            "tags": []
          },
          "execution_count": 38
        }
      ]
    },
    {
      "cell_type": "code",
      "metadata": {
        "colab": {
          "base_uri": "https://localhost:8080/",
          "height": 164
        },
        "id": "L7KadLC2pvHm",
        "outputId": "97a36775-4cef-4537-b029-79f103df335a"
      },
      "source": [
        "t + list_b #ไม่สามารถเอา list ปกติมาต่อกันกับ string ได้"
      ],
      "execution_count": 39,
      "outputs": [
        {
          "output_type": "error",
          "ename": "TypeError",
          "evalue": "ignored",
          "traceback": [
            "\u001b[0;31m---------------------------------------------------------------------------\u001b[0m",
            "\u001b[0;31mTypeError\u001b[0m                                 Traceback (most recent call last)",
            "\u001b[0;32m<ipython-input-39-1a6e83a742aa>\u001b[0m in \u001b[0;36m<module>\u001b[0;34m()\u001b[0m\n\u001b[0;32m----> 1\u001b[0;31m \u001b[0mt\u001b[0m \u001b[0;34m+\u001b[0m \u001b[0mlist_b\u001b[0m \u001b[0;31m#ไม่สามารถเอา list ปกติมาต่อกันกับ string ได้\u001b[0m\u001b[0;34m\u001b[0m\u001b[0;34m\u001b[0m\u001b[0m\n\u001b[0m",
            "\u001b[0;31mTypeError\u001b[0m: must be str, not list"
          ]
        }
      ]
    },
    {
      "cell_type": "code",
      "metadata": {
        "colab": {
          "base_uri": "https://localhost:8080/"
        },
        "id": "ythDIeUAsUaH",
        "outputId": "18b0265a-42b2-46d5-ed0d-da00cd9d1487"
      },
      "source": [
        "print(list_a)\r\n",
        "print(list_b)\r\n",
        "print(list_b + list_a) # + คือ เอาสมาชิกมารวมกัน\r\n"
      ],
      "execution_count": 42,
      "outputs": [
        {
          "output_type": "stream",
          "text": [
            "[]\n",
            "[111, ' c ', ' งง ', 1092, ' u ', 'python is easy']\n",
            "[111, ' c ', ' งง ', 1092, ' u ', 'python is easy']\n",
            "\n"
          ],
          "name": "stdout"
        }
      ]
    },
    {
      "cell_type": "code",
      "metadata": {
        "colab": {
          "base_uri": "https://localhost:8080/"
        },
        "id": "xzjluxrDs96w",
        "outputId": "972c6961-5be8-4f55-e142-b01e672a3d9b"
      },
      "source": [
        "list_b.append(list_a) # append คือ เอาสมาชิกใน()มาต่อท้ายกัน\r\n",
        "print(list_b)"
      ],
      "execution_count": 45,
      "outputs": [
        {
          "output_type": "stream",
          "text": [
            "[111, ' c ', ' งง ', 1092, ' u ', 'python is easy', [], []]\n"
          ],
          "name": "stdout"
        }
      ]
    },
    {
      "cell_type": "code",
      "metadata": {
        "colab": {
          "base_uri": "https://localhost:8080/"
        },
        "id": "YQa4rNxopvE1",
        "outputId": "3a7084a3-e041-469f-f0dd-5375126b23d4"
      },
      "source": [
        "list_b + list_a"
      ],
      "execution_count": 40,
      "outputs": [
        {
          "output_type": "execute_result",
          "data": {
            "text/plain": [
              "[111, ' c ', ' งง ', 1092, ' u ', 'python is easy']"
            ]
          },
          "metadata": {
            "tags": []
          },
          "execution_count": 40
        }
      ]
    },
    {
      "cell_type": "markdown",
      "metadata": {
        "id": "AIrT2GlnsLSj"
      },
      "source": [
        "#การแบ่ง string ตามสัญลักษณ์ที่กำหนด -> split string"
      ]
    },
    {
      "cell_type": "code",
      "metadata": {
        "colab": {
          "base_uri": "https://localhost:8080/",
          "height": 34
        },
        "id": "Dfh-cGkuuUWn",
        "outputId": "da20cc7f-a139-42d4-c3e0-f9160e400d02"
      },
      "source": [
        "t"
      ],
      "execution_count": 50,
      "outputs": [
        {
          "output_type": "execute_result",
          "data": {
            "application/vnd.google.colaboratory.intrinsic+json": {
              "type": "string"
            },
            "text/plain": [
              "'python is easy'"
            ]
          },
          "metadata": {
            "tags": []
          },
          "execution_count": 50
        }
      ]
    },
    {
      "cell_type": "code",
      "metadata": {
        "colab": {
          "base_uri": "https://localhost:8080/"
        },
        "id": "2qMAP_0epvA5",
        "outputId": "7a5057cd-b687-4e30-b67a-addae208589f"
      },
      "source": [
        "t.split(' ') #split คือการแบ่งโดยระบุเพื่อการแบ่งวรรค"
      ],
      "execution_count": 51,
      "outputs": [
        {
          "output_type": "execute_result",
          "data": {
            "text/plain": [
              "['python', 'is', 'easy']"
            ]
          },
          "metadata": {
            "tags": []
          },
          "execution_count": 51
        }
      ]
    },
    {
      "cell_type": "code",
      "metadata": {
        "id": "tLVrgUCGpu9m"
      },
      "source": [
        "time = '12:30:15'"
      ],
      "execution_count": 47,
      "outputs": []
    },
    {
      "cell_type": "code",
      "metadata": {
        "colab": {
          "base_uri": "https://localhost:8080/"
        },
        "id": "MQzBzh5Ipu49",
        "outputId": "1d4384b7-20f4-4035-b115-92f31da046a2"
      },
      "source": [
        "time.split(':')"
      ],
      "execution_count": 52,
      "outputs": [
        {
          "output_type": "execute_result",
          "data": {
            "text/plain": [
              "['12', '30', '15']"
            ]
          },
          "metadata": {
            "tags": []
          },
          "execution_count": 52
        }
      ]
    },
    {
      "cell_type": "code",
      "metadata": {
        "colab": {
          "base_uri": "https://localhost:8080/"
        },
        "id": "MgdokWeAutAE",
        "outputId": "332ff567-8032-4485-b2c6-7e0f248a23aa"
      },
      "source": [
        "t_sp = t.split(' ')\r\n",
        "print(t_sp)"
      ],
      "execution_count": 54,
      "outputs": [
        {
          "output_type": "stream",
          "text": [
            "['python', 'is', 'easy']\n"
          ],
          "name": "stdout"
        }
      ]
    },
    {
      "cell_type": "code",
      "metadata": {
        "colab": {
          "base_uri": "https://localhost:8080/"
        },
        "id": "SKmRcJFkvBXe",
        "outputId": "5e55a2f3-9b6d-4c63-8a12-4e5b96fdf526"
      },
      "source": [
        "#วิธีรวมกลับ\r\n",
        "print(':'.join(t_sp))"
      ],
      "execution_count": 55,
      "outputs": [
        {
          "output_type": "stream",
          "text": [
            "python:is:easy\n"
          ],
          "name": "stdout"
        }
      ]
    },
    {
      "cell_type": "markdown",
      "metadata": {
        "id": "pZeCcPEwsmWp"
      },
      "source": [
        "#hw คำนวณเวลาเป็นวินาทีต่อไปนี้โดยคำสั่ง split() ช่วย (print ให้ออกมาสวยงาม)"
      ]
    },
    {
      "cell_type": "markdown",
      "metadata": {
        "id": "ZWjRhauDvUWE"
      },
      "source": [
        "12:30:15\r\n",
        "\r\n",
        "13:41:07\r\n",
        "\r\n",
        "12:53:15\r\n",
        "\r\n",
        "00:59;25\r\n",
        "\r\n",
        "11:11:11\r\n",
        "\r\n",
        "16:06:09\r\n",
        "\r\n",
        "21:12:30\r\n",
        "\r\n",
        "10:06:15\r\n",
        "\r\n",
        "exp = > 00:01:10 = 70 วินาที\r\n",
        "\r\n",
        "exp = > 01:00:01 = 3601 วินาที"
      ]
    },
    {
      "cell_type": "code",
      "metadata": {
        "id": "r9lYOPlCpu0U"
      },
      "source": [
        "q1 = '12:30:15'"
      ],
      "execution_count": null,
      "outputs": []
    },
    {
      "cell_type": "code",
      "metadata": {
        "id": "pEZeXPX5pusm"
      },
      "source": [
        ""
      ],
      "execution_count": null,
      "outputs": []
    },
    {
      "cell_type": "code",
      "metadata": {
        "id": "AZt2QpHFh9EO"
      },
      "source": [
        ""
      ],
      "execution_count": null,
      "outputs": []
    }
  ]
}