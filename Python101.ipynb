{
  "nbformat": 4,
  "nbformat_minor": 0,
  "metadata": {
    "colab": {
      "name": "Python101.ipynb",
      "provenance": [],
      "authorship_tag": "ABX9TyPV8GaVKLiBYjpkaoSurw1H",
      "include_colab_link": true
    },
    "kernelspec": {
      "name": "python3",
      "display_name": "Python 3"
    }
  },
  "cells": [
    {
      "cell_type": "markdown",
      "metadata": {
        "id": "view-in-github",
        "colab_type": "text"
      },
      "source": [
        "<a href=\"https://colab.research.google.com/github/chalarm1405/multivariate/blob/main/Python101.ipynb\" target=\"_parent\"><img src=\"https://colab.research.google.com/assets/colab-badge.svg\" alt=\"Open In Colab\"/></a>"
      ]
    },
    {
      "cell_type": "markdown",
      "metadata": {
        "id": "TgxHF6CILftJ"
      },
      "source": [
        "ตัวแปร variable"
      ]
    },
    {
      "cell_type": "markdown",
      "metadata": {
        "id": "ADtKRN_zMqPX"
      },
      "source": [
        "หลักการตั้งชื่อ\r\n",
        "1. ตั้งให้สื่อ\r\n",
        "2. ภาษาอังกฤษเท่านั้น\r\n",
        "3. ใช้คัวเลขได้แต่ห้ามขึ้นด้วยตัวเลข\r\n",
        "4. ห้ามเว้นวรรค\r\n",
        "5. ตัวเล็กตัวใหญ่ต่างกัน\r\n",
        "6. # คือ การ comment โดยเป็นการ output ที่ออกหน้าจอ"
      ]
    },
    {
      "cell_type": "code",
      "metadata": {
        "id": "3hoQ6-wuLgdg"
      },
      "source": [
        "3.14159 เป็นการ output ในหน้าจอ"
      ],
      "execution_count": null,
      "outputs": []
    },
    {
      "cell_type": "code",
      "metadata": {
        "id": "F0yyVmsFKuwL"
      },
      "source": [
        "Pi = 3.14159 เป็นการ output ของตัวแปร a "
      ],
      "execution_count": null,
      "outputs": []
    },
    {
      "cell_type": "code",
      "metadata": {
        "id": "Hm7wXOMSNHL5"
      },
      "source": [
        "Pi"
      ],
      "execution_count": null,
      "outputs": []
    },
    {
      "cell_type": "code",
      "metadata": {
        "colab": {
          "base_uri": "https://localhost:8080/"
        },
        "id": "8oWUcJM_NIXL",
        "outputId": "4bae307d-1022-427a-ecc7-018e6d6e3999"
      },
      "source": [
        "a = 1234567\r\n",
        "print(a)"
      ],
      "execution_count": 5,
      "outputs": [
        {
          "output_type": "stream",
          "text": [
            "1234567\n"
          ],
          "name": "stdout"
        }
      ]
    },
    {
      "cell_type": "markdown",
      "metadata": {
        "id": "oQrHISYZNoDv"
      },
      "source": [
        "#ชนิดของตัวแปร มี 3 ตัวแปร"
      ]
    },
    {
      "cell_type": "markdown",
      "metadata": {
        "id": "sZ9Yh2jMOifj"
      },
      "source": [
        "#1. จำนวนเต็ม( integer,int)"
      ]
    },
    {
      "cell_type": "code",
      "metadata": {
        "colab": {
          "base_uri": "https://localhost:8080/"
        },
        "id": "-XmYHw3TNPYf",
        "outputId": "6ed5cec5-cda5-4790-ca64-c4296b7552a7"
      },
      "source": [
        "aaa = 1092\r\n",
        "print(aaa)"
      ],
      "execution_count": 6,
      "outputs": [
        {
          "output_type": "stream",
          "text": [
            "1092\n"
          ],
          "name": "stdout"
        }
      ]
    },
    {
      "cell_type": "markdown",
      "metadata": {
        "id": "Wj4DtQa0Ozqj"
      },
      "source": [
        "#2.จำนวนจริง(float)"
      ]
    },
    {
      "cell_type": "code",
      "metadata": {
        "colab": {
          "base_uri": "https://localhost:8080/"
        },
        "id": "GnWNvIbnNUQK",
        "outputId": "5fd8d6c2-c9ba-46d4-d096-0ba760e4bfd6"
      },
      "source": [
        "bbb =11.\r\n",
        "print(bbb)"
      ],
      "execution_count": 7,
      "outputs": [
        {
          "output_type": "stream",
          "text": [
            "11.0\n"
          ],
          "name": "stdout"
        }
      ]
    },
    {
      "cell_type": "markdown",
      "metadata": {
        "id": "kbGIRmGjPC6a"
      },
      "source": [
        "#3.ตัวอักษรหรือข้อความ(character และ string,text)"
      ]
    },
    {
      "cell_type": "code",
      "metadata": {
        "colab": {
          "base_uri": "https://localhost:8080/"
        },
        "id": "r4sNbtSaNUo5",
        "outputId": "71a93187-754a-4dcd-aee2-c527414e8031"
      },
      "source": [
        "ccc = ' 123456 ' #เราใช้ quote single หรือ quote duote ใช้เพื่อล้อมรอบตัวหนังสือเพื่อระบุว่าเป็น character หรือ string\r\n",
        "print(ccc) #โดย string ต้องมี ' ' ล้อมรอบโดยเอาไปบวกกันไม่ได้แต่ถ้าเป็นตัวแปรเดียวกันจะบวกกันได้ เช่น"
      ],
      "execution_count": 8,
      "outputs": [
        {
          "output_type": "stream",
          "text": [
            " 123456 \n"
          ],
          "name": "stdout"
        }
      ]
    },
    {
      "cell_type": "code",
      "metadata": {
        "colab": {
          "base_uri": "https://localhost:8080/",
          "height": 130
        },
        "id": "RyCD3bNWNU88",
        "outputId": "364c32a0-8904-47b8-9f1e-48673f320df3"
      },
      "source": [
        "ิิิbbb + ccc #คนละตัวแปรบวกกันไม่ได้โดยตัวอักษรบวกกับตัวเลขไม่ได้"
      ],
      "execution_count": 9,
      "outputs": [
        {
          "output_type": "error",
          "ename": "SyntaxError",
          "evalue": "ignored",
          "traceback": [
            "\u001b[0;36m  File \u001b[0;32m\"<ipython-input-9-3f09661125e7>\"\u001b[0;36m, line \u001b[0;32m1\u001b[0m\n\u001b[0;31m    ิิิbbb + ccc #คนละตัวแปรบวกกันไม่ได้โดยตัวอักษรบวกกับตัวเลขไม่ได้\u001b[0m\n\u001b[0m         ^\u001b[0m\n\u001b[0;31mSyntaxError\u001b[0m\u001b[0;31m:\u001b[0m invalid character in identifier\n"
          ]
        }
      ]
    },
    {
      "cell_type": "code",
      "metadata": {
        "colab": {
          "base_uri": "https://localhost:8080/"
        },
        "id": "Jpw78i6_QEMn",
        "outputId": "8c9b2302-6ed1-481e-91da-50b698ec3691"
      },
      "source": [
        "aaa + bbb #float + int = float ตัวแปรเดียวกันบวกกันได้"
      ],
      "execution_count": 10,
      "outputs": [
        {
          "output_type": "execute_result",
          "data": {
            "text/plain": [
              "1103.0"
            ]
          },
          "metadata": {
            "tags": []
          },
          "execution_count": 10
        }
      ]
    },
    {
      "cell_type": "code",
      "metadata": {
        "id": "g9ttk84GP9bp"
      },
      "source": [
        "ddd = ' ชณะชัย ' #ในเครื่องหมาย ' ' เป็นภาษาไทยได้\r\n",
        "print(ddd)"
      ],
      "execution_count": null,
      "outputs": []
    },
    {
      "cell_type": "markdown",
      "metadata": {
        "id": "TKBG6hF9Qxmp"
      },
      "source": [
        "#ถ้าเกิด error สามารถทำได้โดยการเปลี่ยนชนิดตัวแปร(variable caseting)"
      ]
    },
    {
      "cell_type": "code",
      "metadata": {
        "colab": {
          "base_uri": "https://localhost:8080/"
        },
        "id": "H-632sYrQnDN",
        "outputId": "71f86972-7694-424f-d9c0-69b9828897db"
      },
      "source": [
        "bbb + int( ccc )"
      ],
      "execution_count": 11,
      "outputs": [
        {
          "output_type": "execute_result",
          "data": {
            "text/plain": [
              "123467.0"
            ]
          },
          "metadata": {
            "tags": []
          },
          "execution_count": 11
        }
      ]
    },
    {
      "cell_type": "code",
      "metadata": {
        "colab": {
          "base_uri": "https://localhost:8080/"
        },
        "id": "v2W3szw1Qnbv",
        "outputId": "e11d8abf-ccd3-4dd0-eb33-9619bdef3baa"
      },
      "source": [
        "aaa + int( ccc )"
      ],
      "execution_count": 12,
      "outputs": [
        {
          "output_type": "execute_result",
          "data": {
            "text/plain": [
              "124548"
            ]
          },
          "metadata": {
            "tags": []
          },
          "execution_count": 12
        }
      ]
    },
    {
      "cell_type": "code",
      "metadata": {
        "colab": {
          "base_uri": "https://localhost:8080/"
        },
        "id": "RaELJpwNRYbx",
        "outputId": "53ded8ba-421f-4bdf-db17-119bd8ce24c9"
      },
      "source": [
        "aaa + float( ccc )"
      ],
      "execution_count": 13,
      "outputs": [
        {
          "output_type": "execute_result",
          "data": {
            "text/plain": [
              "124548.0"
            ]
          },
          "metadata": {
            "tags": []
          },
          "execution_count": 13
        }
      ]
    },
    {
      "cell_type": "code",
      "metadata": {
        "colab": {
          "base_uri": "https://localhost:8080/",
          "height": 34
        },
        "id": "siwXuTTxRY6k",
        "outputId": "6b8fba5d-9c33-4bd1-9fa6-bcf3de682844"
      },
      "source": [
        "str(aaa) #การเปลี่ยนกลับเป็นข้อความ"
      ],
      "execution_count": 14,
      "outputs": [
        {
          "output_type": "execute_result",
          "data": {
            "application/vnd.google.colaboratory.intrinsic+json": {
              "type": "string"
            },
            "text/plain": [
              "'1092'"
            ]
          },
          "metadata": {
            "tags": []
          },
          "execution_count": 14
        }
      ]
    },
    {
      "cell_type": "markdown",
      "metadata": {
        "id": "JgRPoWk4SJ-p"
      },
      "source": [
        "#operation ( operator + , - , * , / )"
      ]
    },
    {
      "cell_type": "code",
      "metadata": {
        "id": "5Ov56UO4RZMu"
      },
      "source": [
        "a+b"
      ],
      "execution_count": null,
      "outputs": []
    },
    {
      "cell_type": "code",
      "metadata": {
        "colab": {
          "base_uri": "https://localhost:8080/"
        },
        "id": "rdgIlk9CRZfq",
        "outputId": "8666101d-5791-4c36-d8f0-abe9a1bc6947"
      },
      "source": [
        "aaa + bbb"
      ],
      "execution_count": 16,
      "outputs": [
        {
          "output_type": "execute_result",
          "data": {
            "text/plain": [
              "1103.0"
            ]
          },
          "metadata": {
            "tags": []
          },
          "execution_count": 16
        }
      ]
    },
    {
      "cell_type": "code",
      "metadata": {
        "colab": {
          "base_uri": "https://localhost:8080/"
        },
        "id": "viJhJMpkRaI7",
        "outputId": "a215b4d2-1a76-49e8-cb25-3a9744dd199a"
      },
      "source": [
        "aaa - bbb"
      ],
      "execution_count": 17,
      "outputs": [
        {
          "output_type": "execute_result",
          "data": {
            "text/plain": [
              "1081.0"
            ]
          },
          "metadata": {
            "tags": []
          },
          "execution_count": 17
        }
      ]
    },
    {
      "cell_type": "code",
      "metadata": {
        "id": "onRj4X89SyzI"
      },
      "source": [
        "ab = aaa * bbb #เอาไปใช้ต่อไม่ได้"
      ],
      "execution_count": 18,
      "outputs": []
    },
    {
      "cell_type": "code",
      "metadata": {
        "colab": {
          "base_uri": "https://localhost:8080/"
        },
        "id": "Ntnrz72kS0z4",
        "outputId": "aeb75b1a-00b9-4930-b2f5-ac893741f91b"
      },
      "source": [
        "ab = aaa * bbb #นำไปใช้ต่อได้\r\n",
        "print(ab)"
      ],
      "execution_count": 19,
      "outputs": [
        {
          "output_type": "stream",
          "text": [
            "12012.0\n"
          ],
          "name": "stdout"
        }
      ]
    },
    {
      "cell_type": "markdown",
      "metadata": {
        "id": "Qn7qJmXYTFo4"
      },
      "source": [
        "#คำสั่ง modulo หรือเครื่องหมาย % ( โดยเป็นการหารเอาเศษและใช้บ่อยเพื่อหาเป็นเลขคี่หรือคู่ )"
      ]
    },
    {
      "cell_type": "code",
      "metadata": {
        "colab": {
          "base_uri": "https://localhost:8080/"
        },
        "id": "ZhCdzGtoTDcN",
        "outputId": "725848a9-5c01-4dc1-eef0-acf1859a8fff"
      },
      "source": [
        "5%3"
      ],
      "execution_count": 20,
      "outputs": [
        {
          "output_type": "execute_result",
          "data": {
            "text/plain": [
              "2"
            ]
          },
          "metadata": {
            "tags": []
          },
          "execution_count": 20
        }
      ]
    },
    {
      "cell_type": "code",
      "metadata": {
        "colab": {
          "base_uri": "https://localhost:8080/"
        },
        "id": "1W8luZW0Tii8",
        "outputId": "d4454f8b-8cf9-46e8-f056-c2f07bc4831b"
      },
      "source": [
        "7%3"
      ],
      "execution_count": 21,
      "outputs": [
        {
          "output_type": "execute_result",
          "data": {
            "text/plain": [
              "1"
            ]
          },
          "metadata": {
            "tags": []
          },
          "execution_count": 21
        }
      ]
    },
    {
      "cell_type": "code",
      "metadata": {
        "colab": {
          "base_uri": "https://localhost:8080/"
        },
        "id": "-efI0QhMTizS",
        "outputId": "77dad866-c2b3-4a0e-93e4-5fe53a9820b8"
      },
      "source": [
        "21%8"
      ],
      "execution_count": 22,
      "outputs": [
        {
          "output_type": "execute_result",
          "data": {
            "text/plain": [
              "5"
            ]
          },
          "metadata": {
            "tags": []
          },
          "execution_count": 22
        }
      ]
    },
    {
      "cell_type": "markdown",
      "metadata": {
        "id": "dq5ohNjGT9jK"
      },
      "source": [
        "คำสั่ง print แบบพิเศษ ( การ format string )"
      ]
    },
    {
      "cell_type": "code",
      "metadata": {
        "id": "7JuzGrooTjpi"
      },
      "source": [
        "print( ' ตัวแปร ') #โดย"
      ],
      "execution_count": null,
      "outputs": []
    },
    {
      "cell_type": "code",
      "metadata": {
        "id": "rvAPJ6_jTkAu"
      },
      "source": [
        "print( f'% คือ การหารเอาเศษ เช่น 7%3 = { 7%3 }') #เพิ่ม f หน้า 'string' และใช้ {} ใส่ code"
      ],
      "execution_count": null,
      "outputs": []
    },
    {
      "cell_type": "code",
      "metadata": {
        "id": "uxyf6aAEUqdi"
      },
      "source": [
        "print(f'% คือ การหารเอาเศษ เช่น 7%3 = {7%3} ) \\\r\n",
        "  แต่ \\n/ คือ การหารปกติ เช่น  7/3 = { 7/3 } \\\r\n",
        "  และ\\n// คือ การหารเอาส่วน เช่น 7//3 = { 7 // 3} \\\r\n",
        "  หรือ \\n ใช้ int() เพื่อหารเอาส่วน เช่น int( 7/3 ) = { int( 7/3 ) }'  ) # \\n คือ การขึ้นบรรทัดใหม่ \\ ใช้ใน\r\n"
      ],
      "execution_count": null,
      "outputs": []
    },
    {
      "cell_type": "markdown",
      "metadata": {
        "id": "rADWssisXFwM"
      },
      "source": [
        "#โครงสร้างข้อมูล"
      ]
    },
    {
      "cell_type": "markdown",
      "metadata": {
        "id": "T0ZPrXZLXTCj"
      },
      "source": [
        "list คือ การเอาข้อมูลหลายๆตัวมาเรียงต่อกัน โดย list สามารถสร้างได้ 2 แบบดังนี้"
      ]
    },
    {
      "cell_type": "markdown",
      "metadata": {
        "id": "UoGDxxuXXqWq"
      },
      "source": [
        "#แบบที่ 1 square brackets"
      ]
    },
    {
      "cell_type": "code",
      "metadata": {
        "colab": {
          "base_uri": "https://localhost:8080/"
        },
        "id": "6YpDEd4KXyZe",
        "outputId": "7453b8e0-0cc4-4a56-d06d-129f884418f0"
      },
      "source": [
        "list_a = [ ]\r\n",
        "print(list_a)"
      ],
      "execution_count": 23,
      "outputs": [
        {
          "output_type": "stream",
          "text": [
            "[]\n"
          ],
          "name": "stdout"
        }
      ]
    },
    {
      "cell_type": "code",
      "metadata": {
        "colab": {
          "base_uri": "https://localhost:8080/"
        },
        "id": "IXll4wmUWlWU",
        "outputId": "884ec393-5259-45d3-8700-f60ead23a609"
      },
      "source": [
        " list_b = [ 111, ' c ' , ' งง ',aaa ]\r\n",
        " print(list_b)\r\n"
      ],
      "execution_count": 47,
      "outputs": [
        {
          "output_type": "stream",
          "text": [
            "[111, ' c ', ' งง ', 1092]\n"
          ],
          "name": "stdout"
        }
      ]
    },
    {
      "cell_type": "markdown",
      "metadata": {
        "id": "FtVcYvzim8mX"
      },
      "source": [
        "ลำดับที่อยู๋ใน list มีความสำคัญ( ลำดับใน list เริ่มจาก 0,1,2,...)"
      ]
    },
    {
      "cell_type": "code",
      "metadata": {
        "colab": {
          "base_uri": "https://localhost:8080/",
          "height": 34
        },
        "id": "0ev0631xnIN1",
        "outputId": "792e0e18-14cf-4af9-e665-9394205f1e82"
      },
      "source": [
        "list_b[2]"
      ],
      "execution_count": 25,
      "outputs": [
        {
          "output_type": "execute_result",
          "data": {
            "application/vnd.google.colaboratory.intrinsic+json": {
              "type": "string"
            },
            "text/plain": [
              "' งง '"
            ]
          },
          "metadata": {
            "tags": []
          },
          "execution_count": 25
        }
      ]
    },
    {
      "cell_type": "markdown",
      "metadata": {
        "id": "DA_LWGOsnwBZ"
      },
      "source": [
        "#แบบที่ 2"
      ]
    },
    {
      "cell_type": "code",
      "metadata": {
        "colab": {
          "base_uri": "https://localhost:8080/"
        },
        "id": "WU2uOlTRhrlQ",
        "outputId": "a5212a04-b706-44b3-f9cf-c270b86d206a"
      },
      "source": [
        "list_c = list()\r\n",
        "print(list_c)"
      ],
      "execution_count": 26,
      "outputs": [
        {
          "output_type": "stream",
          "text": [
            "[]\n"
          ],
          "name": "stdout"
        }
      ]
    },
    {
      "cell_type": "markdown",
      "metadata": {
        "id": "k1Le0OphYdnv"
      },
      "source": [
        "#append() เพิ่มสมาชิกใน list"
      ]
    },
    {
      "cell_type": "code",
      "metadata": {
        "id": "XC89gFZAXm4K",
        "colab": {
          "base_uri": "https://localhost:8080/"
        },
        "outputId": "b6c721cc-986f-4988-b2bb-77fb52e712fa"
      },
      "source": [
        "list_b.append(' u ')\r\n",
        "print(list_b)"
      ],
      "execution_count": 45,
      "outputs": [
        {
          "output_type": "stream",
          "text": [
            "[111, ' c ', ' งง ', 1092, ' u ', ' u ', 'python is easy', ' u ']\n"
          ],
          "name": "stdout"
        }
      ]
    },
    {
      "cell_type": "code",
      "metadata": {
        "id": "4Iujt-n0h4pM",
        "colab": {
          "base_uri": "https://localhost:8080/",
          "height": 34
        },
        "outputId": "a223b50c-31bd-4531-f7ea-8abbf3c6eabc"
      },
      "source": [
        "list_b[-1]"
      ],
      "execution_count": 46,
      "outputs": [
        {
          "output_type": "execute_result",
          "data": {
            "application/vnd.google.colaboratory.intrinsic+json": {
              "type": "string"
            },
            "text/plain": [
              "' u '"
            ]
          },
          "metadata": {
            "tags": []
          },
          "execution_count": 46
        }
      ]
    },
    {
      "cell_type": "markdown",
      "metadata": {
        "id": "C46-H0IXZgD5"
      },
      "source": [
        "#string > list of characters"
      ]
    },
    {
      "cell_type": "code",
      "metadata": {
        "colab": {
          "base_uri": "https://localhost:8080/"
        },
        "id": "Duii1SEYqLjd",
        "outputId": "e84e11f9-b72b-4bfd-a751-352ef417e22c"
      },
      "source": [
        "t = 'python is easy'\r\n",
        "print(t)"
      ],
      "execution_count": 31,
      "outputs": [
        {
          "output_type": "stream",
          "text": [
            "python is easy\n"
          ],
          "name": "stdout"
        }
      ]
    },
    {
      "cell_type": "markdown",
      "metadata": {
        "id": "XiRtOD-zgtbM"
      },
      "source": [
        "#access a number of a list (list&string)\r\n",
        "โดยการเริ่มนับจาก 0\r\n",
        "และ 0 คือสามชิกตัวแรก, -1 คือสมาชิกตัวสุดท้าย"
      ]
    },
    {
      "cell_type": "code",
      "metadata": {
        "colab": {
          "base_uri": "https://localhost:8080/",
          "height": 34
        },
        "id": "94QOkBAHXn-o",
        "outputId": "b8ff5883-94b4-46f0-d583-c272c6e64e75"
      },
      "source": [
        "t[1]"
      ],
      "execution_count": 32,
      "outputs": [
        {
          "output_type": "execute_result",
          "data": {
            "application/vnd.google.colaboratory.intrinsic+json": {
              "type": "string"
            },
            "text/plain": [
              "'y'"
            ]
          },
          "metadata": {
            "tags": []
          },
          "execution_count": 32
        }
      ]
    },
    {
      "cell_type": "code",
      "metadata": {
        "colab": {
          "base_uri": "https://localhost:8080/",
          "height": 34
        },
        "id": "rviSRZhrXocZ",
        "outputId": "f15d5824-a04f-4e26-8f5a-2d640bf9f8e7"
      },
      "source": [
        "t[-4]"
      ],
      "execution_count": 33,
      "outputs": [
        {
          "output_type": "execute_result",
          "data": {
            "application/vnd.google.colaboratory.intrinsic+json": {
              "type": "string"
            },
            "text/plain": [
              "'e'"
            ]
          },
          "metadata": {
            "tags": []
          },
          "execution_count": 33
        }
      ]
    },
    {
      "cell_type": "code",
      "metadata": {
        "colab": {
          "base_uri": "https://localhost:8080/",
          "height": 34
        },
        "id": "5ewa9UsDZ8Iw",
        "outputId": "823e97b3-62ed-46bf-d674-79f6b27f7bc7"
      },
      "source": [
        "t[6]"
      ],
      "execution_count": 34,
      "outputs": [
        {
          "output_type": "execute_result",
          "data": {
            "application/vnd.google.colaboratory.intrinsic+json": {
              "type": "string"
            },
            "text/plain": [
              "' '"
            ]
          },
          "metadata": {
            "tags": []
          },
          "execution_count": 34
        }
      ]
    },
    {
      "cell_type": "code",
      "metadata": {
        "id": "GilEj3HJaIun"
      },
      "source": [
        ""
      ],
      "execution_count": null,
      "outputs": []
    },
    {
      "cell_type": "markdown",
      "metadata": {
        "id": "jbi73UJ3h2hi"
      },
      "source": [
        "#คาบ 3 ( 11/01/63)\r\n"
      ]
    },
    {
      "cell_type": "code",
      "metadata": {
        "colab": {
          "base_uri": "https://localhost:8080/"
        },
        "id": "ld15ujF_knKC",
        "outputId": "1889e596-279d-40ca-c5f9-fe5dd2a65a31"
      },
      "source": [
        "len(list_b) #len คือคำสั่งตรวจสอบความยาวของ list (จำนวนสมาชิก)"
      ],
      "execution_count": 35,
      "outputs": [
        {
          "output_type": "execute_result",
          "data": {
            "text/plain": [
              "6"
            ]
          },
          "metadata": {
            "tags": []
          },
          "execution_count": 35
        }
      ]
    },
    {
      "cell_type": "code",
      "metadata": {
        "colab": {
          "base_uri": "https://localhost:8080/"
        },
        "id": "bP9LJYmPkrPy",
        "outputId": "7e428878-530f-4287-99ae-06b2d6a816d6"
      },
      "source": [
        "len(t) "
      ],
      "execution_count": 36,
      "outputs": [
        {
          "output_type": "execute_result",
          "data": {
            "text/plain": [
              "14"
            ]
          },
          "metadata": {
            "tags": []
          },
          "execution_count": 36
        }
      ]
    },
    {
      "cell_type": "code",
      "metadata": {
        "colab": {
          "base_uri": "https://localhost:8080/",
          "height": 34
        },
        "id": "TwG9gPJch9qi",
        "outputId": "e1e0d756-cf63-4fbe-cb2a-55bbbd9dc28a"
      },
      "source": [
        "t[-4]"
      ],
      "execution_count": 37,
      "outputs": [
        {
          "output_type": "execute_result",
          "data": {
            "application/vnd.google.colaboratory.intrinsic+json": {
              "type": "string"
            },
            "text/plain": [
              "'e'"
            ]
          },
          "metadata": {
            "tags": []
          },
          "execution_count": 37
        }
      ]
    },
    {
      "cell_type": "code",
      "metadata": {
        "colab": {
          "base_uri": "https://localhost:8080/"
        },
        "id": "WNQhKFrOh9jL",
        "outputId": "3ce843bb-10aa-4a88-b0e3-d06242a863e8"
      },
      "source": [
        "list_b.append(t)\r\n",
        "print(list_b)"
      ],
      "execution_count": 38,
      "outputs": [
        {
          "output_type": "stream",
          "text": [
            "[111, ' c ', ' งง ', 1092, ' u ', ' u ', 'python is easy']\n"
          ],
          "name": "stdout"
        }
      ]
    },
    {
      "cell_type": "markdown",
      "metadata": {
        "id": "zZlIQreulc3Y"
      },
      "source": [
        "#ตัวที่อยู่ข้างใน [] เราเรียกว่า index (ตัวชี้)"
      ]
    },
    {
      "cell_type": "code",
      "metadata": {
        "colab": {
          "base_uri": "https://localhost:8080/"
        },
        "id": "gu-6n2-ih9fE",
        "outputId": "670e6ab8-fc90-4abf-850f-79315a197771"
      },
      "source": [
        "print(t)\r\n",
        "print(t[7:9]) #ข้างหน้า : คือจุดเริ่มต้น ข้างหลังคือจุดสิ้นสุด\r\n",
        "print(len(t[7:9]))"
      ],
      "execution_count": 39,
      "outputs": [
        {
          "output_type": "stream",
          "text": [
            "python is easy\n",
            "is\n",
            "2\n"
          ],
          "name": "stdout"
        }
      ]
    },
    {
      "cell_type": "code",
      "metadata": {
        "colab": {
          "base_uri": "https://localhost:8080/",
          "height": 34
        },
        "id": "iiV2VvvInnrs",
        "outputId": "7c2c5477-8f8e-4c7c-fd12-528626a1f45e"
      },
      "source": [
        "t[0:14:2] #เริ่มตัวที่ 0 โดยหยิบทุกๆ 2 ตัว จนครบ 14 ตัว"
      ],
      "execution_count": 40,
      "outputs": [
        {
          "output_type": "execute_result",
          "data": {
            "application/vnd.google.colaboratory.intrinsic+json": {
              "type": "string"
            },
            "text/plain": [
              "'pto ses'"
            ]
          },
          "metadata": {
            "tags": []
          },
          "execution_count": 40
        }
      ]
    },
    {
      "cell_type": "code",
      "metadata": {
        "colab": {
          "base_uri": "https://localhost:8080/"
        },
        "id": "f764kfsyoH6i",
        "outputId": "3c50abae-9a7f-47c6-d593-9e2b39914cd1"
      },
      "source": [
        "z = [1,2,3,4,5,6,7,8,9,10]\r\n",
        "print(z[1:10:2])"
      ],
      "execution_count": 41,
      "outputs": [
        {
          "output_type": "stream",
          "text": [
            "[2, 4, 6, 8, 10]\n"
          ],
          "name": "stdout"
        }
      ]
    },
    {
      "cell_type": "markdown",
      "metadata": {
        "id": "qOF6zkEzl9KQ"
      },
      "source": [
        "ถ้าเว้นวางหน้า : หมายความว่า เริ่มตั้งแต่ตัวแรก\r\n",
        "\r\n",
        "ถ้าเว้นวางหลัง : คือ ไปจนถึงสุดท้าย"
      ]
    },
    {
      "cell_type": "code",
      "metadata": {
        "colab": {
          "base_uri": "https://localhost:8080/"
        },
        "id": "WuLRfcSUh9aM",
        "outputId": "1434f6c3-0b12-4ecc-ef93-02b2aec37e38"
      },
      "source": [
        "print(t)\r\n",
        "print(t[:6]) # : มีข้อพิเศษถ้าเราไม่ใส่ตัวเลข คือเริ่มตัวแรก list โดยมันแทน 0 ให้เลย\r\n",
        "print(t[10:])\r\n",
        "print(t[-4:])\r\n",
        "print(t[:])"
      ],
      "execution_count": 42,
      "outputs": [
        {
          "output_type": "stream",
          "text": [
            "python is easy\n",
            "python\n",
            "easy\n",
            "easy\n",
            "python is easy\n"
          ],
          "name": "stdout"
        }
      ]
    },
    {
      "cell_type": "code",
      "metadata": {
        "id": "eIy0i7yvqL8X"
      },
      "source": [
        "print(z[::2])"
      ],
      "execution_count": null,
      "outputs": []
    },
    {
      "cell_type": "markdown",
      "metadata": {
        "id": "akmI34Goplo-"
      },
      "source": [
        "#เราสามารถเอา list มาต่อกันได้ด้วย +"
      ]
    },
    {
      "cell_type": "code",
      "metadata": {
        "colab": {
          "base_uri": "https://localhost:8080/",
          "height": 34
        },
        "id": "TeoBRTXbh9R8",
        "outputId": "2ca42fb6-f299-4f12-ecbb-300a14b04a48"
      },
      "source": [
        "t + '??'"
      ],
      "execution_count": 43,
      "outputs": [
        {
          "output_type": "execute_result",
          "data": {
            "application/vnd.google.colaboratory.intrinsic+json": {
              "type": "string"
            },
            "text/plain": [
              "'python is easy??'"
            ]
          },
          "metadata": {
            "tags": []
          },
          "execution_count": 43
        }
      ]
    },
    {
      "cell_type": "code",
      "metadata": {
        "id": "L7KadLC2pvHm"
      },
      "source": [
        "t + list_b #ไม่สามารถเอา list ปกติมาต่อกันกับ string ได้"
      ],
      "execution_count": null,
      "outputs": []
    },
    {
      "cell_type": "code",
      "metadata": {
        "colab": {
          "base_uri": "https://localhost:8080/"
        },
        "id": "ythDIeUAsUaH",
        "outputId": "f528aa9d-e864-43f3-c5cc-243050c080c4"
      },
      "source": [
        "print(list_a)\r\n",
        "print(list_b)\r\n",
        "print(list_b + list_a) # + คือ เอาสมาชิกมารวมกัน\r\n"
      ],
      "execution_count": 49,
      "outputs": [
        {
          "output_type": "stream",
          "text": [
            "[]\n",
            "[111, ' c ', ' งง ', 1092]\n",
            "[111, ' c ', ' งง ', 1092]\n"
          ],
          "name": "stdout"
        }
      ]
    },
    {
      "cell_type": "code",
      "metadata": {
        "colab": {
          "base_uri": "https://localhost:8080/"
        },
        "id": "xzjluxrDs96w",
        "outputId": "1fc1ce4e-776f-440c-85b8-339221da2d1e"
      },
      "source": [
        "list_b.append(list_a) # append คือ เอาสมาชิกใน()มาต่อท้ายกัน\r\n",
        "print(list_b)"
      ],
      "execution_count": 50,
      "outputs": [
        {
          "output_type": "stream",
          "text": [
            "[111, ' c ', ' งง ', 1092, []]\n"
          ],
          "name": "stdout"
        }
      ]
    },
    {
      "cell_type": "code",
      "metadata": {
        "id": "YQa4rNxopvE1"
      },
      "source": [
        "list_b + list_a"
      ],
      "execution_count": null,
      "outputs": []
    },
    {
      "cell_type": "markdown",
      "metadata": {
        "id": "AIrT2GlnsLSj"
      },
      "source": [
        "#การแบ่ง string ตามสัญลักษณ์ที่กำหนด -> split string"
      ]
    },
    {
      "cell_type": "code",
      "metadata": {
        "colab": {
          "base_uri": "https://localhost:8080/",
          "height": 34
        },
        "id": "Dfh-cGkuuUWn",
        "outputId": "dad0b1ec-931c-4f12-cd2a-9a2fdb64de02"
      },
      "source": [
        "t"
      ],
      "execution_count": 51,
      "outputs": [
        {
          "output_type": "execute_result",
          "data": {
            "application/vnd.google.colaboratory.intrinsic+json": {
              "type": "string"
            },
            "text/plain": [
              "'python is easy'"
            ]
          },
          "metadata": {
            "tags": []
          },
          "execution_count": 51
        }
      ]
    },
    {
      "cell_type": "code",
      "metadata": {
        "colab": {
          "base_uri": "https://localhost:8080/"
        },
        "id": "2qMAP_0epvA5",
        "outputId": "95887227-8149-45a8-d97b-edbbd957f333"
      },
      "source": [
        "t.split(' ') #split คือการแบ่งโดยระบุเพื่อการแบ่งวรรค"
      ],
      "execution_count": 52,
      "outputs": [
        {
          "output_type": "execute_result",
          "data": {
            "text/plain": [
              "['python', 'is', 'easy']"
            ]
          },
          "metadata": {
            "tags": []
          },
          "execution_count": 52
        }
      ]
    },
    {
      "cell_type": "code",
      "metadata": {
        "id": "tLVrgUCGpu9m"
      },
      "source": [
        "time = '12:30:15'"
      ],
      "execution_count": 53,
      "outputs": []
    },
    {
      "cell_type": "code",
      "metadata": {
        "colab": {
          "base_uri": "https://localhost:8080/"
        },
        "id": "MQzBzh5Ipu49",
        "outputId": "64bc8e61-3a47-47c7-88c4-163f7976d35c"
      },
      "source": [
        "time.split(':')"
      ],
      "execution_count": 54,
      "outputs": [
        {
          "output_type": "execute_result",
          "data": {
            "text/plain": [
              "['12', '30', '15']"
            ]
          },
          "metadata": {
            "tags": []
          },
          "execution_count": 54
        }
      ]
    },
    {
      "cell_type": "code",
      "metadata": {
        "colab": {
          "base_uri": "https://localhost:8080/"
        },
        "id": "MgdokWeAutAE",
        "outputId": "be89ca2e-5a99-4e14-e521-fc25d0ea859f"
      },
      "source": [
        "t_sp = t.split(' ')\r\n",
        "print(t_sp)"
      ],
      "execution_count": 55,
      "outputs": [
        {
          "output_type": "stream",
          "text": [
            "['python', 'is', 'easy']\n"
          ],
          "name": "stdout"
        }
      ]
    },
    {
      "cell_type": "code",
      "metadata": {
        "id": "SKmRcJFkvBXe"
      },
      "source": [
        "#วิธีรวมกลับ\r\n",
        "print(':'.join(t_sp))"
      ],
      "execution_count": null,
      "outputs": []
    },
    {
      "cell_type": "markdown",
      "metadata": {
        "id": "pZeCcPEwsmWp"
      },
      "source": [
        "#hw คำนวณเวลาเป็นวินาทีต่อไปนี้โดยคำสั่ง split() ช่วย (print ให้ออกมาสวยงาม)"
      ]
    },
    {
      "cell_type": "markdown",
      "metadata": {
        "id": "ZWjRhauDvUWE"
      },
      "source": [
        "12:30:15\r\n",
        "\r\n",
        "13:41:07\r\n",
        "\r\n",
        "12:53:15\r\n",
        "\r\n",
        "00:59;25\r\n",
        "\r\n",
        "11:11:11\r\n",
        "\r\n",
        "16:06:09\r\n",
        "\r\n",
        "21:12:30\r\n",
        "\r\n",
        "10:06:15\r\n",
        "\r\n",
        "exp = > 00:01:10 = 70 วินาที\r\n",
        "\r\n",
        "exp = > 01:00:01 = 3601 วินาที"
      ]
    },
    {
      "cell_type": "code",
      "metadata": {
        "id": "r9lYOPlCpu0U",
        "outputId": "0b8f167e-6312-475d-b904-52c5bc91152f",
        "colab": {
          "base_uri": "https://localhost:8080/"
        }
      },
      "source": [
        "q1 = '12:30:15'\r\n",
        "q1.split(':')\r\n",
        "list_q1 = [12,30,15]\r\n",
        "hr = list_q1[0]*3600\r\n",
        "mi = list_q1[1]*60\r\n",
        "s = list_q1[2]\r\n",
        "aq1 = hr+mi+s\r\n",
        "print(aq1)\r\n"
      ],
      "execution_count": 157,
      "outputs": [
        {
          "output_type": "stream",
          "text": [
            "45015\n"
          ],
          "name": "stdout"
        }
      ]
    },
    {
      "cell_type": "markdown",
      "metadata": {
        "id": "R99tVpqo461A"
      },
      "source": [
        "q1 แปลงได้ 45015 วินาที"
      ]
    },
    {
      "cell_type": "code",
      "metadata": {
        "id": "4LT-CaHN37eO",
        "outputId": "84f65953-9409-4553-ccfd-c7fd4cb4346d",
        "colab": {
          "base_uri": "https://localhost:8080/"
        }
      },
      "source": [
        "q2 = '13:41:07'\r\n",
        "q2.split(':')\r\n",
        "list_q2 = [13,41,7]\r\n",
        "hr2 = list_q2[0]*3600\r\n",
        "mi2 = list_q2[1]*60\r\n",
        "s2 = list_q2[2]\r\n",
        "aq2 = hr2+mi2+s2\r\n",
        "print(aq2)\r\n"
      ],
      "execution_count": 164,
      "outputs": [
        {
          "output_type": "stream",
          "text": [
            "49267\n"
          ],
          "name": "stdout"
        }
      ]
    },
    {
      "cell_type": "markdown",
      "metadata": {
        "id": "oMnIauPB6A8v"
      },
      "source": [
        "q2 แปลงได้ 49267 วินาที"
      ]
    },
    {
      "cell_type": "code",
      "metadata": {
        "id": "ueNn-SGg37bZ",
        "outputId": "6f44af0c-3eeb-4e72-a7ea-1cb6560ed9ec",
        "colab": {
          "base_uri": "https://localhost:8080/"
        }
      },
      "source": [
        "q3 = '12:53:15'\r\n",
        "q3.split(':')\r\n",
        "list_q3 = [12,53,15]\r\n",
        "hr3 = list_q3[0]*3600\r\n",
        "mi3 = list_q3[1]*60\r\n",
        "s3 = list_q3[2]\r\n",
        "aq3 = hr3+mi3+s3\r\n",
        "print(aq3)\r\n"
      ],
      "execution_count": 165,
      "outputs": [
        {
          "output_type": "stream",
          "text": [
            "46395\n"
          ],
          "name": "stdout"
        }
      ]
    },
    {
      "cell_type": "markdown",
      "metadata": {
        "id": "GaJv2iye6Fw-"
      },
      "source": [
        "q3 แปลงได้ 46395 วินาที"
      ]
    },
    {
      "cell_type": "code",
      "metadata": {
        "id": "V7iV12ML37Wp",
        "outputId": "85d762a7-ca69-4ef1-ad39-37548037da70",
        "colab": {
          "base_uri": "https://localhost:8080/"
        }
      },
      "source": [
        "q4 = '00:59:25'\r\n",
        "q4.split(':')\r\n",
        "list_q4 = [00,59,25]\r\n",
        "hr4 = list_q4[0]*3600\r\n",
        "mi4 = list_q4[1]*60\r\n",
        "s4 = list_q4[2]\r\n",
        "aq4 = hr4+mi4+s4\r\n",
        "print(aq4)\r\n"
      ],
      "execution_count": 167,
      "outputs": [
        {
          "output_type": "stream",
          "text": [
            "3565\n"
          ],
          "name": "stdout"
        }
      ]
    },
    {
      "cell_type": "markdown",
      "metadata": {
        "id": "QW2so5RB6Jdu"
      },
      "source": [
        "q4 แปลงได้ 3565 วินาที"
      ]
    },
    {
      "cell_type": "code",
      "metadata": {
        "id": "-hYmPDQA37Ta",
        "outputId": "bed71e9e-056b-48e6-d61c-870bbda98be3",
        "colab": {
          "base_uri": "https://localhost:8080/"
        }
      },
      "source": [
        "q5 = '11:11:11'\r\n",
        "q5.split(':')\r\n",
        "list_q5 = [11,11,11]\r\n",
        "hr5 = list_q5[0]*3600\r\n",
        "mi5 = list_q5[1]*60\r\n",
        "s5 = list_q5[2]\r\n",
        "aq5 = hr5+mi5+s5\r\n",
        "print(aq5)\r\n"
      ],
      "execution_count": 168,
      "outputs": [
        {
          "output_type": "stream",
          "text": [
            "40271\n"
          ],
          "name": "stdout"
        }
      ]
    },
    {
      "cell_type": "markdown",
      "metadata": {
        "id": "7uGO9jgZ6OEq"
      },
      "source": [
        "q5 แปลงได้ 40271 วินาที"
      ]
    },
    {
      "cell_type": "code",
      "metadata": {
        "id": "cbtL2UwD37N7",
        "outputId": "8ebc4ce2-5986-428e-b5ca-581abda6d5db",
        "colab": {
          "base_uri": "https://localhost:8080/"
        }
      },
      "source": [
        "q6 = '16:06:09'\r\n",
        "q6.split(':')\r\n",
        "list_q6 = [16,6,9]\r\n",
        "hr6 = list_q6[0]*3600\r\n",
        "mi6 = list_q6[1]*60\r\n",
        "s6 = list_q6[2]\r\n",
        "aq6 = hr6+mi6+s6\r\n",
        "print(aq6)\r\n"
      ],
      "execution_count": 171,
      "outputs": [
        {
          "output_type": "stream",
          "text": [
            "57969\n"
          ],
          "name": "stdout"
        }
      ]
    },
    {
      "cell_type": "markdown",
      "metadata": {
        "id": "6w2l-_hm6RlS"
      },
      "source": [
        "q6 แปลงได้ 57969 วินาที"
      ]
    },
    {
      "cell_type": "code",
      "metadata": {
        "id": "qxqWuf_g37Dw",
        "outputId": "5fe84763-208d-4f56-bce4-df1175725712",
        "colab": {
          "base_uri": "https://localhost:8080/"
        }
      },
      "source": [
        "q7 = '21:12:30'\r\n",
        "q7.split(':')\r\n",
        "list_q7 = [21,12,30]\r\n",
        "hr7 = list_q7[0]*3600\r\n",
        "mi7 = list_q7[1]*60\r\n",
        "s7 = list_q7[2]\r\n",
        "aq7 = hr7+mi7+s7\r\n",
        "print(aq7)\r\n"
      ],
      "execution_count": 172,
      "outputs": [
        {
          "output_type": "stream",
          "text": [
            "76350\n"
          ],
          "name": "stdout"
        }
      ]
    },
    {
      "cell_type": "markdown",
      "metadata": {
        "id": "FreZ4uZf6Usl"
      },
      "source": [
        "q7 แปลงได้ 76350 วินาที"
      ]
    },
    {
      "cell_type": "code",
      "metadata": {
        "id": "aV2Tl8Ta3vdh",
        "outputId": "bd0f2daf-6815-44f6-9015-192c1a8f577a",
        "colab": {
          "base_uri": "https://localhost:8080/"
        }
      },
      "source": [
        "q8 = '10:06:15'\r\n",
        "q8.split(':')\r\n",
        "list_q8 = [10,6,15]\r\n",
        "hr8 = list_q8[0]*3600\r\n",
        "mi8 = list_q8[1]*60\r\n",
        "s8 = list_q8[2]\r\n",
        "aq8 = hr8+mi8+s8\r\n",
        "print(aq8)\r\n"
      ],
      "execution_count": 174,
      "outputs": [
        {
          "output_type": "stream",
          "text": [
            "36375\n"
          ],
          "name": "stdout"
        }
      ]
    },
    {
      "cell_type": "markdown",
      "metadata": {
        "id": "Y2-Iz1gm6YHB"
      },
      "source": [
        "q8 แปลงได้ 36375 วินาที"
      ]
    },
    {
      "cell_type": "code",
      "metadata": {
        "id": "XWTpWs4p59Ui"
      },
      "source": [
        ""
      ],
      "execution_count": null,
      "outputs": []
    }
  ]
}