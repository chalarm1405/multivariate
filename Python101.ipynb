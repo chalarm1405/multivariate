{
  "nbformat": 4,
  "nbformat_minor": 0,
  "metadata": {
    "colab": {
      "name": "Python101.ipynb",
      "provenance": [],
      "authorship_tag": "ABX9TyPLeOKz8jX3L40e9mbH7r9g",
      "include_colab_link": true
    },
    "kernelspec": {
      "name": "python3",
      "display_name": "Python 3"
    }
  },
  "cells": [
    {
      "cell_type": "markdown",
      "metadata": {
        "id": "view-in-github",
        "colab_type": "text"
      },
      "source": [
        "<a href=\"https://colab.research.google.com/github/chalarm1405/multivariate/blob/main/Python101.ipynb\" target=\"_parent\"><img src=\"https://colab.research.google.com/assets/colab-badge.svg\" alt=\"Open In Colab\"/></a>"
      ]
    },
    {
      "cell_type": "markdown",
      "metadata": {
        "id": "TgxHF6CILftJ"
      },
      "source": [
        "ตัวแปร variable"
      ]
    },
    {
      "cell_type": "markdown",
      "metadata": {
        "id": "ADtKRN_zMqPX"
      },
      "source": [
        "หลักการตั้งชื่อ\r\n",
        "1. ตั้งให้สื่อ\r\n",
        "2. ภาษาอังกฤษเท่านั้น\r\n",
        "3. ใช้คัวเลขได้แต่ห้ามขึ้นด้วยตัวเลข\r\n",
        "4. ห้ามเว้นวรรค\r\n",
        "5. ตัวเล็กตัวใหญ่ต่างกัน\r\n",
        "6. # คือ การ comment โดยเป็นการ output ที่ออกหน้าจอ"
      ]
    },
    {
      "cell_type": "code",
      "metadata": {
        "colab": {
          "base_uri": "https://localhost:8080/"
        },
        "id": "3hoQ6-wuLgdg",
        "outputId": "2fecc208-4051-4385-b125-17dade5b36ea"
      },
      "source": [
        "3.14159 เป็นการ output ในหน้าจอ"
      ],
      "execution_count": 5,
      "outputs": [
        {
          "output_type": "execute_result",
          "data": {
            "text/plain": [
              "3.14159"
            ]
          },
          "metadata": {
            "tags": []
          },
          "execution_count": 5
        }
      ]
    },
    {
      "cell_type": "code",
      "metadata": {
        "id": "F0yyVmsFKuwL"
      },
      "source": [
        "Pi = 3.14159 เป็นการ output ของตัวแปร a "
      ],
      "execution_count": 4,
      "outputs": []
    },
    {
      "cell_type": "code",
      "metadata": {
        "colab": {
          "base_uri": "https://localhost:8080/"
        },
        "id": "Hm7wXOMSNHL5",
        "outputId": "573a77ed-6820-44a7-808d-135fef9a0592"
      },
      "source": [
        "Pi"
      ],
      "execution_count": 6,
      "outputs": [
        {
          "output_type": "execute_result",
          "data": {
            "text/plain": [
              "3.14159"
            ]
          },
          "metadata": {
            "tags": []
          },
          "execution_count": 6
        }
      ]
    },
    {
      "cell_type": "code",
      "metadata": {
        "colab": {
          "base_uri": "https://localhost:8080/"
        },
        "id": "8oWUcJM_NIXL",
        "outputId": "f3856819-9fb1-4f35-f9d4-ce79ee3e1b2a"
      },
      "source": [
        "a = 1234567\r\n",
        "print(a)"
      ],
      "execution_count": 7,
      "outputs": [
        {
          "output_type": "stream",
          "text": [
            "1234567\n"
          ],
          "name": "stdout"
        }
      ]
    },
    {
      "cell_type": "markdown",
      "metadata": {
        "id": "oQrHISYZNoDv"
      },
      "source": [
        "#ชนิดของตัวแปร มี 3 ตัวแปร"
      ]
    },
    {
      "cell_type": "markdown",
      "metadata": {
        "id": "sZ9Yh2jMOifj"
      },
      "source": [
        "#1. จำนวนเต็ม( integer,int)"
      ]
    },
    {
      "cell_type": "code",
      "metadata": {
        "colab": {
          "base_uri": "https://localhost:8080/"
        },
        "id": "-XmYHw3TNPYf",
        "outputId": "665b4a47-bdd5-46b3-dbde-db292aa88cde"
      },
      "source": [
        "aaa = 1000\r\n",
        "print(aaa)"
      ],
      "execution_count": 8,
      "outputs": [
        {
          "output_type": "stream",
          "text": [
            "1000\n"
          ],
          "name": "stdout"
        }
      ]
    },
    {
      "cell_type": "markdown",
      "metadata": {
        "id": "Wj4DtQa0Ozqj"
      },
      "source": [
        "#2.จำนวนจริง(float)"
      ]
    },
    {
      "cell_type": "code",
      "metadata": {
        "colab": {
          "base_uri": "https://localhost:8080/"
        },
        "id": "GnWNvIbnNUQK",
        "outputId": "485ffd81-e742-49a7-df05-9ea8d172efe7"
      },
      "source": [
        "bbb = 9.\r\n",
        "print(bbb)"
      ],
      "execution_count": 9,
      "outputs": [
        {
          "output_type": "stream",
          "text": [
            "9.0\n"
          ],
          "name": "stdout"
        }
      ]
    },
    {
      "cell_type": "markdown",
      "metadata": {
        "id": "kbGIRmGjPC6a"
      },
      "source": [
        "#3.ตัวอักษรหรือข้อความ(character และ string,text)"
      ]
    },
    {
      "cell_type": "code",
      "metadata": {
        "colab": {
          "base_uri": "https://localhost:8080/"
        },
        "id": "r4sNbtSaNUo5",
        "outputId": "eca88d47-8387-4eb5-9c19-d7817630261f"
      },
      "source": [
        "ccc = ' 99999 ' #เราใช้ quote single หรือ quote duote ใช้เพื่อล้อมรอบตัวหนังสือเพื่อระบุว่าเป็น character หรือ string\r\n",
        "print(ccc) โดย string ต้องมี ' ' ล้อมรอบโดยเอาไปบวกกันไม่ได้แต่ถ้าเป็นตัวแปรเดียวกันจะบวกกันได้ เช่น"
      ],
      "execution_count": 10,
      "outputs": [
        {
          "output_type": "stream",
          "text": [
            " 99999 \n"
          ],
          "name": "stdout"
        }
      ]
    },
    {
      "cell_type": "code",
      "metadata": {
        "colab": {
          "base_uri": "https://localhost:8080/",
          "height": 130
        },
        "id": "RyCD3bNWNU88",
        "outputId": "1dd7a5cb-da17-4dbe-b870-bd8467376d18"
      },
      "source": [
        "ิิิbbb + ccc #คนละตัวแปรบวกกันไม่ได้โดยตัวอักษรบวกกับตัวเลขไม่ได้"
      ],
      "execution_count": 15,
      "outputs": [
        {
          "output_type": "error",
          "ename": "SyntaxError",
          "evalue": "ignored",
          "traceback": [
            "\u001b[0;36m  File \u001b[0;32m\"<ipython-input-15-c14452a6a644>\"\u001b[0;36m, line \u001b[0;32m1\u001b[0m\n\u001b[0;31m    ิิิbbb + ccc #คนละตัวแปรบวกกันไม่าได้โยตัวอักษรบวกกับตัวเลขไม่ได้\u001b[0m\n\u001b[0m         ^\u001b[0m\n\u001b[0;31mSyntaxError\u001b[0m\u001b[0;31m:\u001b[0m invalid character in identifier\n"
          ]
        }
      ]
    },
    {
      "cell_type": "code",
      "metadata": {
        "colab": {
          "base_uri": "https://localhost:8080/"
        },
        "id": "Jpw78i6_QEMn",
        "outputId": "a557aeba-755b-4f84-84c8-210fa9473dde"
      },
      "source": [
        "aaa + bbb #float + int = float ตัวแปรเดียวกันบวกกันได้"
      ],
      "execution_count": 12,
      "outputs": [
        {
          "output_type": "execute_result",
          "data": {
            "text/plain": [
              "1009.0"
            ]
          },
          "metadata": {
            "tags": []
          },
          "execution_count": 12
        }
      ]
    },
    {
      "cell_type": "code",
      "metadata": {
        "colab": {
          "base_uri": "https://localhost:8080/"
        },
        "id": "g9ttk84GP9bp",
        "outputId": "60e28c5c-87ba-4cbd-dc0f-3e315cfb8583"
      },
      "source": [
        "ddd = ' ชณะชัย ' #ในเครื่องหมาย ' ' เป็นภาษาไทยได้\r\n",
        "print(ddd)"
      ],
      "execution_count": 14,
      "outputs": [
        {
          "output_type": "stream",
          "text": [
            " ชณะชัย \n"
          ],
          "name": "stdout"
        }
      ]
    },
    {
      "cell_type": "markdown",
      "metadata": {
        "id": "TKBG6hF9Qxmp"
      },
      "source": [
        "#ถ้าเกิด error สามารถทำได้โดยการเปลี่ยนชนิดตัวแปร(variable caseting)"
      ]
    },
    {
      "cell_type": "code",
      "metadata": {
        "colab": {
          "base_uri": "https://localhost:8080/"
        },
        "id": "H-632sYrQnDN",
        "outputId": "2c53d750-e499-478d-ee69-e0534eadc54d"
      },
      "source": [
        "bbb + int( ccc )"
      ],
      "execution_count": 16,
      "outputs": [
        {
          "output_type": "execute_result",
          "data": {
            "text/plain": [
              "100008.0"
            ]
          },
          "metadata": {
            "tags": []
          },
          "execution_count": 16
        }
      ]
    },
    {
      "cell_type": "code",
      "metadata": {
        "colab": {
          "base_uri": "https://localhost:8080/"
        },
        "id": "v2W3szw1Qnbv",
        "outputId": "65de3266-2e7b-46ce-954b-2164665a6e34"
      },
      "source": [
        "aaa + int( ccc )"
      ],
      "execution_count": 17,
      "outputs": [
        {
          "output_type": "execute_result",
          "data": {
            "text/plain": [
              "100999"
            ]
          },
          "metadata": {
            "tags": []
          },
          "execution_count": 17
        }
      ]
    },
    {
      "cell_type": "code",
      "metadata": {
        "colab": {
          "base_uri": "https://localhost:8080/"
        },
        "id": "RaELJpwNRYbx",
        "outputId": "43c05e29-cdb2-4c6d-eb79-a5c17ae1013e"
      },
      "source": [
        "aaa + float( ccc )"
      ],
      "execution_count": 18,
      "outputs": [
        {
          "output_type": "execute_result",
          "data": {
            "text/plain": [
              "100999.0"
            ]
          },
          "metadata": {
            "tags": []
          },
          "execution_count": 18
        }
      ]
    },
    {
      "cell_type": "code",
      "metadata": {
        "colab": {
          "base_uri": "https://localhost:8080/",
          "height": 34
        },
        "id": "siwXuTTxRY6k",
        "outputId": "ee5a6337-9c40-441d-e4b3-2a2fb69d7ee5"
      },
      "source": [
        "str(aaa) #การเปลี่ยนกลับเป็นข้อความ"
      ],
      "execution_count": 19,
      "outputs": [
        {
          "output_type": "execute_result",
          "data": {
            "application/vnd.google.colaboratory.intrinsic+json": {
              "type": "string"
            },
            "text/plain": [
              "'1000'"
            ]
          },
          "metadata": {
            "tags": []
          },
          "execution_count": 19
        }
      ]
    },
    {
      "cell_type": "markdown",
      "metadata": {
        "id": "JgRPoWk4SJ-p"
      },
      "source": [
        "#operation ( operator + , - , * , / )"
      ]
    },
    {
      "cell_type": "code",
      "metadata": {
        "colab": {
          "base_uri": "https://localhost:8080/",
          "height": 164
        },
        "id": "5Ov56UO4RZMu",
        "outputId": "46cdda28-decf-4dd7-aed5-0b6ea2ff759a"
      },
      "source": [
        "a + b"
      ],
      "execution_count": 20,
      "outputs": [
        {
          "output_type": "error",
          "ename": "NameError",
          "evalue": "ignored",
          "traceback": [
            "\u001b[0;31m---------------------------------------------------------------------------\u001b[0m",
            "\u001b[0;31mNameError\u001b[0m                                 Traceback (most recent call last)",
            "\u001b[0;32m<ipython-input-20-bd58363a63fc>\u001b[0m in \u001b[0;36m<module>\u001b[0;34m()\u001b[0m\n\u001b[0;32m----> 1\u001b[0;31m \u001b[0ma\u001b[0m \u001b[0;34m+\u001b[0m \u001b[0mb\u001b[0m\u001b[0;34m\u001b[0m\u001b[0;34m\u001b[0m\u001b[0m\n\u001b[0m",
            "\u001b[0;31mNameError\u001b[0m: name 'b' is not defined"
          ]
        }
      ]
    },
    {
      "cell_type": "code",
      "metadata": {
        "colab": {
          "base_uri": "https://localhost:8080/"
        },
        "id": "rdgIlk9CRZfq",
        "outputId": "33c7669e-9015-467c-d3f7-497a3ebf6ee0"
      },
      "source": [
        "aaa + bbb"
      ],
      "execution_count": 21,
      "outputs": [
        {
          "output_type": "execute_result",
          "data": {
            "text/plain": [
              "1009.0"
            ]
          },
          "metadata": {
            "tags": []
          },
          "execution_count": 21
        }
      ]
    },
    {
      "cell_type": "code",
      "metadata": {
        "colab": {
          "base_uri": "https://localhost:8080/"
        },
        "id": "viJhJMpkRaI7",
        "outputId": "5fd19962-4229-455d-d191-c307e0311889"
      },
      "source": [
        "aaa - bbb"
      ],
      "execution_count": 22,
      "outputs": [
        {
          "output_type": "execute_result",
          "data": {
            "text/plain": [
              "991.0"
            ]
          },
          "metadata": {
            "tags": []
          },
          "execution_count": 22
        }
      ]
    },
    {
      "cell_type": "code",
      "metadata": {
        "colab": {
          "base_uri": "https://localhost:8080/"
        },
        "id": "onRj4X89SyzI",
        "outputId": "1cb51afe-fafe-494d-9469-d7cc1d7fc4ca"
      },
      "source": [
        "ab = aaa * bbb #เอาไปใช้ต่อไม่ได้"
      ],
      "execution_count": 23,
      "outputs": [
        {
          "output_type": "execute_result",
          "data": {
            "text/plain": [
              "9000.0"
            ]
          },
          "metadata": {
            "tags": []
          },
          "execution_count": 23
        }
      ]
    },
    {
      "cell_type": "code",
      "metadata": {
        "colab": {
          "base_uri": "https://localhost:8080/"
        },
        "id": "Ntnrz72kS0z4",
        "outputId": "0c0b117f-a640-4e54-f128-d12fc595c7e5"
      },
      "source": [
        "ab = aaa * bbb #นำไปใช้ต่อได้\r\n",
        "print(ab)"
      ],
      "execution_count": 24,
      "outputs": [
        {
          "output_type": "stream",
          "text": [
            "9000.0\n"
          ],
          "name": "stdout"
        }
      ]
    },
    {
      "cell_type": "markdown",
      "metadata": {
        "id": "Qn7qJmXYTFo4"
      },
      "source": [
        "#คำสั่ง modulo หรือเครื่องหมาย % ( โดยเป็นการหารเอาเศษและใช้บ่อยเพื่อหาเป็นเลขคี่หรือคู่ )"
      ]
    },
    {
      "cell_type": "code",
      "metadata": {
        "colab": {
          "base_uri": "https://localhost:8080/"
        },
        "id": "ZhCdzGtoTDcN",
        "outputId": "a408b2ed-ac94-4869-9b03-360c2acf3f76"
      },
      "source": [
        "5%3"
      ],
      "execution_count": 25,
      "outputs": [
        {
          "output_type": "execute_result",
          "data": {
            "text/plain": [
              "2"
            ]
          },
          "metadata": {
            "tags": []
          },
          "execution_count": 25
        }
      ]
    },
    {
      "cell_type": "code",
      "metadata": {
        "colab": {
          "base_uri": "https://localhost:8080/"
        },
        "id": "1W8luZW0Tii8",
        "outputId": "75760ec6-bfaf-4090-ca8f-60b971998eb6"
      },
      "source": [
        "7%3"
      ],
      "execution_count": 27,
      "outputs": [
        {
          "output_type": "execute_result",
          "data": {
            "text/plain": [
              "1"
            ]
          },
          "metadata": {
            "tags": []
          },
          "execution_count": 27
        }
      ]
    },
    {
      "cell_type": "code",
      "metadata": {
        "colab": {
          "base_uri": "https://localhost:8080/"
        },
        "id": "-efI0QhMTizS",
        "outputId": "856ece31-6890-444c-9405-5613532cedaa"
      },
      "source": [
        "21%8"
      ],
      "execution_count": 28,
      "outputs": [
        {
          "output_type": "execute_result",
          "data": {
            "text/plain": [
              "5"
            ]
          },
          "metadata": {
            "tags": []
          },
          "execution_count": 28
        }
      ]
    },
    {
      "cell_type": "markdown",
      "metadata": {
        "id": "dq5ohNjGT9jK"
      },
      "source": [
        "คำสั่ง print แบบพิเศษ ( การ format string )"
      ]
    },
    {
      "cell_type": "code",
      "metadata": {
        "colab": {
          "base_uri": "https://localhost:8080/"
        },
        "id": "7JuzGrooTjpi",
        "outputId": "0d702adb-3d88-4efd-f7c5-a5372e1e2e88"
      },
      "source": [
        "print( ' ตัวแปร ') #โดย"
      ],
      "execution_count": 29,
      "outputs": [
        {
          "output_type": "stream",
          "text": [
            " ตัวแปร \n"
          ],
          "name": "stdout"
        }
      ]
    },
    {
      "cell_type": "code",
      "metadata": {
        "colab": {
          "base_uri": "https://localhost:8080/"
        },
        "id": "rvAPJ6_jTkAu",
        "outputId": "1ac5ab08-e8b8-4b28-fd5d-e19b923eafaf"
      },
      "source": [
        "print( f'% คือ การหารเอาเศษ เช่น 7%3 = { 7%3 }') #เพิ่ม f หน้า 'string' และใช้ {} ใส่ code"
      ],
      "execution_count": 32,
      "outputs": [
        {
          "output_type": "stream",
          "text": [
            "% คือ การหารเอาเศษ เช่น 7%3 = 1\n"
          ],
          "name": "stdout"
        }
      ]
    },
    {
      "cell_type": "code",
      "metadata": {
        "colab": {
          "base_uri": "https://localhost:8080/"
        },
        "id": "uxyf6aAEUqdi",
        "outputId": "f73b3142-40ad-49a6-f2b5-0dea61720b3d"
      },
      "source": [
        "print(f'% คือ การหารเอาเศษ เช่น 7%3 = {7%3} ) \\\r\n",
        "  แต่ \\n/ คือ การหารปกติ เช่น  7/3 = { 7/3 } \\\r\n",
        "  และ\\n// คือ การหารเอาส่วน เช่น 7//3 = { 7 // 3} \\\r\n",
        "  หรือ \\n ใช้ int() เพื่อหารเอาส่วน เช่น int( 7/3 ) = { int( 7/3 ) }'  ) # \\n คือ การขึ้นบรรทัดใหม่ \\ ใช้ใน\r\n"
      ],
      "execution_count": 34,
      "outputs": [
        {
          "output_type": "stream",
          "text": [
            "% คือ การหารเอาเศษ เช่น 7%3 = 1 )   แต่ \n",
            "/ คือ การหารปกติ เช่น  7/3 = 2.3333333333333335   และ\n",
            "// คือ การหารเอาส่วน เช่น 7//3 = 2   หรือ \n",
            " ใช้ int() เพื่อหารเอาส่วน เช่น int( 7/3 ) = 2\n"
          ],
          "name": "stdout"
        }
      ]
    },
    {
      "cell_type": "markdown",
      "metadata": {
        "id": "rADWssisXFwM"
      },
      "source": [
        "#โครงสร้างข้อมูล"
      ]
    },
    {
      "cell_type": "markdown",
      "metadata": {
        "id": "T0ZPrXZLXTCj"
      },
      "source": [
        "list คือ การเอาข้อมูลหลายๆตัวมาเรียงต่อกัน โดย list สามารถสร้างได้ 2 แบบดังนี้"
      ]
    },
    {
      "cell_type": "markdown",
      "metadata": {
        "id": "UoGDxxuXXqWq"
      },
      "source": [
        "#แบบที่ 1 square brackets"
      ]
    },
    {
      "cell_type": "code",
      "metadata": {
        "colab": {
          "base_uri": "https://localhost:8080/"
        },
        "id": "6YpDEd4KXyZe",
        "outputId": "12401dde-468f-4aaf-a0a8-f71efca0d993"
      },
      "source": [
        "list_a = []\r\n",
        "print(list_a)"
      ],
      "execution_count": 36,
      "outputs": [
        {
          "output_type": "stream",
          "text": [
            "[]\n"
          ],
          "name": "stdout"
        }
      ]
    },
    {
      "cell_type": "code",
      "metadata": {
        "colab": {
          "base_uri": "https://localhost:8080/"
        },
        "id": "IXll4wmUWlWU",
        "outputId": "e01be88e-2c6d-4b24-b1a3-b092815b558f"
      },
      "source": [
        " list_b = [ 111, ' c ' , ' งง ' , aaa ]\r\n",
        " print(list_b)\r\n"
      ],
      "execution_count": 41,
      "outputs": [
        {
          "output_type": "stream",
          "text": [
            "[111, ' c ', ' งง ', 1000]\n"
          ],
          "name": "stdout"
        }
      ]
    },
    {
      "cell_type": "markdown",
      "metadata": {
        "id": "k1Le0OphYdnv"
      },
      "source": [
        "#append() เพิ่มสมาชิกใน list"
      ]
    },
    {
      "cell_type": "code",
      "metadata": {
        "colab": {
          "base_uri": "https://localhost:8080/"
        },
        "id": "XC89gFZAXm4K",
        "outputId": "efe52873-0528-4c33-feb6-9494f1333f5f"
      },
      "source": [
        "list_b.append(' u ')\r\n",
        "print(list_b)"
      ],
      "execution_count": 42,
      "outputs": [
        {
          "output_type": "stream",
          "text": [
            "[111, ' c ', ' งง ', 1000, ' u ']\n"
          ],
          "name": "stdout"
        }
      ]
    },
    {
      "cell_type": "code",
      "metadata": {
        "colab": {
          "base_uri": "https://localhost:8080/",
          "height": 34
        },
        "id": "V5iKf1SCYskk",
        "outputId": "2d8bd4de-bb4a-412f-aff9-8a8b1523fcde"
      },
      "source": [
        "list_b[-1] #ตัวที่อยู่ในวงเล็บหลังจากตัวแปร list เรียกว่า index ใช้สำหรับชี้ข้อมูลใน list (จำนวนสมาชิก)"
      ],
      "execution_count": 44,
      "outputs": [
        {
          "output_type": "execute_result",
          "data": {
            "application/vnd.google.colaboratory.intrinsic+json": {
              "type": "string"
            },
            "text/plain": [
              "' u '"
            ]
          },
          "metadata": {
            "tags": []
          },
          "execution_count": 44
        }
      ]
    },
    {
      "cell_type": "markdown",
      "metadata": {
        "id": "C46-H0IXZgD5"
      },
      "source": [
        "#string > list of characters"
      ]
    },
    {
      "cell_type": "code",
      "metadata": {
        "colab": {
          "base_uri": "https://localhost:8080/"
        },
        "id": "iNphz-VgXnqj",
        "outputId": "47b3a4d0-6090-47fd-f7f9-1c8fa0e43ee5"
      },
      "source": [
        "t = ' python  is  easy '\r\n",
        "print(t)"
      ],
      "execution_count": 45,
      "outputs": [
        {
          "output_type": "stream",
          "text": [
            " python is easy \n"
          ],
          "name": "stdout"
        }
      ]
    },
    {
      "cell_type": "code",
      "metadata": {
        "colab": {
          "base_uri": "https://localhost:8080/",
          "height": 34
        },
        "id": "94QOkBAHXn-o",
        "outputId": "ac62c5ff-0a74-4f64-afa7-63f3ded93526"
      },
      "source": [
        "t[1]"
      ],
      "execution_count": 52,
      "outputs": [
        {
          "output_type": "execute_result",
          "data": {
            "application/vnd.google.colaboratory.intrinsic+json": {
              "type": "string"
            },
            "text/plain": [
              "'p'"
            ]
          },
          "metadata": {
            "tags": []
          },
          "execution_count": 52
        }
      ]
    },
    {
      "cell_type": "code",
      "metadata": {
        "colab": {
          "base_uri": "https://localhost:8080/",
          "height": 34
        },
        "id": "rviSRZhrXocZ",
        "outputId": "bc6731af-6f5a-4d8c-ffa1-8d09aa4fb81c"
      },
      "source": [
        "t[-4]"
      ],
      "execution_count": 53,
      "outputs": [
        {
          "output_type": "execute_result",
          "data": {
            "application/vnd.google.colaboratory.intrinsic+json": {
              "type": "string"
            },
            "text/plain": [
              "'a'"
            ]
          },
          "metadata": {
            "tags": []
          },
          "execution_count": 53
        }
      ]
    },
    {
      "cell_type": "code",
      "metadata": {
        "colab": {
          "base_uri": "https://localhost:8080/",
          "height": 34
        },
        "id": "5ewa9UsDZ8Iw",
        "outputId": "c8d5e78c-b547-4522-d83c-e4e58c9cdc90"
      },
      "source": [
        " t[6]"
      ],
      "execution_count": 49,
      "outputs": [
        {
          "output_type": "execute_result",
          "data": {
            "application/vnd.google.colaboratory.intrinsic+json": {
              "type": "string"
            },
            "text/plain": [
              "'n'"
            ]
          },
          "metadata": {
            "tags": []
          },
          "execution_count": 49
        }
      ]
    },
    {
      "cell_type": "code",
      "metadata": {
        "id": "GilEj3HJaIun"
      },
      "source": [
        ""
      ],
      "execution_count": null,
      "outputs": []
    }
  ]
}