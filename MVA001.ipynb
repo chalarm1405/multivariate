{
  "nbformat": 4,
  "nbformat_minor": 0,
  "metadata": {
    "colab": {
      "name": "MVA001.ipynb",
      "provenance": [],
      "authorship_tag": "ABX9TyOKexITNWANomVCdrgxLurQ",
      "include_colab_link": true
    },
    "kernelspec": {
      "name": "python3",
      "display_name": "Python 3"
    }
  },
  "cells": [
    {
      "cell_type": "markdown",
      "metadata": {
        "id": "view-in-github",
        "colab_type": "text"
      },
      "source": [
        "<a href=\"https://colab.research.google.com/github/chalarm1405/multivariate/blob/main/MVA001.ipynb\" target=\"_parent\"><img src=\"https://colab.research.google.com/assets/colab-badge.svg\" alt=\"Open In Colab\"/></a>"
      ]
    },
    {
      "cell_type": "markdown",
      "metadata": {
        "id": "gIwHJsHAS4zd"
      },
      "source": [
        "#Scalar , Vector , Matrix"
      ]
    },
    {
      "cell_type": "code",
      "metadata": {
        "id": "7IBF6HwHTs93"
      },
      "source": [
        "import numpy as np #ถ้าใช้ vector และ scalar ต้องใช้ import numpy as np"
      ],
      "execution_count": 1,
      "outputs": []
    },
    {
      "cell_type": "code",
      "metadata": {
        "colab": {
          "base_uri": "https://localhost:8080/"
        },
        "id": "9shG4d6kSxDC",
        "outputId": "2a85a07f-a08e-4e46-984e-bf4d00c2c0b8"
      },
      "source": [
        "scalar_a = 10 # คือค่าคงที่ธรรมดามีตัวเลขตัวเดียว\r\n",
        "print(scalar_a)"
      ],
      "execution_count": 2,
      "outputs": [
        {
          "output_type": "stream",
          "text": [
            "10\n"
          ],
          "name": "stdout"
        }
      ]
    },
    {
      "cell_type": "code",
      "metadata": {
        "colab": {
          "base_uri": "https://localhost:8080/"
        },
        "id": "2VnsNS0_SxAg",
        "outputId": "323cfc32-e2e5-430f-c931-438280a522d1"
      },
      "source": [
        "vector_b = np.zeros([2,1])\r\n",
        "vector_b[0,0] = 2\r\n",
        "vector_b[1,0] = 3\r\n",
        "print(vector_b)\r\n",
        "print(vector_b.shape)"
      ],
      "execution_count": 3,
      "outputs": [
        {
          "output_type": "stream",
          "text": [
            "[[2.]\n",
            " [3.]]\n",
            "(2, 1)\n"
          ],
          "name": "stdout"
        }
      ]
    },
    {
      "cell_type": "code",
      "metadata": {
        "colab": {
          "base_uri": "https://localhost:8080/"
        },
        "id": "aDQoaMgkSw-s",
        "outputId": "f98f200c-ab3d-4442-8507-60957dbe05db"
      },
      "source": [
        "vector_c  = np.array([[1],[3]])\r\n",
        "print(vector_c)\r\n",
        "print(vector_c.shape)"
      ],
      "execution_count": 4,
      "outputs": [
        {
          "output_type": "stream",
          "text": [
            "[[1]\n",
            " [3]]\n",
            "(2, 1)\n"
          ],
          "name": "stdout"
        }
      ]
    },
    {
      "cell_type": "code",
      "metadata": {
        "id": "VTcbGLdwSw8K"
      },
      "source": [
        "from matplotlib import pyplot as plt #การ plot กราฟ\r\n"
      ],
      "execution_count": 5,
      "outputs": []
    },
    {
      "cell_type": "code",
      "metadata": {
        "colab": {
          "base_uri": "https://localhost:8080/",
          "height": 281
        },
        "id": "emjdwBN0Sw56",
        "outputId": "6b004a15-ff17-411f-b6dc-1c1bb3cb6777"
      },
      "source": [
        "plt.plot(vector_b[0,0],vector_b[1,0],'or')"
      ],
      "execution_count": 6,
      "outputs": [
        {
          "output_type": "execute_result",
          "data": {
            "text/plain": [
              "[<matplotlib.lines.Line2D at 0x7fcf1d280b00>]"
            ]
          },
          "metadata": {
            "tags": []
          },
          "execution_count": 6
        },
        {
          "output_type": "display_data",
          "data": {
            "image/png": "[encoded data removed]",
            "text/plain": [
              "<Figure size 432x288 with 1 Axes>"
            ]
          },
          "metadata": {
            "tags": [],
            "needs_background": "light"
          }
        }
      ]
    },
    {
      "cell_type": "markdown",
      "metadata": {
        "id": "66bJMqY7X1jR"
      },
      "source": [
        "#ขนาดของ vector คำนวณได้โดย พีธาโกรัส"
      ]
    },
    {
      "cell_type": "code",
      "metadata": {
        "colab": {
          "base_uri": "https://localhost:8080/"
        },
        "id": "Uh7pqi6vSw3S",
        "outputId": "055491e3-67b4-4ecf-e3f3-28188858f365"
      },
      "source": [
        "vector_b_size = ((vector_b[0,0]**2) + (vector_b[1,0]**2))**0.5\r\n",
        "print(vector_b_size)"
      ],
      "execution_count": 7,
      "outputs": [
        {
          "output_type": "stream",
          "text": [
            "3.605551275463989\n"
          ],
          "name": "stdout"
        }
      ]
    },
    {
      "cell_type": "code",
      "metadata": {
        "colab": {
          "base_uri": "https://localhost:8080/",
          "height": 281
        },
        "id": "evHme-rzOR88",
        "outputId": "2d6bb2a6-9375-44fa-ba4c-e2cad01bf07b"
      },
      "source": [
        "plt.quiver(vector_b[0,0],vector_b[1,0])"
      ],
      "execution_count": 8,
      "outputs": [
        {
          "output_type": "execute_result",
          "data": {
            "text/plain": [
              "<matplotlib.quiver.Quiver at 0x7fcf1d1eb630>"
            ]
          },
          "metadata": {
            "tags": []
          },
          "execution_count": 8
        },
        {
          "output_type": "display_data",
          "data": {
            "image/png": "[encoded data removed]",
            "text/plain": [
              "<Figure size 432x288 with 1 Axes>"
            ]
          },
          "metadata": {
            "tags": [],
            "needs_background": "light"
          }
        }
      ]
    },
    {
      "cell_type": "markdown",
      "metadata": {
        "id": "eKtbIJJ0ZDzu"
      },
      "source": [
        "#Matrix"
      ]
    },
    {
      "cell_type": "code",
      "metadata": {
        "id": "OwQMQmOMSw0_",
        "colab": {
          "base_uri": "https://localhost:8080/"
        },
        "outputId": "5b8a86fa-0d66-47f7-efe4-5cf95dcb50a9"
      },
      "source": [
        "matrix_d = np.array([[2,3],[1,4],[-1,1]])\r\n",
        "print(matrix_d)"
      ],
      "execution_count": 9,
      "outputs": [
        {
          "output_type": "stream",
          "text": [
            "[[ 2  3]\n",
            " [ 1  4]\n",
            " [-1  1]]\n"
          ],
          "name": "stdout"
        }
      ]
    },
    {
      "cell_type": "code",
      "metadata": {
        "id": "affB8apKSwxS",
        "colab": {
          "base_uri": "https://localhost:8080/"
        },
        "outputId": "b1e365e4-7fdd-4588-c3cc-19a2d462f5c7"
      },
      "source": [
        "matrix_d = matrix_d.T\r\n",
        "print(matrix_d)"
      ],
      "execution_count": 10,
      "outputs": [
        {
          "output_type": "stream",
          "text": [
            "[[ 2  1 -1]\n",
            " [ 3  4  1]]\n"
          ],
          "name": "stdout"
        }
      ]
    },
    {
      "cell_type": "code",
      "metadata": {
        "id": "jY2ILY2XSwu7",
        "colab": {
          "base_uri": "https://localhost:8080/",
          "height": 281
        },
        "outputId": "503087f1-e82e-447b-f45d-d6b1c3fc81d2"
      },
      "source": [
        "\r\n",
        "plt.plot(matrix_d[0,:],matrix_d[1,:],'or') #plot(ค่า X, ค่า Y ,หน้าตาของจุด)\r\n",
        "plt.plot(0,0,'.k')\r\n",
        "plt.plot([0,0],[-1,5],'--b')\r\n",
        "plt.plot([-2,2.5],[0,0],'--b')"
      ],
      "execution_count": 11,
      "outputs": [
        {
          "output_type": "execute_result",
          "data": {
            "text/plain": [
              "[<matplotlib.lines.Line2D at 0x7fcf14554588>]"
            ]
          },
          "metadata": {
            "tags": []
          },
          "execution_count": 11
        },
        {
          "output_type": "display_data",
          "data": {
            "image/png": "[encoded data removed]",
            "text/plain": [
              "<Figure size 432x288 with 1 Axes>"
            ]
          },
          "metadata": {
            "tags": [],
            "needs_background": "light"
          }
        }
      ]
    },
    {
      "cell_type": "code",
      "metadata": {
        "id": "JJRr_L0WSws2",
        "colab": {
          "base_uri": "https://localhost:8080/",
          "height": 281
        },
        "outputId": "fadeef9d-cfb1-4ef2-826d-079fc6649db8"
      },
      "source": [
        "#plt.plot(matrix_d[0,:],matrix_d[1,:],'or') #plot(ค่า X, ค่า Y ,หน้าตาของจุด)\r\n",
        "#plt.plot(0,0,'.b')\r\n",
        "plt.plot([0,0],[-1,5],'o:b')\r\n",
        "#plt.plot([-2,2.5],[0,0],'--b')\r\n"
      ],
      "execution_count": 12,
      "outputs": [
        {
          "output_type": "execute_result",
          "data": {
            "text/plain": [
              "[<matplotlib.lines.Line2D at 0x7fcf144b70f0>]"
            ]
          },
          "metadata": {
            "tags": []
          },
          "execution_count": 12
        },
        {
          "output_type": "display_data",
          "data": {
            "image/png": "[encoded data removed]",
            "text/plain": [
              "<Figure size 432x288 with 1 Axes>"
            ]
          },
          "metadata": {
            "tags": [],
            "needs_background": "light"
          }
        }
      ]
    },
    {
      "cell_type": "markdown",
      "metadata": {
        "id": "gBhwwP-yOh2P"
      },
      "source": [
        "#TRANSPOSE\r\n"
      ]
    },
    {
      "cell_type": "code",
      "metadata": {
        "id": "YagesuKsSwqH",
        "colab": {
          "base_uri": "https://localhost:8080/"
        },
        "outputId": "b37958f4-213a-45b0-c24c-545be22c6710"
      },
      "source": [
        "A = np.array([[3,-1,2],[1,5,4]])\r\n",
        "print(A)"
      ],
      "execution_count": 13,
      "outputs": [
        {
          "output_type": "stream",
          "text": [
            "[[ 3 -1  2]\n",
            " [ 1  5  4]]\n"
          ],
          "name": "stdout"
        }
      ]
    },
    {
      "cell_type": "code",
      "metadata": {
        "id": "UgbSCuz_Swng",
        "colab": {
          "base_uri": "https://localhost:8080/"
        },
        "outputId": "d794170f-b5cc-4bc3-ddf7-4f58deab24af"
      },
      "source": [
        "A.T"
      ],
      "execution_count": 14,
      "outputs": [
        {
          "output_type": "execute_result",
          "data": {
            "text/plain": [
              "array([[ 3,  1],\n",
              "       [-1,  5],\n",
              "       [ 2,  4]])"
            ]
          },
          "metadata": {
            "tags": []
          },
          "execution_count": 14
        }
      ]
    },
    {
      "cell_type": "markdown",
      "metadata": {
        "id": "oxmovSmZOpiD"
      },
      "source": [
        "#B = A*A'"
      ]
    },
    {
      "cell_type": "code",
      "metadata": {
        "id": "4ldD-z2oSwkk",
        "colab": {
          "base_uri": "https://localhost:8080/"
        },
        "outputId": "e8ee625c-535f-4262-e626-73faa5d23eeb"
      },
      "source": [
        "B = np.dot(A,A.T)\r\n",
        "print(B)"
      ],
      "execution_count": 15,
      "outputs": [
        {
          "output_type": "stream",
          "text": [
            "[[14  6]\n",
            " [ 6 42]]\n"
          ],
          "name": "stdout"
        }
      ]
    },
    {
      "cell_type": "markdown",
      "metadata": {
        "id": "QTKebBksOta0"
      },
      "source": [
        "#DETERMINANT"
      ]
    },
    {
      "cell_type": "code",
      "metadata": {
        "id": "PuXdPhbNSuEH",
        "colab": {
          "base_uri": "https://localhost:8080/"
        },
        "outputId": "291f907e-1085-461b-aece-b0c7032a6fa7"
      },
      "source": [
        "\r\n",
        "np.linalg.det(B)"
      ],
      "execution_count": 16,
      "outputs": [
        {
          "output_type": "execute_result",
          "data": {
            "text/plain": [
              "551.9999999999998"
            ]
          },
          "metadata": {
            "tags": []
          },
          "execution_count": 16
        }
      ]
    },
    {
      "cell_type": "code",
      "metadata": {
        "id": "5jPkroo4Oq-Q",
        "outputId": "fb017de9-361a-4601-c5a8-9ecf94cc8659",
        "colab": {
          "base_uri": "https://localhost:8080/",
          "height": 281
        }
      },
      "source": [
        "\r\n",
        "plt.plot([0,1],[0,1],'-r') # vector [1,1]\r\n",
        "plt.plot(0,0,'.k')\r\n",
        "plt.plot([0,0],[-1,5],'^:b')\r\n",
        "plt.plot([-2,2.5],[0,0],'>:b')"
      ],
      "execution_count": 17,
      "outputs": [
        {
          "output_type": "execute_result",
          "data": {
            "text/plain": [
              "[<matplotlib.lines.Line2D at 0x7fcf14491fd0>]"
            ]
          },
          "metadata": {
            "tags": []
          },
          "execution_count": 17
        },
        {
          "output_type": "display_data",
          "data": {
            "image/png": "[encoded data removed]",
            "text/plain": [
              "<Figure size 432x288 with 1 Axes>"
            ]
          },
          "metadata": {
            "tags": [],
            "needs_background": "light"
          }
        }
      ]
    },
    {
      "cell_type": "code",
      "metadata": {
        "id": "kdVd4bxhOq5t",
        "outputId": "524d03e5-3ee2-4653-80d7-0a4cca442ef6",
        "colab": {
          "base_uri": "https://localhost:8080/"
        }
      },
      "source": [
        "B = np.array([[1,2],[3,4]])\r\n",
        "B"
      ],
      "execution_count": 18,
      "outputs": [
        {
          "output_type": "execute_result",
          "data": {
            "text/plain": [
              "array([[1, 2],\n",
              "       [3, 4]])"
            ]
          },
          "metadata": {
            "tags": []
          },
          "execution_count": 18
        }
      ]
    },
    {
      "cell_type": "code",
      "metadata": {
        "id": "YRxiAHGnOq3X",
        "outputId": "faaea8b5-1cd6-4df5-b985-05ff591db35b",
        "colab": {
          "base_uri": "https://localhost:8080/"
        }
      },
      "source": [
        "\r\n",
        "Bv = np.dot(B,np.array([[1],[1]]))\r\n",
        "Bv"
      ],
      "execution_count": 19,
      "outputs": [
        {
          "output_type": "execute_result",
          "data": {
            "text/plain": [
              "array([[3],\n",
              "       [7]])"
            ]
          },
          "metadata": {
            "tags": []
          },
          "execution_count": 19
        }
      ]
    },
    {
      "cell_type": "code",
      "metadata": {
        "id": "dQv6e40bOq1X",
        "outputId": "07625c03-5cf5-4c3e-e161-1b4f24accc9f",
        "colab": {
          "base_uri": "https://localhost:8080/",
          "height": 281
        }
      },
      "source": [
        "\r\n",
        "plt.plot([0,Bv[0,0]],[0,Bv[1,0]],'-g') # vector [1,1]\r\n",
        "plt.plot([0,1],[0,1],'-r') \r\n",
        "plt.plot(0,0,'.k')\r\n",
        "plt.plot([0,0],[-1,5],'^:b')\r\n",
        "plt.plot([-2,2.5],[0,0],'>:b')"
      ],
      "execution_count": 20,
      "outputs": [
        {
          "output_type": "execute_result",
          "data": {
            "text/plain": [
              "[<matplotlib.lines.Line2D at 0x7fcf14405940>]"
            ]
          },
          "metadata": {
            "tags": []
          },
          "execution_count": 20
        },
        {
          "output_type": "display_data",
          "data": {
            "image/png": "[encoded data removed]",
            "text/plain": [
              "<Figure size 432x288 with 1 Axes>"
            ]
          },
          "metadata": {
            "tags": [],
            "needs_background": "light"
          }
        }
      ]
    },
    {
      "cell_type": "code",
      "metadata": {
        "id": "NOqd5ghWOqzc",
        "outputId": "0036c443-c95b-4800-8dff-6f8764ff7be1",
        "colab": {
          "base_uri": "https://localhost:8080/",
          "height": 281
        }
      },
      "source": [
        "plt.plot([0,Bv[0,0]],[0,Bv[1,0]],'-g') # vector Bv\r\n",
        "plt.plot([1,1],[1,0],':r') # วางจดไข่ปลา พื้นที่ของ Bv สีแดงแนวตั้ง\r\n",
        "plt.plot([0,1],[0,1],'-r') # vector v ([1,1])\r\n",
        "plt.plot(0,0,'.k')\r\n",
        "plt.plot([0,0],[-1,5],'^:b')\r\n",
        "plt.plot([-2,2.5],[0,0],'>:b')"
      ],
      "execution_count": 21,
      "outputs": [
        {
          "output_type": "execute_result",
          "data": {
            "text/plain": [
              "[<matplotlib.lines.Line2D at 0x7fcf14381668>]"
            ]
          },
          "metadata": {
            "tags": []
          },
          "execution_count": 21
        },
        {
          "output_type": "display_data",
          "data": {
            "image/png": "[encoded data removed]",
            "text/plain": [
              "<Figure size 432x288 with 1 Axes>"
            ]
          },
          "metadata": {
            "tags": [],
            "needs_background": "light"
          }
        }
      ]
    },
    {
      "cell_type": "code",
      "metadata": {
        "id": "_NKCDS2MOqwb",
        "outputId": "2f49b762-3ae8-403d-d350-d1c4f4cca69c",
        "colab": {
          "base_uri": "https://localhost:8080/",
          "height": 281
        }
      },
      "source": [
        "plt.plot([0,Bv[0,0]],[0,Bv[1,0]],'-g') # vector Bv\r\n",
        "plt.plot([1,1],[1,0],':r') # วางจดไข่ปลา พื้นที่ของ Bv สีแดงแนวตั้ง\r\n",
        "plt.plot([1,0],[1,1],':r') # วางจดไข่ปลา พื้นที่ของ Bv สีแดงแนวนอน\r\n",
        "plt.plot([0,1],[0,1],'-r') # vector v ([1,1])\r\n",
        "plt.plot(0,0,'.k')\r\n",
        "plt.plot([0,0],[-1,5],'^:b')\r\n",
        "plt.plot([-2,2.5],[0,0],'>:b')"
      ],
      "execution_count": 22,
      "outputs": [
        {
          "output_type": "execute_result",
          "data": {
            "text/plain": [
              "[<matplotlib.lines.Line2D at 0x7fcf142fd898>]"
            ]
          },
          "metadata": {
            "tags": []
          },
          "execution_count": 22
        },
        {
          "output_type": "display_data",
          "data": {
            "image/png": "[encoded data removed]",
            "text/plain": [
              "<Figure size 432x288 with 1 Axes>"
            ]
          },
          "metadata": {
            "tags": [],
            "needs_background": "light"
          }
        }
      ]
    },
    {
      "cell_type": "code",
      "metadata": {
        "id": "Bakcw_dNOqud",
        "outputId": "c000c78e-d9a8-4623-e6a3-04dbdd586287",
        "colab": {
          "base_uri": "https://localhost:8080/",
          "height": 281
        }
      },
      "source": [
        "\r\n",
        "plt.plot([0,Bv[0,0]],[0,Bv[1,0]],'-g') # vector Bv\r\n",
        "plt.plot([1,1],[1,0],':r') # วางจดไข่ปลา พื้นที่ของ Bv สีแดงแนวตั้ง\r\n",
        "plt.plot([1,0],[1,1],':r') # วางจดไข่ปลา พื้นที่ของ Bv สีแดงแนวนอน\r\n",
        "plt.plot([3,3],[7,0],':g') # วางจดไข่ปลา พื้นที่ของ Bv สีเขียวแนวตั้ง\r\n",
        "plt.plot([3,0],[7,7],':g') # วางจุดไข่ปลา พื้นที่ของ Bv สีเขียวแนวนอน\r\n",
        "plt.plot([0,1],[0,1],'-r') # vector v ([1,1])\r\n",
        "plt.plot(0,0,'.k')\r\n",
        "plt.plot([0,0],[-1,7],'^:b')\r\n",
        "plt.plot([-2,3],[0,0],'>:b')"
      ],
      "execution_count": 23,
      "outputs": [
        {
          "output_type": "execute_result",
          "data": {
            "text/plain": [
              "[<matplotlib.lines.Line2D at 0x7fcf1427e588>]"
            ]
          },
          "metadata": {
            "tags": []
          },
          "execution_count": 23
        },
        {
          "output_type": "display_data",
          "data": {
            "image/png": "[encoded data removed]",
            "text/plain": [
              "<Figure size 432x288 with 1 Axes>"
            ]
          },
          "metadata": {
            "tags": [],
            "needs_background": "light"
          }
        }
      ]
    },
    {
      "cell_type": "markdown",
      "metadata": {
        "id": "vh0zWEl_6cTx"
      },
      "source": [
        "#Identity matrix"
      ]
    },
    {
      "cell_type": "code",
      "metadata": {
        "id": "xAgF4TZsOqsA"
      },
      "source": [
        "iden2 = np.identity(2)"
      ],
      "execution_count": 24,
      "outputs": []
    },
    {
      "cell_type": "code",
      "metadata": {
        "id": "JSJoX_xL6drE",
        "outputId": "743275ff-57e4-48da-b5dc-2ddf8020f578",
        "colab": {
          "base_uri": "https://localhost:8080/"
        }
      },
      "source": [
        "B"
      ],
      "execution_count": 25,
      "outputs": [
        {
          "output_type": "execute_result",
          "data": {
            "text/plain": [
              "array([[1, 2],\n",
              "       [3, 4]])"
            ]
          },
          "metadata": {
            "tags": []
          },
          "execution_count": 25
        }
      ]
    },
    {
      "cell_type": "code",
      "metadata": {
        "id": "_bDmOw5C6dpJ",
        "outputId": "3a03a9dc-0d65-4fa2-8747-e3e3473efad1",
        "colab": {
          "base_uri": "https://localhost:8080/"
        }
      },
      "source": [
        "\r\n",
        "np.dot(B,iden2)"
      ],
      "execution_count": 26,
      "outputs": [
        {
          "output_type": "execute_result",
          "data": {
            "text/plain": [
              "array([[1., 2.],\n",
              "       [3., 4.]])"
            ]
          },
          "metadata": {
            "tags": []
          },
          "execution_count": 26
        }
      ]
    },
    {
      "cell_type": "code",
      "metadata": {
        "id": "YivS-mD96dnU",
        "outputId": "92dacb96-a7bf-4033-cfe8-9a42205c043d",
        "colab": {
          "base_uri": "https://localhost:8080/"
        }
      },
      "source": [
        "np.dot(iden2,B)"
      ],
      "execution_count": 27,
      "outputs": [
        {
          "output_type": "execute_result",
          "data": {
            "text/plain": [
              "array([[1., 2.],\n",
              "       [3., 4.]])"
            ]
          },
          "metadata": {
            "tags": []
          },
          "execution_count": 27
        }
      ]
    },
    {
      "cell_type": "code",
      "metadata": {
        "id": "DZrmhVAv6dk0",
        "outputId": "b1ab0f47-4da5-4a8d-9a06-d1e223dcdb68",
        "colab": {
          "base_uri": "https://localhost:8080/"
        }
      },
      "source": [
        "C = np.array([[-1,2],[2,4]])\r\n",
        "C"
      ],
      "execution_count": 28,
      "outputs": [
        {
          "output_type": "execute_result",
          "data": {
            "text/plain": [
              "array([[-1,  2],\n",
              "       [ 2,  4]])"
            ]
          },
          "metadata": {
            "tags": []
          },
          "execution_count": 28
        }
      ]
    },
    {
      "cell_type": "code",
      "metadata": {
        "id": "DyQrzH2N6dfN",
        "outputId": "dc3dc131-aaac-4e8c-ea52-0f5d89e57f1e",
        "colab": {
          "base_uri": "https://localhost:8080/"
        }
      },
      "source": [
        "np.dot(B,C)"
      ],
      "execution_count": 29,
      "outputs": [
        {
          "output_type": "execute_result",
          "data": {
            "text/plain": [
              "array([[ 3, 10],\n",
              "       [ 5, 22]])"
            ]
          },
          "metadata": {
            "tags": []
          },
          "execution_count": 29
        }
      ]
    },
    {
      "cell_type": "code",
      "metadata": {
        "id": "guecdWAU6dbP",
        "outputId": "30d08f65-3413-4282-cc9d-5e0c631ac51a",
        "colab": {
          "base_uri": "https://localhost:8080/"
        }
      },
      "source": [
        "\r\n",
        "np.dot(C,B)"
      ],
      "execution_count": 32,
      "outputs": [
        {
          "output_type": "execute_result",
          "data": {
            "text/plain": [
              "array([[ 5,  6],\n",
              "       [14, 20]])"
            ]
          },
          "metadata": {
            "tags": []
          },
          "execution_count": 32
        }
      ]
    },
    {
      "cell_type": "code",
      "metadata": {
        "id": "RfyiVNgS6mDB",
        "outputId": "74d5fe59-06cc-4b91-c4b1-a6cc52ddf453",
        "colab": {
          "base_uri": "https://localhost:8080/"
        }
      },
      "source": [
        "\r\n",
        "Ex = np.array([[3,1,6],[7,4,5],[2,-7,1]])\r\n",
        "Ex"
      ],
      "execution_count": 31,
      "outputs": [
        {
          "output_type": "execute_result",
          "data": {
            "text/plain": [
              "array([[ 3,  1,  6],\n",
              "       [ 7,  4,  5],\n",
              "       [ 2, -7,  1]])"
            ]
          },
          "metadata": {
            "tags": []
          },
          "execution_count": 31
        }
      ]
    },
    {
      "cell_type": "code",
      "metadata": {
        "id": "PLybskGv6pcd"
      },
      "source": [
        ""
      ],
      "execution_count": 31,
      "outputs": []
    }
  ]
}